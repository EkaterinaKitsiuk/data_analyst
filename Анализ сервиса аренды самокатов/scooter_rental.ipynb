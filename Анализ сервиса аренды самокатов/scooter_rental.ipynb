{
 "cells": [
  {
   "cell_type": "markdown",
   "metadata": {},
   "source": [
    "# Исследование сервиса аренды самокатов GoFast\n",
    "\n",
    "Требуется проанализировать данные и проверить некоторые гипотезы, которые могут помочь бизнесу вырасти.\n",
    "\n",
    "Имеются данные о некоторых пользователях из нескольких городов, а также об их поездках. Чтобы совершать поездки по городу, пользователи сервиса GoFast пользуются мобильным приложением. Сервисом можно пользоваться:\n",
    "\n",
    "- без подписки Free\n",
    "    - абонентская плата отсутствует;\n",
    "    - стоимость одной минуты поездки — 8 рублей;\n",
    "    - стоимость старта (начала поездки) — 50 рублей;\n",
    "\n",
    "\n",
    "- с подпиской Ultra\n",
    "\n",
    "    - абонентская плата — 199 рублей в месяц;\n",
    "    - стоимость одной минуты поездки — 6 рублей;\n",
    "    - стоимость старта — бесплатно.\n",
    "    \n",
    "Проведем исследования относительно того, насколько интересна возможность иметь подписку как с точки зрения бизнеса, так и с точки зрения пользователя. Для этого предварительно выполним предобработку данных и подготовим таблицы, позволяющие рассмотреть отдельно группу пользователей с подпиской и без.  \n"
   ]
  },
  {
   "cell_type": "code",
   "execution_count": 4,
   "metadata": {},
   "outputs": [],
   "source": [
    "import pandas as pd\n",
    "import matplotlib.pyplot as plt\n",
    "import numpy as np\n",
    "from scipy import stats as st"
   ]
  },
  {
   "cell_type": "markdown",
   "metadata": {},
   "source": [
    "#### Шаг 1. Загрузка данных"
   ]
  },
  {
   "cell_type": "code",
   "execution_count": 5,
   "metadata": {},
   "outputs": [
    {
     "data": {
      "text/html": [
       "<div>\n",
       "<style scoped>\n",
       "    .dataframe tbody tr th:only-of-type {\n",
       "        vertical-align: middle;\n",
       "    }\n",
       "\n",
       "    .dataframe tbody tr th {\n",
       "        vertical-align: top;\n",
       "    }\n",
       "\n",
       "    .dataframe thead th {\n",
       "        text-align: right;\n",
       "    }\n",
       "</style>\n",
       "<table border=\"1\" class=\"dataframe\">\n",
       "  <thead>\n",
       "    <tr style=\"text-align: right;\">\n",
       "      <th></th>\n",
       "      <th>user_id</th>\n",
       "      <th>name</th>\n",
       "      <th>age</th>\n",
       "      <th>city</th>\n",
       "      <th>subscription_type</th>\n",
       "    </tr>\n",
       "  </thead>\n",
       "  <tbody>\n",
       "    <tr>\n",
       "      <th>0</th>\n",
       "      <td>1</td>\n",
       "      <td>Кира</td>\n",
       "      <td>22</td>\n",
       "      <td>Тюмень</td>\n",
       "      <td>ultra</td>\n",
       "    </tr>\n",
       "    <tr>\n",
       "      <th>1</th>\n",
       "      <td>2</td>\n",
       "      <td>Станислав</td>\n",
       "      <td>31</td>\n",
       "      <td>Омск</td>\n",
       "      <td>ultra</td>\n",
       "    </tr>\n",
       "    <tr>\n",
       "      <th>2</th>\n",
       "      <td>3</td>\n",
       "      <td>Алексей</td>\n",
       "      <td>20</td>\n",
       "      <td>Москва</td>\n",
       "      <td>ultra</td>\n",
       "    </tr>\n",
       "    <tr>\n",
       "      <th>3</th>\n",
       "      <td>4</td>\n",
       "      <td>Константин</td>\n",
       "      <td>26</td>\n",
       "      <td>Ростов-на-Дону</td>\n",
       "      <td>ultra</td>\n",
       "    </tr>\n",
       "    <tr>\n",
       "      <th>4</th>\n",
       "      <td>5</td>\n",
       "      <td>Адель</td>\n",
       "      <td>28</td>\n",
       "      <td>Омск</td>\n",
       "      <td>ultra</td>\n",
       "    </tr>\n",
       "  </tbody>\n",
       "</table>\n",
       "</div>"
      ],
      "text/plain": [
       "   user_id        name  age            city subscription_type\n",
       "0        1        Кира   22          Тюмень             ultra\n",
       "1        2   Станислав   31            Омск             ultra\n",
       "2        3     Алексей   20          Москва             ultra\n",
       "3        4  Константин   26  Ростов-на-Дону             ultra\n",
       "4        5       Адель   28            Омск             ultra"
      ]
     },
     "metadata": {},
     "output_type": "display_data"
    },
    {
     "name": "stdout",
     "output_type": "stream",
     "text": [
      "<class 'pandas.core.frame.DataFrame'>\n",
      "RangeIndex: 1565 entries, 0 to 1564\n",
      "Data columns (total 5 columns):\n",
      " #   Column             Non-Null Count  Dtype \n",
      "---  ------             --------------  ----- \n",
      " 0   user_id            1565 non-null   int64 \n",
      " 1   name               1565 non-null   object\n",
      " 2   age                1565 non-null   int64 \n",
      " 3   city               1565 non-null   object\n",
      " 4   subscription_type  1565 non-null   object\n",
      "dtypes: int64(2), object(3)\n",
      "memory usage: 61.3+ KB\n"
     ]
    }
   ],
   "source": [
    "#users = pd.read_csv('/datasets/users_go.csv')\n",
    "\n",
    "try:\n",
    "    users = pd.read_csv('/datasets/users_go.csv')\n",
    "except:\n",
    "    users = pd.read_csv('https://code.s3.yandex.net/datasets/users_go.csv')\n",
    "    \n",
    "users.to_csv('users_go.csv', index=False)\n",
    "\n",
    "display(users.head())\n",
    "users.info()"
   ]
  },
  {
   "cell_type": "code",
   "execution_count": 6,
   "metadata": {},
   "outputs": [
    {
     "data": {
      "text/html": [
       "<div>\n",
       "<style scoped>\n",
       "    .dataframe tbody tr th:only-of-type {\n",
       "        vertical-align: middle;\n",
       "    }\n",
       "\n",
       "    .dataframe tbody tr th {\n",
       "        vertical-align: top;\n",
       "    }\n",
       "\n",
       "    .dataframe thead th {\n",
       "        text-align: right;\n",
       "    }\n",
       "</style>\n",
       "<table border=\"1\" class=\"dataframe\">\n",
       "  <thead>\n",
       "    <tr style=\"text-align: right;\">\n",
       "      <th></th>\n",
       "      <th>user_id</th>\n",
       "      <th>distance</th>\n",
       "      <th>duration</th>\n",
       "      <th>date</th>\n",
       "    </tr>\n",
       "  </thead>\n",
       "  <tbody>\n",
       "    <tr>\n",
       "      <th>0</th>\n",
       "      <td>1</td>\n",
       "      <td>4409.919140</td>\n",
       "      <td>25.599769</td>\n",
       "      <td>2021-01-01</td>\n",
       "    </tr>\n",
       "    <tr>\n",
       "      <th>1</th>\n",
       "      <td>1</td>\n",
       "      <td>2617.592153</td>\n",
       "      <td>15.816871</td>\n",
       "      <td>2021-01-18</td>\n",
       "    </tr>\n",
       "    <tr>\n",
       "      <th>2</th>\n",
       "      <td>1</td>\n",
       "      <td>754.159807</td>\n",
       "      <td>6.232113</td>\n",
       "      <td>2021-04-20</td>\n",
       "    </tr>\n",
       "    <tr>\n",
       "      <th>3</th>\n",
       "      <td>1</td>\n",
       "      <td>2694.783254</td>\n",
       "      <td>18.511000</td>\n",
       "      <td>2021-08-11</td>\n",
       "    </tr>\n",
       "    <tr>\n",
       "      <th>4</th>\n",
       "      <td>1</td>\n",
       "      <td>4028.687306</td>\n",
       "      <td>26.265803</td>\n",
       "      <td>2021-08-28</td>\n",
       "    </tr>\n",
       "  </tbody>\n",
       "</table>\n",
       "</div>"
      ],
      "text/plain": [
       "   user_id     distance   duration        date\n",
       "0        1  4409.919140  25.599769  2021-01-01\n",
       "1        1  2617.592153  15.816871  2021-01-18\n",
       "2        1   754.159807   6.232113  2021-04-20\n",
       "3        1  2694.783254  18.511000  2021-08-11\n",
       "4        1  4028.687306  26.265803  2021-08-28"
      ]
     },
     "metadata": {},
     "output_type": "display_data"
    },
    {
     "name": "stdout",
     "output_type": "stream",
     "text": [
      "<class 'pandas.core.frame.DataFrame'>\n",
      "RangeIndex: 18068 entries, 0 to 18067\n",
      "Data columns (total 4 columns):\n",
      " #   Column    Non-Null Count  Dtype  \n",
      "---  ------    --------------  -----  \n",
      " 0   user_id   18068 non-null  int64  \n",
      " 1   distance  18068 non-null  float64\n",
      " 2   duration  18068 non-null  float64\n",
      " 3   date      18068 non-null  object \n",
      "dtypes: float64(2), int64(1), object(1)\n",
      "memory usage: 564.8+ KB\n"
     ]
    }
   ],
   "source": [
    "#rides = pd.read_csv('/datasets/rides_go.csv')\n",
    "\n",
    "try:\n",
    "    rides = pd.read_csv('/datasets/rides_go.csv')\n",
    "except:\n",
    "    rides = pd.read_csv('https://code.s3.yandex.net/datasets/rides_go.csv')\n",
    "\n",
    "rides.to_csv('rides_go.csv', index=False) \n",
    "display(rides.head())\n",
    "rides.info()"
   ]
  },
  {
   "cell_type": "code",
   "execution_count": 7,
   "metadata": {},
   "outputs": [
    {
     "data": {
      "text/html": [
       "<div>\n",
       "<style scoped>\n",
       "    .dataframe tbody tr th:only-of-type {\n",
       "        vertical-align: middle;\n",
       "    }\n",
       "\n",
       "    .dataframe tbody tr th {\n",
       "        vertical-align: top;\n",
       "    }\n",
       "\n",
       "    .dataframe thead th {\n",
       "        text-align: right;\n",
       "    }\n",
       "</style>\n",
       "<table border=\"1\" class=\"dataframe\">\n",
       "  <thead>\n",
       "    <tr style=\"text-align: right;\">\n",
       "      <th></th>\n",
       "      <th>subscription_type</th>\n",
       "      <th>minute_price</th>\n",
       "      <th>start_ride_price</th>\n",
       "      <th>subscription_fee</th>\n",
       "    </tr>\n",
       "  </thead>\n",
       "  <tbody>\n",
       "    <tr>\n",
       "      <th>0</th>\n",
       "      <td>free</td>\n",
       "      <td>8</td>\n",
       "      <td>50</td>\n",
       "      <td>0</td>\n",
       "    </tr>\n",
       "    <tr>\n",
       "      <th>1</th>\n",
       "      <td>ultra</td>\n",
       "      <td>6</td>\n",
       "      <td>0</td>\n",
       "      <td>199</td>\n",
       "    </tr>\n",
       "  </tbody>\n",
       "</table>\n",
       "</div>"
      ],
      "text/plain": [
       "  subscription_type  minute_price  start_ride_price  subscription_fee\n",
       "0              free             8                50                 0\n",
       "1             ultra             6                 0               199"
      ]
     },
     "metadata": {},
     "output_type": "display_data"
    },
    {
     "name": "stdout",
     "output_type": "stream",
     "text": [
      "<class 'pandas.core.frame.DataFrame'>\n",
      "RangeIndex: 2 entries, 0 to 1\n",
      "Data columns (total 4 columns):\n",
      " #   Column             Non-Null Count  Dtype \n",
      "---  ------             --------------  ----- \n",
      " 0   subscription_type  2 non-null      object\n",
      " 1   minute_price       2 non-null      int64 \n",
      " 2   start_ride_price   2 non-null      int64 \n",
      " 3   subscription_fee   2 non-null      int64 \n",
      "dtypes: int64(3), object(1)\n",
      "memory usage: 192.0+ bytes\n"
     ]
    }
   ],
   "source": [
    "#subscriptions = pd.read_csv('/datasets/subscriptions_go.csv')\n",
    "\n",
    "try:\n",
    "    subscriptions = pd.read_csv('/datasets/subscriptions_go.csv')\n",
    "except:\n",
    "    subscriptions = pd.read_csv('https://code.s3.yandex.net/datasets/subscriptions_go.csv')\n",
    "\n",
    "subscriptions.to_csv('subscriptions_go.csv', index=False) \n",
    "display(subscriptions.head())\n",
    "subscriptions.info()"
   ]
  },
  {
   "cell_type": "code",
   "execution_count": 8,
   "metadata": {},
   "outputs": [
    {
     "name": "stdout",
     "output_type": "stream",
     "text": [
      "Данные за период с 2021-01-01 по 2021-12-30 \n"
     ]
    }
   ],
   "source": [
    "date_min = min(rides['date'])\n",
    "date_max = max(rides['date'])\n",
    "print(f'Данные за период с {date_min} по {date_max} ')"
   ]
  },
  {
   "cell_type": "markdown",
   "metadata": {},
   "source": [
    "Согласно документации к данным:\n",
    "\n",
    "**users** (информация о пользователях)\n",
    "- `user_id` — уникальный идентификатор пользователя;           \n",
    "- `name` — имя пользователя;  \n",
    "- `age` — возраст;  \n",
    "- `city` — город;\n",
    "- `subscription_type` — тип подписки (free, ultra).\n",
    "\n",
    "\n",
    "**rides** (информация о поездках)\n",
    "- `user_id` — уникальный идентификатор пользователя;           \n",
    "- `distance` — расстояние, которое пользователь проехал в текущей сессии (в метрах);  \n",
    "- `duration` — продолжительность сессии (в минутах) — время с того момента, как пользователь нажал кнопку «Начать поездку» до момента, как он нажал кнопку «Завершить поездку»;  \n",
    "- `date` — дата совершения поездки.\n",
    "\n",
    "**subscriptions** (информация о подписках)\n",
    "- `subscription_type` — тип подписки (free, ultra);\n",
    "- `minute_price` — стоимость одной минуты поездки по данной подписке;\n",
    "- `start_ride_price` — стоимость начала поездки;\n",
    "- `subscription_fee` — стоимость ежемесячного платежа."
   ]
  },
  {
   "cell_type": "markdown",
   "metadata": {},
   "source": [
    "**Вывод**\n",
    "\n",
    "Имеются три взаимосвязанные таблицы: **users** (5 столбцов), **rides** (4 столбца), **subscription** (4 столбца). Названия столбцов соответствуют хорошему стилю.\n",
    "В каждой строке таблиц — данные о пользователях, их поездках и информация по подписке. Данные о поездках приведены за 2021 календарный год."
   ]
  },
  {
   "cell_type": "markdown",
   "metadata": {},
   "source": [
    "#### Шаг 2. Предобработка данных"
   ]
  },
  {
   "cell_type": "code",
   "execution_count": 9,
   "metadata": {},
   "outputs": [
    {
     "name": "stdout",
     "output_type": "stream",
     "text": [
      "<class 'pandas.core.frame.DataFrame'>\n",
      "RangeIndex: 18068 entries, 0 to 18067\n",
      "Data columns (total 5 columns):\n",
      " #   Column    Non-Null Count  Dtype         \n",
      "---  ------    --------------  -----         \n",
      " 0   user_id   18068 non-null  int64         \n",
      " 1   distance  18068 non-null  float64       \n",
      " 2   duration  18068 non-null  float64       \n",
      " 3   date      18068 non-null  datetime64[ns]\n",
      " 4   month     18068 non-null  int64         \n",
      "dtypes: datetime64[ns](1), float64(2), int64(2)\n",
      "memory usage: 705.9 KB\n"
     ]
    }
   ],
   "source": [
    "rides['date'] = pd.to_datetime(rides['date'], format='%Y-%m-%d') # Приводим к типу даты дату поездки\n",
    "rides['month'] = rides['date'].dt.month # Добавляем столбец с месяцем поездки\n",
    "rides.info() # Проверяем внесенные изменения"
   ]
  },
  {
   "cell_type": "code",
   "execution_count": 10,
   "metadata": {},
   "outputs": [
    {
     "data": {
      "text/plain": [
       "31"
      ]
     },
     "execution_count": 10,
     "metadata": {},
     "output_type": "execute_result"
    }
   ],
   "source": [
    "# Проверяем наличие явных дубликатов в датафреймах\n",
    "users.duplicated().sum()"
   ]
  },
  {
   "cell_type": "code",
   "execution_count": 11,
   "metadata": {},
   "outputs": [
    {
     "data": {
      "text/plain": [
       "0"
      ]
     },
     "execution_count": 11,
     "metadata": {},
     "output_type": "execute_result"
    }
   ],
   "source": [
    "subscriptions.duplicated().sum()"
   ]
  },
  {
   "cell_type": "code",
   "execution_count": 12,
   "metadata": {},
   "outputs": [
    {
     "data": {
      "text/plain": [
       "0"
      ]
     },
     "execution_count": 12,
     "metadata": {},
     "output_type": "execute_result"
    }
   ],
   "source": [
    "rides.duplicated().sum()\n"
   ]
  },
  {
   "cell_type": "code",
   "execution_count": 13,
   "metadata": {},
   "outputs": [],
   "source": [
    "# Удаляем явные дубликаты\n",
    "users = users.drop_duplicates()"
   ]
  },
  {
   "cell_type": "code",
   "execution_count": 14,
   "metadata": {},
   "outputs": [
    {
     "data": {
      "text/plain": [
       "user_id              0\n",
       "name                 0\n",
       "age                  0\n",
       "city                 0\n",
       "subscription_type    0\n",
       "dtype: int64"
      ]
     },
     "execution_count": 14,
     "metadata": {},
     "output_type": "execute_result"
    }
   ],
   "source": [
    "# Проверяем наличие пропущенных значений в датафреймах\n",
    "users.isna().sum()\n"
   ]
  },
  {
   "cell_type": "code",
   "execution_count": 15,
   "metadata": {},
   "outputs": [
    {
     "data": {
      "text/plain": [
       "user_id     0\n",
       "distance    0\n",
       "duration    0\n",
       "date        0\n",
       "month       0\n",
       "dtype: int64"
      ]
     },
     "execution_count": 15,
     "metadata": {},
     "output_type": "execute_result"
    }
   ],
   "source": [
    "rides.isna().sum()\n"
   ]
  },
  {
   "cell_type": "code",
   "execution_count": 16,
   "metadata": {},
   "outputs": [
    {
     "data": {
      "text/plain": [
       "subscription_type    0\n",
       "minute_price         0\n",
       "start_ride_price     0\n",
       "subscription_fee     0\n",
       "dtype: int64"
      ]
     },
     "execution_count": 16,
     "metadata": {},
     "output_type": "execute_result"
    }
   ],
   "source": [
    "subscriptions.isna().sum()"
   ]
  },
  {
   "cell_type": "code",
   "execution_count": 17,
   "metadata": {},
   "outputs": [
    {
     "data": {
      "text/plain": [
       "array(['Екатеринбург', 'Краснодар', 'Москва', 'Омск', 'Пятигорск',\n",
       "       'Ростов-на-Дону', 'Сочи', 'Тюмень'], dtype=object)"
      ]
     },
     "execution_count": 17,
     "metadata": {},
     "output_type": "execute_result"
    }
   ],
   "source": [
    "# Проверяем наличие неявных дубликатов\n",
    "users['city'].sort_values().unique()"
   ]
  },
  {
   "cell_type": "markdown",
   "metadata": {},
   "source": [
    "**Вывод**\n",
    "\n",
    "- Приведена к типу даты дата поездки.\n",
    "\n",
    "- Добавлен столбец `month` с месяцем поездки.\n",
    "\n",
    "- В таблице **users** есть явные дубликаты, удалили их.\n",
    "\n",
    "- Пропущенных значений в таблицах нет.\n",
    "\n",
    "- Неявных дубликатов не обнаружено."
   ]
  },
  {
   "cell_type": "markdown",
   "metadata": {},
   "source": [
    "#### Шаг 3. Исследовательский анализ данных"
   ]
  },
  {
   "cell_type": "code",
   "execution_count": 18,
   "metadata": {},
   "outputs": [
    {
     "data": {
      "text/plain": [
       "Text(0.5, 0, 'Количество')"
      ]
     },
     "execution_count": 18,
     "metadata": {},
     "output_type": "execute_result"
    },
    {
     "data": {
      "image/png": "[encoded data removed]",
      "text/plain": [
       "<Figure size 1000x600 with 1 Axes>"
      ]
     },
     "metadata": {},
     "output_type": "display_data"
    }
   ],
   "source": [
    "# Частота встречаемости городов\n",
    "users['city'].value_counts(ascending=True).plot(y='city', kind='barh', grid=True, figsize=(10,6))\n",
    "plt.title('Распределение по городам')\n",
    "plt.xlabel('Количество')"
   ]
  },
  {
   "cell_type": "markdown",
   "metadata": {},
   "source": [
    "В данных представлено 8 городов, в которых число пользователей распределено почти одинаково. Больше всех пользователей сервиса GoFast оказалось в Пятигорске (около 220), меньше всего - в Москве (около 170). Скорее всего, это связано с уровнем конкуренции сервисов в конкретном регионе. Сам парк самокатов больше всего в Москве, но здесь и выше уровень конкуренции. В Пятигорске же работает мало компаний, предоставляющих аренду самокатов."
   ]
  },
  {
   "cell_type": "code",
   "execution_count": 19,
   "metadata": {},
   "outputs": [
    {
     "name": "stdout",
     "output_type": "stream",
     "text": [
      "free     835\n",
      "ultra    699\n",
      "Name: subscription_type, dtype: int64\n"
     ]
    }
   ],
   "source": [
    "# Распределение по подпискам\n",
    "users_sub = users['subscription_type'].value_counts()\n",
    "print(users_sub)"
   ]
  },
  {
   "cell_type": "code",
   "execution_count": 20,
   "metadata": {},
   "outputs": [
    {
     "data": {
      "image/png": "[encoded data removed]",
      "text/plain": [
       "<Figure size 700x700 with 1 Axes>"
      ]
     },
     "metadata": {},
     "output_type": "display_data"
    }
   ],
   "source": [
    "users_sub.plot(kind = 'pie', y = users_sub, autopct = '%1.0f%%', figsize=(7,7),\n",
    "    title = 'Соотношение групп пользователей по подпискам');"
   ]
  },
  {
   "cell_type": "markdown",
   "metadata": {},
   "source": [
    "Хорошо представлены пользователи и с подпиской (ultra), и без подписки (free). Пользователей, имеющих платную подписку немного больше (835 человек против 699 человек без подписки)."
   ]
  },
  {
   "cell_type": "code",
   "execution_count": 21,
   "metadata": {},
   "outputs": [
    {
     "name": "stdout",
     "output_type": "stream",
     "text": [
      "count    1534.000000\n",
      "mean       24.903520\n",
      "std         4.572367\n",
      "min        12.000000\n",
      "25%        22.000000\n",
      "50%        25.000000\n",
      "75%        28.000000\n",
      "max        43.000000\n",
      "Name: age, dtype: float64\n"
     ]
    },
    {
     "data": {
      "text/plain": [
       "Text(0, 0.5, 'Количество')"
      ]
     },
     "execution_count": 21,
     "metadata": {},
     "output_type": "execute_result"
    },
    {
     "data": {
      "image/png": "[encoded data removed]",
      "text/plain": [
       "<Figure size 1000x400 with 1 Axes>"
      ]
     },
     "metadata": {},
     "output_type": "display_data"
    }
   ],
   "source": [
    "# Возраст пользователей\n",
    "print(users['age'].describe())\n",
    "users['age'].hist(bins=10, grid=True, figsize=(10,4))\n",
    "plt.title('Возраст пользователей')\n",
    "plt.xlabel('Возраст, лет')\n",
    "plt.ylabel('Количество')"
   ]
  },
  {
   "cell_type": "markdown",
   "metadata": {},
   "source": [
    "Возраст пользователей находится в пределах от 12 до 43 лет. Возраст большинства приходится на 20 - 30 лет. При этом среднее и медианное значения возраста совпадают (около 25 лет). Это значит, что данные не содержат выбросов или слишком необычных значений."
   ]
  },
  {
   "cell_type": "code",
   "execution_count": 22,
   "metadata": {},
   "outputs": [
    {
     "data": {
      "text/plain": [
       "count    18068.000000\n",
       "mean      3070.659976\n",
       "std       1116.831209\n",
       "min          0.855683\n",
       "25%       2543.226360\n",
       "50%       3133.609994\n",
       "75%       3776.222735\n",
       "max       7211.007745\n",
       "Name: distance, dtype: float64"
      ]
     },
     "execution_count": 22,
     "metadata": {},
     "output_type": "execute_result"
    },
    {
     "data": {
      "image/png": "[encoded data removed]",
      "text/plain": [
       "<Figure size 640x480 with 1 Axes>"
      ]
     },
     "metadata": {},
     "output_type": "display_data"
    }
   ],
   "source": [
    "# Расстояние, которое пользователь преодолел за одну поездку\n",
    "rides.boxplot('distance')\n",
    "rides['distance'].describe()"
   ]
  },
  {
   "cell_type": "code",
   "execution_count": 23,
   "metadata": {},
   "outputs": [
    {
     "data": {
      "text/plain": [
       "Text(0, 0.5, 'Количество поездок')"
      ]
     },
     "execution_count": 23,
     "metadata": {},
     "output_type": "execute_result"
    },
    {
     "data": {
      "image/png": "[encoded data removed]",
      "text/plain": [
       "<Figure size 1000x400 with 1 Axes>"
      ]
     },
     "metadata": {},
     "output_type": "display_data"
    }
   ],
   "source": [
    "rides['distance'].hist(bins=50, grid=True, figsize=(10,4))\n",
    "plt.title('Расстояние, преодоленное за одну поездку')\n",
    "plt.xlabel('Расстояние, м')\n",
    "plt.ylabel('Количество поездок')"
   ]
  },
  {
   "cell_type": "markdown",
   "metadata": {},
   "source": [
    "Длина одной поездки составляет в основном 2543-3777 м (медианное значение - 3133 м).\n",
    "\n",
    "В построенной диаграмме размаха видно, что верхний \"ус\" упирается в 5600 м (=1,5 межквартального размаха + 3-й квартиль), что считается границей нормального размаха. Все, что более 5600 м, можно отнести к выбросам, то есть к необычно длинным дистанциям.\n",
    "И наоборот, необычно короткие дистанции - те, что меньше 693 м.\n",
    "\n",
    "Необычно короткие дистанции с пиковым значением около 700 м связаны с тем, что пользователь пробует ехать на самокате, но в результате отказывается от этой идеи. Возможно, этот пользователь впервые пробует ехать на самокате и понимает, что данный вид транспорта ему не подходит (некомфортно, не получается, изменились обстоятельства итп). Вторая причина может быть связана с неисправностью самоката.  "
   ]
  },
  {
   "cell_type": "code",
   "execution_count": 24,
   "metadata": {},
   "outputs": [
    {
     "data": {
      "text/plain": [
       "count    18068.000000\n",
       "mean        17.805011\n",
       "std          6.091051\n",
       "min          0.500000\n",
       "25%         13.597563\n",
       "50%         17.678395\n",
       "75%         21.724800\n",
       "max         40.823963\n",
       "Name: duration, dtype: float64"
      ]
     },
     "execution_count": 24,
     "metadata": {},
     "output_type": "execute_result"
    },
    {
     "data": {
      "image/png": "[encoded data removed]",
      "text/plain": [
       "<Figure size 640x480 with 1 Axes>"
      ]
     },
     "metadata": {},
     "output_type": "display_data"
    }
   ],
   "source": [
    "# Продолжительность поездок\n",
    "rides.boxplot('duration')\n",
    "rides['duration'].describe()"
   ]
  },
  {
   "cell_type": "code",
   "execution_count": 25,
   "metadata": {},
   "outputs": [
    {
     "data": {
      "text/plain": [
       "Text(0, 0.5, 'Количество поездок')"
      ]
     },
     "execution_count": 25,
     "metadata": {},
     "output_type": "execute_result"
    },
    {
     "data": {
      "image/png": "[encoded data removed]",
      "text/plain": [
       "<Figure size 1000x400 with 1 Axes>"
      ]
     },
     "metadata": {},
     "output_type": "display_data"
    }
   ],
   "source": [
    "rides['duration'].hist(bins=50, grid=True, figsize=(10,4))\n",
    "plt.title('Время, затраченное за одну поездку')\n",
    "plt.xlabel('Длительность одной поездки, мин')\n",
    "plt.ylabel('Количество поездок')"
   ]
  },
  {
   "cell_type": "markdown",
   "metadata": {},
   "source": [
    "Длительность одной поездки представляет собой нормальное распределение и составляет в основном 13-21 мин (медианное значение - 17 мин).\n",
    "\n",
    "В построенной диаграмме размаха видно, что верхний \"ус\" упирается в 34 мин (=1,5 межквартального размаха + 3-й квартиль), что считается границей нормального размаха. Все, что более 34 мин, можно отнести к выбросам, то есть к необычно долгим поездкам.\n",
    "\n",
    "Необычный пик около 0 может говорить об ошибках в данных, поэтому рассмотрим подробнее данные строки."
   ]
  },
  {
   "cell_type": "code",
   "execution_count": 26,
   "metadata": {},
   "outputs": [
    {
     "name": "stdout",
     "output_type": "stream",
     "text": [
      "           user_id     distance  duration      month\n",
      "count    95.000000    95.000000      95.0  95.000000\n",
      "mean   1092.210526  5113.176549       0.5   6.484211\n",
      "std     244.028551   658.254104       0.0   3.709858\n",
      "min     701.000000  4030.308008       0.5   1.000000\n",
      "25%     901.000000  4611.510820       0.5   3.000000\n",
      "50%    1069.000000  5052.769411       0.5   6.000000\n",
      "75%    1310.500000  5488.459099       0.5  10.000000\n",
      "max    1524.000000  7211.007745       0.5  12.000000\n"
     ]
    },
    {
     "data": {
      "text/html": [
       "<div>\n",
       "<style scoped>\n",
       "    .dataframe tbody tr th:only-of-type {\n",
       "        vertical-align: middle;\n",
       "    }\n",
       "\n",
       "    .dataframe tbody tr th {\n",
       "        vertical-align: top;\n",
       "    }\n",
       "\n",
       "    .dataframe thead th {\n",
       "        text-align: right;\n",
       "    }\n",
       "</style>\n",
       "<table border=\"1\" class=\"dataframe\">\n",
       "  <thead>\n",
       "    <tr style=\"text-align: right;\">\n",
       "      <th></th>\n",
       "      <th>user_id</th>\n",
       "      <th>distance</th>\n",
       "      <th>duration</th>\n",
       "      <th>date</th>\n",
       "      <th>month</th>\n",
       "    </tr>\n",
       "  </thead>\n",
       "  <tbody>\n",
       "    <tr>\n",
       "      <th>6531</th>\n",
       "      <td>701</td>\n",
       "      <td>4196.445201</td>\n",
       "      <td>0.5</td>\n",
       "      <td>2021-08-31</td>\n",
       "      <td>8</td>\n",
       "    </tr>\n",
       "    <tr>\n",
       "      <th>6570</th>\n",
       "      <td>704</td>\n",
       "      <td>4830.824371</td>\n",
       "      <td>0.5</td>\n",
       "      <td>2021-10-14</td>\n",
       "      <td>10</td>\n",
       "    </tr>\n",
       "    <tr>\n",
       "      <th>6680</th>\n",
       "      <td>712</td>\n",
       "      <td>4684.004397</td>\n",
       "      <td>0.5</td>\n",
       "      <td>2021-03-04</td>\n",
       "      <td>3</td>\n",
       "    </tr>\n",
       "    <tr>\n",
       "      <th>6695</th>\n",
       "      <td>713</td>\n",
       "      <td>5215.642710</td>\n",
       "      <td>0.5</td>\n",
       "      <td>2021-02-25</td>\n",
       "      <td>2</td>\n",
       "    </tr>\n",
       "    <tr>\n",
       "      <th>6768</th>\n",
       "      <td>718</td>\n",
       "      <td>5197.436649</td>\n",
       "      <td>0.5</td>\n",
       "      <td>2021-02-11</td>\n",
       "      <td>2</td>\n",
       "    </tr>\n",
       "    <tr>\n",
       "      <th>...</th>\n",
       "      <td>...</td>\n",
       "      <td>...</td>\n",
       "      <td>...</td>\n",
       "      <td>...</td>\n",
       "      <td>...</td>\n",
       "    </tr>\n",
       "    <tr>\n",
       "      <th>17004</th>\n",
       "      <td>1460</td>\n",
       "      <td>5531.335845</td>\n",
       "      <td>0.5</td>\n",
       "      <td>2021-01-19</td>\n",
       "      <td>1</td>\n",
       "    </tr>\n",
       "    <tr>\n",
       "      <th>17242</th>\n",
       "      <td>1477</td>\n",
       "      <td>6724.932981</td>\n",
       "      <td>0.5</td>\n",
       "      <td>2021-01-12</td>\n",
       "      <td>1</td>\n",
       "    </tr>\n",
       "    <tr>\n",
       "      <th>17314</th>\n",
       "      <td>1483</td>\n",
       "      <td>4445.481070</td>\n",
       "      <td>0.5</td>\n",
       "      <td>2021-03-06</td>\n",
       "      <td>3</td>\n",
       "    </tr>\n",
       "    <tr>\n",
       "      <th>17505</th>\n",
       "      <td>1496</td>\n",
       "      <td>5722.551787</td>\n",
       "      <td>0.5</td>\n",
       "      <td>2021-02-14</td>\n",
       "      <td>2</td>\n",
       "    </tr>\n",
       "    <tr>\n",
       "      <th>17909</th>\n",
       "      <td>1524</td>\n",
       "      <td>4103.998874</td>\n",
       "      <td>0.5</td>\n",
       "      <td>2021-06-18</td>\n",
       "      <td>6</td>\n",
       "    </tr>\n",
       "  </tbody>\n",
       "</table>\n",
       "<p>95 rows × 5 columns</p>\n",
       "</div>"
      ],
      "text/plain": [
       "       user_id     distance  duration       date  month\n",
       "6531       701  4196.445201       0.5 2021-08-31      8\n",
       "6570       704  4830.824371       0.5 2021-10-14     10\n",
       "6680       712  4684.004397       0.5 2021-03-04      3\n",
       "6695       713  5215.642710       0.5 2021-02-25      2\n",
       "6768       718  5197.436649       0.5 2021-02-11      2\n",
       "...        ...          ...       ...        ...    ...\n",
       "17004     1460  5531.335845       0.5 2021-01-19      1\n",
       "17242     1477  6724.932981       0.5 2021-01-12      1\n",
       "17314     1483  4445.481070       0.5 2021-03-06      3\n",
       "17505     1496  5722.551787       0.5 2021-02-14      2\n",
       "17909     1524  4103.998874       0.5 2021-06-18      6\n",
       "\n",
       "[95 rows x 5 columns]"
      ]
     },
     "execution_count": 26,
     "metadata": {},
     "output_type": "execute_result"
    }
   ],
   "source": [
    "print(rides.loc[rides['duration'] < 1].describe())\n",
    "rides.loc[rides['duration'] < 1]"
   ]
  },
  {
   "cell_type": "markdown",
   "metadata": {},
   "source": [
    "Оказывается, в 95 строках указана длительность каждой поездки 0,5 минут. При этом длина таких поездок находится в пределах 4030-7211 м. Вполне может быть, что в этом случае имелось ввиду 0,5 часа (т.е. 30 минут). Такое соотношение времени и длины поездки больше похоже на реальность. \n",
    "Так как количество в 95 строк ничтожно мало, просто удалим эти строки. И еще раз посмотрим на распределение по времени."
   ]
  },
  {
   "cell_type": "code",
   "execution_count": 27,
   "metadata": {},
   "outputs": [
    {
     "data": {
      "text/plain": [
       "Text(0, 0.5, 'Количество поездок')"
      ]
     },
     "execution_count": 27,
     "metadata": {},
     "output_type": "execute_result"
    },
    {
     "data": {
      "image/png": "[encoded data removed]",
      "text/plain": [
       "<Figure size 1000x400 with 1 Axes>"
      ]
     },
     "metadata": {},
     "output_type": "display_data"
    }
   ],
   "source": [
    "rides = rides.loc[rides['duration'] != 0.5]\n",
    "rides['duration'].hist(bins=50, grid=True, figsize=(10,4))\n",
    "plt.title('Время, затраченное за одну поездку')\n",
    "plt.xlabel('Длительность одной поездки, мин')\n",
    "plt.ylabel('Количество поездок')"
   ]
  },
  {
   "cell_type": "markdown",
   "metadata": {},
   "source": [
    "**Вывод**\n",
    "\n",
    "Описана и визуализирована общая информация о пользователях и поездках.\n",
    "\n",
    "**Частота встречаемости городов**\n",
    "- Представлено 8 городов, почти равномерно распределенных по числу пользователей (от 170 до 220 пользователей в каждом городе).\n",
    "\n",
    "**Распределение по подпискам**\n",
    "- Пользователей, имеющих платную подписку, немного больше (835 человек против 699 человек без подписки).\n",
    "\n",
    "**Возраст пользователей**\n",
    "- Возраст большинства пользователей приходится на 20 - 30 лет.\n",
    "\n",
    "**Расстояние, которое пользователь преодолел за одну поездку**\n",
    "- Длина одной поездки составляет в основном 2543-3777 м (медианное значение - 3133 м). Все, что более 5600 м, можно отнести к выбросам, то есть к необычно длинным дистанциям. И наоборот, необычно короткие дистанции - те, что меньше 693 м.\n",
    "- В распределении имеется второе пиковое значение около 700 м. Это может быть связано с тем, что пользователь прервал свою поездку по причине неисправности самоката или по личным причинам. \n",
    "\n",
    "**Продолжительность поездок**\n",
    "- Длительность одной поездки представляет собой нормальное распределение и составляет в основном 13-21 мин. Все, что более 34 мин, можно отнести к выбросам, то есть к необычно долгим поездкам.\n",
    "- Выявлены и удалены аномальные значения продолжительности поездки в 95 строках. "
   ]
  },
  {
   "cell_type": "markdown",
   "metadata": {},
   "source": [
    "#### Шаг 4. Объединение данных"
   ]
  },
  {
   "cell_type": "code",
   "execution_count": 28,
   "metadata": {},
   "outputs": [
    {
     "data": {
      "text/html": [
       "<div>\n",
       "<style scoped>\n",
       "    .dataframe tbody tr th:only-of-type {\n",
       "        vertical-align: middle;\n",
       "    }\n",
       "\n",
       "    .dataframe tbody tr th {\n",
       "        vertical-align: top;\n",
       "    }\n",
       "\n",
       "    .dataframe thead th {\n",
       "        text-align: right;\n",
       "    }\n",
       "</style>\n",
       "<table border=\"1\" class=\"dataframe\">\n",
       "  <thead>\n",
       "    <tr style=\"text-align: right;\">\n",
       "      <th></th>\n",
       "      <th>user_id</th>\n",
       "      <th>name</th>\n",
       "      <th>age</th>\n",
       "      <th>city</th>\n",
       "      <th>subscription_type</th>\n",
       "      <th>distance</th>\n",
       "      <th>duration</th>\n",
       "      <th>date</th>\n",
       "      <th>month</th>\n",
       "      <th>minute_price</th>\n",
       "      <th>start_ride_price</th>\n",
       "      <th>subscription_fee</th>\n",
       "    </tr>\n",
       "  </thead>\n",
       "  <tbody>\n",
       "    <tr>\n",
       "      <th>0</th>\n",
       "      <td>1</td>\n",
       "      <td>Кира</td>\n",
       "      <td>22</td>\n",
       "      <td>Тюмень</td>\n",
       "      <td>ultra</td>\n",
       "      <td>4409.919140</td>\n",
       "      <td>25.599769</td>\n",
       "      <td>2021-01-01</td>\n",
       "      <td>1</td>\n",
       "      <td>6</td>\n",
       "      <td>0</td>\n",
       "      <td>199</td>\n",
       "    </tr>\n",
       "    <tr>\n",
       "      <th>1</th>\n",
       "      <td>1</td>\n",
       "      <td>Кира</td>\n",
       "      <td>22</td>\n",
       "      <td>Тюмень</td>\n",
       "      <td>ultra</td>\n",
       "      <td>2617.592153</td>\n",
       "      <td>15.816871</td>\n",
       "      <td>2021-01-18</td>\n",
       "      <td>1</td>\n",
       "      <td>6</td>\n",
       "      <td>0</td>\n",
       "      <td>199</td>\n",
       "    </tr>\n",
       "    <tr>\n",
       "      <th>2</th>\n",
       "      <td>1</td>\n",
       "      <td>Кира</td>\n",
       "      <td>22</td>\n",
       "      <td>Тюмень</td>\n",
       "      <td>ultra</td>\n",
       "      <td>754.159807</td>\n",
       "      <td>6.232113</td>\n",
       "      <td>2021-04-20</td>\n",
       "      <td>4</td>\n",
       "      <td>6</td>\n",
       "      <td>0</td>\n",
       "      <td>199</td>\n",
       "    </tr>\n",
       "    <tr>\n",
       "      <th>3</th>\n",
       "      <td>1</td>\n",
       "      <td>Кира</td>\n",
       "      <td>22</td>\n",
       "      <td>Тюмень</td>\n",
       "      <td>ultra</td>\n",
       "      <td>2694.783254</td>\n",
       "      <td>18.511000</td>\n",
       "      <td>2021-08-11</td>\n",
       "      <td>8</td>\n",
       "      <td>6</td>\n",
       "      <td>0</td>\n",
       "      <td>199</td>\n",
       "    </tr>\n",
       "    <tr>\n",
       "      <th>4</th>\n",
       "      <td>1</td>\n",
       "      <td>Кира</td>\n",
       "      <td>22</td>\n",
       "      <td>Тюмень</td>\n",
       "      <td>ultra</td>\n",
       "      <td>4028.687306</td>\n",
       "      <td>26.265803</td>\n",
       "      <td>2021-08-28</td>\n",
       "      <td>8</td>\n",
       "      <td>6</td>\n",
       "      <td>0</td>\n",
       "      <td>199</td>\n",
       "    </tr>\n",
       "    <tr>\n",
       "      <th>...</th>\n",
       "      <td>...</td>\n",
       "      <td>...</td>\n",
       "      <td>...</td>\n",
       "      <td>...</td>\n",
       "      <td>...</td>\n",
       "      <td>...</td>\n",
       "      <td>...</td>\n",
       "      <td>...</td>\n",
       "      <td>...</td>\n",
       "      <td>...</td>\n",
       "      <td>...</td>\n",
       "      <td>...</td>\n",
       "    </tr>\n",
       "    <tr>\n",
       "      <th>17968</th>\n",
       "      <td>1534</td>\n",
       "      <td>Альберт</td>\n",
       "      <td>25</td>\n",
       "      <td>Краснодар</td>\n",
       "      <td>free</td>\n",
       "      <td>3781.098080</td>\n",
       "      <td>19.822962</td>\n",
       "      <td>2021-11-04</td>\n",
       "      <td>11</td>\n",
       "      <td>8</td>\n",
       "      <td>50</td>\n",
       "      <td>0</td>\n",
       "    </tr>\n",
       "    <tr>\n",
       "      <th>17969</th>\n",
       "      <td>1534</td>\n",
       "      <td>Альберт</td>\n",
       "      <td>25</td>\n",
       "      <td>Краснодар</td>\n",
       "      <td>free</td>\n",
       "      <td>2840.423057</td>\n",
       "      <td>21.409799</td>\n",
       "      <td>2021-11-16</td>\n",
       "      <td>11</td>\n",
       "      <td>8</td>\n",
       "      <td>50</td>\n",
       "      <td>0</td>\n",
       "    </tr>\n",
       "    <tr>\n",
       "      <th>17970</th>\n",
       "      <td>1534</td>\n",
       "      <td>Альберт</td>\n",
       "      <td>25</td>\n",
       "      <td>Краснодар</td>\n",
       "      <td>free</td>\n",
       "      <td>3826.185507</td>\n",
       "      <td>18.435051</td>\n",
       "      <td>2021-11-18</td>\n",
       "      <td>11</td>\n",
       "      <td>8</td>\n",
       "      <td>50</td>\n",
       "      <td>0</td>\n",
       "    </tr>\n",
       "    <tr>\n",
       "      <th>17971</th>\n",
       "      <td>1534</td>\n",
       "      <td>Альберт</td>\n",
       "      <td>25</td>\n",
       "      <td>Краснодар</td>\n",
       "      <td>free</td>\n",
       "      <td>2902.308661</td>\n",
       "      <td>16.674362</td>\n",
       "      <td>2021-11-27</td>\n",
       "      <td>11</td>\n",
       "      <td>8</td>\n",
       "      <td>50</td>\n",
       "      <td>0</td>\n",
       "    </tr>\n",
       "    <tr>\n",
       "      <th>17972</th>\n",
       "      <td>1534</td>\n",
       "      <td>Альберт</td>\n",
       "      <td>25</td>\n",
       "      <td>Краснодар</td>\n",
       "      <td>free</td>\n",
       "      <td>2371.711192</td>\n",
       "      <td>15.893917</td>\n",
       "      <td>2021-12-29</td>\n",
       "      <td>12</td>\n",
       "      <td>8</td>\n",
       "      <td>50</td>\n",
       "      <td>0</td>\n",
       "    </tr>\n",
       "  </tbody>\n",
       "</table>\n",
       "<p>17973 rows × 12 columns</p>\n",
       "</div>"
      ],
      "text/plain": [
       "       user_id     name  age       city subscription_type     distance  \\\n",
       "0            1     Кира   22     Тюмень             ultra  4409.919140   \n",
       "1            1     Кира   22     Тюмень             ultra  2617.592153   \n",
       "2            1     Кира   22     Тюмень             ultra   754.159807   \n",
       "3            1     Кира   22     Тюмень             ultra  2694.783254   \n",
       "4            1     Кира   22     Тюмень             ultra  4028.687306   \n",
       "...        ...      ...  ...        ...               ...          ...   \n",
       "17968     1534  Альберт   25  Краснодар              free  3781.098080   \n",
       "17969     1534  Альберт   25  Краснодар              free  2840.423057   \n",
       "17970     1534  Альберт   25  Краснодар              free  3826.185507   \n",
       "17971     1534  Альберт   25  Краснодар              free  2902.308661   \n",
       "17972     1534  Альберт   25  Краснодар              free  2371.711192   \n",
       "\n",
       "        duration       date  month  minute_price  start_ride_price  \\\n",
       "0      25.599769 2021-01-01      1             6                 0   \n",
       "1      15.816871 2021-01-18      1             6                 0   \n",
       "2       6.232113 2021-04-20      4             6                 0   \n",
       "3      18.511000 2021-08-11      8             6                 0   \n",
       "4      26.265803 2021-08-28      8             6                 0   \n",
       "...          ...        ...    ...           ...               ...   \n",
       "17968  19.822962 2021-11-04     11             8                50   \n",
       "17969  21.409799 2021-11-16     11             8                50   \n",
       "17970  18.435051 2021-11-18     11             8                50   \n",
       "17971  16.674362 2021-11-27     11             8                50   \n",
       "17972  15.893917 2021-12-29     12             8                50   \n",
       "\n",
       "       subscription_fee  \n",
       "0                   199  \n",
       "1                   199  \n",
       "2                   199  \n",
       "3                   199  \n",
       "4                   199  \n",
       "...                 ...  \n",
       "17968                 0  \n",
       "17969                 0  \n",
       "17970                 0  \n",
       "17971                 0  \n",
       "17972                 0  \n",
       "\n",
       "[17973 rows x 12 columns]"
      ]
     },
     "metadata": {},
     "output_type": "display_data"
    }
   ],
   "source": [
    "# Объединяем три таблицы в одну общую\n",
    "data_total = users.merge(rides, on='user_id').merge(subscriptions, on='subscription_type')\n",
    "display(data_total)"
   ]
  },
  {
   "cell_type": "code",
   "execution_count": 29,
   "metadata": {},
   "outputs": [
    {
     "name": "stdout",
     "output_type": "stream",
     "text": [
      "(1534, 5)\n",
      "(17973, 5)\n",
      "(2, 4)\n"
     ]
    }
   ],
   "source": [
    "# Сравниваем полученное количество строк с исходными таблицами\n",
    "print(users.shape)\n",
    "print(rides.shape)\n",
    "print(subscriptions.shape)"
   ]
  },
  {
   "cell_type": "markdown",
   "metadata": {},
   "source": [
    "Количество строк полученной таблицы соответствуют количеству строк самой длинной таблицы **rides**."
   ]
  },
  {
   "cell_type": "code",
   "execution_count": 30,
   "metadata": {},
   "outputs": [
    {
     "data": {
      "text/html": [
       "<div>\n",
       "<style scoped>\n",
       "    .dataframe tbody tr th:only-of-type {\n",
       "        vertical-align: middle;\n",
       "    }\n",
       "\n",
       "    .dataframe tbody tr th {\n",
       "        vertical-align: top;\n",
       "    }\n",
       "\n",
       "    .dataframe thead th {\n",
       "        text-align: right;\n",
       "    }\n",
       "</style>\n",
       "<table border=\"1\" class=\"dataframe\">\n",
       "  <thead>\n",
       "    <tr style=\"text-align: right;\">\n",
       "      <th></th>\n",
       "      <th>user_id</th>\n",
       "      <th>name</th>\n",
       "      <th>age</th>\n",
       "      <th>city</th>\n",
       "      <th>subscription_type</th>\n",
       "      <th>distance</th>\n",
       "      <th>duration</th>\n",
       "      <th>date</th>\n",
       "      <th>month</th>\n",
       "      <th>minute_price</th>\n",
       "      <th>start_ride_price</th>\n",
       "      <th>subscription_fee</th>\n",
       "    </tr>\n",
       "  </thead>\n",
       "  <tbody>\n",
       "    <tr>\n",
       "      <th>6500</th>\n",
       "      <td>700</td>\n",
       "      <td>Айдар</td>\n",
       "      <td>22</td>\n",
       "      <td>Омск</td>\n",
       "      <td>free</td>\n",
       "      <td>2515.690719</td>\n",
       "      <td>14.944286</td>\n",
       "      <td>2021-01-02</td>\n",
       "      <td>1</td>\n",
       "      <td>8</td>\n",
       "      <td>50</td>\n",
       "      <td>0</td>\n",
       "    </tr>\n",
       "    <tr>\n",
       "      <th>6501</th>\n",
       "      <td>700</td>\n",
       "      <td>Айдар</td>\n",
       "      <td>22</td>\n",
       "      <td>Омск</td>\n",
       "      <td>free</td>\n",
       "      <td>846.932642</td>\n",
       "      <td>16.234663</td>\n",
       "      <td>2021-02-01</td>\n",
       "      <td>2</td>\n",
       "      <td>8</td>\n",
       "      <td>50</td>\n",
       "      <td>0</td>\n",
       "    </tr>\n",
       "    <tr>\n",
       "      <th>6502</th>\n",
       "      <td>700</td>\n",
       "      <td>Айдар</td>\n",
       "      <td>22</td>\n",
       "      <td>Омск</td>\n",
       "      <td>free</td>\n",
       "      <td>4004.434142</td>\n",
       "      <td>20.016628</td>\n",
       "      <td>2021-02-04</td>\n",
       "      <td>2</td>\n",
       "      <td>8</td>\n",
       "      <td>50</td>\n",
       "      <td>0</td>\n",
       "    </tr>\n",
       "    <tr>\n",
       "      <th>6503</th>\n",
       "      <td>700</td>\n",
       "      <td>Айдар</td>\n",
       "      <td>22</td>\n",
       "      <td>Омск</td>\n",
       "      <td>free</td>\n",
       "      <td>1205.911290</td>\n",
       "      <td>9.782872</td>\n",
       "      <td>2021-02-10</td>\n",
       "      <td>2</td>\n",
       "      <td>8</td>\n",
       "      <td>50</td>\n",
       "      <td>0</td>\n",
       "    </tr>\n",
       "    <tr>\n",
       "      <th>6504</th>\n",
       "      <td>700</td>\n",
       "      <td>Айдар</td>\n",
       "      <td>22</td>\n",
       "      <td>Омск</td>\n",
       "      <td>free</td>\n",
       "      <td>3047.379435</td>\n",
       "      <td>17.427673</td>\n",
       "      <td>2021-02-14</td>\n",
       "      <td>2</td>\n",
       "      <td>8</td>\n",
       "      <td>50</td>\n",
       "      <td>0</td>\n",
       "    </tr>\n",
       "    <tr>\n",
       "      <th>...</th>\n",
       "      <td>...</td>\n",
       "      <td>...</td>\n",
       "      <td>...</td>\n",
       "      <td>...</td>\n",
       "      <td>...</td>\n",
       "      <td>...</td>\n",
       "      <td>...</td>\n",
       "      <td>...</td>\n",
       "      <td>...</td>\n",
       "      <td>...</td>\n",
       "      <td>...</td>\n",
       "      <td>...</td>\n",
       "    </tr>\n",
       "    <tr>\n",
       "      <th>17968</th>\n",
       "      <td>1534</td>\n",
       "      <td>Альберт</td>\n",
       "      <td>25</td>\n",
       "      <td>Краснодар</td>\n",
       "      <td>free</td>\n",
       "      <td>3781.098080</td>\n",
       "      <td>19.822962</td>\n",
       "      <td>2021-11-04</td>\n",
       "      <td>11</td>\n",
       "      <td>8</td>\n",
       "      <td>50</td>\n",
       "      <td>0</td>\n",
       "    </tr>\n",
       "    <tr>\n",
       "      <th>17969</th>\n",
       "      <td>1534</td>\n",
       "      <td>Альберт</td>\n",
       "      <td>25</td>\n",
       "      <td>Краснодар</td>\n",
       "      <td>free</td>\n",
       "      <td>2840.423057</td>\n",
       "      <td>21.409799</td>\n",
       "      <td>2021-11-16</td>\n",
       "      <td>11</td>\n",
       "      <td>8</td>\n",
       "      <td>50</td>\n",
       "      <td>0</td>\n",
       "    </tr>\n",
       "    <tr>\n",
       "      <th>17970</th>\n",
       "      <td>1534</td>\n",
       "      <td>Альберт</td>\n",
       "      <td>25</td>\n",
       "      <td>Краснодар</td>\n",
       "      <td>free</td>\n",
       "      <td>3826.185507</td>\n",
       "      <td>18.435051</td>\n",
       "      <td>2021-11-18</td>\n",
       "      <td>11</td>\n",
       "      <td>8</td>\n",
       "      <td>50</td>\n",
       "      <td>0</td>\n",
       "    </tr>\n",
       "    <tr>\n",
       "      <th>17971</th>\n",
       "      <td>1534</td>\n",
       "      <td>Альберт</td>\n",
       "      <td>25</td>\n",
       "      <td>Краснодар</td>\n",
       "      <td>free</td>\n",
       "      <td>2902.308661</td>\n",
       "      <td>16.674362</td>\n",
       "      <td>2021-11-27</td>\n",
       "      <td>11</td>\n",
       "      <td>8</td>\n",
       "      <td>50</td>\n",
       "      <td>0</td>\n",
       "    </tr>\n",
       "    <tr>\n",
       "      <th>17972</th>\n",
       "      <td>1534</td>\n",
       "      <td>Альберт</td>\n",
       "      <td>25</td>\n",
       "      <td>Краснодар</td>\n",
       "      <td>free</td>\n",
       "      <td>2371.711192</td>\n",
       "      <td>15.893917</td>\n",
       "      <td>2021-12-29</td>\n",
       "      <td>12</td>\n",
       "      <td>8</td>\n",
       "      <td>50</td>\n",
       "      <td>0</td>\n",
       "    </tr>\n",
       "  </tbody>\n",
       "</table>\n",
       "<p>11473 rows × 12 columns</p>\n",
       "</div>"
      ],
      "text/plain": [
       "       user_id     name  age       city subscription_type     distance  \\\n",
       "6500       700    Айдар   22       Омск              free  2515.690719   \n",
       "6501       700    Айдар   22       Омск              free   846.932642   \n",
       "6502       700    Айдар   22       Омск              free  4004.434142   \n",
       "6503       700    Айдар   22       Омск              free  1205.911290   \n",
       "6504       700    Айдар   22       Омск              free  3047.379435   \n",
       "...        ...      ...  ...        ...               ...          ...   \n",
       "17968     1534  Альберт   25  Краснодар              free  3781.098080   \n",
       "17969     1534  Альберт   25  Краснодар              free  2840.423057   \n",
       "17970     1534  Альберт   25  Краснодар              free  3826.185507   \n",
       "17971     1534  Альберт   25  Краснодар              free  2902.308661   \n",
       "17972     1534  Альберт   25  Краснодар              free  2371.711192   \n",
       "\n",
       "        duration       date  month  minute_price  start_ride_price  \\\n",
       "6500   14.944286 2021-01-02      1             8                50   \n",
       "6501   16.234663 2021-02-01      2             8                50   \n",
       "6502   20.016628 2021-02-04      2             8                50   \n",
       "6503    9.782872 2021-02-10      2             8                50   \n",
       "6504   17.427673 2021-02-14      2             8                50   \n",
       "...          ...        ...    ...           ...               ...   \n",
       "17968  19.822962 2021-11-04     11             8                50   \n",
       "17969  21.409799 2021-11-16     11             8                50   \n",
       "17970  18.435051 2021-11-18     11             8                50   \n",
       "17971  16.674362 2021-11-27     11             8                50   \n",
       "17972  15.893917 2021-12-29     12             8                50   \n",
       "\n",
       "       subscription_fee  \n",
       "6500                  0  \n",
       "6501                  0  \n",
       "6502                  0  \n",
       "6503                  0  \n",
       "6504                  0  \n",
       "...                 ...  \n",
       "17968                 0  \n",
       "17969                 0  \n",
       "17970                 0  \n",
       "17971                 0  \n",
       "17972                 0  \n",
       "\n",
       "[11473 rows x 12 columns]"
      ]
     },
     "metadata": {},
     "output_type": "display_data"
    }
   ],
   "source": [
    "# Данные о пользователях без подписки\n",
    "data_free = data_total.query('subscription_type == \"free\"')\n",
    "display(data_free)"
   ]
  },
  {
   "cell_type": "code",
   "execution_count": 31,
   "metadata": {},
   "outputs": [
    {
     "data": {
      "text/html": [
       "<div>\n",
       "<style scoped>\n",
       "    .dataframe tbody tr th:only-of-type {\n",
       "        vertical-align: middle;\n",
       "    }\n",
       "\n",
       "    .dataframe tbody tr th {\n",
       "        vertical-align: top;\n",
       "    }\n",
       "\n",
       "    .dataframe thead th {\n",
       "        text-align: right;\n",
       "    }\n",
       "</style>\n",
       "<table border=\"1\" class=\"dataframe\">\n",
       "  <thead>\n",
       "    <tr style=\"text-align: right;\">\n",
       "      <th></th>\n",
       "      <th>user_id</th>\n",
       "      <th>name</th>\n",
       "      <th>age</th>\n",
       "      <th>city</th>\n",
       "      <th>subscription_type</th>\n",
       "      <th>distance</th>\n",
       "      <th>duration</th>\n",
       "      <th>date</th>\n",
       "      <th>month</th>\n",
       "      <th>minute_price</th>\n",
       "      <th>start_ride_price</th>\n",
       "      <th>subscription_fee</th>\n",
       "    </tr>\n",
       "  </thead>\n",
       "  <tbody>\n",
       "    <tr>\n",
       "      <th>0</th>\n",
       "      <td>1</td>\n",
       "      <td>Кира</td>\n",
       "      <td>22</td>\n",
       "      <td>Тюмень</td>\n",
       "      <td>ultra</td>\n",
       "      <td>4409.919140</td>\n",
       "      <td>25.599769</td>\n",
       "      <td>2021-01-01</td>\n",
       "      <td>1</td>\n",
       "      <td>6</td>\n",
       "      <td>0</td>\n",
       "      <td>199</td>\n",
       "    </tr>\n",
       "    <tr>\n",
       "      <th>1</th>\n",
       "      <td>1</td>\n",
       "      <td>Кира</td>\n",
       "      <td>22</td>\n",
       "      <td>Тюмень</td>\n",
       "      <td>ultra</td>\n",
       "      <td>2617.592153</td>\n",
       "      <td>15.816871</td>\n",
       "      <td>2021-01-18</td>\n",
       "      <td>1</td>\n",
       "      <td>6</td>\n",
       "      <td>0</td>\n",
       "      <td>199</td>\n",
       "    </tr>\n",
       "    <tr>\n",
       "      <th>2</th>\n",
       "      <td>1</td>\n",
       "      <td>Кира</td>\n",
       "      <td>22</td>\n",
       "      <td>Тюмень</td>\n",
       "      <td>ultra</td>\n",
       "      <td>754.159807</td>\n",
       "      <td>6.232113</td>\n",
       "      <td>2021-04-20</td>\n",
       "      <td>4</td>\n",
       "      <td>6</td>\n",
       "      <td>0</td>\n",
       "      <td>199</td>\n",
       "    </tr>\n",
       "    <tr>\n",
       "      <th>3</th>\n",
       "      <td>1</td>\n",
       "      <td>Кира</td>\n",
       "      <td>22</td>\n",
       "      <td>Тюмень</td>\n",
       "      <td>ultra</td>\n",
       "      <td>2694.783254</td>\n",
       "      <td>18.511000</td>\n",
       "      <td>2021-08-11</td>\n",
       "      <td>8</td>\n",
       "      <td>6</td>\n",
       "      <td>0</td>\n",
       "      <td>199</td>\n",
       "    </tr>\n",
       "    <tr>\n",
       "      <th>4</th>\n",
       "      <td>1</td>\n",
       "      <td>Кира</td>\n",
       "      <td>22</td>\n",
       "      <td>Тюмень</td>\n",
       "      <td>ultra</td>\n",
       "      <td>4028.687306</td>\n",
       "      <td>26.265803</td>\n",
       "      <td>2021-08-28</td>\n",
       "      <td>8</td>\n",
       "      <td>6</td>\n",
       "      <td>0</td>\n",
       "      <td>199</td>\n",
       "    </tr>\n",
       "    <tr>\n",
       "      <th>...</th>\n",
       "      <td>...</td>\n",
       "      <td>...</td>\n",
       "      <td>...</td>\n",
       "      <td>...</td>\n",
       "      <td>...</td>\n",
       "      <td>...</td>\n",
       "      <td>...</td>\n",
       "      <td>...</td>\n",
       "      <td>...</td>\n",
       "      <td>...</td>\n",
       "      <td>...</td>\n",
       "      <td>...</td>\n",
       "    </tr>\n",
       "    <tr>\n",
       "      <th>6495</th>\n",
       "      <td>699</td>\n",
       "      <td>Оксана</td>\n",
       "      <td>22</td>\n",
       "      <td>Москва</td>\n",
       "      <td>ultra</td>\n",
       "      <td>3973.046497</td>\n",
       "      <td>24.671163</td>\n",
       "      <td>2021-08-29</td>\n",
       "      <td>8</td>\n",
       "      <td>6</td>\n",
       "      <td>0</td>\n",
       "      <td>199</td>\n",
       "    </tr>\n",
       "    <tr>\n",
       "      <th>6496</th>\n",
       "      <td>699</td>\n",
       "      <td>Оксана</td>\n",
       "      <td>22</td>\n",
       "      <td>Москва</td>\n",
       "      <td>ultra</td>\n",
       "      <td>3288.702563</td>\n",
       "      <td>15.892886</td>\n",
       "      <td>2021-09-12</td>\n",
       "      <td>9</td>\n",
       "      <td>6</td>\n",
       "      <td>0</td>\n",
       "      <td>199</td>\n",
       "    </tr>\n",
       "    <tr>\n",
       "      <th>6497</th>\n",
       "      <td>699</td>\n",
       "      <td>Оксана</td>\n",
       "      <td>22</td>\n",
       "      <td>Москва</td>\n",
       "      <td>ultra</td>\n",
       "      <td>3076.159348</td>\n",
       "      <td>14.389525</td>\n",
       "      <td>2021-09-26</td>\n",
       "      <td>9</td>\n",
       "      <td>6</td>\n",
       "      <td>0</td>\n",
       "      <td>199</td>\n",
       "    </tr>\n",
       "    <tr>\n",
       "      <th>6498</th>\n",
       "      <td>699</td>\n",
       "      <td>Оксана</td>\n",
       "      <td>22</td>\n",
       "      <td>Москва</td>\n",
       "      <td>ultra</td>\n",
       "      <td>4707.845501</td>\n",
       "      <td>15.839579</td>\n",
       "      <td>2021-10-17</td>\n",
       "      <td>10</td>\n",
       "      <td>6</td>\n",
       "      <td>0</td>\n",
       "      <td>199</td>\n",
       "    </tr>\n",
       "    <tr>\n",
       "      <th>6499</th>\n",
       "      <td>699</td>\n",
       "      <td>Оксана</td>\n",
       "      <td>22</td>\n",
       "      <td>Москва</td>\n",
       "      <td>ultra</td>\n",
       "      <td>3202.890770</td>\n",
       "      <td>25.217345</td>\n",
       "      <td>2021-12-03</td>\n",
       "      <td>12</td>\n",
       "      <td>6</td>\n",
       "      <td>0</td>\n",
       "      <td>199</td>\n",
       "    </tr>\n",
       "  </tbody>\n",
       "</table>\n",
       "<p>6500 rows × 12 columns</p>\n",
       "</div>"
      ],
      "text/plain": [
       "      user_id    name  age    city subscription_type     distance   duration  \\\n",
       "0           1    Кира   22  Тюмень             ultra  4409.919140  25.599769   \n",
       "1           1    Кира   22  Тюмень             ultra  2617.592153  15.816871   \n",
       "2           1    Кира   22  Тюмень             ultra   754.159807   6.232113   \n",
       "3           1    Кира   22  Тюмень             ultra  2694.783254  18.511000   \n",
       "4           1    Кира   22  Тюмень             ultra  4028.687306  26.265803   \n",
       "...       ...     ...  ...     ...               ...          ...        ...   \n",
       "6495      699  Оксана   22  Москва             ultra  3973.046497  24.671163   \n",
       "6496      699  Оксана   22  Москва             ultra  3288.702563  15.892886   \n",
       "6497      699  Оксана   22  Москва             ultra  3076.159348  14.389525   \n",
       "6498      699  Оксана   22  Москва             ultra  4707.845501  15.839579   \n",
       "6499      699  Оксана   22  Москва             ultra  3202.890770  25.217345   \n",
       "\n",
       "           date  month  minute_price  start_ride_price  subscription_fee  \n",
       "0    2021-01-01      1             6                 0               199  \n",
       "1    2021-01-18      1             6                 0               199  \n",
       "2    2021-04-20      4             6                 0               199  \n",
       "3    2021-08-11      8             6                 0               199  \n",
       "4    2021-08-28      8             6                 0               199  \n",
       "...         ...    ...           ...               ...               ...  \n",
       "6495 2021-08-29      8             6                 0               199  \n",
       "6496 2021-09-12      9             6                 0               199  \n",
       "6497 2021-09-26      9             6                 0               199  \n",
       "6498 2021-10-17     10             6                 0               199  \n",
       "6499 2021-12-03     12             6                 0               199  \n",
       "\n",
       "[6500 rows x 12 columns]"
      ]
     },
     "metadata": {},
     "output_type": "display_data"
    }
   ],
   "source": [
    "# Данные о пользователях с подпиской\n",
    "data_ultra = data_total.query('subscription_type == \"ultra\"')\n",
    "display(data_ultra)"
   ]
  },
  {
   "cell_type": "code",
   "execution_count": 32,
   "metadata": {},
   "outputs": [
    {
     "name": "stdout",
     "output_type": "stream",
     "text": [
      "count    11473.000000\n",
      "mean      3028.374239\n",
      "std       1235.541051\n",
      "min          0.855683\n",
      "25%       2360.878149\n",
      "50%       3102.083025\n",
      "75%       3883.979311\n",
      "max       7066.003772\n",
      "Name: distance, dtype: float64\n"
     ]
    }
   ],
   "source": [
    "# Характеристики расстояния у пользователей без подписки\n",
    "print(data_free['distance'].describe())"
   ]
  },
  {
   "cell_type": "code",
   "execution_count": 33,
   "metadata": {},
   "outputs": [
    {
     "name": "stdout",
     "output_type": "stream",
     "text": [
      "count    6500.000000\n",
      "mean     3115.445388\n",
      "std       836.895330\n",
      "min       244.210438\n",
      "25%      2785.444017\n",
      "50%      3148.637229\n",
      "75%      3560.574425\n",
      "max      5699.769662\n",
      "Name: distance, dtype: float64\n"
     ]
    }
   ],
   "source": [
    "# Характеристики расстояния у пользователей с подпиской\n",
    "print(data_ultra['distance'].describe())"
   ]
  },
  {
   "cell_type": "code",
   "execution_count": 34,
   "metadata": {},
   "outputs": [
    {
     "data": {
      "text/plain": [
       "Text(0, 0.5, 'Количество поездок')"
      ]
     },
     "execution_count": 34,
     "metadata": {},
     "output_type": "execute_result"
    },
    {
     "data": {
      "image/png": "[encoded data removed]",
      "text/plain": [
       "<Figure size 1000x400 with 1 Axes>"
      ]
     },
     "metadata": {},
     "output_type": "display_data"
    }
   ],
   "source": [
    "# Длина одной поездки у пользователей без подписки\n",
    "data_free['distance'].hist(bins=40, grid=True, figsize=(10,4))\n",
    "\n",
    "# Длина одной поездки у пользователей с подпиской\n",
    "data_ultra['distance'].hist(bins=50, grid=True, figsize=(10,4))\n",
    "plt.title('Длина одной поездки: без подписки (синий) и с подпиской (оранжевый)')\n",
    "plt.xlabel('Расстояние, м')\n",
    "plt.ylabel('Количество поездок')"
   ]
  },
  {
   "cell_type": "code",
   "execution_count": 35,
   "metadata": {},
   "outputs": [
    {
     "name": "stdout",
     "output_type": "stream",
     "text": [
      "count    11473.000000\n",
      "mean        17.530771\n",
      "std          6.162609\n",
      "min          2.035632\n",
      "25%         13.085688\n",
      "50%         17.383807\n",
      "75%         21.638038\n",
      "max         34.948498\n",
      "Name: duration, dtype: float64\n"
     ]
    }
   ],
   "source": [
    "# Характеристики расстояния у пользователей без подписки\n",
    "print(data_free['duration'].describe())"
   ]
  },
  {
   "cell_type": "code",
   "execution_count": 36,
   "metadata": {},
   "outputs": [
    {
     "name": "stdout",
     "output_type": "stream",
     "text": [
      "count    6500.000000\n",
      "mean       18.541985\n",
      "std         5.572048\n",
      "min         3.760353\n",
      "25%        14.524654\n",
      "50%        18.178153\n",
      "75%        21.884129\n",
      "max        40.823963\n",
      "Name: duration, dtype: float64\n"
     ]
    }
   ],
   "source": [
    "# Характеристики расстояния у пользователей с подпиской\n",
    "print(data_ultra['duration'].describe())"
   ]
  },
  {
   "cell_type": "code",
   "execution_count": 37,
   "metadata": {},
   "outputs": [
    {
     "data": {
      "text/plain": [
       "Text(0, 0.5, 'Количество поездок')"
      ]
     },
     "execution_count": 37,
     "metadata": {},
     "output_type": "execute_result"
    },
    {
     "data": {
      "image/png": "[encoded data removed]",
      "text/plain": [
       "<Figure size 1000x400 with 1 Axes>"
      ]
     },
     "metadata": {},
     "output_type": "display_data"
    }
   ],
   "source": [
    "# Длительность одной поездки у пользователей без подписки\n",
    "data_free['duration'].hist(bins=40, grid=True, figsize=(10,4), label='Пользователи без подписки')\n",
    "# Длительность одной поездки у пользователей с подпиской\n",
    "data_ultra['duration'].hist(bins=40, grid=True, figsize=(10,4), label='Пользователи с подпиской')\n",
    "\n",
    "plt.legend()\n",
    "\n",
    "plt.title('Время одной поездки: без подписки (синий) и с подпиской (оранжевый)')\n",
    "plt.xlabel('Длительность одной поездки, мин')\n",
    "plt.ylabel('Количество поездок')"
   ]
  },
  {
   "cell_type": "markdown",
   "metadata": {},
   "source": [
    "**Вывод**\n",
    "\n",
    "Объединены данные о пользователях, поездках и подписках в одну таблицу **data_total**.\n",
    "Создано две таблицы c данными о пользователях без подписки **data_free** и с данными о пользователях с подпиской **data_ultra**.\n",
    "\n",
    "Пользователи без подписки **data_free**:\n",
    "- Длина одной поездки составляет в основном 2300 - 3900 м. Длительность одной поездки - 13-21 мин.\n",
    "\n",
    "Пользователи с подпиской **data_ultra**:\n",
    "- Длина одной поездки составляет в основном 2700 - 3600 м. Длительность одной поездки - 14-21 мин.\n",
    "\n",
    "При очень близком медианном значении длины поездки у пользователей с подпиской и без, можно выделить более широкий разброс в расстоянии, которое чаще проезжают пользователи без подписки.\n",
    "\n",
    "Медианное значение длительности одной поездки у пользователей с подпиской немного выше (18 мин), чем у пользователей без подписки (17 мин)."
   ]
  },
  {
   "cell_type": "markdown",
   "metadata": {},
   "source": [
    "#### Шаг 5. Подсчёт выручки"
   ]
  },
  {
   "cell_type": "code",
   "execution_count": 38,
   "metadata": {},
   "outputs": [
    {
     "data": {
      "text/html": [
       "<div>\n",
       "<style scoped>\n",
       "    .dataframe tbody tr th:only-of-type {\n",
       "        vertical-align: middle;\n",
       "    }\n",
       "\n",
       "    .dataframe tbody tr th {\n",
       "        vertical-align: top;\n",
       "    }\n",
       "\n",
       "    .dataframe thead th {\n",
       "        text-align: right;\n",
       "    }\n",
       "</style>\n",
       "<table border=\"1\" class=\"dataframe\">\n",
       "  <thead>\n",
       "    <tr style=\"text-align: right;\">\n",
       "      <th></th>\n",
       "      <th></th>\n",
       "      <th>distance_sum</th>\n",
       "      <th>duration_sum</th>\n",
       "      <th>rides_count</th>\n",
       "      <th>subscription_type</th>\n",
       "      <th>start_ride_price</th>\n",
       "      <th>minute_price</th>\n",
       "      <th>subscription_fee</th>\n",
       "    </tr>\n",
       "    <tr>\n",
       "      <th>user_id</th>\n",
       "      <th>month</th>\n",
       "      <th></th>\n",
       "      <th></th>\n",
       "      <th></th>\n",
       "      <th></th>\n",
       "      <th></th>\n",
       "      <th></th>\n",
       "      <th></th>\n",
       "    </tr>\n",
       "  </thead>\n",
       "  <tbody>\n",
       "    <tr>\n",
       "      <th rowspan=\"6\" valign=\"top\">1</th>\n",
       "      <th>1</th>\n",
       "      <td>7027.511294</td>\n",
       "      <td>42.0</td>\n",
       "      <td>2</td>\n",
       "      <td>ultra</td>\n",
       "      <td>0</td>\n",
       "      <td>6</td>\n",
       "      <td>199</td>\n",
       "    </tr>\n",
       "    <tr>\n",
       "      <th>4</th>\n",
       "      <td>754.159807</td>\n",
       "      <td>7.0</td>\n",
       "      <td>1</td>\n",
       "      <td>ultra</td>\n",
       "      <td>0</td>\n",
       "      <td>6</td>\n",
       "      <td>199</td>\n",
       "    </tr>\n",
       "    <tr>\n",
       "      <th>8</th>\n",
       "      <td>6723.470560</td>\n",
       "      <td>46.0</td>\n",
       "      <td>2</td>\n",
       "      <td>ultra</td>\n",
       "      <td>0</td>\n",
       "      <td>6</td>\n",
       "      <td>199</td>\n",
       "    </tr>\n",
       "    <tr>\n",
       "      <th>10</th>\n",
       "      <td>5809.911100</td>\n",
       "      <td>32.0</td>\n",
       "      <td>2</td>\n",
       "      <td>ultra</td>\n",
       "      <td>0</td>\n",
       "      <td>6</td>\n",
       "      <td>199</td>\n",
       "    </tr>\n",
       "    <tr>\n",
       "      <th>11</th>\n",
       "      <td>7003.499363</td>\n",
       "      <td>56.0</td>\n",
       "      <td>3</td>\n",
       "      <td>ultra</td>\n",
       "      <td>0</td>\n",
       "      <td>6</td>\n",
       "      <td>199</td>\n",
       "    </tr>\n",
       "    <tr>\n",
       "      <th>12</th>\n",
       "      <td>6751.629942</td>\n",
       "      <td>28.0</td>\n",
       "      <td>2</td>\n",
       "      <td>ultra</td>\n",
       "      <td>0</td>\n",
       "      <td>6</td>\n",
       "      <td>199</td>\n",
       "    </tr>\n",
       "    <tr>\n",
       "      <th rowspan=\"4\" valign=\"top\">2</th>\n",
       "      <th>3</th>\n",
       "      <td>10187.723006</td>\n",
       "      <td>63.0</td>\n",
       "      <td>3</td>\n",
       "      <td>ultra</td>\n",
       "      <td>0</td>\n",
       "      <td>6</td>\n",
       "      <td>199</td>\n",
       "    </tr>\n",
       "    <tr>\n",
       "      <th>4</th>\n",
       "      <td>6164.381824</td>\n",
       "      <td>40.0</td>\n",
       "      <td>2</td>\n",
       "      <td>ultra</td>\n",
       "      <td>0</td>\n",
       "      <td>6</td>\n",
       "      <td>199</td>\n",
       "    </tr>\n",
       "    <tr>\n",
       "      <th>6</th>\n",
       "      <td>3255.338202</td>\n",
       "      <td>14.0</td>\n",
       "      <td>1</td>\n",
       "      <td>ultra</td>\n",
       "      <td>0</td>\n",
       "      <td>6</td>\n",
       "      <td>199</td>\n",
       "    </tr>\n",
       "    <tr>\n",
       "      <th>7</th>\n",
       "      <td>6780.722964</td>\n",
       "      <td>48.0</td>\n",
       "      <td>2</td>\n",
       "      <td>ultra</td>\n",
       "      <td>0</td>\n",
       "      <td>6</td>\n",
       "      <td>199</td>\n",
       "    </tr>\n",
       "  </tbody>\n",
       "</table>\n",
       "</div>"
      ],
      "text/plain": [
       "               distance_sum  duration_sum  rides_count subscription_type  \\\n",
       "user_id month                                                              \n",
       "1       1       7027.511294          42.0            2             ultra   \n",
       "        4        754.159807           7.0            1             ultra   \n",
       "        8       6723.470560          46.0            2             ultra   \n",
       "        10      5809.911100          32.0            2             ultra   \n",
       "        11      7003.499363          56.0            3             ultra   \n",
       "        12      6751.629942          28.0            2             ultra   \n",
       "2       3      10187.723006          63.0            3             ultra   \n",
       "        4       6164.381824          40.0            2             ultra   \n",
       "        6       3255.338202          14.0            1             ultra   \n",
       "        7       6780.722964          48.0            2             ultra   \n",
       "\n",
       "               start_ride_price  minute_price  subscription_fee  \n",
       "user_id month                                                    \n",
       "1       1                     0             6               199  \n",
       "        4                     0             6               199  \n",
       "        8                     0             6               199  \n",
       "        10                    0             6               199  \n",
       "        11                    0             6               199  \n",
       "        12                    0             6               199  \n",
       "2       3                     0             6               199  \n",
       "        4                     0             6               199  \n",
       "        6                     0             6               199  \n",
       "        7                     0             6               199  "
      ]
     },
     "metadata": {},
     "output_type": "display_data"
    }
   ],
   "source": [
    "# Предварительно округляем продолжительность поездки до следующего целого числа\n",
    "data_total['duration'] = np.ceil(data_total['duration']) \n",
    "\n",
    "# Группируем таблицу по пользователям и месяцам\n",
    "data_total_grouped = data_total.groupby(['user_id', 'month'])\\\n",
    "      .agg({'distance':'sum', 'duration':['sum', 'count'], 'subscription_type':'first', 'start_ride_price': 'first',\\\n",
    "      'minute_price': 'first', 'subscription_fee': 'first'})\n",
    "\n",
    "# Корректируем названия столбцов\n",
    "data_total_grouped.columns = ['distance_sum', 'duration_sum', 'rides_count',  'subscription_type', 'start_ride_price',\\\n",
    "                              'minute_price', 'subscription_fee']\n",
    "display(data_total_grouped.head(10))"
   ]
  },
  {
   "cell_type": "code",
   "execution_count": 39,
   "metadata": {},
   "outputs": [
    {
     "data": {
      "text/html": [
       "<div>\n",
       "<style scoped>\n",
       "    .dataframe tbody tr th:only-of-type {\n",
       "        vertical-align: middle;\n",
       "    }\n",
       "\n",
       "    .dataframe tbody tr th {\n",
       "        vertical-align: top;\n",
       "    }\n",
       "\n",
       "    .dataframe thead th {\n",
       "        text-align: right;\n",
       "    }\n",
       "</style>\n",
       "<table border=\"1\" class=\"dataframe\">\n",
       "  <thead>\n",
       "    <tr style=\"text-align: right;\">\n",
       "      <th></th>\n",
       "      <th></th>\n",
       "      <th>distance_sum</th>\n",
       "      <th>duration_sum</th>\n",
       "      <th>rides_count</th>\n",
       "      <th>subscription_type</th>\n",
       "      <th>start_ride_price</th>\n",
       "      <th>minute_price</th>\n",
       "      <th>subscription_fee</th>\n",
       "      <th>revenue_month</th>\n",
       "    </tr>\n",
       "    <tr>\n",
       "      <th>user_id</th>\n",
       "      <th>month</th>\n",
       "      <th></th>\n",
       "      <th></th>\n",
       "      <th></th>\n",
       "      <th></th>\n",
       "      <th></th>\n",
       "      <th></th>\n",
       "      <th></th>\n",
       "      <th></th>\n",
       "    </tr>\n",
       "  </thead>\n",
       "  <tbody>\n",
       "    <tr>\n",
       "      <th rowspan=\"6\" valign=\"top\">1</th>\n",
       "      <th>1</th>\n",
       "      <td>7027.511294</td>\n",
       "      <td>42.0</td>\n",
       "      <td>2</td>\n",
       "      <td>ultra</td>\n",
       "      <td>0</td>\n",
       "      <td>6</td>\n",
       "      <td>199</td>\n",
       "      <td>451.0</td>\n",
       "    </tr>\n",
       "    <tr>\n",
       "      <th>4</th>\n",
       "      <td>754.159807</td>\n",
       "      <td>7.0</td>\n",
       "      <td>1</td>\n",
       "      <td>ultra</td>\n",
       "      <td>0</td>\n",
       "      <td>6</td>\n",
       "      <td>199</td>\n",
       "      <td>241.0</td>\n",
       "    </tr>\n",
       "    <tr>\n",
       "      <th>8</th>\n",
       "      <td>6723.470560</td>\n",
       "      <td>46.0</td>\n",
       "      <td>2</td>\n",
       "      <td>ultra</td>\n",
       "      <td>0</td>\n",
       "      <td>6</td>\n",
       "      <td>199</td>\n",
       "      <td>475.0</td>\n",
       "    </tr>\n",
       "    <tr>\n",
       "      <th>10</th>\n",
       "      <td>5809.911100</td>\n",
       "      <td>32.0</td>\n",
       "      <td>2</td>\n",
       "      <td>ultra</td>\n",
       "      <td>0</td>\n",
       "      <td>6</td>\n",
       "      <td>199</td>\n",
       "      <td>391.0</td>\n",
       "    </tr>\n",
       "    <tr>\n",
       "      <th>11</th>\n",
       "      <td>7003.499363</td>\n",
       "      <td>56.0</td>\n",
       "      <td>3</td>\n",
       "      <td>ultra</td>\n",
       "      <td>0</td>\n",
       "      <td>6</td>\n",
       "      <td>199</td>\n",
       "      <td>535.0</td>\n",
       "    </tr>\n",
       "    <tr>\n",
       "      <th>12</th>\n",
       "      <td>6751.629942</td>\n",
       "      <td>28.0</td>\n",
       "      <td>2</td>\n",
       "      <td>ultra</td>\n",
       "      <td>0</td>\n",
       "      <td>6</td>\n",
       "      <td>199</td>\n",
       "      <td>367.0</td>\n",
       "    </tr>\n",
       "    <tr>\n",
       "      <th rowspan=\"4\" valign=\"top\">2</th>\n",
       "      <th>3</th>\n",
       "      <td>10187.723006</td>\n",
       "      <td>63.0</td>\n",
       "      <td>3</td>\n",
       "      <td>ultra</td>\n",
       "      <td>0</td>\n",
       "      <td>6</td>\n",
       "      <td>199</td>\n",
       "      <td>577.0</td>\n",
       "    </tr>\n",
       "    <tr>\n",
       "      <th>4</th>\n",
       "      <td>6164.381824</td>\n",
       "      <td>40.0</td>\n",
       "      <td>2</td>\n",
       "      <td>ultra</td>\n",
       "      <td>0</td>\n",
       "      <td>6</td>\n",
       "      <td>199</td>\n",
       "      <td>439.0</td>\n",
       "    </tr>\n",
       "    <tr>\n",
       "      <th>6</th>\n",
       "      <td>3255.338202</td>\n",
       "      <td>14.0</td>\n",
       "      <td>1</td>\n",
       "      <td>ultra</td>\n",
       "      <td>0</td>\n",
       "      <td>6</td>\n",
       "      <td>199</td>\n",
       "      <td>283.0</td>\n",
       "    </tr>\n",
       "    <tr>\n",
       "      <th>7</th>\n",
       "      <td>6780.722964</td>\n",
       "      <td>48.0</td>\n",
       "      <td>2</td>\n",
       "      <td>ultra</td>\n",
       "      <td>0</td>\n",
       "      <td>6</td>\n",
       "      <td>199</td>\n",
       "      <td>487.0</td>\n",
       "    </tr>\n",
       "  </tbody>\n",
       "</table>\n",
       "</div>"
      ],
      "text/plain": [
       "               distance_sum  duration_sum  rides_count subscription_type  \\\n",
       "user_id month                                                              \n",
       "1       1       7027.511294          42.0            2             ultra   \n",
       "        4        754.159807           7.0            1             ultra   \n",
       "        8       6723.470560          46.0            2             ultra   \n",
       "        10      5809.911100          32.0            2             ultra   \n",
       "        11      7003.499363          56.0            3             ultra   \n",
       "        12      6751.629942          28.0            2             ultra   \n",
       "2       3      10187.723006          63.0            3             ultra   \n",
       "        4       6164.381824          40.0            2             ultra   \n",
       "        6       3255.338202          14.0            1             ultra   \n",
       "        7       6780.722964          48.0            2             ultra   \n",
       "\n",
       "               start_ride_price  minute_price  subscription_fee  revenue_month  \n",
       "user_id month                                                                   \n",
       "1       1                     0             6               199          451.0  \n",
       "        4                     0             6               199          241.0  \n",
       "        8                     0             6               199          475.0  \n",
       "        10                    0             6               199          391.0  \n",
       "        11                    0             6               199          535.0  \n",
       "        12                    0             6               199          367.0  \n",
       "2       3                     0             6               199          577.0  \n",
       "        4                     0             6               199          439.0  \n",
       "        6                     0             6               199          283.0  \n",
       "        7                     0             6               199          487.0  "
      ]
     },
     "metadata": {},
     "output_type": "display_data"
    }
   ],
   "source": [
    "# Добавляем столбец с помесячной выручкой\n",
    "data_total_grouped['revenue_month'] = data_total_grouped['start_ride_price'] * data_total_grouped['rides_count']\\\n",
    "+ data_total_grouped['minute_price'] * data_total_grouped['duration_sum'] + data_total_grouped['subscription_fee']\n",
    "display(data_total_grouped.head(10))"
   ]
  },
  {
   "cell_type": "markdown",
   "metadata": {},
   "source": [
    "**Вывод**\n",
    "\n",
    "Создана новая таблица, сгруппированная по пользователям и месяцам. Добавлен столбец `revenue_month` с помесячной выручкой по каждому пользователю."
   ]
  },
  {
   "cell_type": "markdown",
   "metadata": {},
   "source": [
    "#### Шаг 6. Проверка гипотез"
   ]
  },
  {
   "cell_type": "markdown",
   "metadata": {},
   "source": [
    "##### Тратят ли пользователи с подпиской больше времени на поездки?"
   ]
  },
  {
   "cell_type": "markdown",
   "metadata": {},
   "source": [
    "**Нулевая гипотеза:**\n",
    "- H0 - пользователи с подпиской и без тратят на поездки одинаковое время. \n",
    "\n",
    "**Альтернативная правосторонняя гипотеза:**\n",
    "- Н1 - пользователи с подпиской тратят больше времени на поездки."
   ]
  },
  {
   "cell_type": "code",
   "execution_count": 40,
   "metadata": {},
   "outputs": [
    {
     "name": "stdout",
     "output_type": "stream",
     "text": [
      "P-value: 4.704468074453899e-28\n",
      "Отвергаем Н0\n"
     ]
    }
   ],
   "source": [
    "ultra_duration = data_ultra['duration']\n",
    "free_duration = data_free['duration']\n",
    "alpha = 0.05\n",
    "results = st.ttest_ind(ultra_duration, free_duration, alternative='greater')\n",
    "print ('P-value:', results.pvalue)\n",
    "if results.pvalue < alpha:\n",
    "    print('Отвергаем Н0')\n",
    "else:\n",
    "    print('Не отвергаем Н0')"
   ]
  },
  {
   "cell_type": "code",
   "execution_count": 41,
   "metadata": {},
   "outputs": [
    {
     "name": "stdout",
     "output_type": "stream",
     "text": [
      "18.54198516280583\n",
      "17.530771268800226\n"
     ]
    }
   ],
   "source": [
    "# Средняя продолжительность поездок для пользователей с подпиской и без подписки\n",
    "print(ultra_duration.mean())\n",
    "print(free_duration.mean())"
   ]
  },
  {
   "cell_type": "markdown",
   "metadata": {},
   "source": [
    "**Вывод**: отвергаем гипотезу о том, что пользователи с подпиской и без тратят на поездки одинаковое время, так как полученное значение p-value гораздо ниже заданного уровня значимости. Есть все основания говорить, что пользователи с подпиской тратят больше времени на поездки. Дополнительно подтверждаем, что средняя продолжительность поездки у пользователей с подпиской выше, чем у пользователей без подписки."
   ]
  },
  {
   "cell_type": "markdown",
   "metadata": {},
   "source": [
    "##### Проверьте гипотезу о том, будет ли помесячная выручка от пользователей с подпиской по месяцам выше, чем выручка от пользователей без подписки."
   ]
  },
  {
   "cell_type": "markdown",
   "metadata": {},
   "source": [
    "**Нулевая гипотеза:**\n",
    "- H0 - помесячная выручка от пользователей с подпиской и без одинакова.\n",
    "\n",
    "**Альтернативная правосторонняя гипотеза:**\n",
    "- Н1 - помесячная выручка от пользователей с подпиской выше, чем у пользователей без подписки."
   ]
  },
  {
   "cell_type": "code",
   "execution_count": 42,
   "metadata": {},
   "outputs": [
    {
     "name": "stdout",
     "output_type": "stream",
     "text": [
      "P-value: 2.0314113674863288e-30\n",
      "Отвергаем Н0\n"
     ]
    }
   ],
   "source": [
    "ultra_revenue = data_total_grouped[data_total_grouped['subscription_type'] == 'ultra']['revenue_month']\n",
    "free_revenue = data_total_grouped[data_total_grouped['subscription_type'] == 'free']['revenue_month']\n",
    "alpha = 0.05\n",
    "results = st.ttest_ind(ultra_revenue, free_revenue, alternative='greater')\n",
    "print ('P-value:', results.pvalue)\n",
    "if results.pvalue < alpha:\n",
    "    print('Отвергаем Н0')\n",
    "else:\n",
    "    print('Не отвергаем Н0')"
   ]
  },
  {
   "cell_type": "code",
   "execution_count": 43,
   "metadata": {},
   "outputs": [
    {
     "name": "stdout",
     "output_type": "stream",
     "text": [
      "362.7921906022502\n",
      "329.3326437121324\n"
     ]
    }
   ],
   "source": [
    "# Среднее значение выручки от пользователей с подпиской и без подписки\n",
    "print(ultra_revenue.mean())\n",
    "print(free_revenue.mean())"
   ]
  },
  {
   "cell_type": "markdown",
   "metadata": {},
   "source": [
    "**Вывод**: отвергаем гипотезу о том, что помесячная выручка от пользователей с подпиской и без одинакова, так как полученное значение p-value гораздо ниже заданного уровня значимости. Есть все основания говорить, что помесячная выручка от пользователей с подпиской выше, чем у пользователей без подписки. Дополнительно подтверждаем, что среднее значение выручки от пользователей с подпиской выше, чем у пользователей без подписки."
   ]
  },
  {
   "cell_type": "markdown",
   "metadata": {},
   "source": [
    "##### Представьте такую ситуацию: техническая команда сервиса обновила сервера, с которыми взаимодействует мобильное приложение. Она надеется, что из-за этого количество обращений в техподдержку значимо снизилось. Некоторый файл содержит для каждого пользователя данные о количестве обращений до обновления и после него. Какой тест вам понадобился бы для проверки этой гипотезы?"
   ]
  },
  {
   "cell_type": "markdown",
   "metadata": {},
   "source": [
    "В данной ситуации рассматривается гипотеза о равенстве средних для зависимых (парных) выборок. Используем метод **scipy.stats.ttest_rel()**.\n",
    "\n",
    "**H0: мю1 = мю2**\n",
    "\n",
    "**Н1: мю1 > мю2**\n",
    "\n",
    "Здесь мю1 - среднее значение количества обращений до обновления, мю2 - после. Проверяем правостороннюю гипотезу: alternative='greater'."
   ]
  },
  {
   "cell_type": "markdown",
   "metadata": {},
   "source": [
    "#### Шаг 7. Общие выводы"
   ]
  },
  {
   "cell_type": "markdown",
   "metadata": {},
   "source": [
    "Проанализированы данные и проверены некоторые гипотезы, которые могут помочь вырасти бизнесу по аренде самокатов. \n",
    "\n",
    "**Предварительно была выполнена предобработка данных:**\n",
    "\n",
    "- Приведена к типу даты дата поездки.\n",
    "\n",
    "- Удалены явные дубликаты.\n",
    "\n",
    "- Добавлен столбец `month` с месяцем поездки.\n",
    "\n",
    "\n",
    "**Описана и визуализирована общая информация о пользователях и поездках:**\n",
    "\n",
    "- Представлено 8 городов, почти равномерно распределенных по числу пользователей (от 170 до 220 пользователей в каждом городе).\n",
    "\n",
    "- Пользователей, имеющих платную подписку, немного больше (835 человек против 699 человек без подписки).\n",
    "\n",
    "- Возраст большинства пользователей приходится на 20 - 30 лет.\n",
    "\n",
    "- Длина одной поездки составляет в основном 2543-3777 м (медианное значение - 3133 м). Все, что более 5600 м, можно отнести к выбросам, то есть к необычно длинным дистанциям. И наоборот, необычно короткие дистанции - те, что меньше 693 м.\n",
    "    - Длина одной поездки у пользователей без подписки имеет более широкий разброс часто встречаемых значений (2300 - 3900 м), у пользователей с подпиской - более узкий колокол у распределения (2700 - 3600 м).\n",
    "\n",
    "- Длительность одной поездки представляет собой нормальное распределение и составляет в основном 13-21 мин. Все, что более 34 мин, можно отнести к выбросам, то есть к необычно долгим поездкам.\n",
    "    - Медианное значение длительности одной поездки у пользователей с подпиской немного выше (18 мин), чем у пользователей без подписки (17 мин).\n",
    "\n",
    "**Проверены гипотезы:**\n",
    "\n",
    "- Пользователи с подпиской тратят больше времени на поездки, чем пользователи без подписки.\n",
    "- Не можем утверждать, что пользователи с подпиской проезжают менее 3130 метров.\n",
    "- Помесячная выручка от пользователей с подпиской выше, чем у пользователей без подписки.\n",
    "\n",
    "**Рекомендации:**\n",
    "\n",
    "- Наибольший интерес для бизнеса представляют пользователи с подпиской. Они приносят бОльшую выручку. При этом доля пользователей с подпиской менее 50%. Есть смысл направить ресурсы на повышение спроса на оформление подписки.\n",
    "- Несмотря на то, что в Москве большой спрос на аренду самокатов, именно там меньше всего пользователей сервисом GoFast. Вероятно, это связано с высокой конкуренцией, и есть смысл рассмотреть и другие крупные города, где еще рынок аренды самокатов не сильно развит.\n",
    "- В связи с тем, что большинство пользователей самокатов - молодежь (20 - 30 лет), можно рекомендовать уделять особое внимание наличию самокатов вблизи учебных заведений.\n"
   ]
  }
 ],
 "metadata": {
  "ExecuteTimeLog": [
   {
    "duration": 1214,
    "start_time": "2023-06-04T07:55:55.927Z"
   },
   {
    "duration": 773,
    "start_time": "2023-06-04T07:56:10.970Z"
   },
   {
    "duration": 153,
    "start_time": "2023-06-04T07:57:11.509Z"
   },
   {
    "duration": 626,
    "start_time": "2023-06-04T07:57:15.634Z"
   },
   {
    "duration": 81,
    "start_time": "2023-06-04T07:57:34.790Z"
   },
   {
    "duration": 137,
    "start_time": "2023-06-04T07:57:49.568Z"
   },
   {
    "duration": 80,
    "start_time": "2023-06-04T08:15:16.454Z"
   },
   {
    "duration": 124,
    "start_time": "2023-06-04T08:16:46.648Z"
   },
   {
    "duration": 158,
    "start_time": "2023-06-04T08:16:56.003Z"
   },
   {
    "duration": 151,
    "start_time": "2023-06-04T08:17:54.615Z"
   },
   {
    "duration": 547,
    "start_time": "2023-06-04T16:22:35.689Z"
   },
   {
    "duration": 106,
    "start_time": "2023-06-04T16:39:55.269Z"
   },
   {
    "duration": 16,
    "start_time": "2023-06-04T16:40:16.615Z"
   },
   {
    "duration": 81,
    "start_time": "2023-06-04T17:13:36.131Z"
   },
   {
    "duration": 2649,
    "start_time": "2023-06-04T18:44:19.476Z"
   },
   {
    "duration": 78,
    "start_time": "2023-06-04T18:44:44.057Z"
   },
   {
    "duration": 2130,
    "start_time": "2023-06-04T18:44:55.350Z"
   },
   {
    "duration": 78,
    "start_time": "2023-06-04T18:58:42.773Z"
   },
   {
    "duration": 17,
    "start_time": "2023-06-04T18:59:04.303Z"
   },
   {
    "duration": 10,
    "start_time": "2023-06-04T18:59:20.614Z"
   },
   {
    "duration": 49,
    "start_time": "2023-06-05T06:26:43.775Z"
   },
   {
    "duration": 537,
    "start_time": "2023-06-05T06:26:47.242Z"
   },
   {
    "duration": 18,
    "start_time": "2023-06-05T06:26:47.782Z"
   },
   {
    "duration": 14,
    "start_time": "2023-06-05T06:26:47.801Z"
   },
   {
    "duration": 91,
    "start_time": "2023-06-05T06:26:47.816Z"
   },
   {
    "duration": 2440,
    "start_time": "2023-06-05T06:26:47.909Z"
   },
   {
    "duration": 28,
    "start_time": "2023-06-05T06:26:50.351Z"
   },
   {
    "duration": 25,
    "start_time": "2023-06-05T06:29:59.968Z"
   },
   {
    "duration": 48,
    "start_time": "2023-06-05T11:56:45.220Z"
   },
   {
    "duration": 103,
    "start_time": "2023-06-05T11:56:48.648Z"
   },
   {
    "duration": 14,
    "start_time": "2023-06-05T11:56:48.753Z"
   },
   {
    "duration": 12,
    "start_time": "2023-06-05T11:56:48.769Z"
   },
   {
    "duration": 76,
    "start_time": "2023-06-05T11:56:48.783Z"
   },
   {
    "duration": 1946,
    "start_time": "2023-06-05T11:56:48.861Z"
   },
   {
    "duration": 20,
    "start_time": "2023-06-05T11:56:50.808Z"
   },
   {
    "duration": 28,
    "start_time": "2023-06-05T11:56:50.830Z"
   },
   {
    "duration": 60,
    "start_time": "2023-06-05T11:56:50.859Z"
   },
   {
    "duration": 7,
    "start_time": "2023-06-05T11:57:59.068Z"
   },
   {
    "duration": 46,
    "start_time": "2023-06-05T11:58:11.380Z"
   },
   {
    "duration": 16,
    "start_time": "2023-06-05T11:58:20.356Z"
   },
   {
    "duration": 18,
    "start_time": "2023-06-05T11:58:33.694Z"
   },
   {
    "duration": 10,
    "start_time": "2023-06-05T11:58:55.997Z"
   },
   {
    "duration": 8,
    "start_time": "2023-06-05T11:59:02.242Z"
   },
   {
    "duration": 117,
    "start_time": "2023-06-05T11:59:07.527Z"
   },
   {
    "duration": 32,
    "start_time": "2023-06-05T11:59:07.647Z"
   },
   {
    "duration": 12,
    "start_time": "2023-06-05T11:59:07.681Z"
   },
   {
    "duration": 101,
    "start_time": "2023-06-05T11:59:07.695Z"
   },
   {
    "duration": 2001,
    "start_time": "2023-06-05T11:59:07.798Z"
   },
   {
    "duration": 21,
    "start_time": "2023-06-05T11:59:09.801Z"
   },
   {
    "duration": 9,
    "start_time": "2023-06-05T11:59:09.824Z"
   },
   {
    "duration": 0,
    "start_time": "2023-06-05T11:59:09.835Z"
   },
   {
    "duration": 8,
    "start_time": "2023-06-05T11:59:20.441Z"
   },
   {
    "duration": 14,
    "start_time": "2023-06-05T11:59:34.752Z"
   },
   {
    "duration": 13,
    "start_time": "2023-06-05T11:59:46.733Z"
   },
   {
    "duration": 15,
    "start_time": "2023-06-05T12:00:42.253Z"
   },
   {
    "duration": 21,
    "start_time": "2023-06-05T12:00:48.792Z"
   },
   {
    "duration": 19,
    "start_time": "2023-06-05T12:55:53.287Z"
   },
   {
    "duration": 20,
    "start_time": "2023-06-05T12:56:32.309Z"
   },
   {
    "duration": 18,
    "start_time": "2023-06-05T13:15:22.723Z"
   },
   {
    "duration": 28,
    "start_time": "2023-06-05T13:15:54.676Z"
   },
   {
    "duration": 55,
    "start_time": "2023-06-05T13:16:47.671Z"
   },
   {
    "duration": 18,
    "start_time": "2023-06-05T13:18:43.700Z"
   },
   {
    "duration": 5,
    "start_time": "2023-06-05T13:19:46.662Z"
   },
   {
    "duration": 11,
    "start_time": "2023-06-05T13:23:55.229Z"
   },
   {
    "duration": 4,
    "start_time": "2023-06-05T13:24:01.217Z"
   },
   {
    "duration": 15,
    "start_time": "2023-06-05T13:37:32.722Z"
   },
   {
    "duration": 18,
    "start_time": "2023-06-05T13:37:46.293Z"
   },
   {
    "duration": 21,
    "start_time": "2023-06-05T13:38:20.568Z"
   },
   {
    "duration": 16,
    "start_time": "2023-06-05T13:40:20.845Z"
   },
   {
    "duration": 20,
    "start_time": "2023-06-05T13:44:58.657Z"
   },
   {
    "duration": 30,
    "start_time": "2023-06-05T13:55:13.426Z"
   },
   {
    "duration": 27,
    "start_time": "2023-06-05T14:01:43.988Z"
   },
   {
    "duration": 51,
    "start_time": "2023-06-05T14:02:20.848Z"
   },
   {
    "duration": 55,
    "start_time": "2023-06-05T14:14:26.278Z"
   },
   {
    "duration": 55,
    "start_time": "2023-06-05T14:15:21.544Z"
   },
   {
    "duration": 51,
    "start_time": "2023-06-05T14:16:36.791Z"
   },
   {
    "duration": 4,
    "start_time": "2023-06-05T14:30:38.370Z"
   },
   {
    "duration": 7,
    "start_time": "2023-06-05T14:30:54.443Z"
   },
   {
    "duration": 2255,
    "start_time": "2023-06-05T14:31:28.026Z"
   },
   {
    "duration": 6,
    "start_time": "2023-06-05T14:32:23.779Z"
   },
   {
    "duration": 882,
    "start_time": "2023-06-05T14:35:22.321Z"
   },
   {
    "duration": 9,
    "start_time": "2023-06-05T14:35:31.192Z"
   },
   {
    "duration": 14,
    "start_time": "2023-06-05T14:36:09.772Z"
   },
   {
    "duration": 12,
    "start_time": "2023-06-05T14:36:34.148Z"
   },
   {
    "duration": 9,
    "start_time": "2023-06-05T14:36:52.550Z"
   },
   {
    "duration": 7,
    "start_time": "2023-06-05T14:37:04.251Z"
   },
   {
    "duration": 11,
    "start_time": "2023-06-05T14:37:37.801Z"
   },
   {
    "duration": 7,
    "start_time": "2023-06-05T14:37:46.390Z"
   },
   {
    "duration": 47,
    "start_time": "2023-06-05T14:45:37.422Z"
   },
   {
    "duration": 49,
    "start_time": "2023-06-05T14:45:49.068Z"
   },
   {
    "duration": 8,
    "start_time": "2023-06-05T14:47:21.703Z"
   },
   {
    "duration": 8,
    "start_time": "2023-06-05T14:47:43.589Z"
   },
   {
    "duration": 8,
    "start_time": "2023-06-05T14:47:56.752Z"
   },
   {
    "duration": 7,
    "start_time": "2023-06-05T14:48:10.771Z"
   },
   {
    "duration": 12,
    "start_time": "2023-06-05T14:53:18.271Z"
   },
   {
    "duration": 14,
    "start_time": "2023-06-05T14:53:43.744Z"
   },
   {
    "duration": 7,
    "start_time": "2023-06-05T14:58:18.795Z"
   },
   {
    "duration": 18,
    "start_time": "2023-06-05T14:58:27.618Z"
   },
   {
    "duration": 12,
    "start_time": "2023-06-05T14:59:37.413Z"
   },
   {
    "duration": 15,
    "start_time": "2023-06-05T14:59:58.907Z"
   },
   {
    "duration": 11,
    "start_time": "2023-06-05T15:00:06.991Z"
   },
   {
    "duration": 10,
    "start_time": "2023-06-05T15:01:23.688Z"
   },
   {
    "duration": 14,
    "start_time": "2023-06-05T15:01:35.730Z"
   },
   {
    "duration": 12,
    "start_time": "2023-06-05T15:01:58.312Z"
   },
   {
    "duration": 14,
    "start_time": "2023-06-05T15:03:07.395Z"
   },
   {
    "duration": 12,
    "start_time": "2023-06-05T15:03:13.226Z"
   },
   {
    "duration": 12,
    "start_time": "2023-06-05T15:03:17.047Z"
   },
   {
    "duration": 25,
    "start_time": "2023-06-05T15:04:30.012Z"
   },
   {
    "duration": 12,
    "start_time": "2023-06-05T15:04:47.668Z"
   },
   {
    "duration": 11,
    "start_time": "2023-06-05T15:04:55.266Z"
   },
   {
    "duration": 8,
    "start_time": "2023-06-05T16:07:43.944Z"
   },
   {
    "duration": 8,
    "start_time": "2023-06-05T16:07:51.097Z"
   },
   {
    "duration": 8,
    "start_time": "2023-06-05T16:08:02.360Z"
   },
   {
    "duration": 13,
    "start_time": "2023-06-05T16:12:23.317Z"
   },
   {
    "duration": 11,
    "start_time": "2023-06-05T16:13:55.880Z"
   },
   {
    "duration": 10,
    "start_time": "2023-06-05T16:14:44.175Z"
   },
   {
    "duration": 9,
    "start_time": "2023-06-05T16:14:53.087Z"
   },
   {
    "duration": 12,
    "start_time": "2023-06-05T16:15:27.112Z"
   },
   {
    "duration": 10,
    "start_time": "2023-06-05T16:16:06.624Z"
   },
   {
    "duration": 10,
    "start_time": "2023-06-05T16:16:15.652Z"
   },
   {
    "duration": 16,
    "start_time": "2023-06-05T16:46:32.522Z"
   },
   {
    "duration": 94,
    "start_time": "2023-06-05T16:46:38.541Z"
   },
   {
    "duration": 13,
    "start_time": "2023-06-05T16:46:38.637Z"
   },
   {
    "duration": 8,
    "start_time": "2023-06-05T16:46:38.651Z"
   },
   {
    "duration": 82,
    "start_time": "2023-06-05T16:46:38.661Z"
   },
   {
    "duration": 2020,
    "start_time": "2023-06-05T16:46:38.745Z"
   },
   {
    "duration": 33,
    "start_time": "2023-06-05T16:46:40.768Z"
   },
   {
    "duration": 18,
    "start_time": "2023-06-05T16:46:40.802Z"
   },
   {
    "duration": 6,
    "start_time": "2023-06-05T16:46:40.822Z"
   },
   {
    "duration": 20,
    "start_time": "2023-06-05T16:46:40.830Z"
   },
   {
    "duration": 0,
    "start_time": "2023-06-05T16:46:40.851Z"
   },
   {
    "duration": 0,
    "start_time": "2023-06-05T16:46:40.853Z"
   },
   {
    "duration": 20,
    "start_time": "2023-06-05T16:46:57.425Z"
   },
   {
    "duration": 94,
    "start_time": "2023-06-05T16:47:02.176Z"
   },
   {
    "duration": 15,
    "start_time": "2023-06-05T16:47:02.273Z"
   },
   {
    "duration": 10,
    "start_time": "2023-06-05T16:47:02.290Z"
   },
   {
    "duration": 84,
    "start_time": "2023-06-05T16:47:02.301Z"
   },
   {
    "duration": 1771,
    "start_time": "2023-06-05T16:47:02.387Z"
   },
   {
    "duration": 28,
    "start_time": "2023-06-05T16:47:04.159Z"
   },
   {
    "duration": 15,
    "start_time": "2023-06-05T16:47:04.188Z"
   },
   {
    "duration": 3,
    "start_time": "2023-06-05T16:47:04.205Z"
   },
   {
    "duration": 29,
    "start_time": "2023-06-05T16:47:04.210Z"
   },
   {
    "duration": 0,
    "start_time": "2023-06-05T16:47:04.240Z"
   },
   {
    "duration": 0,
    "start_time": "2023-06-05T16:47:04.241Z"
   },
   {
    "duration": 2,
    "start_time": "2023-06-05T16:47:24.300Z"
   },
   {
    "duration": 16,
    "start_time": "2023-06-05T16:47:26.993Z"
   },
   {
    "duration": 48,
    "start_time": "2023-06-05T16:47:55.362Z"
   },
   {
    "duration": 52,
    "start_time": "2023-06-05T16:47:59.387Z"
   },
   {
    "duration": 55,
    "start_time": "2023-06-05T16:48:03.487Z"
   },
   {
    "duration": 57,
    "start_time": "2023-06-05T16:48:06.090Z"
   },
   {
    "duration": 10,
    "start_time": "2023-06-05T16:48:36.187Z"
   },
   {
    "duration": 23,
    "start_time": "2023-06-05T16:48:51.501Z"
   },
   {
    "duration": 17,
    "start_time": "2023-06-05T16:49:01.407Z"
   },
   {
    "duration": 16,
    "start_time": "2023-06-05T16:49:09.704Z"
   },
   {
    "duration": 10,
    "start_time": "2023-06-05T16:49:27.816Z"
   },
   {
    "duration": 11,
    "start_time": "2023-06-05T16:52:37.089Z"
   },
   {
    "duration": 94,
    "start_time": "2023-06-05T16:53:48.256Z"
   },
   {
    "duration": 12,
    "start_time": "2023-06-05T16:53:48.352Z"
   },
   {
    "duration": 18,
    "start_time": "2023-06-05T16:53:48.366Z"
   },
   {
    "duration": 68,
    "start_time": "2023-06-05T16:53:48.386Z"
   },
   {
    "duration": 1996,
    "start_time": "2023-06-05T16:53:48.456Z"
   },
   {
    "duration": 28,
    "start_time": "2023-06-05T16:53:50.454Z"
   },
   {
    "duration": 15,
    "start_time": "2023-06-05T16:53:50.484Z"
   },
   {
    "duration": 3,
    "start_time": "2023-06-05T16:53:50.500Z"
   },
   {
    "duration": 19,
    "start_time": "2023-06-05T16:53:50.504Z"
   },
   {
    "duration": 0,
    "start_time": "2023-06-05T16:53:50.524Z"
   },
   {
    "duration": 0,
    "start_time": "2023-06-05T16:53:50.525Z"
   },
   {
    "duration": 15,
    "start_time": "2023-06-05T17:08:02.481Z"
   },
   {
    "duration": 92,
    "start_time": "2023-06-05T17:08:09.143Z"
   },
   {
    "duration": 13,
    "start_time": "2023-06-05T17:08:09.236Z"
   },
   {
    "duration": 7,
    "start_time": "2023-06-05T17:08:09.251Z"
   },
   {
    "duration": 66,
    "start_time": "2023-06-05T17:08:09.277Z"
   },
   {
    "duration": 1902,
    "start_time": "2023-06-05T17:08:09.345Z"
   },
   {
    "duration": 30,
    "start_time": "2023-06-05T17:08:11.249Z"
   },
   {
    "duration": 17,
    "start_time": "2023-06-05T17:08:11.280Z"
   },
   {
    "duration": 10,
    "start_time": "2023-06-05T17:08:11.299Z"
   },
   {
    "duration": 17,
    "start_time": "2023-06-05T17:08:11.310Z"
   },
   {
    "duration": 0,
    "start_time": "2023-06-05T17:08:11.329Z"
   },
   {
    "duration": 0,
    "start_time": "2023-06-05T17:08:11.330Z"
   },
   {
    "duration": 42,
    "start_time": "2023-06-05T17:21:25.691Z"
   },
   {
    "duration": 95,
    "start_time": "2023-06-05T17:23:28.391Z"
   },
   {
    "duration": 72,
    "start_time": "2023-06-05T17:24:22.327Z"
   },
   {
    "duration": 17,
    "start_time": "2023-06-05T17:32:21.047Z"
   },
   {
    "duration": 28,
    "start_time": "2023-06-05T17:33:03.704Z"
   },
   {
    "duration": 16,
    "start_time": "2023-06-05T17:33:24.826Z"
   },
   {
    "duration": 12,
    "start_time": "2023-06-05T17:54:39.896Z"
   },
   {
    "duration": 53,
    "start_time": "2023-06-05T17:54:47.108Z"
   },
   {
    "duration": 18,
    "start_time": "2023-06-05T17:55:40.659Z"
   },
   {
    "duration": 12,
    "start_time": "2023-06-05T17:55:43.788Z"
   },
   {
    "duration": 22,
    "start_time": "2023-06-05T17:56:36.701Z"
   },
   {
    "duration": 46,
    "start_time": "2023-06-05T17:57:44.953Z"
   },
   {
    "duration": 41,
    "start_time": "2023-06-05T17:59:11.286Z"
   },
   {
    "duration": 39,
    "start_time": "2023-06-05T18:52:03.361Z"
   },
   {
    "duration": 42,
    "start_time": "2023-06-05T18:52:11.460Z"
   },
   {
    "duration": 51,
    "start_time": "2023-06-05T18:53:10.276Z"
   },
   {
    "duration": 50,
    "start_time": "2023-06-05T18:53:15.622Z"
   },
   {
    "duration": 41,
    "start_time": "2023-06-05T18:53:27.184Z"
   },
   {
    "duration": 12,
    "start_time": "2023-06-05T18:54:37.338Z"
   },
   {
    "duration": 58,
    "start_time": "2023-06-05T19:03:48.940Z"
   },
   {
    "duration": 61,
    "start_time": "2023-06-05T19:03:59.042Z"
   },
   {
    "duration": 8,
    "start_time": "2023-06-05T19:05:01.639Z"
   },
   {
    "duration": 7,
    "start_time": "2023-06-05T19:06:45.306Z"
   },
   {
    "duration": 8,
    "start_time": "2023-06-05T19:06:46.193Z"
   },
   {
    "duration": 5,
    "start_time": "2023-06-05T19:07:30.209Z"
   },
   {
    "duration": 101,
    "start_time": "2023-06-05T19:07:35.951Z"
   },
   {
    "duration": 25,
    "start_time": "2023-06-05T19:07:36.054Z"
   },
   {
    "duration": 18,
    "start_time": "2023-06-05T19:07:36.080Z"
   },
   {
    "duration": 83,
    "start_time": "2023-06-05T19:07:36.099Z"
   },
   {
    "duration": 2056,
    "start_time": "2023-06-05T19:07:36.185Z"
   },
   {
    "duration": 43,
    "start_time": "2023-06-05T19:07:38.243Z"
   },
   {
    "duration": 17,
    "start_time": "2023-06-05T19:07:38.287Z"
   },
   {
    "duration": 20,
    "start_time": "2023-06-05T19:07:38.306Z"
   },
   {
    "duration": 17,
    "start_time": "2023-06-05T19:07:38.327Z"
   },
   {
    "duration": 38,
    "start_time": "2023-06-05T19:07:38.346Z"
   },
   {
    "duration": 19,
    "start_time": "2023-06-05T19:07:38.386Z"
   },
   {
    "duration": 19,
    "start_time": "2023-06-05T19:07:38.407Z"
   },
   {
    "duration": 4,
    "start_time": "2023-06-05T19:07:38.428Z"
   },
   {
    "duration": 5,
    "start_time": "2023-06-05T19:07:58.688Z"
   },
   {
    "duration": 101,
    "start_time": "2023-06-05T19:08:31.907Z"
   },
   {
    "duration": 15,
    "start_time": "2023-06-05T19:08:32.010Z"
   },
   {
    "duration": 8,
    "start_time": "2023-06-05T19:08:32.026Z"
   },
   {
    "duration": 82,
    "start_time": "2023-06-05T19:08:32.036Z"
   },
   {
    "duration": 1717,
    "start_time": "2023-06-05T19:08:32.120Z"
   },
   {
    "duration": 45,
    "start_time": "2023-06-05T19:08:33.839Z"
   },
   {
    "duration": 9,
    "start_time": "2023-06-05T19:08:33.886Z"
   },
   {
    "duration": 84,
    "start_time": "2023-06-05T19:08:33.896Z"
   },
   {
    "duration": 42,
    "start_time": "2023-06-05T19:08:33.982Z"
   },
   {
    "duration": 40,
    "start_time": "2023-06-05T19:08:34.026Z"
   },
   {
    "duration": 15,
    "start_time": "2023-06-05T19:08:34.068Z"
   },
   {
    "duration": 11,
    "start_time": "2023-06-05T19:08:34.085Z"
   },
   {
    "duration": 18,
    "start_time": "2023-06-05T19:08:34.098Z"
   },
   {
    "duration": 10,
    "start_time": "2023-06-05T19:13:19.713Z"
   },
   {
    "duration": 30,
    "start_time": "2023-06-05T19:13:27.959Z"
   },
   {
    "duration": 20,
    "start_time": "2023-06-05T19:14:49.718Z"
   },
   {
    "duration": 4,
    "start_time": "2023-06-05T19:16:48.175Z"
   },
   {
    "duration": 9,
    "start_time": "2023-06-05T19:18:55.896Z"
   },
   {
    "duration": 9,
    "start_time": "2023-06-05T19:19:22.747Z"
   },
   {
    "duration": 6,
    "start_time": "2023-06-05T19:19:29.352Z"
   },
   {
    "duration": 94,
    "start_time": "2023-06-05T19:19:33.841Z"
   },
   {
    "duration": 14,
    "start_time": "2023-06-05T19:19:33.937Z"
   },
   {
    "duration": 9,
    "start_time": "2023-06-05T19:19:33.953Z"
   },
   {
    "duration": 84,
    "start_time": "2023-06-05T19:19:33.963Z"
   },
   {
    "duration": 2200,
    "start_time": "2023-06-05T19:19:34.049Z"
   },
   {
    "duration": 51,
    "start_time": "2023-06-05T19:19:36.250Z"
   },
   {
    "duration": 9,
    "start_time": "2023-06-05T19:19:36.303Z"
   },
   {
    "duration": 10,
    "start_time": "2023-06-05T19:19:36.313Z"
   },
   {
    "duration": 9,
    "start_time": "2023-06-05T19:19:36.324Z"
   },
   {
    "duration": 18,
    "start_time": "2023-06-05T19:19:36.335Z"
   },
   {
    "duration": 31,
    "start_time": "2023-06-05T19:19:36.354Z"
   },
   {
    "duration": 15,
    "start_time": "2023-06-05T19:19:36.387Z"
   },
   {
    "duration": 13,
    "start_time": "2023-06-05T19:19:36.403Z"
   },
   {
    "duration": 12,
    "start_time": "2023-06-05T19:19:36.418Z"
   },
   {
    "duration": 927,
    "start_time": "2023-06-05T19:20:47.181Z"
   },
   {
    "duration": 820,
    "start_time": "2023-06-05T19:20:56.793Z"
   },
   {
    "duration": 16,
    "start_time": "2023-06-05T19:21:04.752Z"
   },
   {
    "duration": 45,
    "start_time": "2023-06-05T19:21:14.450Z"
   },
   {
    "duration": 64,
    "start_time": "2023-06-05T19:22:08.619Z"
   },
   {
    "duration": 18,
    "start_time": "2023-06-05T19:27:52.811Z"
   },
   {
    "duration": 22,
    "start_time": "2023-06-05T19:28:20.706Z"
   },
   {
    "duration": 23,
    "start_time": "2023-06-05T19:28:45.853Z"
   },
   {
    "duration": 21,
    "start_time": "2023-06-05T19:29:10.891Z"
   },
   {
    "duration": 19,
    "start_time": "2023-06-05T19:29:33.990Z"
   },
   {
    "duration": 14,
    "start_time": "2023-06-05T19:29:47.115Z"
   },
   {
    "duration": 17,
    "start_time": "2023-06-05T19:31:27.523Z"
   },
   {
    "duration": 101,
    "start_time": "2023-06-05T19:31:32.237Z"
   },
   {
    "duration": 13,
    "start_time": "2023-06-05T19:31:32.340Z"
   },
   {
    "duration": 9,
    "start_time": "2023-06-05T19:31:32.354Z"
   },
   {
    "duration": 69,
    "start_time": "2023-06-05T19:31:32.379Z"
   },
   {
    "duration": 1870,
    "start_time": "2023-06-05T19:31:32.450Z"
   },
   {
    "duration": 56,
    "start_time": "2023-06-05T19:31:34.322Z"
   },
   {
    "duration": 11,
    "start_time": "2023-06-05T19:31:34.380Z"
   },
   {
    "duration": 12,
    "start_time": "2023-06-05T19:31:34.393Z"
   },
   {
    "duration": 13,
    "start_time": "2023-06-05T19:31:34.407Z"
   },
   {
    "duration": 22,
    "start_time": "2023-06-05T19:31:34.423Z"
   },
   {
    "duration": 44,
    "start_time": "2023-06-05T19:31:34.447Z"
   },
   {
    "duration": 16,
    "start_time": "2023-06-05T19:31:34.494Z"
   },
   {
    "duration": 12,
    "start_time": "2023-06-05T19:31:34.511Z"
   },
   {
    "duration": 18,
    "start_time": "2023-06-05T19:31:34.525Z"
   },
   {
    "duration": 13,
    "start_time": "2023-06-05T19:33:33.442Z"
   },
   {
    "duration": 20,
    "start_time": "2023-06-05T19:34:00.088Z"
   },
   {
    "duration": 16,
    "start_time": "2023-06-05T19:34:46.109Z"
   },
   {
    "duration": 53,
    "start_time": "2023-06-05T19:36:10.536Z"
   },
   {
    "duration": 21,
    "start_time": "2023-06-05T19:37:18.787Z"
   },
   {
    "duration": 12,
    "start_time": "2023-06-05T19:38:08.754Z"
   },
   {
    "duration": 115,
    "start_time": "2023-06-05T19:38:21.987Z"
   },
   {
    "duration": 16,
    "start_time": "2023-06-05T19:38:22.104Z"
   },
   {
    "duration": 15,
    "start_time": "2023-06-05T19:38:22.123Z"
   },
   {
    "duration": 110,
    "start_time": "2023-06-05T19:38:22.140Z"
   },
   {
    "duration": 1931,
    "start_time": "2023-06-05T19:38:22.252Z"
   },
   {
    "duration": 50,
    "start_time": "2023-06-05T19:38:24.185Z"
   },
   {
    "duration": 10,
    "start_time": "2023-06-05T19:38:24.236Z"
   },
   {
    "duration": 34,
    "start_time": "2023-06-05T19:38:24.248Z"
   },
   {
    "duration": 7,
    "start_time": "2023-06-05T19:38:24.284Z"
   },
   {
    "duration": 16,
    "start_time": "2023-06-05T19:38:24.292Z"
   },
   {
    "duration": 20,
    "start_time": "2023-06-05T19:38:24.310Z"
   },
   {
    "duration": 54,
    "start_time": "2023-06-05T19:38:24.332Z"
   },
   {
    "duration": 13,
    "start_time": "2023-06-05T19:38:24.387Z"
   },
   {
    "duration": 51,
    "start_time": "2023-06-05T19:38:24.402Z"
   },
   {
    "duration": 70,
    "start_time": "2023-06-05T19:38:43.507Z"
   },
   {
    "duration": 49,
    "start_time": "2023-06-05T19:39:52.584Z"
   },
   {
    "duration": 46,
    "start_time": "2023-06-05T19:40:29.687Z"
   },
   {
    "duration": 15,
    "start_time": "2023-06-05T19:43:23.849Z"
   },
   {
    "duration": 100,
    "start_time": "2023-06-05T19:43:30.288Z"
   },
   {
    "duration": 16,
    "start_time": "2023-06-05T19:43:30.391Z"
   },
   {
    "duration": 34,
    "start_time": "2023-06-05T19:43:30.408Z"
   },
   {
    "duration": 102,
    "start_time": "2023-06-05T19:43:30.444Z"
   },
   {
    "duration": 2307,
    "start_time": "2023-06-05T19:43:30.549Z"
   },
   {
    "duration": 53,
    "start_time": "2023-06-05T19:43:32.858Z"
   },
   {
    "duration": 14,
    "start_time": "2023-06-05T19:43:32.913Z"
   },
   {
    "duration": 10,
    "start_time": "2023-06-05T19:43:32.929Z"
   },
   {
    "duration": 8,
    "start_time": "2023-06-05T19:43:32.940Z"
   },
   {
    "duration": 38,
    "start_time": "2023-06-05T19:43:32.949Z"
   },
   {
    "duration": 20,
    "start_time": "2023-06-05T19:43:32.989Z"
   },
   {
    "duration": 16,
    "start_time": "2023-06-05T19:43:33.011Z"
   },
   {
    "duration": 13,
    "start_time": "2023-06-05T19:43:33.028Z"
   },
   {
    "duration": 53,
    "start_time": "2023-06-05T19:43:33.044Z"
   },
   {
    "duration": 16,
    "start_time": "2023-06-05T19:44:36.084Z"
   },
   {
    "duration": 101,
    "start_time": "2023-06-05T19:44:48.677Z"
   },
   {
    "duration": 15,
    "start_time": "2023-06-05T19:44:48.781Z"
   },
   {
    "duration": 25,
    "start_time": "2023-06-05T19:44:48.798Z"
   },
   {
    "duration": 89,
    "start_time": "2023-06-05T19:44:48.825Z"
   },
   {
    "duration": 1981,
    "start_time": "2023-06-05T19:44:48.917Z"
   },
   {
    "duration": 39,
    "start_time": "2023-06-05T19:44:50.899Z"
   },
   {
    "duration": 11,
    "start_time": "2023-06-05T19:44:50.939Z"
   },
   {
    "duration": 27,
    "start_time": "2023-06-05T19:44:50.952Z"
   },
   {
    "duration": 20,
    "start_time": "2023-06-05T19:44:50.981Z"
   },
   {
    "duration": 31,
    "start_time": "2023-06-05T19:44:51.003Z"
   },
   {
    "duration": 22,
    "start_time": "2023-06-05T19:44:51.036Z"
   },
   {
    "duration": 26,
    "start_time": "2023-06-05T19:44:51.060Z"
   },
   {
    "duration": 28,
    "start_time": "2023-06-05T19:44:51.087Z"
   },
   {
    "duration": 52,
    "start_time": "2023-06-05T19:44:51.117Z"
   },
   {
    "duration": 22,
    "start_time": "2023-06-05T19:45:31.389Z"
   },
   {
    "duration": 115,
    "start_time": "2023-06-05T19:45:40.791Z"
   },
   {
    "duration": 15,
    "start_time": "2023-06-05T19:45:40.908Z"
   },
   {
    "duration": 9,
    "start_time": "2023-06-05T19:45:40.925Z"
   },
   {
    "duration": 99,
    "start_time": "2023-06-05T19:45:40.936Z"
   },
   {
    "duration": 1876,
    "start_time": "2023-06-05T19:45:41.037Z"
   },
   {
    "duration": 39,
    "start_time": "2023-06-05T19:45:42.915Z"
   },
   {
    "duration": 30,
    "start_time": "2023-06-05T19:45:42.956Z"
   },
   {
    "duration": 10,
    "start_time": "2023-06-05T19:45:42.988Z"
   },
   {
    "duration": 15,
    "start_time": "2023-06-05T19:45:43.001Z"
   },
   {
    "duration": 27,
    "start_time": "2023-06-05T19:45:43.018Z"
   },
   {
    "duration": 20,
    "start_time": "2023-06-05T19:45:43.047Z"
   },
   {
    "duration": 19,
    "start_time": "2023-06-05T19:45:43.068Z"
   },
   {
    "duration": 11,
    "start_time": "2023-06-05T19:45:43.089Z"
   },
   {
    "duration": 14,
    "start_time": "2023-06-05T19:45:43.102Z"
   },
   {
    "duration": 16,
    "start_time": "2023-06-05T19:47:15.042Z"
   },
   {
    "duration": 107,
    "start_time": "2023-06-05T19:48:15.167Z"
   },
   {
    "duration": 15,
    "start_time": "2023-06-05T19:48:15.276Z"
   },
   {
    "duration": 11,
    "start_time": "2023-06-05T19:48:15.292Z"
   },
   {
    "duration": 121,
    "start_time": "2023-06-05T19:48:15.305Z"
   },
   {
    "duration": 2576,
    "start_time": "2023-06-05T19:48:15.428Z"
   },
   {
    "duration": 40,
    "start_time": "2023-06-05T19:48:18.006Z"
   },
   {
    "duration": 10,
    "start_time": "2023-06-05T19:48:18.048Z"
   },
   {
    "duration": 11,
    "start_time": "2023-06-05T19:48:18.078Z"
   },
   {
    "duration": 13,
    "start_time": "2023-06-05T19:48:18.092Z"
   },
   {
    "duration": 33,
    "start_time": "2023-06-05T19:48:18.107Z"
   },
   {
    "duration": 29,
    "start_time": "2023-06-05T19:48:18.142Z"
   },
   {
    "duration": 22,
    "start_time": "2023-06-05T19:48:18.173Z"
   },
   {
    "duration": 12,
    "start_time": "2023-06-05T19:48:18.196Z"
   },
   {
    "duration": 26,
    "start_time": "2023-06-05T19:48:18.210Z"
   },
   {
    "duration": 45,
    "start_time": "2023-06-05T19:49:25.700Z"
   },
   {
    "duration": 120,
    "start_time": "2023-06-05T19:49:37.912Z"
   },
   {
    "duration": 15,
    "start_time": "2023-06-05T19:49:38.034Z"
   },
   {
    "duration": 237,
    "start_time": "2023-06-05T19:49:38.052Z"
   },
   {
    "duration": 96,
    "start_time": "2023-06-05T19:49:38.291Z"
   },
   {
    "duration": 1877,
    "start_time": "2023-06-05T19:49:38.389Z"
   },
   {
    "duration": 45,
    "start_time": "2023-06-05T19:49:40.268Z"
   },
   {
    "duration": 17,
    "start_time": "2023-06-05T19:49:40.314Z"
   },
   {
    "duration": 11,
    "start_time": "2023-06-05T19:49:40.334Z"
   },
   {
    "duration": 36,
    "start_time": "2023-06-05T19:49:40.347Z"
   },
   {
    "duration": 13,
    "start_time": "2023-06-05T19:49:40.386Z"
   },
   {
    "duration": 29,
    "start_time": "2023-06-05T19:49:40.401Z"
   },
   {
    "duration": 19,
    "start_time": "2023-06-05T19:49:40.432Z"
   },
   {
    "duration": 35,
    "start_time": "2023-06-05T19:49:40.453Z"
   },
   {
    "duration": 52,
    "start_time": "2023-06-05T19:49:40.490Z"
   },
   {
    "duration": 109,
    "start_time": "2023-06-05T19:50:00.211Z"
   },
   {
    "duration": 16,
    "start_time": "2023-06-05T19:50:00.323Z"
   },
   {
    "duration": 22,
    "start_time": "2023-06-05T19:50:00.340Z"
   },
   {
    "duration": 111,
    "start_time": "2023-06-05T19:50:00.364Z"
   },
   {
    "duration": 1942,
    "start_time": "2023-06-05T19:50:00.478Z"
   },
   {
    "duration": 60,
    "start_time": "2023-06-05T19:50:02.421Z"
   },
   {
    "duration": 11,
    "start_time": "2023-06-05T19:50:02.483Z"
   },
   {
    "duration": 26,
    "start_time": "2023-06-05T19:50:02.496Z"
   },
   {
    "duration": 14,
    "start_time": "2023-06-05T19:50:02.524Z"
   },
   {
    "duration": 40,
    "start_time": "2023-06-05T19:50:02.540Z"
   },
   {
    "duration": 21,
    "start_time": "2023-06-05T19:50:02.582Z"
   },
   {
    "duration": 16,
    "start_time": "2023-06-05T19:50:02.605Z"
   },
   {
    "duration": 12,
    "start_time": "2023-06-05T19:50:02.622Z"
   },
   {
    "duration": 61,
    "start_time": "2023-06-05T19:50:02.636Z"
   },
   {
    "duration": 18,
    "start_time": "2023-06-05T19:53:16.110Z"
   },
   {
    "duration": 26,
    "start_time": "2023-06-05T19:53:55.889Z"
   },
   {
    "duration": 14,
    "start_time": "2023-06-05T19:54:26.980Z"
   },
   {
    "duration": 18,
    "start_time": "2023-06-05T19:57:25.223Z"
   },
   {
    "duration": 17,
    "start_time": "2023-06-05T19:57:31.376Z"
   },
   {
    "duration": 17,
    "start_time": "2023-06-05T19:57:46.978Z"
   },
   {
    "duration": 113,
    "start_time": "2023-06-05T20:09:10.377Z"
   },
   {
    "duration": 15,
    "start_time": "2023-06-05T20:09:10.494Z"
   },
   {
    "duration": 10,
    "start_time": "2023-06-05T20:09:10.511Z"
   },
   {
    "duration": 98,
    "start_time": "2023-06-05T20:09:10.523Z"
   },
   {
    "duration": 1966,
    "start_time": "2023-06-05T20:09:10.623Z"
   },
   {
    "duration": 43,
    "start_time": "2023-06-05T20:09:12.591Z"
   },
   {
    "duration": 10,
    "start_time": "2023-06-05T20:09:12.635Z"
   },
   {
    "duration": 17,
    "start_time": "2023-06-05T20:09:12.646Z"
   },
   {
    "duration": 15,
    "start_time": "2023-06-05T20:09:12.665Z"
   },
   {
    "duration": 20,
    "start_time": "2023-06-05T20:09:12.682Z"
   },
   {
    "duration": 22,
    "start_time": "2023-06-05T20:09:12.704Z"
   },
   {
    "duration": 15,
    "start_time": "2023-06-05T20:09:12.728Z"
   },
   {
    "duration": 13,
    "start_time": "2023-06-05T20:09:12.745Z"
   },
   {
    "duration": 36,
    "start_time": "2023-06-05T20:09:12.761Z"
   },
   {
    "duration": 813,
    "start_time": "2023-06-06T05:15:01.322Z"
   },
   {
    "duration": 25,
    "start_time": "2023-06-06T05:15:02.137Z"
   },
   {
    "duration": 136,
    "start_time": "2023-06-06T05:15:02.164Z"
   },
   {
    "duration": 98,
    "start_time": "2023-06-06T05:15:02.302Z"
   },
   {
    "duration": 2830,
    "start_time": "2023-06-06T05:15:02.403Z"
   },
   {
    "duration": 54,
    "start_time": "2023-06-06T05:15:05.236Z"
   },
   {
    "duration": 31,
    "start_time": "2023-06-06T05:15:05.292Z"
   },
   {
    "duration": 39,
    "start_time": "2023-06-06T05:15:05.333Z"
   },
   {
    "duration": 23,
    "start_time": "2023-06-06T05:15:05.374Z"
   },
   {
    "duration": 37,
    "start_time": "2023-06-06T05:15:05.399Z"
   },
   {
    "duration": 75,
    "start_time": "2023-06-06T05:15:05.438Z"
   },
   {
    "duration": 20,
    "start_time": "2023-06-06T05:15:05.514Z"
   },
   {
    "duration": 83,
    "start_time": "2023-06-06T05:15:05.536Z"
   },
   {
    "duration": 192,
    "start_time": "2023-06-06T05:15:05.621Z"
   },
   {
    "duration": 9,
    "start_time": "2023-06-06T05:15:53.600Z"
   },
   {
    "duration": 17,
    "start_time": "2023-06-06T05:16:15.141Z"
   },
   {
    "duration": 12,
    "start_time": "2023-06-06T05:16:26.083Z"
   },
   {
    "duration": 4,
    "start_time": "2023-06-06T05:18:50.387Z"
   },
   {
    "duration": 14,
    "start_time": "2023-06-06T05:52:41.299Z"
   },
   {
    "duration": 46,
    "start_time": "2023-06-06T05:57:35.032Z"
   },
   {
    "duration": 105,
    "start_time": "2023-06-06T05:57:49.210Z"
   },
   {
    "duration": 14,
    "start_time": "2023-06-06T05:57:49.317Z"
   },
   {
    "duration": 9,
    "start_time": "2023-06-06T05:57:49.333Z"
   },
   {
    "duration": 82,
    "start_time": "2023-06-06T05:57:49.343Z"
   },
   {
    "duration": 1887,
    "start_time": "2023-06-06T05:57:49.428Z"
   },
   {
    "duration": 42,
    "start_time": "2023-06-06T05:57:51.316Z"
   },
   {
    "duration": 12,
    "start_time": "2023-06-06T05:57:51.360Z"
   },
   {
    "duration": 9,
    "start_time": "2023-06-06T05:57:51.373Z"
   },
   {
    "duration": 6,
    "start_time": "2023-06-06T05:57:51.383Z"
   },
   {
    "duration": 11,
    "start_time": "2023-06-06T05:57:51.391Z"
   },
   {
    "duration": 39,
    "start_time": "2023-06-06T05:57:51.403Z"
   },
   {
    "duration": 14,
    "start_time": "2023-06-06T05:57:51.444Z"
   },
   {
    "duration": 11,
    "start_time": "2023-06-06T05:57:51.460Z"
   },
   {
    "duration": 69,
    "start_time": "2023-06-06T05:57:51.474Z"
   },
   {
    "duration": 3,
    "start_time": "2023-06-06T05:57:51.544Z"
   },
   {
    "duration": 48,
    "start_time": "2023-06-06T06:08:36.198Z"
   },
   {
    "duration": 24,
    "start_time": "2023-06-06T06:17:28.995Z"
   },
   {
    "duration": 26,
    "start_time": "2023-06-06T06:17:54.585Z"
   },
   {
    "duration": 33,
    "start_time": "2023-06-06T06:18:44.743Z"
   },
   {
    "duration": 29,
    "start_time": "2023-06-06T06:19:43.477Z"
   },
   {
    "duration": 18,
    "start_time": "2023-06-06T06:33:11.652Z"
   },
   {
    "duration": 223,
    "start_time": "2023-06-06T09:31:24.738Z"
   },
   {
    "duration": 315,
    "start_time": "2023-06-06T09:32:02.689Z"
   },
   {
    "duration": 245,
    "start_time": "2023-06-06T09:32:30.965Z"
   },
   {
    "duration": 224,
    "start_time": "2023-06-06T09:32:44.277Z"
   },
   {
    "duration": 215,
    "start_time": "2023-06-06T09:32:51.072Z"
   },
   {
    "duration": 239,
    "start_time": "2023-06-06T09:33:11.519Z"
   },
   {
    "duration": 237,
    "start_time": "2023-06-06T09:33:24.318Z"
   },
   {
    "duration": 272,
    "start_time": "2023-06-06T10:47:56.105Z"
   },
   {
    "duration": 241,
    "start_time": "2023-06-06T11:51:41.254Z"
   },
   {
    "duration": 199,
    "start_time": "2023-06-06T11:52:30.094Z"
   },
   {
    "duration": 198,
    "start_time": "2023-06-06T11:52:36.367Z"
   },
   {
    "duration": 203,
    "start_time": "2023-06-06T11:53:27.145Z"
   },
   {
    "duration": 209,
    "start_time": "2023-06-06T12:53:05.148Z"
   },
   {
    "duration": 225,
    "start_time": "2023-06-06T12:53:12.057Z"
   },
   {
    "duration": 304,
    "start_time": "2023-06-06T12:53:20.367Z"
   },
   {
    "duration": 269,
    "start_time": "2023-06-06T12:54:01.122Z"
   },
   {
    "duration": 217,
    "start_time": "2023-06-06T12:55:08.961Z"
   },
   {
    "duration": 231,
    "start_time": "2023-06-06T12:57:38.715Z"
   },
   {
    "duration": 1870,
    "start_time": "2023-06-06T13:00:54.047Z"
   },
   {
    "duration": 212,
    "start_time": "2023-06-06T13:01:08.845Z"
   },
   {
    "duration": 52,
    "start_time": "2023-06-06T16:51:41.041Z"
   },
   {
    "duration": 572,
    "start_time": "2023-06-06T16:51:45.733Z"
   },
   {
    "duration": 15,
    "start_time": "2023-06-06T16:51:46.307Z"
   },
   {
    "duration": 23,
    "start_time": "2023-06-06T16:51:46.324Z"
   },
   {
    "duration": 88,
    "start_time": "2023-06-06T16:51:46.348Z"
   },
   {
    "duration": 2400,
    "start_time": "2023-06-06T16:51:46.439Z"
   },
   {
    "duration": 47,
    "start_time": "2023-06-06T16:51:48.842Z"
   },
   {
    "duration": 14,
    "start_time": "2023-06-06T16:51:48.890Z"
   },
   {
    "duration": 26,
    "start_time": "2023-06-06T16:51:48.906Z"
   },
   {
    "duration": 23,
    "start_time": "2023-06-06T16:51:48.934Z"
   },
   {
    "duration": 60,
    "start_time": "2023-06-06T16:51:48.959Z"
   },
   {
    "duration": 31,
    "start_time": "2023-06-06T16:51:49.022Z"
   },
   {
    "duration": 26,
    "start_time": "2023-06-06T16:51:49.055Z"
   },
   {
    "duration": 18,
    "start_time": "2023-06-06T16:51:49.083Z"
   },
   {
    "duration": 61,
    "start_time": "2023-06-06T16:51:49.104Z"
   },
   {
    "duration": 217,
    "start_time": "2023-06-06T16:51:49.167Z"
   },
   {
    "duration": 190,
    "start_time": "2023-06-06T16:51:55.945Z"
   },
   {
    "duration": 141,
    "start_time": "2023-06-06T17:07:29.010Z"
   },
   {
    "duration": 301,
    "start_time": "2023-06-06T17:07:45.371Z"
   },
   {
    "duration": 384,
    "start_time": "2023-06-06T17:08:01.910Z"
   },
   {
    "duration": 395,
    "start_time": "2023-06-06T17:08:32.682Z"
   },
   {
    "duration": 291,
    "start_time": "2023-06-06T17:10:21.926Z"
   },
   {
    "duration": 243,
    "start_time": "2023-06-06T17:12:04.640Z"
   },
   {
    "duration": 328,
    "start_time": "2023-06-06T17:14:49.183Z"
   },
   {
    "duration": 226,
    "start_time": "2023-06-06T17:14:56.293Z"
   },
   {
    "duration": 510,
    "start_time": "2023-06-06T17:15:31.355Z"
   },
   {
    "duration": 483,
    "start_time": "2023-06-06T17:15:55.774Z"
   },
   {
    "duration": 880,
    "start_time": "2023-06-06T17:16:58.075Z"
   },
   {
    "duration": 724,
    "start_time": "2023-06-06T17:17:04.236Z"
   },
   {
    "duration": 1164,
    "start_time": "2023-06-06T17:26:57.381Z"
   },
   {
    "duration": 1054,
    "start_time": "2023-06-06T17:27:10.372Z"
   },
   {
    "duration": 1242,
    "start_time": "2023-06-06T17:27:28.110Z"
   },
   {
    "duration": 1131,
    "start_time": "2023-06-06T17:27:42.476Z"
   },
   {
    "duration": 1386,
    "start_time": "2023-06-06T17:29:00.233Z"
   },
   {
    "duration": 1464,
    "start_time": "2023-06-06T17:29:11.693Z"
   },
   {
    "duration": 1356,
    "start_time": "2023-06-06T17:29:23.619Z"
   },
   {
    "duration": 1871,
    "start_time": "2023-06-06T18:09:37.981Z"
   },
   {
    "duration": 2017,
    "start_time": "2023-06-06T18:10:31.136Z"
   },
   {
    "duration": 3032,
    "start_time": "2023-06-06T18:10:39.774Z"
   },
   {
    "duration": 1795,
    "start_time": "2023-06-06T18:36:46.911Z"
   },
   {
    "duration": 111,
    "start_time": "2023-06-06T18:37:14.040Z"
   },
   {
    "duration": 691,
    "start_time": "2023-06-06T18:37:21.115Z"
   },
   {
    "duration": 533,
    "start_time": "2023-06-06T18:37:53.020Z"
   },
   {
    "duration": 561,
    "start_time": "2023-06-06T18:38:05.106Z"
   },
   {
    "duration": 490,
    "start_time": "2023-06-06T18:38:34.741Z"
   },
   {
    "duration": 351,
    "start_time": "2023-06-06T18:57:50.378Z"
   },
   {
    "duration": 847,
    "start_time": "2023-06-06T18:58:16.263Z"
   },
   {
    "duration": 554,
    "start_time": "2023-06-06T18:59:14.454Z"
   },
   {
    "duration": 517,
    "start_time": "2023-06-06T19:00:32.715Z"
   },
   {
    "duration": 451,
    "start_time": "2023-06-06T19:00:40.297Z"
   },
   {
    "duration": 524,
    "start_time": "2023-06-06T19:00:59.204Z"
   },
   {
    "duration": 610,
    "start_time": "2023-06-06T19:01:28.444Z"
   },
   {
    "duration": 2024,
    "start_time": "2023-06-06T19:34:54.647Z"
   },
   {
    "duration": 960,
    "start_time": "2023-06-06T19:35:28.627Z"
   },
   {
    "duration": 1005,
    "start_time": "2023-06-06T19:35:37.414Z"
   },
   {
    "duration": 1040,
    "start_time": "2023-06-06T19:35:47.497Z"
   },
   {
    "duration": 1607,
    "start_time": "2023-06-06T19:38:38.821Z"
   },
   {
    "duration": 1323,
    "start_time": "2023-06-06T19:45:40.753Z"
   },
   {
    "duration": 1272,
    "start_time": "2023-06-06T19:45:57.606Z"
   },
   {
    "duration": 1885,
    "start_time": "2023-06-06T19:46:14.215Z"
   },
   {
    "duration": 1204,
    "start_time": "2023-06-07T05:25:56.174Z"
   },
   {
    "duration": 16,
    "start_time": "2023-06-07T05:25:57.380Z"
   },
   {
    "duration": 13,
    "start_time": "2023-06-07T05:25:57.398Z"
   },
   {
    "duration": 92,
    "start_time": "2023-06-07T05:25:57.413Z"
   },
   {
    "duration": 2960,
    "start_time": "2023-06-07T05:25:57.507Z"
   },
   {
    "duration": 45,
    "start_time": "2023-06-07T05:26:00.469Z"
   },
   {
    "duration": 25,
    "start_time": "2023-06-07T05:26:00.516Z"
   },
   {
    "duration": 71,
    "start_time": "2023-06-07T05:26:00.543Z"
   },
   {
    "duration": 27,
    "start_time": "2023-06-07T05:26:00.616Z"
   },
   {
    "duration": 47,
    "start_time": "2023-06-07T05:26:00.645Z"
   },
   {
    "duration": 51,
    "start_time": "2023-06-07T05:26:00.694Z"
   },
   {
    "duration": 58,
    "start_time": "2023-06-07T05:26:00.747Z"
   },
   {
    "duration": 32,
    "start_time": "2023-06-07T05:26:00.807Z"
   },
   {
    "duration": 82,
    "start_time": "2023-06-07T05:26:00.843Z"
   },
   {
    "duration": 243,
    "start_time": "2023-06-07T05:26:00.926Z"
   },
   {
    "duration": 1083,
    "start_time": "2023-06-07T05:26:01.171Z"
   },
   {
    "duration": 1101,
    "start_time": "2023-06-07T05:27:36.885Z"
   },
   {
    "duration": 1361,
    "start_time": "2023-06-07T05:27:53.931Z"
   },
   {
    "duration": 1164,
    "start_time": "2023-06-07T05:29:08.931Z"
   },
   {
    "duration": 1220,
    "start_time": "2023-06-07T05:29:16.271Z"
   },
   {
    "duration": 1160,
    "start_time": "2023-06-07T05:29:57.930Z"
   },
   {
    "duration": 1276,
    "start_time": "2023-06-07T05:30:26.194Z"
   },
   {
    "duration": 1180,
    "start_time": "2023-06-07T05:30:53.895Z"
   },
   {
    "duration": 1273,
    "start_time": "2023-06-07T05:31:08.354Z"
   },
   {
    "duration": 1234,
    "start_time": "2023-06-07T05:31:15.733Z"
   },
   {
    "duration": 1171,
    "start_time": "2023-06-07T05:33:18.173Z"
   },
   {
    "duration": 1569,
    "start_time": "2023-06-07T05:35:07.432Z"
   },
   {
    "duration": 1310,
    "start_time": "2023-06-07T05:35:38.467Z"
   },
   {
    "duration": 1507,
    "start_time": "2023-06-07T05:35:50.650Z"
   },
   {
    "duration": 1754,
    "start_time": "2023-06-07T05:40:05.221Z"
   },
   {
    "duration": 1688,
    "start_time": "2023-06-07T05:40:21.188Z"
   },
   {
    "duration": 1761,
    "start_time": "2023-06-07T05:40:37.617Z"
   },
   {
    "duration": 1883,
    "start_time": "2023-06-07T05:42:17.399Z"
   },
   {
    "duration": 1613,
    "start_time": "2023-06-07T05:42:36.404Z"
   },
   {
    "duration": 481,
    "start_time": "2023-06-07T05:43:02.610Z"
   },
   {
    "duration": 226,
    "start_time": "2023-06-07T05:43:18.218Z"
   },
   {
    "duration": 201,
    "start_time": "2023-06-07T05:43:30.542Z"
   },
   {
    "duration": 411,
    "start_time": "2023-06-07T05:43:48.398Z"
   },
   {
    "duration": 234,
    "start_time": "2023-06-07T05:44:02.275Z"
   },
   {
    "duration": 206,
    "start_time": "2023-06-07T05:44:09.114Z"
   },
   {
    "duration": 219,
    "start_time": "2023-06-07T05:44:16.784Z"
   },
   {
    "duration": 292,
    "start_time": "2023-06-07T05:44:22.680Z"
   },
   {
    "duration": 220,
    "start_time": "2023-06-07T05:44:38.383Z"
   },
   {
    "duration": 253,
    "start_time": "2023-06-07T05:44:44.271Z"
   },
   {
    "duration": 369,
    "start_time": "2023-06-07T05:44:53.622Z"
   },
   {
    "duration": 1787,
    "start_time": "2023-06-07T05:46:06.708Z"
   },
   {
    "duration": 1761,
    "start_time": "2023-06-07T05:51:55.970Z"
   },
   {
    "duration": 1640,
    "start_time": "2023-06-07T05:52:13.143Z"
   },
   {
    "duration": 1820,
    "start_time": "2023-06-07T05:53:07.390Z"
   },
   {
    "duration": 134,
    "start_time": "2023-06-07T05:54:06.641Z"
   },
   {
    "duration": 15,
    "start_time": "2023-06-07T05:54:47.329Z"
   },
   {
    "duration": 1666,
    "start_time": "2023-06-07T05:56:19.052Z"
   },
   {
    "duration": 1337,
    "start_time": "2023-06-07T05:57:42.860Z"
   },
   {
    "duration": 1748,
    "start_time": "2023-06-07T05:58:05.398Z"
   },
   {
    "duration": 181,
    "start_time": "2023-06-07T05:58:33.906Z"
   },
   {
    "duration": 197,
    "start_time": "2023-06-07T05:58:59.416Z"
   },
   {
    "duration": 128,
    "start_time": "2023-06-07T05:59:50.287Z"
   },
   {
    "duration": 379,
    "start_time": "2023-06-07T06:09:10.609Z"
   },
   {
    "duration": 411,
    "start_time": "2023-06-07T06:09:27.395Z"
   },
   {
    "duration": 736,
    "start_time": "2023-06-07T06:14:00.521Z"
   },
   {
    "duration": 702,
    "start_time": "2023-06-07T06:15:31.380Z"
   },
   {
    "duration": 622,
    "start_time": "2023-06-07T06:15:37.904Z"
   },
   {
    "duration": 651,
    "start_time": "2023-06-07T06:16:11.020Z"
   },
   {
    "duration": 1221,
    "start_time": "2023-06-07T06:17:22.085Z"
   },
   {
    "duration": 895,
    "start_time": "2023-06-07T06:17:33.576Z"
   },
   {
    "duration": 998,
    "start_time": "2023-06-07T06:17:42.338Z"
   },
   {
    "duration": 1147,
    "start_time": "2023-06-07T06:17:52.881Z"
   },
   {
    "duration": 1171,
    "start_time": "2023-06-07T06:18:21.003Z"
   },
   {
    "duration": 1122,
    "start_time": "2023-06-07T06:19:35.288Z"
   },
   {
    "duration": 1473,
    "start_time": "2023-06-07T06:19:49.356Z"
   },
   {
    "duration": 1152,
    "start_time": "2023-06-07T06:20:12.369Z"
   },
   {
    "duration": 1425,
    "start_time": "2023-06-07T06:23:03.196Z"
   },
   {
    "duration": 1213,
    "start_time": "2023-06-07T06:23:11.506Z"
   },
   {
    "duration": 1403,
    "start_time": "2023-06-07T06:23:32.128Z"
   },
   {
    "duration": 1180,
    "start_time": "2023-06-07T06:23:40.240Z"
   },
   {
    "duration": 122,
    "start_time": "2023-06-07T09:27:15.678Z"
   },
   {
    "duration": 24,
    "start_time": "2023-06-07T09:27:15.802Z"
   },
   {
    "duration": 31,
    "start_time": "2023-06-07T09:27:15.828Z"
   },
   {
    "duration": 112,
    "start_time": "2023-06-07T09:27:15.865Z"
   },
   {
    "duration": 2477,
    "start_time": "2023-06-07T09:27:15.981Z"
   },
   {
    "duration": 60,
    "start_time": "2023-06-07T09:27:18.460Z"
   },
   {
    "duration": 11,
    "start_time": "2023-06-07T09:27:18.522Z"
   },
   {
    "duration": 20,
    "start_time": "2023-06-07T09:27:18.535Z"
   },
   {
    "duration": 33,
    "start_time": "2023-06-07T09:27:18.557Z"
   },
   {
    "duration": 15,
    "start_time": "2023-06-07T09:27:18.591Z"
   },
   {
    "duration": 24,
    "start_time": "2023-06-07T09:27:18.608Z"
   },
   {
    "duration": 28,
    "start_time": "2023-06-07T09:27:18.634Z"
   },
   {
    "duration": 19,
    "start_time": "2023-06-07T09:27:18.680Z"
   },
   {
    "duration": 71,
    "start_time": "2023-06-07T09:27:18.702Z"
   },
   {
    "duration": 256,
    "start_time": "2023-06-07T09:27:18.776Z"
   },
   {
    "duration": 1636,
    "start_time": "2023-06-07T09:27:19.034Z"
   },
   {
    "duration": 1418,
    "start_time": "2023-06-07T09:27:20.672Z"
   },
   {
    "duration": 1174,
    "start_time": "2023-06-07T09:27:26.211Z"
   },
   {
    "duration": 1183,
    "start_time": "2023-06-07T09:27:48.774Z"
   },
   {
    "duration": 1297,
    "start_time": "2023-06-07T09:28:21.196Z"
   },
   {
    "duration": 143,
    "start_time": "2023-06-07T09:28:38.631Z"
   },
   {
    "duration": 26,
    "start_time": "2023-06-07T09:28:38.784Z"
   },
   {
    "duration": 15,
    "start_time": "2023-06-07T09:28:38.812Z"
   },
   {
    "duration": 467,
    "start_time": "2023-06-07T09:28:38.829Z"
   },
   {
    "duration": 2226,
    "start_time": "2023-06-07T09:28:39.300Z"
   },
   {
    "duration": 58,
    "start_time": "2023-06-07T09:28:41.528Z"
   },
   {
    "duration": 20,
    "start_time": "2023-06-07T09:28:41.588Z"
   },
   {
    "duration": 19,
    "start_time": "2023-06-07T09:28:41.610Z"
   },
   {
    "duration": 44,
    "start_time": "2023-06-07T09:28:41.631Z"
   },
   {
    "duration": 28,
    "start_time": "2023-06-07T09:28:41.676Z"
   },
   {
    "duration": 33,
    "start_time": "2023-06-07T09:28:41.705Z"
   },
   {
    "duration": 41,
    "start_time": "2023-06-07T09:28:41.740Z"
   },
   {
    "duration": 15,
    "start_time": "2023-06-07T09:28:41.786Z"
   },
   {
    "duration": 75,
    "start_time": "2023-06-07T09:28:41.805Z"
   },
   {
    "duration": 250,
    "start_time": "2023-06-07T09:28:41.882Z"
   },
   {
    "duration": 1777,
    "start_time": "2023-06-07T09:28:42.134Z"
   },
   {
    "duration": 1420,
    "start_time": "2023-06-07T09:28:43.913Z"
   },
   {
    "duration": 296,
    "start_time": "2023-06-07T09:37:36.337Z"
   },
   {
    "duration": 1252,
    "start_time": "2023-06-07T09:38:48.383Z"
   },
   {
    "duration": 1489,
    "start_time": "2023-06-07T09:40:55.516Z"
   },
   {
    "duration": 1411,
    "start_time": "2023-06-07T09:41:13.691Z"
   },
   {
    "duration": 184,
    "start_time": "2023-06-07T09:41:31.612Z"
   },
   {
    "duration": 212,
    "start_time": "2023-06-07T09:41:39.273Z"
   },
   {
    "duration": 627,
    "start_time": "2023-06-07T09:41:45.444Z"
   },
   {
    "duration": 208,
    "start_time": "2023-06-07T09:41:50.910Z"
   },
   {
    "duration": 172,
    "start_time": "2023-06-07T09:41:59.589Z"
   },
   {
    "duration": 191,
    "start_time": "2023-06-07T09:42:08.544Z"
   },
   {
    "duration": 209,
    "start_time": "2023-06-07T09:42:12.846Z"
   },
   {
    "duration": 215,
    "start_time": "2023-06-07T09:42:45.108Z"
   },
   {
    "duration": 200,
    "start_time": "2023-06-07T09:42:57.579Z"
   },
   {
    "duration": 252,
    "start_time": "2023-06-07T09:43:05.930Z"
   },
   {
    "duration": 1392,
    "start_time": "2023-06-07T09:45:13.509Z"
   },
   {
    "duration": 381,
    "start_time": "2023-06-07T09:49:01.331Z"
   },
   {
    "duration": 325,
    "start_time": "2023-06-07T09:49:14.035Z"
   },
   {
    "duration": 311,
    "start_time": "2023-06-07T09:49:21.798Z"
   },
   {
    "duration": 317,
    "start_time": "2023-06-07T09:50:12.908Z"
   },
   {
    "duration": 287,
    "start_time": "2023-06-07T09:50:19.423Z"
   },
   {
    "duration": 6,
    "start_time": "2023-06-07T09:51:13.131Z"
   },
   {
    "duration": 8,
    "start_time": "2023-06-07T09:53:55.869Z"
   },
   {
    "duration": 10,
    "start_time": "2023-06-07T09:54:15.971Z"
   },
   {
    "duration": 25,
    "start_time": "2023-06-07T10:01:33.474Z"
   },
   {
    "duration": 303,
    "start_time": "2023-06-07T10:02:10.407Z"
   },
   {
    "duration": 1306,
    "start_time": "2023-06-07T10:54:46.304Z"
   },
   {
    "duration": 707,
    "start_time": "2023-06-07T10:55:03.759Z"
   },
   {
    "duration": 308,
    "start_time": "2023-06-07T10:55:18.231Z"
   },
   {
    "duration": 120,
    "start_time": "2023-06-07T10:56:03.224Z"
   },
   {
    "duration": 118,
    "start_time": "2023-06-07T10:56:47.691Z"
   },
   {
    "duration": 167,
    "start_time": "2023-06-07T10:57:22.404Z"
   },
   {
    "duration": 137,
    "start_time": "2023-06-07T11:14:09.811Z"
   },
   {
    "duration": 252,
    "start_time": "2023-06-07T11:14:15.212Z"
   },
   {
    "duration": 35,
    "start_time": "2023-06-07T13:33:52.723Z"
   },
   {
    "duration": 196,
    "start_time": "2023-06-07T13:40:35.097Z"
   },
   {
    "duration": 168,
    "start_time": "2023-06-07T13:40:49.724Z"
   },
   {
    "duration": 168,
    "start_time": "2023-06-07T13:41:27.591Z"
   },
   {
    "duration": 199,
    "start_time": "2023-06-07T13:46:52.681Z"
   },
   {
    "duration": 214,
    "start_time": "2023-06-07T13:46:58.391Z"
   },
   {
    "duration": 170,
    "start_time": "2023-06-07T13:47:05.872Z"
   },
   {
    "duration": 196,
    "start_time": "2023-06-07T13:47:10.794Z"
   },
   {
    "duration": 172,
    "start_time": "2023-06-07T13:47:24.562Z"
   },
   {
    "duration": 266,
    "start_time": "2023-06-07T13:48:31.406Z"
   },
   {
    "duration": 196,
    "start_time": "2023-06-07T13:48:51.781Z"
   },
   {
    "duration": 448,
    "start_time": "2023-06-07T13:55:04.222Z"
   },
   {
    "duration": 169,
    "start_time": "2023-06-07T13:55:09.662Z"
   },
   {
    "duration": 179,
    "start_time": "2023-06-07T13:55:29.355Z"
   },
   {
    "duration": 388,
    "start_time": "2023-06-07T13:56:25.577Z"
   },
   {
    "duration": 158,
    "start_time": "2023-06-07T14:05:38.522Z"
   },
   {
    "duration": 2457,
    "start_time": "2023-06-07T14:05:43.262Z"
   },
   {
    "duration": 115,
    "start_time": "2023-06-07T14:05:48.518Z"
   },
   {
    "duration": 29,
    "start_time": "2023-06-07T14:05:48.636Z"
   },
   {
    "duration": 13,
    "start_time": "2023-06-07T14:05:48.668Z"
   },
   {
    "duration": 97,
    "start_time": "2023-06-07T14:05:48.682Z"
   },
   {
    "duration": 2112,
    "start_time": "2023-06-07T14:05:48.782Z"
   },
   {
    "duration": 62,
    "start_time": "2023-06-07T14:05:50.896Z"
   },
   {
    "duration": 13,
    "start_time": "2023-06-07T14:05:50.959Z"
   },
   {
    "duration": 16,
    "start_time": "2023-06-07T14:05:50.973Z"
   },
   {
    "duration": 15,
    "start_time": "2023-06-07T14:05:50.990Z"
   },
   {
    "duration": 17,
    "start_time": "2023-06-07T14:05:51.007Z"
   },
   {
    "duration": 41,
    "start_time": "2023-06-07T14:05:51.025Z"
   },
   {
    "duration": 23,
    "start_time": "2023-06-07T14:05:51.069Z"
   },
   {
    "duration": 22,
    "start_time": "2023-06-07T14:05:51.094Z"
   },
   {
    "duration": 81,
    "start_time": "2023-06-07T14:05:51.120Z"
   },
   {
    "duration": 287,
    "start_time": "2023-06-07T14:05:51.204Z"
   },
   {
    "duration": 2161,
    "start_time": "2023-06-07T14:05:51.493Z"
   },
   {
    "duration": 1482,
    "start_time": "2023-06-07T14:05:53.655Z"
   },
   {
    "duration": 370,
    "start_time": "2023-06-07T14:05:55.139Z"
   },
   {
    "duration": 185,
    "start_time": "2023-06-07T14:05:55.511Z"
   },
   {
    "duration": 2125,
    "start_time": "2023-06-07T14:05:55.699Z"
   },
   {
    "duration": 14,
    "start_time": "2023-06-07T14:06:16.347Z"
   },
   {
    "duration": 27,
    "start_time": "2023-06-07T14:06:30.731Z"
   },
   {
    "duration": 2253,
    "start_time": "2023-06-07T14:06:44.910Z"
   },
   {
    "duration": 163,
    "start_time": "2023-06-07T14:06:54.761Z"
   },
   {
    "duration": 2446,
    "start_time": "2023-06-07T14:09:19.139Z"
   },
   {
    "duration": 1953,
    "start_time": "2023-06-07T14:09:33.860Z"
   },
   {
    "duration": 211,
    "start_time": "2023-06-07T14:10:02.248Z"
   },
   {
    "duration": 146,
    "start_time": "2023-06-07T14:10:41.318Z"
   },
   {
    "duration": 4,
    "start_time": "2023-06-07T14:13:52.033Z"
   },
   {
    "duration": 34,
    "start_time": "2023-06-07T14:24:29.259Z"
   },
   {
    "duration": 44,
    "start_time": "2023-06-07T14:27:28.121Z"
   },
   {
    "duration": 30,
    "start_time": "2023-06-07T14:27:50.408Z"
   },
   {
    "duration": 158,
    "start_time": "2023-06-07T14:29:20.978Z"
   },
   {
    "duration": 92,
    "start_time": "2023-06-07T14:30:02.600Z"
   },
   {
    "duration": 26,
    "start_time": "2023-06-07T14:30:23.679Z"
   },
   {
    "duration": 22,
    "start_time": "2023-06-07T14:31:08.824Z"
   },
   {
    "duration": 19,
    "start_time": "2023-06-07T14:31:46.075Z"
   },
   {
    "duration": 19,
    "start_time": "2023-06-07T14:32:19.204Z"
   },
   {
    "duration": 20,
    "start_time": "2023-06-07T14:34:05.389Z"
   },
   {
    "duration": 19,
    "start_time": "2023-06-07T14:35:17.855Z"
   },
   {
    "duration": 11,
    "start_time": "2023-06-07T14:35:40.899Z"
   },
   {
    "duration": 19,
    "start_time": "2023-06-07T14:35:52.775Z"
   },
   {
    "duration": 14,
    "start_time": "2023-06-07T14:36:12.120Z"
   },
   {
    "duration": 26,
    "start_time": "2023-06-07T14:36:59.926Z"
   },
   {
    "duration": 12,
    "start_time": "2023-06-07T16:16:52.376Z"
   },
   {
    "duration": 3,
    "start_time": "2023-06-07T16:17:14.329Z"
   },
   {
    "duration": 6,
    "start_time": "2023-06-07T16:17:29.777Z"
   },
   {
    "duration": 139,
    "start_time": "2023-06-07T16:19:17.071Z"
   },
   {
    "duration": 164,
    "start_time": "2023-06-07T16:20:19.800Z"
   },
   {
    "duration": 200,
    "start_time": "2023-06-07T16:20:47.603Z"
   },
   {
    "duration": 21,
    "start_time": "2023-06-07T16:46:09.877Z"
   },
   {
    "duration": 41,
    "start_time": "2023-06-07T16:58:44.672Z"
   },
   {
    "duration": 18,
    "start_time": "2023-06-07T16:59:19.326Z"
   },
   {
    "duration": 186,
    "start_time": "2023-06-07T16:59:25.947Z"
   },
   {
    "duration": 14,
    "start_time": "2023-06-07T16:59:26.135Z"
   },
   {
    "duration": 140,
    "start_time": "2023-06-07T16:59:26.150Z"
   },
   {
    "duration": 2466,
    "start_time": "2023-06-07T16:59:26.292Z"
   },
   {
    "duration": 70,
    "start_time": "2023-06-07T16:59:28.762Z"
   },
   {
    "duration": 26,
    "start_time": "2023-06-07T16:59:28.834Z"
   },
   {
    "duration": 63,
    "start_time": "2023-06-07T16:59:28.862Z"
   },
   {
    "duration": 26,
    "start_time": "2023-06-07T16:59:28.926Z"
   },
   {
    "duration": 54,
    "start_time": "2023-06-07T16:59:28.955Z"
   },
   {
    "duration": 26,
    "start_time": "2023-06-07T16:59:29.012Z"
   },
   {
    "duration": 25,
    "start_time": "2023-06-07T16:59:29.041Z"
   },
   {
    "duration": 36,
    "start_time": "2023-06-07T16:59:29.068Z"
   },
   {
    "duration": 73,
    "start_time": "2023-06-07T16:59:29.106Z"
   },
   {
    "duration": 271,
    "start_time": "2023-06-07T16:59:29.181Z"
   },
   {
    "duration": 2316,
    "start_time": "2023-06-07T16:59:29.454Z"
   },
   {
    "duration": 1761,
    "start_time": "2023-06-07T16:59:31.774Z"
   },
   {
    "duration": 332,
    "start_time": "2023-06-07T16:59:33.537Z"
   },
   {
    "duration": 158,
    "start_time": "2023-06-07T16:59:33.871Z"
   },
   {
    "duration": 190,
    "start_time": "2023-06-07T16:59:34.032Z"
   },
   {
    "duration": 5,
    "start_time": "2023-06-07T16:59:34.224Z"
   },
   {
    "duration": 52,
    "start_time": "2023-06-07T16:59:34.231Z"
   },
   {
    "duration": 13,
    "start_time": "2023-06-07T16:59:34.286Z"
   },
   {
    "duration": 28,
    "start_time": "2023-06-07T17:00:13.910Z"
   },
   {
    "duration": 34,
    "start_time": "2023-06-07T17:01:29.529Z"
   },
   {
    "duration": 158,
    "start_time": "2023-06-07T17:06:03.612Z"
   },
   {
    "duration": 5,
    "start_time": "2023-06-07T17:06:12.319Z"
   },
   {
    "duration": 54,
    "start_time": "2023-06-07T17:07:04.943Z"
   },
   {
    "duration": 26,
    "start_time": "2023-06-07T17:07:29.104Z"
   },
   {
    "duration": 14,
    "start_time": "2023-06-07T17:08:02.109Z"
   },
   {
    "duration": 15,
    "start_time": "2023-06-07T17:08:14.180Z"
   },
   {
    "duration": 58,
    "start_time": "2023-06-07T17:54:16.309Z"
   },
   {
    "duration": 22,
    "start_time": "2023-06-07T17:55:00.942Z"
   },
   {
    "duration": 14,
    "start_time": "2023-06-07T17:55:35.580Z"
   },
   {
    "duration": 151,
    "start_time": "2023-06-07T17:55:51.906Z"
   },
   {
    "duration": 3096,
    "start_time": "2023-06-07T17:55:56.028Z"
   },
   {
    "duration": 14,
    "start_time": "2023-06-07T17:56:02.799Z"
   },
   {
    "duration": 180,
    "start_time": "2023-06-07T17:56:23.230Z"
   },
   {
    "duration": 11,
    "start_time": "2023-06-07T17:56:23.413Z"
   },
   {
    "duration": 103,
    "start_time": "2023-06-07T17:56:23.426Z"
   },
   {
    "duration": 2387,
    "start_time": "2023-06-07T17:56:23.532Z"
   },
   {
    "duration": 48,
    "start_time": "2023-06-07T17:56:25.921Z"
   },
   {
    "duration": 82,
    "start_time": "2023-06-07T17:56:25.980Z"
   },
   {
    "duration": 20,
    "start_time": "2023-06-07T17:56:26.076Z"
   },
   {
    "duration": 31,
    "start_time": "2023-06-07T17:56:26.098Z"
   },
   {
    "duration": 19,
    "start_time": "2023-06-07T17:56:26.131Z"
   },
   {
    "duration": 61,
    "start_time": "2023-06-07T17:56:26.160Z"
   },
   {
    "duration": 45,
    "start_time": "2023-06-07T17:56:26.223Z"
   },
   {
    "duration": 59,
    "start_time": "2023-06-07T17:56:26.271Z"
   },
   {
    "duration": 23,
    "start_time": "2023-06-07T17:56:26.333Z"
   },
   {
    "duration": 130,
    "start_time": "2023-06-07T17:56:26.358Z"
   },
   {
    "duration": 290,
    "start_time": "2023-06-07T17:56:26.490Z"
   },
   {
    "duration": 2722,
    "start_time": "2023-06-07T17:56:26.782Z"
   },
   {
    "duration": 1494,
    "start_time": "2023-06-07T17:56:29.507Z"
   },
   {
    "duration": 327,
    "start_time": "2023-06-07T17:56:31.003Z"
   },
   {
    "duration": 182,
    "start_time": "2023-06-07T17:56:31.332Z"
   },
   {
    "duration": 203,
    "start_time": "2023-06-07T17:56:31.516Z"
   },
   {
    "duration": 5,
    "start_time": "2023-06-07T17:56:31.722Z"
   },
   {
    "duration": 44,
    "start_time": "2023-06-07T17:56:31.729Z"
   },
   {
    "duration": 62,
    "start_time": "2023-06-07T17:56:31.777Z"
   },
   {
    "duration": 2918,
    "start_time": "2023-06-07T17:56:58.300Z"
   },
   {
    "duration": 16,
    "start_time": "2023-06-07T17:57:12.940Z"
   },
   {
    "duration": 42,
    "start_time": "2023-06-07T17:57:24.478Z"
   },
   {
    "duration": 36,
    "start_time": "2023-06-07T17:58:35.480Z"
   },
   {
    "duration": 39,
    "start_time": "2023-06-07T17:58:45.176Z"
   },
   {
    "duration": 11,
    "start_time": "2023-06-07T17:59:05.811Z"
   },
   {
    "duration": 331,
    "start_time": "2023-06-07T17:59:12.457Z"
   },
   {
    "duration": 20,
    "start_time": "2023-06-07T17:59:12.794Z"
   },
   {
    "duration": 201,
    "start_time": "2023-06-07T17:59:12.820Z"
   },
   {
    "duration": 3543,
    "start_time": "2023-06-07T17:59:13.024Z"
   },
   {
    "duration": 64,
    "start_time": "2023-06-07T17:59:16.571Z"
   },
   {
    "duration": 21,
    "start_time": "2023-06-07T17:59:16.639Z"
   },
   {
    "duration": 75,
    "start_time": "2023-06-07T17:59:16.662Z"
   },
   {
    "duration": 51,
    "start_time": "2023-06-07T17:59:16.739Z"
   },
   {
    "duration": 141,
    "start_time": "2023-06-07T17:59:16.793Z"
   },
   {
    "duration": 96,
    "start_time": "2023-06-07T17:59:16.938Z"
   },
   {
    "duration": 31,
    "start_time": "2023-06-07T17:59:17.036Z"
   },
   {
    "duration": 53,
    "start_time": "2023-06-07T17:59:17.072Z"
   },
   {
    "duration": 110,
    "start_time": "2023-06-07T17:59:17.132Z"
   },
   {
    "duration": 364,
    "start_time": "2023-06-07T17:59:17.247Z"
   },
   {
    "duration": 2296,
    "start_time": "2023-06-07T17:59:17.618Z"
   },
   {
    "duration": 1601,
    "start_time": "2023-06-07T17:59:19.916Z"
   },
   {
    "duration": 362,
    "start_time": "2023-06-07T17:59:21.519Z"
   },
   {
    "duration": 178,
    "start_time": "2023-06-07T17:59:21.886Z"
   },
   {
    "duration": 211,
    "start_time": "2023-06-07T17:59:22.071Z"
   },
   {
    "duration": 23,
    "start_time": "2023-06-07T17:59:22.289Z"
   },
   {
    "duration": 27,
    "start_time": "2023-06-07T17:59:22.315Z"
   },
   {
    "duration": 99,
    "start_time": "2023-06-07T17:59:22.345Z"
   },
   {
    "duration": 9,
    "start_time": "2023-06-07T17:59:51.308Z"
   },
   {
    "duration": 143,
    "start_time": "2023-06-07T18:00:24.483Z"
   },
   {
    "duration": 10,
    "start_time": "2023-06-07T18:00:24.628Z"
   },
   {
    "duration": 93,
    "start_time": "2023-06-07T18:00:24.651Z"
   },
   {
    "duration": 2537,
    "start_time": "2023-06-07T18:00:24.745Z"
   },
   {
    "duration": 43,
    "start_time": "2023-06-07T18:00:27.292Z"
   },
   {
    "duration": 28,
    "start_time": "2023-06-07T18:00:27.337Z"
   },
   {
    "duration": 106,
    "start_time": "2023-06-07T18:00:27.371Z"
   },
   {
    "duration": 33,
    "start_time": "2023-06-07T18:00:27.483Z"
   },
   {
    "duration": 27,
    "start_time": "2023-06-07T18:00:27.518Z"
   },
   {
    "duration": 74,
    "start_time": "2023-06-07T18:00:27.546Z"
   },
   {
    "duration": 18,
    "start_time": "2023-06-07T18:00:27.621Z"
   },
   {
    "duration": 38,
    "start_time": "2023-06-07T18:00:27.640Z"
   },
   {
    "duration": 107,
    "start_time": "2023-06-07T18:00:27.680Z"
   },
   {
    "duration": 268,
    "start_time": "2023-06-07T18:00:27.793Z"
   },
   {
    "duration": 1680,
    "start_time": "2023-06-07T18:00:28.063Z"
   },
   {
    "duration": 2257,
    "start_time": "2023-06-07T18:00:29.751Z"
   },
   {
    "duration": 331,
    "start_time": "2023-06-07T18:00:32.010Z"
   },
   {
    "duration": 180,
    "start_time": "2023-06-07T18:00:32.346Z"
   },
   {
    "duration": 203,
    "start_time": "2023-06-07T18:00:32.528Z"
   },
   {
    "duration": 13,
    "start_time": "2023-06-07T18:00:32.733Z"
   },
   {
    "duration": 55,
    "start_time": "2023-06-07T18:00:32.750Z"
   },
   {
    "duration": 33,
    "start_time": "2023-06-07T18:00:32.808Z"
   },
   {
    "duration": 21,
    "start_time": "2023-06-07T18:37:58.779Z"
   },
   {
    "duration": 191,
    "start_time": "2023-06-07T18:38:49.634Z"
   },
   {
    "duration": 234,
    "start_time": "2023-06-07T18:42:08.690Z"
   },
   {
    "duration": 73,
    "start_time": "2023-06-07T18:43:43.962Z"
   },
   {
    "duration": 6,
    "start_time": "2023-06-07T18:43:49.483Z"
   },
   {
    "duration": 7,
    "start_time": "2023-06-07T18:44:45.636Z"
   },
   {
    "duration": 9,
    "start_time": "2023-06-07T18:45:48.003Z"
   },
   {
    "duration": 15,
    "start_time": "2023-06-07T18:46:42.552Z"
   },
   {
    "duration": 381,
    "start_time": "2023-06-07T18:48:27.605Z"
   },
   {
    "duration": 11,
    "start_time": "2023-06-07T18:49:13.734Z"
   },
   {
    "duration": 1623,
    "start_time": "2023-06-07T18:52:31.379Z"
   },
   {
    "duration": 10,
    "start_time": "2023-06-07T18:52:44.684Z"
   },
   {
    "duration": 193,
    "start_time": "2023-06-07T18:53:41.073Z"
   },
   {
    "duration": 171,
    "start_time": "2023-06-07T18:54:17.515Z"
   },
   {
    "duration": 582,
    "start_time": "2023-06-07T18:54:43.988Z"
   },
   {
    "duration": 840,
    "start_time": "2023-06-07T18:58:10.343Z"
   },
   {
    "duration": 1072,
    "start_time": "2023-06-07T18:59:13.365Z"
   },
   {
    "duration": 146,
    "start_time": "2023-06-07T19:06:29.514Z"
   },
   {
    "duration": 177,
    "start_time": "2023-06-07T19:08:13.018Z"
   },
   {
    "duration": 20,
    "start_time": "2023-06-07T19:30:10.142Z"
   },
   {
    "duration": 26,
    "start_time": "2023-06-07T19:31:12.795Z"
   },
   {
    "duration": 12,
    "start_time": "2023-06-07T19:31:32.821Z"
   },
   {
    "duration": 233,
    "start_time": "2023-06-07T19:31:41.079Z"
   },
   {
    "duration": 10,
    "start_time": "2023-06-07T19:31:41.314Z"
   },
   {
    "duration": 89,
    "start_time": "2023-06-07T19:31:41.325Z"
   },
   {
    "duration": 2491,
    "start_time": "2023-06-07T19:31:41.416Z"
   },
   {
    "duration": 70,
    "start_time": "2023-06-07T19:31:43.910Z"
   },
   {
    "duration": 9,
    "start_time": "2023-06-07T19:31:43.984Z"
   },
   {
    "duration": 13,
    "start_time": "2023-06-07T19:31:43.995Z"
   },
   {
    "duration": 9,
    "start_time": "2023-06-07T19:31:44.010Z"
   },
   {
    "duration": 7,
    "start_time": "2023-06-07T19:31:44.021Z"
   },
   {
    "duration": 35,
    "start_time": "2023-06-07T19:31:44.030Z"
   },
   {
    "duration": 61,
    "start_time": "2023-06-07T19:31:44.066Z"
   },
   {
    "duration": 21,
    "start_time": "2023-06-07T19:31:44.129Z"
   },
   {
    "duration": 26,
    "start_time": "2023-06-07T19:31:44.170Z"
   },
   {
    "duration": 94,
    "start_time": "2023-06-07T19:31:44.200Z"
   },
   {
    "duration": 299,
    "start_time": "2023-06-07T19:31:44.296Z"
   },
   {
    "duration": 1675,
    "start_time": "2023-06-07T19:31:44.597Z"
   },
   {
    "duration": 1418,
    "start_time": "2023-06-07T19:31:46.277Z"
   },
   {
    "duration": 339,
    "start_time": "2023-06-07T19:31:47.697Z"
   },
   {
    "duration": 163,
    "start_time": "2023-06-07T19:31:48.038Z"
   },
   {
    "duration": 583,
    "start_time": "2023-06-07T19:31:48.203Z"
   },
   {
    "duration": 11,
    "start_time": "2023-06-07T19:31:48.788Z"
   },
   {
    "duration": 171,
    "start_time": "2023-06-07T19:31:48.801Z"
   },
   {
    "duration": 5,
    "start_time": "2023-06-07T19:31:48.975Z"
   },
   {
    "duration": 16,
    "start_time": "2023-06-07T19:31:48.982Z"
   },
   {
    "duration": 48,
    "start_time": "2023-06-07T19:35:56.036Z"
   },
   {
    "duration": 160,
    "start_time": "2023-06-07T19:36:42.198Z"
   },
   {
    "duration": 14,
    "start_time": "2023-06-07T19:36:42.362Z"
   },
   {
    "duration": 110,
    "start_time": "2023-06-07T19:36:42.378Z"
   },
   {
    "duration": 2987,
    "start_time": "2023-06-07T19:36:42.491Z"
   },
   {
    "duration": 40,
    "start_time": "2023-06-07T19:36:45.480Z"
   },
   {
    "duration": 7,
    "start_time": "2023-06-07T19:36:45.522Z"
   },
   {
    "duration": 29,
    "start_time": "2023-06-07T19:36:45.531Z"
   },
   {
    "duration": 63,
    "start_time": "2023-06-07T19:36:45.570Z"
   },
   {
    "duration": 12,
    "start_time": "2023-06-07T19:36:45.634Z"
   },
   {
    "duration": 38,
    "start_time": "2023-06-07T19:36:45.647Z"
   },
   {
    "duration": 17,
    "start_time": "2023-06-07T19:36:45.687Z"
   },
   {
    "duration": 31,
    "start_time": "2023-06-07T19:36:45.705Z"
   },
   {
    "duration": 29,
    "start_time": "2023-06-07T19:36:45.738Z"
   },
   {
    "duration": 20,
    "start_time": "2023-06-07T19:36:45.772Z"
   },
   {
    "duration": 66,
    "start_time": "2023-06-07T19:36:45.793Z"
   },
   {
    "duration": 226,
    "start_time": "2023-06-07T19:36:45.865Z"
   },
   {
    "duration": 1517,
    "start_time": "2023-06-07T19:36:46.093Z"
   },
   {
    "duration": 1363,
    "start_time": "2023-06-07T19:36:47.612Z"
   },
   {
    "duration": 286,
    "start_time": "2023-06-07T19:36:48.977Z"
   },
   {
    "duration": 145,
    "start_time": "2023-06-07T19:36:49.265Z"
   },
   {
    "duration": 574,
    "start_time": "2023-06-07T19:36:49.412Z"
   },
   {
    "duration": 10,
    "start_time": "2023-06-07T19:36:49.988Z"
   },
   {
    "duration": 174,
    "start_time": "2023-06-07T19:36:50.000Z"
   },
   {
    "duration": 3,
    "start_time": "2023-06-07T19:36:50.176Z"
   },
   {
    "duration": 11,
    "start_time": "2023-06-07T19:36:50.181Z"
   },
   {
    "duration": 10,
    "start_time": "2023-06-07T19:40:48.886Z"
   },
   {
    "duration": 177,
    "start_time": "2023-06-07T19:40:52.484Z"
   },
   {
    "duration": 16,
    "start_time": "2023-06-07T19:40:52.663Z"
   },
   {
    "duration": 108,
    "start_time": "2023-06-07T19:40:52.681Z"
   },
   {
    "duration": 2217,
    "start_time": "2023-06-07T19:40:52.792Z"
   },
   {
    "duration": 58,
    "start_time": "2023-06-07T19:40:55.012Z"
   },
   {
    "duration": 5,
    "start_time": "2023-06-07T19:40:55.072Z"
   },
   {
    "duration": 44,
    "start_time": "2023-06-07T19:40:55.079Z"
   },
   {
    "duration": 62,
    "start_time": "2023-06-07T19:40:55.125Z"
   },
   {
    "duration": 10,
    "start_time": "2023-06-07T19:40:55.189Z"
   },
   {
    "duration": 39,
    "start_time": "2023-06-07T19:40:55.201Z"
   },
   {
    "duration": 41,
    "start_time": "2023-06-07T19:40:55.242Z"
   },
   {
    "duration": 31,
    "start_time": "2023-06-07T19:40:55.285Z"
   },
   {
    "duration": 16,
    "start_time": "2023-06-07T19:40:55.318Z"
   },
   {
    "duration": 22,
    "start_time": "2023-06-07T19:40:55.337Z"
   },
   {
    "duration": 68,
    "start_time": "2023-06-07T19:40:55.362Z"
   },
   {
    "duration": 248,
    "start_time": "2023-06-07T19:40:55.432Z"
   },
   {
    "duration": 1514,
    "start_time": "2023-06-07T19:40:55.682Z"
   },
   {
    "duration": 2114,
    "start_time": "2023-06-07T19:40:57.198Z"
   },
   {
    "duration": 281,
    "start_time": "2023-06-07T19:40:59.314Z"
   },
   {
    "duration": 173,
    "start_time": "2023-06-07T19:40:59.597Z"
   },
   {
    "duration": 543,
    "start_time": "2023-06-07T19:40:59.772Z"
   },
   {
    "duration": 10,
    "start_time": "2023-06-07T19:41:00.317Z"
   },
   {
    "duration": 193,
    "start_time": "2023-06-07T19:41:00.329Z"
   },
   {
    "duration": 2,
    "start_time": "2023-06-07T19:41:00.524Z"
   },
   {
    "duration": 57,
    "start_time": "2023-06-07T19:41:00.528Z"
   },
   {
    "duration": 239,
    "start_time": "2023-06-07T19:41:42.943Z"
   },
   {
    "duration": 374,
    "start_time": "2023-06-07T19:42:42.507Z"
   },
   {
    "duration": 362,
    "start_time": "2023-06-07T19:42:51.625Z"
   },
   {
    "duration": 187,
    "start_time": "2023-06-07T19:44:53.105Z"
   },
   {
    "duration": 171,
    "start_time": "2023-06-07T19:45:10.436Z"
   },
   {
    "duration": 169,
    "start_time": "2023-06-07T19:48:57.447Z"
   },
   {
    "duration": 11,
    "start_time": "2023-06-07T19:48:57.619Z"
   },
   {
    "duration": 97,
    "start_time": "2023-06-07T19:48:57.631Z"
   },
   {
    "duration": 2128,
    "start_time": "2023-06-07T19:48:57.731Z"
   },
   {
    "duration": 46,
    "start_time": "2023-06-07T19:48:59.865Z"
   },
   {
    "duration": 5,
    "start_time": "2023-06-07T19:48:59.913Z"
   },
   {
    "duration": 14,
    "start_time": "2023-06-07T19:48:59.919Z"
   },
   {
    "duration": 32,
    "start_time": "2023-06-07T19:48:59.935Z"
   },
   {
    "duration": 19,
    "start_time": "2023-06-07T19:48:59.968Z"
   },
   {
    "duration": 22,
    "start_time": "2023-06-07T19:48:59.989Z"
   },
   {
    "duration": 50,
    "start_time": "2023-06-07T19:49:00.013Z"
   },
   {
    "duration": 40,
    "start_time": "2023-06-07T19:49:00.069Z"
   },
   {
    "duration": 27,
    "start_time": "2023-06-07T19:49:00.111Z"
   },
   {
    "duration": 85,
    "start_time": "2023-06-07T19:49:00.140Z"
   },
   {
    "duration": 258,
    "start_time": "2023-06-07T19:49:00.227Z"
   },
   {
    "duration": 1543,
    "start_time": "2023-06-07T19:49:00.486Z"
   },
   {
    "duration": 1472,
    "start_time": "2023-06-07T19:49:02.032Z"
   },
   {
    "duration": 288,
    "start_time": "2023-06-07T19:49:03.506Z"
   },
   {
    "duration": 142,
    "start_time": "2023-06-07T19:49:03.796Z"
   },
   {
    "duration": 565,
    "start_time": "2023-06-07T19:49:03.946Z"
   },
   {
    "duration": 9,
    "start_time": "2023-06-07T19:49:04.513Z"
   },
   {
    "duration": 178,
    "start_time": "2023-06-07T19:49:04.523Z"
   },
   {
    "duration": 2,
    "start_time": "2023-06-07T19:49:04.703Z"
   },
   {
    "duration": 12,
    "start_time": "2023-06-07T19:49:04.706Z"
   },
   {
    "duration": 794,
    "start_time": "2023-06-07T19:50:50.531Z"
   },
   {
    "duration": 723,
    "start_time": "2023-06-07T19:50:53.869Z"
   },
   {
    "duration": 14,
    "start_time": "2023-06-07T20:01:45.185Z"
   },
   {
    "duration": 145,
    "start_time": "2023-06-07T20:02:07.036Z"
   },
   {
    "duration": 161,
    "start_time": "2023-06-07T20:02:56.265Z"
   },
   {
    "duration": 30,
    "start_time": "2023-06-07T20:02:56.429Z"
   },
   {
    "duration": 113,
    "start_time": "2023-06-07T20:02:56.463Z"
   },
   {
    "duration": 2332,
    "start_time": "2023-06-07T20:02:56.577Z"
   },
   {
    "duration": 59,
    "start_time": "2023-06-07T20:02:58.912Z"
   },
   {
    "duration": 6,
    "start_time": "2023-06-07T20:02:58.973Z"
   },
   {
    "duration": 35,
    "start_time": "2023-06-07T20:02:58.980Z"
   },
   {
    "duration": 20,
    "start_time": "2023-06-07T20:02:59.017Z"
   },
   {
    "duration": 28,
    "start_time": "2023-06-07T20:02:59.040Z"
   },
   {
    "duration": 30,
    "start_time": "2023-06-07T20:02:59.071Z"
   },
   {
    "duration": 37,
    "start_time": "2023-06-07T20:02:59.103Z"
   },
   {
    "duration": 22,
    "start_time": "2023-06-07T20:02:59.142Z"
   },
   {
    "duration": 24,
    "start_time": "2023-06-07T20:02:59.166Z"
   },
   {
    "duration": 71,
    "start_time": "2023-06-07T20:02:59.192Z"
   },
   {
    "duration": 255,
    "start_time": "2023-06-07T20:02:59.265Z"
   },
   {
    "duration": 2534,
    "start_time": "2023-06-07T20:02:59.522Z"
   },
   {
    "duration": 1505,
    "start_time": "2023-06-07T20:03:02.059Z"
   },
   {
    "duration": 306,
    "start_time": "2023-06-07T20:03:03.566Z"
   },
   {
    "duration": 186,
    "start_time": "2023-06-07T20:03:03.874Z"
   },
   {
    "duration": 707,
    "start_time": "2023-06-07T20:03:04.061Z"
   },
   {
    "duration": 8,
    "start_time": "2023-06-07T20:03:04.770Z"
   },
   {
    "duration": 159,
    "start_time": "2023-06-07T20:03:04.779Z"
   },
   {
    "duration": 3,
    "start_time": "2023-06-07T20:03:04.940Z"
   },
   {
    "duration": 26,
    "start_time": "2023-06-07T20:03:04.945Z"
   },
   {
    "duration": 136,
    "start_time": "2023-06-07T20:03:43.892Z"
   },
   {
    "duration": 137,
    "start_time": "2023-06-07T20:06:03.892Z"
   },
   {
    "duration": 141,
    "start_time": "2023-06-07T20:06:24.001Z"
   },
   {
    "duration": 137,
    "start_time": "2023-06-07T20:06:34.403Z"
   },
   {
    "duration": 164,
    "start_time": "2023-06-07T20:09:52.259Z"
   },
   {
    "duration": 315,
    "start_time": "2023-06-07T20:10:01.302Z"
   },
   {
    "duration": 168,
    "start_time": "2023-06-07T20:10:32.302Z"
   },
   {
    "duration": 171,
    "start_time": "2023-06-07T20:14:58.089Z"
   },
   {
    "duration": 500,
    "start_time": "2023-06-07T20:16:11.504Z"
   },
   {
    "duration": 5,
    "start_time": "2023-06-07T20:17:29.820Z"
   },
   {
    "duration": 7,
    "start_time": "2023-06-07T20:18:30.391Z"
   },
   {
    "duration": 138,
    "start_time": "2023-06-07T20:29:56.001Z"
   },
   {
    "duration": 12,
    "start_time": "2023-06-07T20:29:56.141Z"
   },
   {
    "duration": 93,
    "start_time": "2023-06-07T20:29:56.154Z"
   },
   {
    "duration": 2019,
    "start_time": "2023-06-07T20:29:56.248Z"
   },
   {
    "duration": 46,
    "start_time": "2023-06-07T20:29:58.269Z"
   },
   {
    "duration": 6,
    "start_time": "2023-06-07T20:29:58.317Z"
   },
   {
    "duration": 13,
    "start_time": "2023-06-07T20:29:58.347Z"
   },
   {
    "duration": 26,
    "start_time": "2023-06-07T20:29:58.362Z"
   },
   {
    "duration": 14,
    "start_time": "2023-06-07T20:29:58.390Z"
   },
   {
    "duration": 31,
    "start_time": "2023-06-07T20:29:58.405Z"
   },
   {
    "duration": 34,
    "start_time": "2023-06-07T20:29:58.437Z"
   },
   {
    "duration": 17,
    "start_time": "2023-06-07T20:29:58.473Z"
   },
   {
    "duration": 21,
    "start_time": "2023-06-07T20:29:58.492Z"
   },
   {
    "duration": 56,
    "start_time": "2023-06-07T20:29:58.516Z"
   },
   {
    "duration": 237,
    "start_time": "2023-06-07T20:29:58.573Z"
   },
   {
    "duration": 1400,
    "start_time": "2023-06-07T20:29:58.812Z"
   },
   {
    "duration": 1279,
    "start_time": "2023-06-07T20:30:00.214Z"
   },
   {
    "duration": 276,
    "start_time": "2023-06-07T20:30:01.495Z"
   },
   {
    "duration": 153,
    "start_time": "2023-06-07T20:30:01.773Z"
   },
   {
    "duration": 792,
    "start_time": "2023-06-07T20:30:01.929Z"
   },
   {
    "duration": 22,
    "start_time": "2023-06-07T20:30:02.723Z"
   },
   {
    "duration": 154,
    "start_time": "2023-06-07T20:30:02.747Z"
   },
   {
    "duration": 456,
    "start_time": "2023-06-07T20:30:02.903Z"
   },
   {
    "duration": 9,
    "start_time": "2023-06-07T20:30:03.360Z"
   },
   {
    "duration": 41,
    "start_time": "2023-06-07T20:30:03.370Z"
   },
   {
    "duration": 101,
    "start_time": "2023-06-07T20:30:03.413Z"
   },
   {
    "duration": 826,
    "start_time": "2023-06-08T05:33:30.639Z"
   },
   {
    "duration": 604,
    "start_time": "2023-06-08T05:33:35.504Z"
   },
   {
    "duration": 12,
    "start_time": "2023-06-08T05:33:36.111Z"
   },
   {
    "duration": 99,
    "start_time": "2023-06-08T05:33:36.125Z"
   },
   {
    "duration": 2191,
    "start_time": "2023-06-08T05:33:36.226Z"
   },
   {
    "duration": 59,
    "start_time": "2023-06-08T05:33:38.421Z"
   },
   {
    "duration": 7,
    "start_time": "2023-06-08T05:33:38.482Z"
   },
   {
    "duration": 16,
    "start_time": "2023-06-08T05:33:38.491Z"
   },
   {
    "duration": 33,
    "start_time": "2023-06-08T05:33:38.509Z"
   },
   {
    "duration": 7,
    "start_time": "2023-06-08T05:33:38.544Z"
   },
   {
    "duration": 17,
    "start_time": "2023-06-08T05:33:38.553Z"
   },
   {
    "duration": 22,
    "start_time": "2023-06-08T05:33:38.573Z"
   },
   {
    "duration": 53,
    "start_time": "2023-06-08T05:33:38.597Z"
   },
   {
    "duration": 17,
    "start_time": "2023-06-08T05:33:38.652Z"
   },
   {
    "duration": 96,
    "start_time": "2023-06-08T05:33:38.672Z"
   },
   {
    "duration": 250,
    "start_time": "2023-06-08T05:33:38.770Z"
   },
   {
    "duration": 1603,
    "start_time": "2023-06-08T05:33:39.022Z"
   },
   {
    "duration": 1240,
    "start_time": "2023-06-08T05:33:40.628Z"
   },
   {
    "duration": 280,
    "start_time": "2023-06-08T05:33:41.870Z"
   },
   {
    "duration": 303,
    "start_time": "2023-06-08T05:33:42.154Z"
   },
   {
    "duration": 685,
    "start_time": "2023-06-08T05:33:42.460Z"
   },
   {
    "duration": 9,
    "start_time": "2023-06-08T05:33:43.148Z"
   },
   {
    "duration": 172,
    "start_time": "2023-06-08T05:33:43.159Z"
   },
   {
    "duration": 462,
    "start_time": "2023-06-08T05:33:43.333Z"
   },
   {
    "duration": 7,
    "start_time": "2023-06-08T05:33:43.797Z"
   },
   {
    "duration": 9,
    "start_time": "2023-06-08T05:33:43.806Z"
   },
   {
    "duration": 29,
    "start_time": "2023-06-08T05:33:43.818Z"
   },
   {
    "duration": 150,
    "start_time": "2023-06-08T05:35:27.307Z"
   },
   {
    "duration": 169,
    "start_time": "2023-06-08T05:35:34.405Z"
   },
   {
    "duration": 154,
    "start_time": "2023-06-08T05:35:40.840Z"
   },
   {
    "duration": 147,
    "start_time": "2023-06-08T05:35:46.863Z"
   },
   {
    "duration": 153,
    "start_time": "2023-06-08T05:35:55.027Z"
   },
   {
    "duration": 134,
    "start_time": "2023-06-08T05:36:36.884Z"
   },
   {
    "duration": 165,
    "start_time": "2023-06-08T05:36:42.971Z"
   },
   {
    "duration": 397,
    "start_time": "2023-06-08T05:36:47.570Z"
   },
   {
    "duration": 21,
    "start_time": "2023-06-08T06:12:25.480Z"
   },
   {
    "duration": 169,
    "start_time": "2023-06-08T06:12:43.608Z"
   },
   {
    "duration": 12,
    "start_time": "2023-06-08T06:12:43.779Z"
   },
   {
    "duration": 104,
    "start_time": "2023-06-08T06:12:43.793Z"
   },
   {
    "duration": 2339,
    "start_time": "2023-06-08T06:12:43.899Z"
   },
   {
    "duration": 56,
    "start_time": "2023-06-08T06:12:46.242Z"
   },
   {
    "duration": 6,
    "start_time": "2023-06-08T06:12:46.301Z"
   },
   {
    "duration": 41,
    "start_time": "2023-06-08T06:12:46.308Z"
   },
   {
    "duration": 54,
    "start_time": "2023-06-08T06:12:46.354Z"
   },
   {
    "duration": 24,
    "start_time": "2023-06-08T06:12:48.462Z"
   },
   {
    "duration": 239,
    "start_time": "2023-06-08T06:13:43.845Z"
   },
   {
    "duration": 16,
    "start_time": "2023-06-08T06:13:44.087Z"
   },
   {
    "duration": 179,
    "start_time": "2023-06-08T06:13:44.105Z"
   },
   {
    "duration": 2817,
    "start_time": "2023-06-08T06:13:44.286Z"
   },
   {
    "duration": 38,
    "start_time": "2023-06-08T06:13:47.456Z"
   },
   {
    "duration": 227,
    "start_time": "2023-06-08T06:13:58.495Z"
   },
   {
    "duration": 13,
    "start_time": "2023-06-08T06:13:58.725Z"
   },
   {
    "duration": 246,
    "start_time": "2023-06-08T06:13:58.741Z"
   },
   {
    "duration": 2994,
    "start_time": "2023-06-08T06:13:58.991Z"
   },
   {
    "duration": 66,
    "start_time": "2023-06-08T06:14:01.988Z"
   },
   {
    "duration": 109,
    "start_time": "2023-06-08T06:14:02.056Z"
   },
   {
    "duration": 173,
    "start_time": "2023-06-08T06:14:10.393Z"
   },
   {
    "duration": 14,
    "start_time": "2023-06-08T06:14:10.568Z"
   },
   {
    "duration": 120,
    "start_time": "2023-06-08T06:14:10.584Z"
   },
   {
    "duration": 2816,
    "start_time": "2023-06-08T06:14:10.706Z"
   },
   {
    "duration": 70,
    "start_time": "2023-06-08T06:14:13.526Z"
   },
   {
    "duration": 14,
    "start_time": "2023-06-08T06:14:13.600Z"
   },
   {
    "duration": 26,
    "start_time": "2023-06-08T06:14:15.078Z"
   },
   {
    "duration": 151,
    "start_time": "2023-06-08T06:14:25.077Z"
   },
   {
    "duration": 17,
    "start_time": "2023-06-08T06:14:25.230Z"
   },
   {
    "duration": 118,
    "start_time": "2023-06-08T06:14:25.249Z"
   },
   {
    "duration": 2410,
    "start_time": "2023-06-08T06:14:25.374Z"
   },
   {
    "duration": 70,
    "start_time": "2023-06-08T06:14:27.786Z"
   },
   {
    "duration": 10,
    "start_time": "2023-06-08T06:14:27.859Z"
   },
   {
    "duration": 31,
    "start_time": "2023-06-08T06:14:27.870Z"
   },
   {
    "duration": 18,
    "start_time": "2023-06-08T06:14:27.903Z"
   },
   {
    "duration": 25,
    "start_time": "2023-06-08T06:14:30.768Z"
   },
   {
    "duration": 197,
    "start_time": "2023-06-08T06:16:01.028Z"
   },
   {
    "duration": 20,
    "start_time": "2023-06-08T06:16:01.229Z"
   },
   {
    "duration": 180,
    "start_time": "2023-06-08T06:16:01.251Z"
   },
   {
    "duration": 2922,
    "start_time": "2023-06-08T06:16:01.434Z"
   },
   {
    "duration": 74,
    "start_time": "2023-06-08T06:16:04.360Z"
   },
   {
    "duration": 13,
    "start_time": "2023-06-08T06:16:04.436Z"
   },
   {
    "duration": 50,
    "start_time": "2023-06-08T06:16:04.455Z"
   },
   {
    "duration": 20,
    "start_time": "2023-06-08T06:16:06.497Z"
   },
   {
    "duration": 269,
    "start_time": "2023-06-08T06:16:31.620Z"
   },
   {
    "duration": 16,
    "start_time": "2023-06-08T06:16:31.892Z"
   },
   {
    "duration": 136,
    "start_time": "2023-06-08T06:16:31.911Z"
   },
   {
    "duration": 2689,
    "start_time": "2023-06-08T06:16:32.049Z"
   },
   {
    "duration": 79,
    "start_time": "2023-06-08T06:16:34.742Z"
   },
   {
    "duration": 29,
    "start_time": "2023-06-08T06:16:34.824Z"
   },
   {
    "duration": 42,
    "start_time": "2023-06-08T06:16:34.856Z"
   },
   {
    "duration": 10,
    "start_time": "2023-06-08T06:16:34.901Z"
   },
   {
    "duration": 20,
    "start_time": "2023-06-08T06:16:36.680Z"
   },
   {
    "duration": 28,
    "start_time": "2023-06-08T06:16:49.240Z"
   },
   {
    "duration": 17,
    "start_time": "2023-06-08T06:16:51.774Z"
   },
   {
    "duration": 17,
    "start_time": "2023-06-08T06:17:11.158Z"
   },
   {
    "duration": 14,
    "start_time": "2023-06-08T06:17:13.883Z"
   },
   {
    "duration": 214,
    "start_time": "2023-06-08T06:17:18.361Z"
   },
   {
    "duration": 22,
    "start_time": "2023-06-08T06:17:18.581Z"
   },
   {
    "duration": 115,
    "start_time": "2023-06-08T06:17:18.606Z"
   },
   {
    "duration": 2737,
    "start_time": "2023-06-08T06:17:18.723Z"
   },
   {
    "duration": 62,
    "start_time": "2023-06-08T06:17:21.464Z"
   },
   {
    "duration": 19,
    "start_time": "2023-06-08T06:17:21.541Z"
   },
   {
    "duration": 67,
    "start_time": "2023-06-08T06:17:21.563Z"
   },
   {
    "duration": 81,
    "start_time": "2023-06-08T06:17:21.633Z"
   },
   {
    "duration": 101,
    "start_time": "2023-06-08T06:17:21.721Z"
   },
   {
    "duration": 147,
    "start_time": "2023-06-08T06:18:16.562Z"
   },
   {
    "duration": 9,
    "start_time": "2023-06-08T06:18:16.711Z"
   },
   {
    "duration": 115,
    "start_time": "2023-06-08T06:18:16.722Z"
   },
   {
    "duration": 2506,
    "start_time": "2023-06-08T06:18:16.840Z"
   },
   {
    "duration": 55,
    "start_time": "2023-06-08T06:18:19.351Z"
   },
   {
    "duration": 7,
    "start_time": "2023-06-08T06:18:19.408Z"
   },
   {
    "duration": 42,
    "start_time": "2023-06-08T06:18:19.417Z"
   },
   {
    "duration": 32,
    "start_time": "2023-06-08T06:18:19.465Z"
   },
   {
    "duration": 18,
    "start_time": "2023-06-08T06:18:21.527Z"
   },
   {
    "duration": 10,
    "start_time": "2023-06-08T06:27:13.767Z"
   },
   {
    "duration": 16,
    "start_time": "2023-06-08T06:27:16.418Z"
   },
   {
    "duration": 9,
    "start_time": "2023-06-08T06:27:21.998Z"
   },
   {
    "duration": 19,
    "start_time": "2023-06-08T06:27:24.101Z"
   },
   {
    "duration": 240,
    "start_time": "2023-06-08T06:27:27.792Z"
   },
   {
    "duration": 14,
    "start_time": "2023-06-08T06:27:28.034Z"
   },
   {
    "duration": 149,
    "start_time": "2023-06-08T06:27:28.052Z"
   },
   {
    "duration": 3236,
    "start_time": "2023-06-08T06:27:28.203Z"
   },
   {
    "duration": 59,
    "start_time": "2023-06-08T06:27:31.443Z"
   },
   {
    "duration": 15,
    "start_time": "2023-06-08T06:27:31.505Z"
   },
   {
    "duration": 64,
    "start_time": "2023-06-08T06:27:31.522Z"
   },
   {
    "duration": 9,
    "start_time": "2023-06-08T06:27:31.589Z"
   },
   {
    "duration": 27,
    "start_time": "2023-06-08T06:27:31.601Z"
   },
   {
    "duration": 23,
    "start_time": "2023-06-08T06:27:40.812Z"
   },
   {
    "duration": 192,
    "start_time": "2023-06-08T06:27:58.520Z"
   },
   {
    "duration": 15,
    "start_time": "2023-06-08T06:27:58.714Z"
   },
   {
    "duration": 99,
    "start_time": "2023-06-08T06:27:58.731Z"
   },
   {
    "duration": 2400,
    "start_time": "2023-06-08T06:27:58.832Z"
   },
   {
    "duration": 63,
    "start_time": "2023-06-08T06:28:01.235Z"
   },
   {
    "duration": 22,
    "start_time": "2023-06-08T06:28:01.300Z"
   },
   {
    "duration": 33,
    "start_time": "2023-06-08T06:28:01.324Z"
   },
   {
    "duration": 52,
    "start_time": "2023-06-08T06:28:01.363Z"
   },
   {
    "duration": 24,
    "start_time": "2023-06-08T06:28:03.539Z"
   },
   {
    "duration": 25,
    "start_time": "2023-06-08T06:34:51.075Z"
   },
   {
    "duration": 178,
    "start_time": "2023-06-08T06:34:55.815Z"
   },
   {
    "duration": 12,
    "start_time": "2023-06-08T06:34:55.996Z"
   },
   {
    "duration": 113,
    "start_time": "2023-06-08T06:34:56.010Z"
   },
   {
    "duration": 2421,
    "start_time": "2023-06-08T06:34:56.126Z"
   },
   {
    "duration": 59,
    "start_time": "2023-06-08T06:34:58.550Z"
   },
   {
    "duration": 7,
    "start_time": "2023-06-08T06:34:58.612Z"
   },
   {
    "duration": 28,
    "start_time": "2023-06-08T06:34:58.621Z"
   },
   {
    "duration": 57,
    "start_time": "2023-06-08T06:34:58.662Z"
   },
   {
    "duration": 170,
    "start_time": "2023-06-08T06:35:09.739Z"
   },
   {
    "duration": 12,
    "start_time": "2023-06-08T06:35:09.912Z"
   },
   {
    "duration": 105,
    "start_time": "2023-06-08T06:35:09.927Z"
   },
   {
    "duration": 2768,
    "start_time": "2023-06-08T06:35:10.034Z"
   },
   {
    "duration": 73,
    "start_time": "2023-06-08T06:35:12.805Z"
   },
   {
    "duration": 8,
    "start_time": "2023-06-08T06:35:12.880Z"
   },
   {
    "duration": 16,
    "start_time": "2023-06-08T06:35:12.890Z"
   },
   {
    "duration": 20,
    "start_time": "2023-06-08T06:35:16.303Z"
   },
   {
    "duration": 35,
    "start_time": "2023-06-08T06:35:23.560Z"
   },
   {
    "duration": 32,
    "start_time": "2023-06-08T06:35:29.263Z"
   },
   {
    "duration": 43,
    "start_time": "2023-06-08T06:36:03.729Z"
   },
   {
    "duration": 231,
    "start_time": "2023-06-08T06:36:08.165Z"
   },
   {
    "duration": 14,
    "start_time": "2023-06-08T06:36:08.402Z"
   },
   {
    "duration": 164,
    "start_time": "2023-06-08T06:36:08.419Z"
   },
   {
    "duration": 2729,
    "start_time": "2023-06-08T06:36:08.585Z"
   },
   {
    "duration": 68,
    "start_time": "2023-06-08T06:36:11.317Z"
   },
   {
    "duration": 7,
    "start_time": "2023-06-08T06:36:11.387Z"
   },
   {
    "duration": 33,
    "start_time": "2023-06-08T06:36:11.400Z"
   },
   {
    "duration": 63,
    "start_time": "2023-06-08T06:36:11.435Z"
   },
   {
    "duration": 218,
    "start_time": "2023-06-08T06:36:24.695Z"
   },
   {
    "duration": 15,
    "start_time": "2023-06-08T06:36:24.916Z"
   },
   {
    "duration": 147,
    "start_time": "2023-06-08T06:36:24.934Z"
   },
   {
    "duration": 2886,
    "start_time": "2023-06-08T06:36:25.084Z"
   },
   {
    "duration": 63,
    "start_time": "2023-06-08T06:36:27.974Z"
   },
   {
    "duration": 13,
    "start_time": "2023-06-08T06:36:28.040Z"
   },
   {
    "duration": 140,
    "start_time": "2023-06-08T06:36:28.056Z"
   },
   {
    "duration": 56,
    "start_time": "2023-06-08T06:36:31.263Z"
   },
   {
    "duration": 120,
    "start_time": "2023-06-08T06:43:24.732Z"
   },
   {
    "duration": 229,
    "start_time": "2023-06-08T06:43:32.371Z"
   },
   {
    "duration": 10,
    "start_time": "2023-06-08T06:43:32.603Z"
   },
   {
    "duration": 119,
    "start_time": "2023-06-08T06:43:32.615Z"
   },
   {
    "duration": 2984,
    "start_time": "2023-06-08T06:43:32.736Z"
   },
   {
    "duration": 71,
    "start_time": "2023-06-08T06:43:35.724Z"
   },
   {
    "duration": 7,
    "start_time": "2023-06-08T06:43:35.798Z"
   },
   {
    "duration": 42,
    "start_time": "2023-06-08T06:43:35.807Z"
   },
   {
    "duration": 118,
    "start_time": "2023-06-08T06:43:38.697Z"
   },
   {
    "duration": 120,
    "start_time": "2023-06-08T06:44:19.767Z"
   },
   {
    "duration": 140,
    "start_time": "2023-06-08T06:45:35.839Z"
   },
   {
    "duration": 250,
    "start_time": "2023-06-08T06:46:23.566Z"
   },
   {
    "duration": 13,
    "start_time": "2023-06-08T06:46:23.819Z"
   },
   {
    "duration": 246,
    "start_time": "2023-06-08T06:46:23.843Z"
   },
   {
    "duration": 3101,
    "start_time": "2023-06-08T06:46:24.092Z"
   },
   {
    "duration": 120,
    "start_time": "2023-06-08T06:46:27.203Z"
   },
   {
    "duration": 192,
    "start_time": "2023-06-08T06:46:27.325Z"
   },
   {
    "duration": 114,
    "start_time": "2023-06-08T06:46:27.519Z"
   },
   {
    "duration": 148,
    "start_time": "2023-06-08T06:46:30.668Z"
   },
   {
    "duration": 222,
    "start_time": "2023-06-08T06:46:45.437Z"
   },
   {
    "duration": 25,
    "start_time": "2023-06-08T06:46:45.662Z"
   },
   {
    "duration": 141,
    "start_time": "2023-06-08T06:46:45.692Z"
   },
   {
    "duration": 3334,
    "start_time": "2023-06-08T06:46:45.836Z"
   },
   {
    "duration": 75,
    "start_time": "2023-06-08T06:46:49.174Z"
   },
   {
    "duration": 165,
    "start_time": "2023-06-08T06:46:49.252Z"
   },
   {
    "duration": 96,
    "start_time": "2023-06-08T06:46:49.420Z"
   },
   {
    "duration": 147,
    "start_time": "2023-06-08T06:46:52.786Z"
   },
   {
    "duration": 142,
    "start_time": "2023-06-08T06:47:36.301Z"
   },
   {
    "duration": 114,
    "start_time": "2023-06-08T06:57:27.812Z"
   },
   {
    "duration": 79,
    "start_time": "2023-06-08T06:58:29.450Z"
   },
   {
    "duration": 100,
    "start_time": "2023-06-08T06:58:39.091Z"
   },
   {
    "duration": 203,
    "start_time": "2023-06-08T06:58:50.326Z"
   },
   {
    "duration": 23,
    "start_time": "2023-06-08T06:58:50.532Z"
   },
   {
    "duration": 198,
    "start_time": "2023-06-08T06:58:50.557Z"
   },
   {
    "duration": 2792,
    "start_time": "2023-06-08T06:58:50.761Z"
   },
   {
    "duration": 59,
    "start_time": "2023-06-08T06:58:53.556Z"
   },
   {
    "duration": 7,
    "start_time": "2023-06-08T06:58:53.617Z"
   },
   {
    "duration": 131,
    "start_time": "2023-06-08T06:58:58.528Z"
   },
   {
    "duration": 95,
    "start_time": "2023-06-08T07:00:06.607Z"
   },
   {
    "duration": 71,
    "start_time": "2023-06-08T07:00:13.399Z"
   },
   {
    "duration": 196,
    "start_time": "2023-06-08T07:00:40.918Z"
   },
   {
    "duration": 11,
    "start_time": "2023-06-08T07:00:41.117Z"
   },
   {
    "duration": 120,
    "start_time": "2023-06-08T07:00:41.131Z"
   },
   {
    "duration": 3200,
    "start_time": "2023-06-08T07:00:41.254Z"
   },
   {
    "duration": 54,
    "start_time": "2023-06-08T07:00:44.459Z"
   },
   {
    "duration": 25,
    "start_time": "2023-06-08T07:00:44.515Z"
   },
   {
    "duration": 158,
    "start_time": "2023-06-08T07:00:44.548Z"
   },
   {
    "duration": 14,
    "start_time": "2023-06-08T07:00:44.709Z"
   },
   {
    "duration": 30,
    "start_time": "2023-06-08T07:00:44.726Z"
   },
   {
    "duration": 47,
    "start_time": "2023-06-08T07:00:47.241Z"
   },
   {
    "duration": 231,
    "start_time": "2023-06-08T07:01:25.404Z"
   },
   {
    "duration": 35,
    "start_time": "2023-06-08T07:01:25.645Z"
   },
   {
    "duration": 206,
    "start_time": "2023-06-08T07:01:25.685Z"
   },
   {
    "duration": 3266,
    "start_time": "2023-06-08T07:01:25.895Z"
   },
   {
    "duration": 91,
    "start_time": "2023-06-08T07:01:29.164Z"
   },
   {
    "duration": 85,
    "start_time": "2023-06-08T07:01:29.260Z"
   },
   {
    "duration": 387,
    "start_time": "2023-06-08T07:01:29.352Z"
   },
   {
    "duration": 91,
    "start_time": "2023-06-08T07:01:29.748Z"
   },
   {
    "duration": 214,
    "start_time": "2023-06-08T07:01:29.841Z"
   },
   {
    "duration": 331,
    "start_time": "2023-06-08T07:01:30.058Z"
   },
   {
    "duration": 19,
    "start_time": "2023-06-08T07:01:34.894Z"
   },
   {
    "duration": 226,
    "start_time": "2023-06-08T07:02:43.800Z"
   },
   {
    "duration": 30,
    "start_time": "2023-06-08T07:02:44.029Z"
   },
   {
    "duration": 397,
    "start_time": "2023-06-08T07:02:44.062Z"
   },
   {
    "duration": 2803,
    "start_time": "2023-06-08T07:02:44.462Z"
   },
   {
    "duration": 58,
    "start_time": "2023-06-08T07:02:47.268Z"
   },
   {
    "duration": 284,
    "start_time": "2023-06-08T07:02:47.330Z"
   },
   {
    "duration": 353,
    "start_time": "2023-06-08T07:02:47.618Z"
   },
   {
    "duration": 181,
    "start_time": "2023-06-08T07:02:47.979Z"
   },
   {
    "duration": 337,
    "start_time": "2023-06-08T07:02:48.163Z"
   },
   {
    "duration": 219,
    "start_time": "2023-06-08T07:02:48.508Z"
   },
   {
    "duration": 285,
    "start_time": "2023-06-08T07:02:48.731Z"
   },
   {
    "duration": 497,
    "start_time": "2023-06-08T07:02:49.018Z"
   },
   {
    "duration": 388,
    "start_time": "2023-06-08T07:02:49.521Z"
   },
   {
    "duration": 295,
    "start_time": "2023-06-08T07:02:49.912Z"
   },
   {
    "duration": 542,
    "start_time": "2023-06-08T07:02:50.211Z"
   },
   {
    "duration": 652,
    "start_time": "2023-06-08T07:02:50.755Z"
   },
   {
    "duration": 2207,
    "start_time": "2023-06-08T07:02:51.410Z"
   },
   {
    "duration": 1953,
    "start_time": "2023-06-08T07:02:53.621Z"
   },
   {
    "duration": 385,
    "start_time": "2023-06-08T07:02:55.582Z"
   },
   {
    "duration": 213,
    "start_time": "2023-06-08T07:02:55.969Z"
   },
   {
    "duration": 1171,
    "start_time": "2023-06-08T07:02:56.192Z"
   },
   {
    "duration": 18,
    "start_time": "2023-06-08T07:02:57.371Z"
   },
   {
    "duration": 522,
    "start_time": "2023-06-08T07:02:57.391Z"
   },
   {
    "duration": 923,
    "start_time": "2023-06-08T07:02:57.917Z"
   },
   {
    "duration": 14,
    "start_time": "2023-06-08T07:02:58.854Z"
   },
   {
    "duration": 243,
    "start_time": "2023-06-08T07:02:58.871Z"
   },
   {
    "duration": 262,
    "start_time": "2023-06-08T07:02:59.117Z"
   },
   {
    "duration": 31,
    "start_time": "2023-06-08T09:40:46.831Z"
   },
   {
    "duration": 18,
    "start_time": "2023-06-08T09:40:54.818Z"
   },
   {
    "duration": 173,
    "start_time": "2023-06-08T09:40:58.885Z"
   },
   {
    "duration": 17,
    "start_time": "2023-06-08T09:40:59.062Z"
   },
   {
    "duration": 124,
    "start_time": "2023-06-08T09:40:59.083Z"
   },
   {
    "duration": 3840,
    "start_time": "2023-06-08T09:40:59.209Z"
   },
   {
    "duration": 56,
    "start_time": "2023-06-08T09:41:03.053Z"
   },
   {
    "duration": 60,
    "start_time": "2023-06-08T09:41:03.111Z"
   },
   {
    "duration": 127,
    "start_time": "2023-06-08T09:41:03.173Z"
   },
   {
    "duration": 13,
    "start_time": "2023-06-08T09:41:03.302Z"
   },
   {
    "duration": 77,
    "start_time": "2023-06-08T09:41:03.317Z"
   },
   {
    "duration": 31,
    "start_time": "2023-06-08T09:41:03.397Z"
   },
   {
    "duration": 78,
    "start_time": "2023-06-08T09:41:03.430Z"
   },
   {
    "duration": 128,
    "start_time": "2023-06-08T09:41:03.511Z"
   },
   {
    "duration": 42,
    "start_time": "2023-06-08T09:41:03.641Z"
   },
   {
    "duration": 62,
    "start_time": "2023-06-08T09:41:03.687Z"
   },
   {
    "duration": 176,
    "start_time": "2023-06-08T09:41:03.752Z"
   },
   {
    "duration": 507,
    "start_time": "2023-06-08T09:41:03.930Z"
   },
   {
    "duration": 1895,
    "start_time": "2023-06-08T09:41:04.439Z"
   },
   {
    "duration": 1671,
    "start_time": "2023-06-08T09:41:06.336Z"
   },
   {
    "duration": 414,
    "start_time": "2023-06-08T09:41:08.010Z"
   },
   {
    "duration": 196,
    "start_time": "2023-06-08T09:41:08.427Z"
   },
   {
    "duration": 1014,
    "start_time": "2023-06-08T09:41:08.626Z"
   },
   {
    "duration": 13,
    "start_time": "2023-06-08T09:41:09.644Z"
   },
   {
    "duration": 244,
    "start_time": "2023-06-08T09:41:09.659Z"
   },
   {
    "duration": 574,
    "start_time": "2023-06-08T09:41:09.908Z"
   },
   {
    "duration": 12,
    "start_time": "2023-06-08T09:41:10.485Z"
   },
   {
    "duration": 16,
    "start_time": "2023-06-08T09:41:10.500Z"
   },
   {
    "duration": 0,
    "start_time": "2023-06-08T09:41:10.548Z"
   },
   {
    "duration": 15,
    "start_time": "2023-06-08T09:41:25.700Z"
   },
   {
    "duration": 31,
    "start_time": "2023-06-08T09:41:35.220Z"
   },
   {
    "duration": 31,
    "start_time": "2023-06-08T09:42:42.268Z"
   },
   {
    "duration": 27,
    "start_time": "2023-06-08T09:42:50.574Z"
   },
   {
    "duration": 57,
    "start_time": "2023-06-08T09:43:57.805Z"
   },
   {
    "duration": 39,
    "start_time": "2023-06-08T09:44:19.814Z"
   },
   {
    "duration": 27,
    "start_time": "2023-06-08T09:44:32.801Z"
   },
   {
    "duration": 27,
    "start_time": "2023-06-08T09:46:15.209Z"
   },
   {
    "duration": 35,
    "start_time": "2023-06-08T09:46:46.326Z"
   },
   {
    "duration": 42,
    "start_time": "2023-06-08T09:46:55.070Z"
   },
   {
    "duration": 64,
    "start_time": "2023-06-08T09:47:10.568Z"
   },
   {
    "duration": 37,
    "start_time": "2023-06-08T10:30:58.820Z"
   },
   {
    "duration": 11,
    "start_time": "2023-06-08T10:31:01.494Z"
   },
   {
    "duration": 15,
    "start_time": "2023-06-08T10:31:04.334Z"
   },
   {
    "duration": 33,
    "start_time": "2023-06-08T11:00:00.766Z"
   },
   {
    "duration": 357,
    "start_time": "2023-06-08T11:00:42.267Z"
   },
   {
    "duration": 179,
    "start_time": "2023-06-08T11:01:49.562Z"
   },
   {
    "duration": 358,
    "start_time": "2023-06-08T11:01:55.962Z"
   },
   {
    "duration": 41,
    "start_time": "2023-06-08T11:06:29.155Z"
   },
   {
    "duration": 369,
    "start_time": "2023-06-08T11:06:54.026Z"
   },
   {
    "duration": 41,
    "start_time": "2023-06-08T11:07:07.384Z"
   },
   {
    "duration": 25,
    "start_time": "2023-06-08T11:08:21.828Z"
   },
   {
    "duration": 27,
    "start_time": "2023-06-08T11:08:32.913Z"
   },
   {
    "duration": 284,
    "start_time": "2023-06-08T11:08:47.367Z"
   },
   {
    "duration": 354,
    "start_time": "2023-06-08T11:09:27.637Z"
   },
   {
    "duration": 391,
    "start_time": "2023-06-08T11:09:33.130Z"
   },
   {
    "duration": 407,
    "start_time": "2023-06-08T11:09:45.331Z"
   },
   {
    "duration": 315,
    "start_time": "2023-06-08T11:14:12.470Z"
   },
   {
    "duration": 24,
    "start_time": "2023-06-08T11:18:38.294Z"
   },
   {
    "duration": 462,
    "start_time": "2023-06-08T11:19:17.630Z"
   },
   {
    "duration": 409,
    "start_time": "2023-06-08T11:19:58.699Z"
   },
   {
    "duration": 22,
    "start_time": "2023-06-08T11:19:59.111Z"
   },
   {
    "duration": 372,
    "start_time": "2023-06-08T11:19:59.142Z"
   },
   {
    "duration": 2970,
    "start_time": "2023-06-08T11:19:59.517Z"
   },
   {
    "duration": 80,
    "start_time": "2023-06-08T11:20:02.494Z"
   },
   {
    "duration": 91,
    "start_time": "2023-06-08T11:20:02.581Z"
   },
   {
    "duration": 392,
    "start_time": "2023-06-08T11:20:02.679Z"
   },
   {
    "duration": 27,
    "start_time": "2023-06-08T11:20:03.078Z"
   },
   {
    "duration": 205,
    "start_time": "2023-06-08T11:20:03.112Z"
   },
   {
    "duration": 53,
    "start_time": "2023-06-08T11:20:03.324Z"
   },
   {
    "duration": 103,
    "start_time": "2023-06-08T11:20:03.380Z"
   },
   {
    "duration": 107,
    "start_time": "2023-06-08T11:20:03.488Z"
   },
   {
    "duration": 59,
    "start_time": "2023-06-08T11:20:03.597Z"
   },
   {
    "duration": 49,
    "start_time": "2023-06-08T11:20:03.663Z"
   },
   {
    "duration": 235,
    "start_time": "2023-06-08T11:20:03.722Z"
   },
   {
    "duration": 699,
    "start_time": "2023-06-08T11:20:03.970Z"
   },
   {
    "duration": 2527,
    "start_time": "2023-06-08T11:20:04.681Z"
   },
   {
    "duration": 3333,
    "start_time": "2023-06-08T11:20:07.213Z"
   },
   {
    "duration": 629,
    "start_time": "2023-06-08T11:20:10.557Z"
   },
   {
    "duration": 209,
    "start_time": "2023-06-08T11:20:11.189Z"
   },
   {
    "duration": 1229,
    "start_time": "2023-06-08T11:20:11.408Z"
   },
   {
    "duration": 49,
    "start_time": "2023-06-08T11:20:12.642Z"
   },
   {
    "duration": 372,
    "start_time": "2023-06-08T11:20:12.699Z"
   },
   {
    "duration": 825,
    "start_time": "2023-06-08T11:20:13.078Z"
   },
   {
    "duration": 21,
    "start_time": "2023-06-08T11:20:13.910Z"
   },
   {
    "duration": 139,
    "start_time": "2023-06-08T11:20:13.940Z"
   },
   {
    "duration": 170,
    "start_time": "2023-06-08T11:20:14.082Z"
   },
   {
    "duration": 46,
    "start_time": "2023-06-08T11:20:14.262Z"
   },
   {
    "duration": 377,
    "start_time": "2023-06-08T11:20:14.310Z"
   },
   {
    "duration": 291,
    "start_time": "2023-06-08T11:21:55.229Z"
   },
   {
    "duration": 390,
    "start_time": "2023-06-08T11:22:33.939Z"
   },
   {
    "duration": 50,
    "start_time": "2023-06-08T11:45:34.661Z"
   },
   {
    "duration": 228,
    "start_time": "2023-06-08T11:45:37.637Z"
   },
   {
    "duration": 21,
    "start_time": "2023-06-08T11:45:37.868Z"
   },
   {
    "duration": 189,
    "start_time": "2023-06-08T11:45:37.894Z"
   },
   {
    "duration": 3226,
    "start_time": "2023-06-08T11:45:38.089Z"
   },
   {
    "duration": 72,
    "start_time": "2023-06-08T11:45:41.322Z"
   },
   {
    "duration": 51,
    "start_time": "2023-06-08T11:45:41.396Z"
   },
   {
    "duration": 160,
    "start_time": "2023-06-08T11:45:41.450Z"
   },
   {
    "duration": 20,
    "start_time": "2023-06-08T11:45:41.617Z"
   },
   {
    "duration": 63,
    "start_time": "2023-06-08T11:45:41.639Z"
   },
   {
    "duration": 17,
    "start_time": "2023-06-08T11:45:41.706Z"
   },
   {
    "duration": 22,
    "start_time": "2023-06-08T11:45:41.730Z"
   },
   {
    "duration": 115,
    "start_time": "2023-06-08T11:45:41.754Z"
   },
   {
    "duration": 105,
    "start_time": "2023-06-08T11:45:41.874Z"
   },
   {
    "duration": 67,
    "start_time": "2023-06-08T11:45:41.992Z"
   },
   {
    "duration": 120,
    "start_time": "2023-06-08T11:45:42.069Z"
   },
   {
    "duration": 323,
    "start_time": "2023-06-08T11:45:42.198Z"
   },
   {
    "duration": 681,
    "start_time": "2023-06-08T11:45:42.532Z"
   },
   {
    "duration": 2134,
    "start_time": "2023-06-08T11:45:43.220Z"
   },
   {
    "duration": 2119,
    "start_time": "2023-06-08T11:45:45.360Z"
   },
   {
    "duration": 471,
    "start_time": "2023-06-08T11:45:47.494Z"
   },
   {
    "duration": 210,
    "start_time": "2023-06-08T11:45:47.972Z"
   },
   {
    "duration": 1234,
    "start_time": "2023-06-08T11:45:48.189Z"
   },
   {
    "duration": 16,
    "start_time": "2023-06-08T11:45:49.427Z"
   },
   {
    "duration": 620,
    "start_time": "2023-06-08T11:45:49.446Z"
   },
   {
    "duration": 716,
    "start_time": "2023-06-08T11:45:50.068Z"
   },
   {
    "duration": 12,
    "start_time": "2023-06-08T11:45:50.791Z"
   },
   {
    "duration": 169,
    "start_time": "2023-06-08T11:45:50.820Z"
   },
   {
    "duration": 33,
    "start_time": "2023-06-08T11:45:50.996Z"
   },
   {
    "duration": 74,
    "start_time": "2023-06-08T11:45:51.036Z"
   },
   {
    "duration": 397,
    "start_time": "2023-06-08T11:45:51.113Z"
   },
   {
    "duration": 23,
    "start_time": "2023-06-08T12:52:22.564Z"
   },
   {
    "duration": 11,
    "start_time": "2023-06-08T12:52:32.871Z"
   },
   {
    "duration": 1642,
    "start_time": "2023-06-08T12:54:50.462Z"
   },
   {
    "duration": 1792,
    "start_time": "2023-06-08T12:55:01.368Z"
   },
   {
    "duration": 2769,
    "start_time": "2023-06-08T12:58:00.685Z"
   },
   {
    "duration": 454,
    "start_time": "2023-06-08T15:47:37.544Z"
   },
   {
    "duration": 12,
    "start_time": "2023-06-08T15:47:38.001Z"
   },
   {
    "duration": 748,
    "start_time": "2023-06-08T15:47:38.015Z"
   },
   {
    "duration": 2732,
    "start_time": "2023-06-08T15:47:38.766Z"
   },
   {
    "duration": 73,
    "start_time": "2023-06-08T15:47:41.502Z"
   },
   {
    "duration": 125,
    "start_time": "2023-06-08T15:47:41.577Z"
   },
   {
    "duration": 204,
    "start_time": "2023-06-08T15:47:41.705Z"
   },
   {
    "duration": 193,
    "start_time": "2023-06-08T15:47:41.911Z"
   },
   {
    "duration": 150,
    "start_time": "2023-06-08T15:47:42.106Z"
   },
   {
    "duration": 137,
    "start_time": "2023-06-08T15:47:42.259Z"
   },
   {
    "duration": 177,
    "start_time": "2023-06-08T15:47:42.399Z"
   },
   {
    "duration": 180,
    "start_time": "2023-06-08T15:47:42.593Z"
   },
   {
    "duration": 117,
    "start_time": "2023-06-08T15:47:42.775Z"
   },
   {
    "duration": 144,
    "start_time": "2023-06-08T15:47:42.897Z"
   },
   {
    "duration": 129,
    "start_time": "2023-06-08T15:47:43.057Z"
   },
   {
    "duration": 206,
    "start_time": "2023-06-08T15:47:43.189Z"
   },
   {
    "duration": 449,
    "start_time": "2023-06-08T15:47:43.398Z"
   },
   {
    "duration": 1697,
    "start_time": "2023-06-08T15:47:43.854Z"
   },
   {
    "duration": 1500,
    "start_time": "2023-06-08T15:47:45.552Z"
   },
   {
    "duration": 365,
    "start_time": "2023-06-08T15:47:47.056Z"
   },
   {
    "duration": 195,
    "start_time": "2023-06-08T15:47:47.424Z"
   },
   {
    "duration": 948,
    "start_time": "2023-06-08T15:47:47.622Z"
   },
   {
    "duration": 15,
    "start_time": "2023-06-08T15:47:48.574Z"
   },
   {
    "duration": 277,
    "start_time": "2023-06-08T15:47:48.593Z"
   },
   {
    "duration": 648,
    "start_time": "2023-06-08T15:47:48.879Z"
   },
   {
    "duration": 22,
    "start_time": "2023-06-08T15:47:49.530Z"
   },
   {
    "duration": 138,
    "start_time": "2023-06-08T15:47:49.554Z"
   },
   {
    "duration": 25,
    "start_time": "2023-06-08T15:47:49.694Z"
   },
   {
    "duration": 40,
    "start_time": "2023-06-08T15:47:49.722Z"
   },
   {
    "duration": 269,
    "start_time": "2023-06-08T15:47:49.764Z"
   },
   {
    "duration": 196,
    "start_time": "2023-06-08T16:18:01.665Z"
   },
   {
    "duration": 15,
    "start_time": "2023-06-08T16:18:01.864Z"
   },
   {
    "duration": 109,
    "start_time": "2023-06-08T16:18:01.881Z"
   },
   {
    "duration": 2112,
    "start_time": "2023-06-08T16:18:01.993Z"
   },
   {
    "duration": 67,
    "start_time": "2023-06-08T16:18:04.108Z"
   },
   {
    "duration": 7,
    "start_time": "2023-06-08T16:18:04.178Z"
   },
   {
    "duration": 100,
    "start_time": "2023-06-08T16:18:04.187Z"
   },
   {
    "duration": 12,
    "start_time": "2023-06-08T16:18:04.289Z"
   },
   {
    "duration": 25,
    "start_time": "2023-06-08T16:18:04.303Z"
   },
   {
    "duration": 38,
    "start_time": "2023-06-08T16:18:04.330Z"
   },
   {
    "duration": 30,
    "start_time": "2023-06-08T16:18:04.370Z"
   },
   {
    "duration": 44,
    "start_time": "2023-06-08T16:18:04.401Z"
   },
   {
    "duration": 71,
    "start_time": "2023-06-08T16:18:04.447Z"
   },
   {
    "duration": 32,
    "start_time": "2023-06-08T16:18:04.522Z"
   },
   {
    "duration": 25,
    "start_time": "2023-06-08T16:18:04.561Z"
   },
   {
    "duration": 119,
    "start_time": "2023-06-08T16:18:04.588Z"
   },
   {
    "duration": 390,
    "start_time": "2023-06-08T16:18:04.710Z"
   },
   {
    "duration": 1477,
    "start_time": "2023-06-08T16:18:05.102Z"
   },
   {
    "duration": 2529,
    "start_time": "2023-06-08T16:18:06.581Z"
   },
   {
    "duration": 361,
    "start_time": "2023-06-08T16:18:09.113Z"
   },
   {
    "duration": 153,
    "start_time": "2023-06-08T16:18:09.476Z"
   },
   {
    "duration": 833,
    "start_time": "2023-06-08T16:18:09.630Z"
   },
   {
    "duration": 10,
    "start_time": "2023-06-08T16:18:10.465Z"
   },
   {
    "duration": 177,
    "start_time": "2023-06-08T16:18:10.476Z"
   },
   {
    "duration": 475,
    "start_time": "2023-06-08T16:18:10.655Z"
   },
   {
    "duration": 16,
    "start_time": "2023-06-08T16:18:11.132Z"
   },
   {
    "duration": 27,
    "start_time": "2023-06-08T16:18:11.149Z"
   },
   {
    "duration": 11,
    "start_time": "2023-06-08T16:18:11.178Z"
   },
   {
    "duration": 10,
    "start_time": "2023-06-08T16:18:11.191Z"
   },
   {
    "duration": 234,
    "start_time": "2023-06-08T16:18:11.203Z"
   },
   {
    "duration": 1053,
    "start_time": "2023-06-09T14:22:28.667Z"
   },
   {
    "duration": 11,
    "start_time": "2023-06-09T14:22:29.722Z"
   },
   {
    "duration": 88,
    "start_time": "2023-06-09T14:22:29.735Z"
   },
   {
    "duration": 2440,
    "start_time": "2023-06-09T14:22:29.825Z"
   },
   {
    "duration": 47,
    "start_time": "2023-06-09T14:22:32.268Z"
   },
   {
    "duration": 5,
    "start_time": "2023-06-09T14:22:32.317Z"
   },
   {
    "duration": 92,
    "start_time": "2023-06-09T14:22:32.324Z"
   },
   {
    "duration": 10,
    "start_time": "2023-06-09T14:22:32.419Z"
   },
   {
    "duration": 23,
    "start_time": "2023-06-09T14:22:32.431Z"
   },
   {
    "duration": 7,
    "start_time": "2023-06-09T14:22:32.456Z"
   },
   {
    "duration": 38,
    "start_time": "2023-06-09T14:22:32.465Z"
   },
   {
    "duration": 11,
    "start_time": "2023-06-09T14:22:32.505Z"
   },
   {
    "duration": 40,
    "start_time": "2023-06-09T14:22:32.517Z"
   },
   {
    "duration": 19,
    "start_time": "2023-06-09T14:22:32.560Z"
   },
   {
    "duration": 22,
    "start_time": "2023-06-09T14:22:32.581Z"
   },
   {
    "duration": 81,
    "start_time": "2023-06-09T14:22:32.605Z"
   },
   {
    "duration": 352,
    "start_time": "2023-06-09T14:22:32.688Z"
   },
   {
    "duration": 1464,
    "start_time": "2023-06-09T14:22:33.042Z"
   },
   {
    "duration": 1129,
    "start_time": "2023-06-09T14:22:34.508Z"
   },
   {
    "duration": 393,
    "start_time": "2023-06-09T14:22:35.638Z"
   },
   {
    "duration": 131,
    "start_time": "2023-06-09T14:22:36.033Z"
   },
   {
    "duration": 683,
    "start_time": "2023-06-09T14:22:36.165Z"
   },
   {
    "duration": 8,
    "start_time": "2023-06-09T14:22:36.850Z"
   },
   {
    "duration": 145,
    "start_time": "2023-06-09T14:22:36.860Z"
   },
   {
    "duration": 423,
    "start_time": "2023-06-09T14:22:37.007Z"
   },
   {
    "duration": 8,
    "start_time": "2023-06-09T14:22:37.431Z"
   },
   {
    "duration": 36,
    "start_time": "2023-06-09T14:22:37.440Z"
   },
   {
    "duration": 8,
    "start_time": "2023-06-09T14:22:37.478Z"
   },
   {
    "duration": 23,
    "start_time": "2023-06-09T14:22:37.487Z"
   },
   {
    "duration": 171,
    "start_time": "2023-06-09T14:22:37.511Z"
   },
   {
    "duration": 812,
    "start_time": "2023-06-09T15:31:34.768Z"
   },
   {
    "duration": 10,
    "start_time": "2023-06-09T15:31:35.583Z"
   },
   {
    "duration": 82,
    "start_time": "2023-06-09T15:31:35.595Z"
   },
   {
    "duration": 2253,
    "start_time": "2023-06-09T15:31:35.678Z"
   },
   {
    "duration": 39,
    "start_time": "2023-06-09T15:31:37.934Z"
   },
   {
    "duration": 4,
    "start_time": "2023-06-09T15:31:37.975Z"
   },
   {
    "duration": 66,
    "start_time": "2023-06-09T15:31:37.981Z"
   },
   {
    "duration": 12,
    "start_time": "2023-06-09T15:31:38.049Z"
   },
   {
    "duration": 8,
    "start_time": "2023-06-09T15:31:38.063Z"
   },
   {
    "duration": 10,
    "start_time": "2023-06-09T15:31:38.073Z"
   },
   {
    "duration": 32,
    "start_time": "2023-06-09T15:31:38.084Z"
   },
   {
    "duration": 15,
    "start_time": "2023-06-09T15:31:38.118Z"
   },
   {
    "duration": 35,
    "start_time": "2023-06-09T15:31:38.142Z"
   },
   {
    "duration": 18,
    "start_time": "2023-06-09T15:31:38.180Z"
   },
   {
    "duration": 37,
    "start_time": "2023-06-09T15:31:38.200Z"
   },
   {
    "duration": 79,
    "start_time": "2023-06-09T15:31:38.239Z"
   },
   {
    "duration": 365,
    "start_time": "2023-06-09T15:31:38.320Z"
   },
   {
    "duration": 1274,
    "start_time": "2023-06-09T15:31:38.686Z"
   },
   {
    "duration": 1109,
    "start_time": "2023-06-09T15:31:39.962Z"
   },
   {
    "duration": 338,
    "start_time": "2023-06-09T15:31:41.072Z"
   },
   {
    "duration": 133,
    "start_time": "2023-06-09T15:31:41.415Z"
   },
   {
    "duration": 704,
    "start_time": "2023-06-09T15:31:41.549Z"
   },
   {
    "duration": 8,
    "start_time": "2023-06-09T15:31:42.255Z"
   },
   {
    "duration": 152,
    "start_time": "2023-06-09T15:31:42.265Z"
   },
   {
    "duration": 389,
    "start_time": "2023-06-09T15:31:42.419Z"
   },
   {
    "duration": 12,
    "start_time": "2023-06-09T15:31:42.809Z"
   },
   {
    "duration": 38,
    "start_time": "2023-06-09T15:31:42.823Z"
   },
   {
    "duration": 8,
    "start_time": "2023-06-09T15:31:42.862Z"
   },
   {
    "duration": 19,
    "start_time": "2023-06-09T15:31:42.871Z"
   },
   {
    "duration": 195,
    "start_time": "2023-06-09T15:31:42.892Z"
   },
   {
    "duration": 155,
    "start_time": "2023-06-09T15:32:47.917Z"
   },
   {
    "duration": 9,
    "start_time": "2023-06-09T15:32:48.074Z"
   },
   {
    "duration": 105,
    "start_time": "2023-06-09T15:32:48.085Z"
   },
   {
    "duration": 1844,
    "start_time": "2023-06-09T15:32:48.193Z"
   },
   {
    "duration": 35,
    "start_time": "2023-06-09T15:32:50.038Z"
   },
   {
    "duration": 6,
    "start_time": "2023-06-09T15:32:50.075Z"
   },
   {
    "duration": 73,
    "start_time": "2023-06-09T15:32:50.082Z"
   },
   {
    "duration": 10,
    "start_time": "2023-06-09T15:32:50.157Z"
   },
   {
    "duration": 24,
    "start_time": "2023-06-09T15:32:50.168Z"
   },
   {
    "duration": 20,
    "start_time": "2023-06-09T15:32:50.194Z"
   },
   {
    "duration": 43,
    "start_time": "2023-06-09T15:32:50.216Z"
   },
   {
    "duration": 30,
    "start_time": "2023-06-09T15:32:50.261Z"
   },
   {
    "duration": 23,
    "start_time": "2023-06-09T15:32:50.293Z"
   },
   {
    "duration": 22,
    "start_time": "2023-06-09T15:32:50.317Z"
   },
   {
    "duration": 37,
    "start_time": "2023-06-09T15:32:50.341Z"
   },
   {
    "duration": 95,
    "start_time": "2023-06-09T15:33:07.212Z"
   },
   {
    "duration": 16,
    "start_time": "2023-06-09T15:33:13.465Z"
   },
   {
    "duration": 16,
    "start_time": "2023-06-09T15:33:23.583Z"
   },
   {
    "duration": 83,
    "start_time": "2023-06-09T15:33:25.597Z"
   },
   {
    "duration": 16,
    "start_time": "2023-06-09T15:33:38.382Z"
   },
   {
    "duration": 79,
    "start_time": "2023-06-09T15:33:40.434Z"
   },
   {
    "duration": 131,
    "start_time": "2023-06-09T15:34:40.103Z"
   },
   {
    "duration": 142,
    "start_time": "2023-06-09T15:34:55.963Z"
   },
   {
    "duration": 70,
    "start_time": "2023-06-09T15:35:27.033Z"
   },
   {
    "duration": 78,
    "start_time": "2023-06-09T15:35:44.003Z"
   },
   {
    "duration": 79,
    "start_time": "2023-06-09T15:35:47.505Z"
   },
   {
    "duration": 90,
    "start_time": "2023-06-09T15:36:08.368Z"
   },
   {
    "duration": 133,
    "start_time": "2023-06-09T15:36:29.401Z"
   },
   {
    "duration": 93,
    "start_time": "2023-06-09T15:36:54.634Z"
   },
   {
    "duration": 104,
    "start_time": "2023-06-09T15:36:58.581Z"
   },
   {
    "duration": 129,
    "start_time": "2023-06-09T15:39:16.241Z"
   },
   {
    "duration": 99,
    "start_time": "2023-06-09T15:39:22.174Z"
   },
   {
    "duration": 79,
    "start_time": "2023-06-09T15:39:47.936Z"
   },
   {
    "duration": 148,
    "start_time": "2023-06-09T15:39:58.671Z"
   },
   {
    "duration": 139,
    "start_time": "2023-06-09T15:40:24.663Z"
   },
   {
    "duration": 159,
    "start_time": "2023-06-09T15:40:49.577Z"
   },
   {
    "duration": 188,
    "start_time": "2023-06-09T15:41:08.485Z"
   },
   {
    "duration": 188,
    "start_time": "2023-06-09T15:41:57.433Z"
   },
   {
    "duration": 161,
    "start_time": "2023-06-09T15:42:00.747Z"
   },
   {
    "duration": 572,
    "start_time": "2023-06-09T16:59:41.857Z"
   },
   {
    "duration": 8,
    "start_time": "2023-06-09T16:59:42.431Z"
   },
   {
    "duration": 68,
    "start_time": "2023-06-09T16:59:42.441Z"
   },
   {
    "duration": 1667,
    "start_time": "2023-06-09T16:59:42.516Z"
   },
   {
    "duration": 46,
    "start_time": "2023-06-09T16:59:44.186Z"
   },
   {
    "duration": 5,
    "start_time": "2023-06-09T16:59:44.234Z"
   },
   {
    "duration": 53,
    "start_time": "2023-06-09T16:59:44.240Z"
   },
   {
    "duration": 7,
    "start_time": "2023-06-09T16:59:44.295Z"
   },
   {
    "duration": 20,
    "start_time": "2023-06-09T16:59:44.303Z"
   },
   {
    "duration": 20,
    "start_time": "2023-06-09T16:59:44.325Z"
   },
   {
    "duration": 17,
    "start_time": "2023-06-09T16:59:44.346Z"
   },
   {
    "duration": 10,
    "start_time": "2023-06-09T16:59:44.364Z"
   },
   {
    "duration": 21,
    "start_time": "2023-06-09T16:59:44.376Z"
   },
   {
    "duration": 26,
    "start_time": "2023-06-09T16:59:44.400Z"
   },
   {
    "duration": 18,
    "start_time": "2023-06-09T16:59:44.427Z"
   },
   {
    "duration": 172,
    "start_time": "2023-06-09T16:59:44.446Z"
   },
   {
    "duration": 327,
    "start_time": "2023-06-09T16:59:44.620Z"
   },
   {
    "duration": 1482,
    "start_time": "2023-06-09T16:59:44.948Z"
   },
   {
    "duration": 995,
    "start_time": "2023-06-09T16:59:46.432Z"
   },
   {
    "duration": 353,
    "start_time": "2023-06-09T16:59:47.429Z"
   },
   {
    "duration": 118,
    "start_time": "2023-06-09T16:59:47.784Z"
   },
   {
    "duration": 655,
    "start_time": "2023-06-09T16:59:47.904Z"
   },
   {
    "duration": 8,
    "start_time": "2023-06-09T16:59:48.561Z"
   },
   {
    "duration": 148,
    "start_time": "2023-06-09T16:59:48.570Z"
   },
   {
    "duration": 380,
    "start_time": "2023-06-09T16:59:48.719Z"
   },
   {
    "duration": 16,
    "start_time": "2023-06-09T16:59:49.101Z"
   },
   {
    "duration": 28,
    "start_time": "2023-06-09T16:59:49.118Z"
   },
   {
    "duration": 7,
    "start_time": "2023-06-09T16:59:49.147Z"
   },
   {
    "duration": 8,
    "start_time": "2023-06-09T16:59:49.155Z"
   },
   {
    "duration": 182,
    "start_time": "2023-06-09T16:59:49.164Z"
   },
   {
    "duration": 136,
    "start_time": "2023-06-09T17:11:32.792Z"
   },
   {
    "duration": 10,
    "start_time": "2023-06-09T17:11:32.930Z"
   },
   {
    "duration": 131,
    "start_time": "2023-06-09T17:11:32.941Z"
   },
   {
    "duration": 1802,
    "start_time": "2023-06-09T17:11:33.074Z"
   },
   {
    "duration": 46,
    "start_time": "2023-06-09T17:11:34.878Z"
   },
   {
    "duration": 167,
    "start_time": "2023-06-09T17:11:34.926Z"
   },
   {
    "duration": 107,
    "start_time": "2023-06-09T17:11:35.095Z"
   },
   {
    "duration": 85,
    "start_time": "2023-06-09T17:11:35.204Z"
   },
   {
    "duration": 112,
    "start_time": "2023-06-09T17:11:35.290Z"
   },
   {
    "duration": 58,
    "start_time": "2023-06-09T17:11:35.405Z"
   },
   {
    "duration": 45,
    "start_time": "2023-06-09T17:11:35.465Z"
   },
   {
    "duration": 77,
    "start_time": "2023-06-09T17:11:35.512Z"
   },
   {
    "duration": 57,
    "start_time": "2023-06-09T17:11:35.591Z"
   },
   {
    "duration": 15,
    "start_time": "2023-06-09T17:11:35.650Z"
   },
   {
    "duration": 30,
    "start_time": "2023-06-09T17:11:35.666Z"
   },
   {
    "duration": 192,
    "start_time": "2023-06-09T17:11:35.698Z"
   },
   {
    "duration": 323,
    "start_time": "2023-06-09T17:11:35.892Z"
   },
   {
    "duration": 1289,
    "start_time": "2023-06-09T17:11:36.217Z"
   },
   {
    "duration": 1047,
    "start_time": "2023-06-09T17:11:37.507Z"
   },
   {
    "duration": 220,
    "start_time": "2023-06-09T17:11:38.555Z"
   },
   {
    "duration": 121,
    "start_time": "2023-06-09T17:11:38.777Z"
   },
   {
    "duration": 640,
    "start_time": "2023-06-09T17:11:38.899Z"
   },
   {
    "duration": 7,
    "start_time": "2023-06-09T17:11:39.540Z"
   },
   {
    "duration": 130,
    "start_time": "2023-06-09T17:11:39.548Z"
   },
   {
    "duration": 363,
    "start_time": "2023-06-09T17:11:39.680Z"
   },
   {
    "duration": 5,
    "start_time": "2023-06-09T17:11:40.045Z"
   },
   {
    "duration": 43,
    "start_time": "2023-06-09T17:11:40.051Z"
   },
   {
    "duration": 10,
    "start_time": "2023-06-09T17:11:40.096Z"
   },
   {
    "duration": 72,
    "start_time": "2023-06-09T17:11:40.107Z"
   },
   {
    "duration": 205,
    "start_time": "2023-06-09T17:11:40.180Z"
   },
   {
    "duration": 126,
    "start_time": "2023-06-09T17:21:21.829Z"
   },
   {
    "duration": 8,
    "start_time": "2023-06-09T17:21:21.957Z"
   },
   {
    "duration": 77,
    "start_time": "2023-06-09T17:21:21.966Z"
   },
   {
    "duration": 1879,
    "start_time": "2023-06-09T17:21:22.045Z"
   },
   {
    "duration": 6,
    "start_time": "2023-06-09T17:21:23.925Z"
   },
   {
    "duration": 43,
    "start_time": "2023-06-09T17:21:23.933Z"
   },
   {
    "duration": 4,
    "start_time": "2023-06-09T17:21:23.977Z"
   },
   {
    "duration": 64,
    "start_time": "2023-06-09T17:21:23.982Z"
   },
   {
    "duration": 8,
    "start_time": "2023-06-09T17:21:24.048Z"
   },
   {
    "duration": 14,
    "start_time": "2023-06-09T17:21:24.058Z"
   },
   {
    "duration": 5,
    "start_time": "2023-06-09T17:21:24.073Z"
   },
   {
    "duration": 18,
    "start_time": "2023-06-09T17:21:24.080Z"
   },
   {
    "duration": 21,
    "start_time": "2023-06-09T17:21:24.099Z"
   },
   {
    "duration": 22,
    "start_time": "2023-06-09T17:21:24.121Z"
   },
   {
    "duration": 15,
    "start_time": "2023-06-09T17:21:24.144Z"
   },
   {
    "duration": 14,
    "start_time": "2023-06-09T17:21:24.161Z"
   },
   {
    "duration": 181,
    "start_time": "2023-06-09T17:21:24.176Z"
   },
   {
    "duration": 347,
    "start_time": "2023-06-09T17:21:24.358Z"
   },
   {
    "duration": 1342,
    "start_time": "2023-06-09T17:21:24.706Z"
   },
   {
    "duration": 1023,
    "start_time": "2023-06-09T17:21:26.050Z"
   },
   {
    "duration": 236,
    "start_time": "2023-06-09T17:21:27.075Z"
   },
   {
    "duration": 127,
    "start_time": "2023-06-09T17:21:27.313Z"
   },
   {
    "duration": 668,
    "start_time": "2023-06-09T17:21:27.441Z"
   },
   {
    "duration": 10,
    "start_time": "2023-06-09T17:21:28.115Z"
   },
   {
    "duration": 177,
    "start_time": "2023-06-09T17:21:28.127Z"
   },
   {
    "duration": 396,
    "start_time": "2023-06-09T17:21:28.305Z"
   },
   {
    "duration": 14,
    "start_time": "2023-06-09T17:21:28.703Z"
   },
   {
    "duration": 33,
    "start_time": "2023-06-09T17:21:28.720Z"
   },
   {
    "duration": 7,
    "start_time": "2023-06-09T17:21:28.754Z"
   },
   {
    "duration": 10,
    "start_time": "2023-06-09T17:21:28.762Z"
   },
   {
    "duration": 181,
    "start_time": "2023-06-09T17:21:28.774Z"
   },
   {
    "duration": 13,
    "start_time": "2023-06-09T17:23:38.693Z"
   },
   {
    "duration": 117,
    "start_time": "2023-06-09T17:23:47.747Z"
   },
   {
    "duration": 8,
    "start_time": "2023-06-09T17:23:47.866Z"
   },
   {
    "duration": 70,
    "start_time": "2023-06-09T17:23:47.875Z"
   },
   {
    "duration": 1798,
    "start_time": "2023-06-09T17:23:47.947Z"
   },
   {
    "duration": 13,
    "start_time": "2023-06-09T17:23:49.748Z"
   },
   {
    "duration": 4,
    "start_time": "2023-06-09T17:23:49.763Z"
   },
   {
    "duration": 71,
    "start_time": "2023-06-09T17:23:49.768Z"
   },
   {
    "duration": 9,
    "start_time": "2023-06-09T17:23:49.840Z"
   },
   {
    "duration": 9,
    "start_time": "2023-06-09T17:23:49.850Z"
   },
   {
    "duration": 6,
    "start_time": "2023-06-09T17:23:49.860Z"
   },
   {
    "duration": 11,
    "start_time": "2023-06-09T17:23:49.867Z"
   },
   {
    "duration": 10,
    "start_time": "2023-06-09T17:23:49.880Z"
   },
   {
    "duration": 25,
    "start_time": "2023-06-09T17:23:49.921Z"
   },
   {
    "duration": 17,
    "start_time": "2023-06-09T17:23:49.948Z"
   },
   {
    "duration": 15,
    "start_time": "2023-06-09T17:23:49.966Z"
   },
   {
    "duration": 180,
    "start_time": "2023-06-09T17:23:49.982Z"
   },
   {
    "duration": 335,
    "start_time": "2023-06-09T17:23:50.163Z"
   },
   {
    "duration": 1152,
    "start_time": "2023-06-09T17:23:50.499Z"
   },
   {
    "duration": 1026,
    "start_time": "2023-06-09T17:23:51.652Z"
   },
   {
    "duration": 435,
    "start_time": "2023-06-09T17:23:52.680Z"
   },
   {
    "duration": 119,
    "start_time": "2023-06-09T17:23:53.119Z"
   },
   {
    "duration": 608,
    "start_time": "2023-06-09T17:23:53.239Z"
   },
   {
    "duration": 7,
    "start_time": "2023-06-09T17:23:53.848Z"
   },
   {
    "duration": 140,
    "start_time": "2023-06-09T17:23:53.857Z"
   },
   {
    "duration": 375,
    "start_time": "2023-06-09T17:23:53.998Z"
   },
   {
    "duration": 6,
    "start_time": "2023-06-09T17:23:54.375Z"
   },
   {
    "duration": 38,
    "start_time": "2023-06-09T17:23:54.382Z"
   },
   {
    "duration": 7,
    "start_time": "2023-06-09T17:23:54.421Z"
   },
   {
    "duration": 9,
    "start_time": "2023-06-09T17:23:54.429Z"
   },
   {
    "duration": 183,
    "start_time": "2023-06-09T17:23:54.439Z"
   },
   {
    "duration": 14,
    "start_time": "2023-06-09T17:28:06.427Z"
   },
   {
    "duration": 137,
    "start_time": "2023-06-09T17:29:05.419Z"
   },
   {
    "duration": 9,
    "start_time": "2023-06-09T17:29:05.558Z"
   },
   {
    "duration": 94,
    "start_time": "2023-06-09T17:29:05.568Z"
   },
   {
    "duration": 1670,
    "start_time": "2023-06-09T17:29:05.664Z"
   },
   {
    "duration": 13,
    "start_time": "2023-06-09T17:29:07.336Z"
   },
   {
    "duration": 5,
    "start_time": "2023-06-09T17:29:07.351Z"
   },
   {
    "duration": 67,
    "start_time": "2023-06-09T17:29:07.357Z"
   },
   {
    "duration": 11,
    "start_time": "2023-06-09T17:29:07.426Z"
   },
   {
    "duration": 9,
    "start_time": "2023-06-09T17:29:07.438Z"
   },
   {
    "duration": 6,
    "start_time": "2023-06-09T17:29:07.449Z"
   },
   {
    "duration": 13,
    "start_time": "2023-06-09T17:29:07.456Z"
   },
   {
    "duration": 10,
    "start_time": "2023-06-09T17:29:07.470Z"
   },
   {
    "duration": 50,
    "start_time": "2023-06-09T17:29:07.482Z"
   },
   {
    "duration": 17,
    "start_time": "2023-06-09T17:29:07.534Z"
   },
   {
    "duration": 16,
    "start_time": "2023-06-09T17:29:07.552Z"
   },
   {
    "duration": 187,
    "start_time": "2023-06-09T17:29:07.569Z"
   },
   {
    "duration": 382,
    "start_time": "2023-06-09T17:29:07.758Z"
   },
   {
    "duration": 1419,
    "start_time": "2023-06-09T17:29:08.141Z"
   },
   {
    "duration": 1007,
    "start_time": "2023-06-09T17:29:09.561Z"
   },
   {
    "duration": 216,
    "start_time": "2023-06-09T17:29:10.569Z"
   },
   {
    "duration": 113,
    "start_time": "2023-06-09T17:29:10.787Z"
   },
   {
    "duration": 633,
    "start_time": "2023-06-09T17:29:10.901Z"
   },
   {
    "duration": 9,
    "start_time": "2023-06-09T17:29:11.536Z"
   },
   {
    "duration": 137,
    "start_time": "2023-06-09T17:29:11.546Z"
   },
   {
    "duration": 372,
    "start_time": "2023-06-09T17:29:11.685Z"
   },
   {
    "duration": 7,
    "start_time": "2023-06-09T17:29:12.058Z"
   },
   {
    "duration": 28,
    "start_time": "2023-06-09T17:29:12.066Z"
   },
   {
    "duration": 19,
    "start_time": "2023-06-09T17:29:12.097Z"
   },
   {
    "duration": 17,
    "start_time": "2023-06-09T17:29:12.118Z"
   },
   {
    "duration": 166,
    "start_time": "2023-06-09T17:29:12.136Z"
   },
   {
    "duration": 215,
    "start_time": "2023-06-09T17:32:54.528Z"
   },
   {
    "duration": 97,
    "start_time": "2023-06-09T17:33:23.197Z"
   },
   {
    "duration": 162,
    "start_time": "2023-06-09T17:33:27.372Z"
   },
   {
    "duration": 17,
    "start_time": "2023-06-09T17:33:54.489Z"
   },
   {
    "duration": 171,
    "start_time": "2023-06-09T17:33:58.287Z"
   },
   {
    "duration": 119,
    "start_time": "2023-06-09T17:34:09.580Z"
   },
   {
    "duration": 16,
    "start_time": "2023-06-09T17:34:09.700Z"
   },
   {
    "duration": 86,
    "start_time": "2023-06-09T17:34:09.717Z"
   },
   {
    "duration": 1874,
    "start_time": "2023-06-09T17:34:09.805Z"
   },
   {
    "duration": 12,
    "start_time": "2023-06-09T17:34:11.680Z"
   },
   {
    "duration": 4,
    "start_time": "2023-06-09T17:34:11.694Z"
   },
   {
    "duration": 63,
    "start_time": "2023-06-09T17:34:11.699Z"
   },
   {
    "duration": 8,
    "start_time": "2023-06-09T17:34:11.764Z"
   },
   {
    "duration": 11,
    "start_time": "2023-06-09T17:34:11.773Z"
   },
   {
    "duration": 6,
    "start_time": "2023-06-09T17:34:11.786Z"
   },
   {
    "duration": 26,
    "start_time": "2023-06-09T17:34:11.793Z"
   },
   {
    "duration": 14,
    "start_time": "2023-06-09T17:34:11.820Z"
   },
   {
    "duration": 22,
    "start_time": "2023-06-09T17:34:11.836Z"
   },
   {
    "duration": 18,
    "start_time": "2023-06-09T17:34:11.859Z"
   },
   {
    "duration": 41,
    "start_time": "2023-06-09T17:34:11.879Z"
   },
   {
    "duration": 171,
    "start_time": "2023-06-09T17:34:11.922Z"
   },
   {
    "duration": 336,
    "start_time": "2023-06-09T17:34:12.094Z"
   },
   {
    "duration": 1152,
    "start_time": "2023-06-09T17:34:12.431Z"
   },
   {
    "duration": 964,
    "start_time": "2023-06-09T17:34:13.584Z"
   },
   {
    "duration": 230,
    "start_time": "2023-06-09T17:34:14.549Z"
   },
   {
    "duration": 146,
    "start_time": "2023-06-09T17:34:14.780Z"
   },
   {
    "duration": 718,
    "start_time": "2023-06-09T17:34:14.927Z"
   },
   {
    "duration": 12,
    "start_time": "2023-06-09T17:34:15.646Z"
   },
   {
    "duration": 143,
    "start_time": "2023-06-09T17:34:15.660Z"
   },
   {
    "duration": 412,
    "start_time": "2023-06-09T17:34:15.805Z"
   },
   {
    "duration": 8,
    "start_time": "2023-06-09T17:34:16.218Z"
   },
   {
    "duration": 32,
    "start_time": "2023-06-09T17:34:16.227Z"
   },
   {
    "duration": 6,
    "start_time": "2023-06-09T17:34:16.263Z"
   },
   {
    "duration": 7,
    "start_time": "2023-06-09T17:34:16.271Z"
   },
   {
    "duration": 165,
    "start_time": "2023-06-09T17:34:16.280Z"
   },
   {
    "duration": 23,
    "start_time": "2023-06-09T17:34:52.204Z"
   },
   {
    "duration": 20,
    "start_time": "2023-06-09T17:35:14.052Z"
   },
   {
    "duration": 121,
    "start_time": "2023-06-09T17:35:32.446Z"
   },
   {
    "duration": 8,
    "start_time": "2023-06-09T17:35:32.569Z"
   },
   {
    "duration": 90,
    "start_time": "2023-06-09T17:35:32.578Z"
   },
   {
    "duration": 1892,
    "start_time": "2023-06-09T17:35:32.670Z"
   },
   {
    "duration": 14,
    "start_time": "2023-06-09T17:35:34.564Z"
   },
   {
    "duration": 13,
    "start_time": "2023-06-09T17:35:34.579Z"
   },
   {
    "duration": 61,
    "start_time": "2023-06-09T17:35:34.593Z"
   },
   {
    "duration": 9,
    "start_time": "2023-06-09T17:35:34.656Z"
   },
   {
    "duration": 11,
    "start_time": "2023-06-09T17:35:34.666Z"
   },
   {
    "duration": 6,
    "start_time": "2023-06-09T17:35:34.681Z"
   },
   {
    "duration": 32,
    "start_time": "2023-06-09T17:35:34.688Z"
   },
   {
    "duration": 13,
    "start_time": "2023-06-09T17:35:34.722Z"
   },
   {
    "duration": 30,
    "start_time": "2023-06-09T17:35:34.736Z"
   },
   {
    "duration": 16,
    "start_time": "2023-06-09T17:35:34.768Z"
   },
   {
    "duration": 34,
    "start_time": "2023-06-09T17:35:34.785Z"
   },
   {
    "duration": 173,
    "start_time": "2023-06-09T17:35:34.821Z"
   },
   {
    "duration": 364,
    "start_time": "2023-06-09T17:35:34.996Z"
   },
   {
    "duration": 1141,
    "start_time": "2023-06-09T17:35:35.362Z"
   },
   {
    "duration": 997,
    "start_time": "2023-06-09T17:35:36.505Z"
   },
   {
    "duration": 237,
    "start_time": "2023-06-09T17:35:37.503Z"
   },
   {
    "duration": 123,
    "start_time": "2023-06-09T17:35:37.741Z"
   },
   {
    "duration": 936,
    "start_time": "2023-06-09T17:35:37.865Z"
   },
   {
    "duration": 14,
    "start_time": "2023-06-09T17:35:38.803Z"
   },
   {
    "duration": 137,
    "start_time": "2023-06-09T17:35:38.818Z"
   },
   {
    "duration": 370,
    "start_time": "2023-06-09T17:35:38.957Z"
   },
   {
    "duration": 7,
    "start_time": "2023-06-09T17:35:39.329Z"
   },
   {
    "duration": 30,
    "start_time": "2023-06-09T17:35:39.337Z"
   },
   {
    "duration": 17,
    "start_time": "2023-06-09T17:35:39.370Z"
   },
   {
    "duration": 33,
    "start_time": "2023-06-09T17:35:39.389Z"
   },
   {
    "duration": 168,
    "start_time": "2023-06-09T17:35:39.424Z"
   },
   {
    "duration": 161,
    "start_time": "2023-06-09T17:36:10.330Z"
   },
   {
    "duration": 177,
    "start_time": "2023-06-09T17:36:43.975Z"
   },
   {
    "duration": 149,
    "start_time": "2023-06-09T17:37:45.078Z"
   },
   {
    "duration": 121,
    "start_time": "2023-06-09T17:38:53.193Z"
   },
   {
    "duration": 12,
    "start_time": "2023-06-09T17:38:53.316Z"
   },
   {
    "duration": 67,
    "start_time": "2023-06-09T17:38:53.330Z"
   },
   {
    "duration": 1569,
    "start_time": "2023-06-09T17:38:53.399Z"
   },
   {
    "duration": 12,
    "start_time": "2023-06-09T17:38:54.970Z"
   },
   {
    "duration": 4,
    "start_time": "2023-06-09T17:38:54.984Z"
   },
   {
    "duration": 66,
    "start_time": "2023-06-09T17:38:54.989Z"
   },
   {
    "duration": 9,
    "start_time": "2023-06-09T17:38:55.057Z"
   },
   {
    "duration": 20,
    "start_time": "2023-06-09T17:38:55.067Z"
   },
   {
    "duration": 12,
    "start_time": "2023-06-09T17:38:55.090Z"
   },
   {
    "duration": 14,
    "start_time": "2023-06-09T17:38:55.103Z"
   },
   {
    "duration": 16,
    "start_time": "2023-06-09T17:38:55.119Z"
   },
   {
    "duration": 22,
    "start_time": "2023-06-09T17:38:55.136Z"
   },
   {
    "duration": 16,
    "start_time": "2023-06-09T17:38:55.159Z"
   },
   {
    "duration": 18,
    "start_time": "2023-06-09T17:38:55.176Z"
   },
   {
    "duration": 167,
    "start_time": "2023-06-09T17:38:55.195Z"
   },
   {
    "duration": 361,
    "start_time": "2023-06-09T17:38:55.364Z"
   },
   {
    "duration": 1234,
    "start_time": "2023-06-09T17:38:55.727Z"
   },
   {
    "duration": 1118,
    "start_time": "2023-06-09T17:38:56.962Z"
   },
   {
    "duration": 256,
    "start_time": "2023-06-09T17:38:58.081Z"
   },
   {
    "duration": 468,
    "start_time": "2023-06-09T17:38:58.339Z"
   },
   {
    "duration": 665,
    "start_time": "2023-06-09T17:38:58.815Z"
   },
   {
    "duration": 7,
    "start_time": "2023-06-09T17:38:59.481Z"
   },
   {
    "duration": 139,
    "start_time": "2023-06-09T17:38:59.489Z"
   },
   {
    "duration": 393,
    "start_time": "2023-06-09T17:38:59.630Z"
   },
   {
    "duration": 7,
    "start_time": "2023-06-09T17:39:00.027Z"
   },
   {
    "duration": 52,
    "start_time": "2023-06-09T17:39:00.036Z"
   },
   {
    "duration": 7,
    "start_time": "2023-06-09T17:39:00.091Z"
   },
   {
    "duration": 48,
    "start_time": "2023-06-09T17:39:00.099Z"
   },
   {
    "duration": 202,
    "start_time": "2023-06-09T17:39:00.148Z"
   },
   {
    "duration": 132,
    "start_time": "2023-06-09T17:39:38.368Z"
   },
   {
    "duration": 134,
    "start_time": "2023-06-09T17:40:12.834Z"
   },
   {
    "duration": 130,
    "start_time": "2023-06-09T17:42:16.152Z"
   },
   {
    "duration": 156,
    "start_time": "2023-06-09T17:57:00.409Z"
   },
   {
    "duration": 144,
    "start_time": "2023-06-09T17:57:17.122Z"
   },
   {
    "duration": 176,
    "start_time": "2023-06-09T17:57:29.914Z"
   },
   {
    "duration": 114,
    "start_time": "2023-06-09T18:33:23.360Z"
   },
   {
    "duration": 8,
    "start_time": "2023-06-09T18:33:23.475Z"
   },
   {
    "duration": 73,
    "start_time": "2023-06-09T18:33:23.484Z"
   },
   {
    "duration": 1509,
    "start_time": "2023-06-09T18:33:23.559Z"
   },
   {
    "duration": 12,
    "start_time": "2023-06-09T18:33:25.070Z"
   },
   {
    "duration": 9,
    "start_time": "2023-06-09T18:33:25.084Z"
   },
   {
    "duration": 79,
    "start_time": "2023-06-09T18:33:25.094Z"
   },
   {
    "duration": 11,
    "start_time": "2023-06-09T18:33:25.175Z"
   },
   {
    "duration": 22,
    "start_time": "2023-06-09T18:33:25.187Z"
   },
   {
    "duration": 25,
    "start_time": "2023-06-09T18:33:25.211Z"
   },
   {
    "duration": 42,
    "start_time": "2023-06-09T18:33:25.238Z"
   },
   {
    "duration": 39,
    "start_time": "2023-06-09T18:33:25.282Z"
   },
   {
    "duration": 37,
    "start_time": "2023-06-09T18:33:25.322Z"
   },
   {
    "duration": 15,
    "start_time": "2023-06-09T18:33:25.363Z"
   },
   {
    "duration": 26,
    "start_time": "2023-06-09T18:33:25.379Z"
   },
   {
    "duration": 111,
    "start_time": "2023-06-09T18:33:25.406Z"
   },
   {
    "duration": 306,
    "start_time": "2023-06-09T18:33:25.518Z"
   },
   {
    "duration": 1089,
    "start_time": "2023-06-09T18:33:25.825Z"
   },
   {
    "duration": 702,
    "start_time": "2023-06-09T18:33:26.915Z"
   },
   {
    "duration": 1338,
    "start_time": "2023-06-09T18:33:27.618Z"
   },
   {
    "duration": 216,
    "start_time": "2023-06-09T18:33:28.958Z"
   },
   {
    "duration": 109,
    "start_time": "2023-06-09T18:33:29.175Z"
   },
   {
    "duration": 589,
    "start_time": "2023-06-09T18:33:29.285Z"
   },
   {
    "duration": 9,
    "start_time": "2023-06-09T18:33:29.875Z"
   },
   {
    "duration": 147,
    "start_time": "2023-06-09T18:33:29.886Z"
   },
   {
    "duration": 359,
    "start_time": "2023-06-09T18:33:30.035Z"
   },
   {
    "duration": 32,
    "start_time": "2023-06-09T18:33:30.395Z"
   },
   {
    "duration": 24,
    "start_time": "2023-06-09T18:33:30.428Z"
   },
   {
    "duration": 51,
    "start_time": "2023-06-09T18:33:30.453Z"
   },
   {
    "duration": 175,
    "start_time": "2023-06-09T18:33:30.505Z"
   },
   {
    "duration": 102,
    "start_time": "2023-06-09T18:34:02.882Z"
   },
   {
    "duration": 110,
    "start_time": "2023-06-09T18:34:13.904Z"
   },
   {
    "duration": 8,
    "start_time": "2023-06-09T18:34:14.016Z"
   },
   {
    "duration": 62,
    "start_time": "2023-06-09T18:34:14.025Z"
   },
   {
    "duration": 1506,
    "start_time": "2023-06-09T18:34:14.090Z"
   },
   {
    "duration": 21,
    "start_time": "2023-06-09T18:34:15.597Z"
   },
   {
    "duration": 9,
    "start_time": "2023-06-09T18:34:15.620Z"
   },
   {
    "duration": 72,
    "start_time": "2023-06-09T18:34:15.630Z"
   },
   {
    "duration": 19,
    "start_time": "2023-06-09T18:34:15.704Z"
   },
   {
    "duration": 28,
    "start_time": "2023-06-09T18:34:15.725Z"
   },
   {
    "duration": 8,
    "start_time": "2023-06-09T18:34:15.758Z"
   },
   {
    "duration": 17,
    "start_time": "2023-06-09T18:34:15.768Z"
   },
   {
    "duration": 15,
    "start_time": "2023-06-09T18:34:15.787Z"
   },
   {
    "duration": 27,
    "start_time": "2023-06-09T18:34:15.804Z"
   },
   {
    "duration": 20,
    "start_time": "2023-06-09T18:34:15.832Z"
   },
   {
    "duration": 19,
    "start_time": "2023-06-09T18:34:15.853Z"
   },
   {
    "duration": 139,
    "start_time": "2023-06-09T18:34:15.874Z"
   },
   {
    "duration": 313,
    "start_time": "2023-06-09T18:34:16.016Z"
   },
   {
    "duration": 1089,
    "start_time": "2023-06-09T18:34:16.331Z"
   },
   {
    "duration": 698,
    "start_time": "2023-06-09T18:34:17.421Z"
   },
   {
    "duration": 1355,
    "start_time": "2023-06-09T18:34:18.120Z"
   },
   {
    "duration": 204,
    "start_time": "2023-06-09T18:34:19.477Z"
   },
   {
    "duration": 108,
    "start_time": "2023-06-09T18:34:19.682Z"
   },
   {
    "duration": 594,
    "start_time": "2023-06-09T18:34:19.792Z"
   },
   {
    "duration": 7,
    "start_time": "2023-06-09T18:34:20.387Z"
   },
   {
    "duration": 125,
    "start_time": "2023-06-09T18:34:20.395Z"
   },
   {
    "duration": 358,
    "start_time": "2023-06-09T18:34:20.521Z"
   },
   {
    "duration": 19,
    "start_time": "2023-06-09T18:34:20.881Z"
   },
   {
    "duration": 17,
    "start_time": "2023-06-09T18:34:20.903Z"
   },
   {
    "duration": 33,
    "start_time": "2023-06-09T18:34:20.922Z"
   },
   {
    "duration": 144,
    "start_time": "2023-06-09T18:34:20.956Z"
   },
   {
    "duration": 1601,
    "start_time": "2023-06-09T18:35:35.192Z"
   },
   {
    "duration": 100,
    "start_time": "2023-06-09T18:35:48.324Z"
   },
   {
    "duration": 219,
    "start_time": "2023-06-09T18:36:33.949Z"
   },
   {
    "duration": 221,
    "start_time": "2023-06-09T18:37:30.065Z"
   },
   {
    "duration": 107,
    "start_time": "2023-06-09T18:37:56.540Z"
   },
   {
    "duration": 108,
    "start_time": "2023-06-09T18:38:47.241Z"
   },
   {
    "duration": 7,
    "start_time": "2023-06-09T18:38:47.350Z"
   },
   {
    "duration": 70,
    "start_time": "2023-06-09T18:38:47.358Z"
   },
   {
    "duration": 1515,
    "start_time": "2023-06-09T18:38:47.430Z"
   },
   {
    "duration": 13,
    "start_time": "2023-06-09T18:38:48.946Z"
   },
   {
    "duration": 4,
    "start_time": "2023-06-09T18:38:48.960Z"
   },
   {
    "duration": 67,
    "start_time": "2023-06-09T18:38:48.966Z"
   },
   {
    "duration": 11,
    "start_time": "2023-06-09T18:38:49.035Z"
   },
   {
    "duration": 9,
    "start_time": "2023-06-09T18:38:49.048Z"
   },
   {
    "duration": 5,
    "start_time": "2023-06-09T18:38:49.060Z"
   },
   {
    "duration": 10,
    "start_time": "2023-06-09T18:38:49.067Z"
   },
   {
    "duration": 42,
    "start_time": "2023-06-09T18:38:49.078Z"
   },
   {
    "duration": 20,
    "start_time": "2023-06-09T18:38:49.122Z"
   },
   {
    "duration": 16,
    "start_time": "2023-06-09T18:38:49.144Z"
   },
   {
    "duration": 19,
    "start_time": "2023-06-09T18:38:49.162Z"
   },
   {
    "duration": 143,
    "start_time": "2023-06-09T18:38:49.182Z"
   },
   {
    "duration": 310,
    "start_time": "2023-06-09T18:38:49.327Z"
   },
   {
    "duration": 1072,
    "start_time": "2023-06-09T18:38:49.638Z"
   },
   {
    "duration": 106,
    "start_time": "2023-06-09T18:38:50.715Z"
   },
   {
    "duration": 110,
    "start_time": "2023-06-09T18:38:50.823Z"
   },
   {
    "duration": 127,
    "start_time": "2023-06-09T18:38:50.935Z"
   },
   {
    "duration": 115,
    "start_time": "2023-06-09T18:38:51.064Z"
   },
   {
    "duration": 111,
    "start_time": "2023-06-09T18:38:51.180Z"
   },
   {
    "duration": 1373,
    "start_time": "2023-06-09T18:38:51.293Z"
   },
   {
    "duration": 202,
    "start_time": "2023-06-09T18:38:52.668Z"
   },
   {
    "duration": 111,
    "start_time": "2023-06-09T18:38:52.871Z"
   },
   {
    "duration": 604,
    "start_time": "2023-06-09T18:38:52.984Z"
   },
   {
    "duration": 7,
    "start_time": "2023-06-09T18:38:53.590Z"
   },
   {
    "duration": 133,
    "start_time": "2023-06-09T18:38:53.598Z"
   },
   {
    "duration": 358,
    "start_time": "2023-06-09T18:38:53.732Z"
   },
   {
    "duration": 23,
    "start_time": "2023-06-09T18:38:54.092Z"
   },
   {
    "duration": 6,
    "start_time": "2023-06-09T18:38:54.117Z"
   },
   {
    "duration": 9,
    "start_time": "2023-06-09T18:38:54.124Z"
   },
   {
    "duration": 139,
    "start_time": "2023-06-09T18:38:54.135Z"
   },
   {
    "duration": 105,
    "start_time": "2023-06-09T18:39:20.821Z"
   },
   {
    "duration": 127,
    "start_time": "2023-06-09T18:39:32.666Z"
   },
   {
    "duration": 122,
    "start_time": "2023-06-09T18:40:03.184Z"
   },
   {
    "duration": 9,
    "start_time": "2023-06-09T18:40:03.315Z"
   },
   {
    "duration": 85,
    "start_time": "2023-06-09T18:40:03.325Z"
   },
   {
    "duration": 1542,
    "start_time": "2023-06-09T18:40:03.412Z"
   },
   {
    "duration": 13,
    "start_time": "2023-06-09T18:40:04.955Z"
   },
   {
    "duration": 13,
    "start_time": "2023-06-09T18:40:04.970Z"
   },
   {
    "duration": 61,
    "start_time": "2023-06-09T18:40:04.984Z"
   },
   {
    "duration": 11,
    "start_time": "2023-06-09T18:40:05.046Z"
   },
   {
    "duration": 16,
    "start_time": "2023-06-09T18:40:05.059Z"
   },
   {
    "duration": 9,
    "start_time": "2023-06-09T18:40:05.077Z"
   },
   {
    "duration": 10,
    "start_time": "2023-06-09T18:40:05.088Z"
   },
   {
    "duration": 25,
    "start_time": "2023-06-09T18:40:05.099Z"
   },
   {
    "duration": 20,
    "start_time": "2023-06-09T18:40:05.126Z"
   },
   {
    "duration": 17,
    "start_time": "2023-06-09T18:40:05.147Z"
   },
   {
    "duration": 20,
    "start_time": "2023-06-09T18:40:05.165Z"
   },
   {
    "duration": 181,
    "start_time": "2023-06-09T18:40:05.186Z"
   },
   {
    "duration": 366,
    "start_time": "2023-06-09T18:40:05.369Z"
   },
   {
    "duration": 1065,
    "start_time": "2023-06-09T18:40:05.736Z"
   },
   {
    "duration": 128,
    "start_time": "2023-06-09T18:40:06.802Z"
   },
   {
    "duration": 128,
    "start_time": "2023-06-09T18:40:06.931Z"
   },
   {
    "duration": 122,
    "start_time": "2023-06-09T18:40:07.061Z"
   },
   {
    "duration": 105,
    "start_time": "2023-06-09T18:40:07.185Z"
   },
   {
    "duration": 112,
    "start_time": "2023-06-09T18:40:07.292Z"
   },
   {
    "duration": 971,
    "start_time": "2023-06-09T18:40:07.406Z"
   },
   {
    "duration": 220,
    "start_time": "2023-06-09T18:40:08.378Z"
   },
   {
    "duration": 118,
    "start_time": "2023-06-09T18:40:08.599Z"
   },
   {
    "duration": 597,
    "start_time": "2023-06-09T18:40:08.718Z"
   },
   {
    "duration": 7,
    "start_time": "2023-06-09T18:40:09.318Z"
   },
   {
    "duration": 612,
    "start_time": "2023-06-09T18:40:09.326Z"
   },
   {
    "duration": 361,
    "start_time": "2023-06-09T18:40:09.939Z"
   },
   {
    "duration": 25,
    "start_time": "2023-06-09T18:40:10.302Z"
   },
   {
    "duration": 7,
    "start_time": "2023-06-09T18:40:10.328Z"
   },
   {
    "duration": 12,
    "start_time": "2023-06-09T18:40:10.336Z"
   },
   {
    "duration": 141,
    "start_time": "2023-06-09T18:40:10.349Z"
   },
   {
    "duration": 116,
    "start_time": "2023-06-09T18:42:27.130Z"
   },
   {
    "duration": 10,
    "start_time": "2023-06-09T18:42:33.106Z"
   },
   {
    "duration": 10,
    "start_time": "2023-06-09T18:43:31.119Z"
   },
   {
    "duration": 10,
    "start_time": "2023-06-09T18:43:43.641Z"
   },
   {
    "duration": 10,
    "start_time": "2023-06-09T18:43:51.783Z"
   },
   {
    "duration": 8,
    "start_time": "2023-06-09T18:44:02.350Z"
   },
   {
    "duration": 138,
    "start_time": "2023-06-09T18:45:47.286Z"
   },
   {
    "duration": 12,
    "start_time": "2023-06-09T18:45:55.735Z"
   },
   {
    "duration": 0,
    "start_time": "2023-06-09T19:10:50.677Z"
   },
   {
    "duration": 0,
    "start_time": "2023-06-09T19:10:50.746Z"
   },
   {
    "duration": 0,
    "start_time": "2023-06-09T19:10:50.746Z"
   },
   {
    "duration": 0,
    "start_time": "2023-06-09T19:10:50.747Z"
   },
   {
    "duration": 0,
    "start_time": "2023-06-09T19:10:50.748Z"
   },
   {
    "duration": 0,
    "start_time": "2023-06-09T19:10:50.749Z"
   },
   {
    "duration": 0,
    "start_time": "2023-06-09T19:10:50.750Z"
   },
   {
    "duration": 0,
    "start_time": "2023-06-09T19:10:50.751Z"
   },
   {
    "duration": 0,
    "start_time": "2023-06-09T19:10:50.752Z"
   },
   {
    "duration": 0,
    "start_time": "2023-06-09T19:10:50.752Z"
   },
   {
    "duration": 0,
    "start_time": "2023-06-09T19:10:50.817Z"
   },
   {
    "duration": 0,
    "start_time": "2023-06-09T19:10:50.818Z"
   },
   {
    "duration": 0,
    "start_time": "2023-06-09T19:10:50.819Z"
   },
   {
    "duration": 0,
    "start_time": "2023-06-09T19:10:50.820Z"
   },
   {
    "duration": 0,
    "start_time": "2023-06-09T19:10:50.821Z"
   },
   {
    "duration": 0,
    "start_time": "2023-06-09T19:10:50.822Z"
   },
   {
    "duration": 0,
    "start_time": "2023-06-09T19:10:50.823Z"
   },
   {
    "duration": 0,
    "start_time": "2023-06-09T19:10:50.824Z"
   },
   {
    "duration": 0,
    "start_time": "2023-06-09T19:10:50.825Z"
   },
   {
    "duration": 0,
    "start_time": "2023-06-09T19:10:50.825Z"
   },
   {
    "duration": 0,
    "start_time": "2023-06-09T19:10:50.827Z"
   },
   {
    "duration": 0,
    "start_time": "2023-06-09T19:10:50.828Z"
   },
   {
    "duration": 0,
    "start_time": "2023-06-09T19:10:50.830Z"
   },
   {
    "duration": 0,
    "start_time": "2023-06-09T19:10:50.831Z"
   },
   {
    "duration": 0,
    "start_time": "2023-06-09T19:10:50.833Z"
   },
   {
    "duration": 0,
    "start_time": "2023-06-09T19:10:50.834Z"
   },
   {
    "duration": 0,
    "start_time": "2023-06-09T19:10:50.835Z"
   },
   {
    "duration": 0,
    "start_time": "2023-06-09T19:10:50.837Z"
   },
   {
    "duration": 0,
    "start_time": "2023-06-09T19:10:50.838Z"
   },
   {
    "duration": 0,
    "start_time": "2023-06-09T19:10:50.839Z"
   },
   {
    "duration": 0,
    "start_time": "2023-06-09T19:10:50.840Z"
   },
   {
    "duration": 0,
    "start_time": "2023-06-09T19:10:50.842Z"
   },
   {
    "duration": 0,
    "start_time": "2023-06-09T19:10:50.843Z"
   },
   {
    "duration": 0,
    "start_time": "2023-06-09T19:10:50.845Z"
   },
   {
    "duration": 0,
    "start_time": "2023-06-09T19:10:50.846Z"
   },
   {
    "duration": 119,
    "start_time": "2023-06-09T19:15:08.123Z"
   },
   {
    "duration": 7,
    "start_time": "2023-06-09T19:15:08.244Z"
   },
   {
    "duration": 84,
    "start_time": "2023-06-09T19:15:08.253Z"
   },
   {
    "duration": 1553,
    "start_time": "2023-06-09T19:15:08.340Z"
   },
   {
    "duration": 30,
    "start_time": "2023-06-09T19:15:09.895Z"
   },
   {
    "duration": 12,
    "start_time": "2023-06-09T19:15:09.926Z"
   },
   {
    "duration": 48,
    "start_time": "2023-06-09T19:15:09.939Z"
   },
   {
    "duration": 9,
    "start_time": "2023-06-09T19:15:09.989Z"
   },
   {
    "duration": 8,
    "start_time": "2023-06-09T19:15:09.999Z"
   },
   {
    "duration": 9,
    "start_time": "2023-06-09T19:15:10.021Z"
   },
   {
    "duration": 21,
    "start_time": "2023-06-09T19:15:10.031Z"
   },
   {
    "duration": 36,
    "start_time": "2023-06-09T19:15:10.054Z"
   },
   {
    "duration": 20,
    "start_time": "2023-06-09T19:15:10.091Z"
   },
   {
    "duration": 19,
    "start_time": "2023-06-09T19:15:10.112Z"
   },
   {
    "duration": 22,
    "start_time": "2023-06-09T19:15:10.132Z"
   },
   {
    "duration": 127,
    "start_time": "2023-06-09T19:15:10.156Z"
   },
   {
    "duration": 320,
    "start_time": "2023-06-09T19:15:10.284Z"
   },
   {
    "duration": 1123,
    "start_time": "2023-06-09T19:15:10.606Z"
   },
   {
    "duration": 109,
    "start_time": "2023-06-09T19:15:11.730Z"
   },
   {
    "duration": 126,
    "start_time": "2023-06-09T19:15:11.840Z"
   },
   {
    "duration": 109,
    "start_time": "2023-06-09T19:15:11.967Z"
   },
   {
    "duration": 113,
    "start_time": "2023-06-09T19:15:12.077Z"
   },
   {
    "duration": 109,
    "start_time": "2023-06-09T19:15:12.191Z"
   },
   {
    "duration": 952,
    "start_time": "2023-06-09T19:15:12.301Z"
   },
   {
    "duration": 219,
    "start_time": "2023-06-09T19:15:13.255Z"
   },
   {
    "duration": 116,
    "start_time": "2023-06-09T19:15:13.475Z"
   },
   {
    "duration": 606,
    "start_time": "2023-06-09T19:15:13.592Z"
   },
   {
    "duration": 16,
    "start_time": "2023-06-09T19:15:14.201Z"
   },
   {
    "duration": 141,
    "start_time": "2023-06-09T19:15:14.220Z"
   },
   {
    "duration": 355,
    "start_time": "2023-06-09T19:15:14.363Z"
   },
   {
    "duration": 23,
    "start_time": "2023-06-09T19:15:14.720Z"
   },
   {
    "duration": 7,
    "start_time": "2023-06-09T19:15:14.744Z"
   },
   {
    "duration": 12,
    "start_time": "2023-06-09T19:15:14.752Z"
   },
   {
    "duration": 146,
    "start_time": "2023-06-09T19:15:14.765Z"
   },
   {
    "duration": 704,
    "start_time": "2023-06-09T19:18:39.853Z"
   },
   {
    "duration": 8,
    "start_time": "2023-06-09T19:18:40.559Z"
   },
   {
    "duration": 75,
    "start_time": "2023-06-09T19:18:40.569Z"
   },
   {
    "duration": 1847,
    "start_time": "2023-06-09T19:18:40.647Z"
   },
   {
    "duration": 17,
    "start_time": "2023-06-09T19:18:42.496Z"
   },
   {
    "duration": 27,
    "start_time": "2023-06-09T19:18:42.514Z"
   },
   {
    "duration": 57,
    "start_time": "2023-06-09T19:18:42.542Z"
   },
   {
    "duration": 8,
    "start_time": "2023-06-09T19:18:42.600Z"
   },
   {
    "duration": 29,
    "start_time": "2023-06-09T19:18:42.610Z"
   },
   {
    "duration": 6,
    "start_time": "2023-06-09T19:18:42.642Z"
   },
   {
    "duration": 14,
    "start_time": "2023-06-09T19:18:42.649Z"
   },
   {
    "duration": 12,
    "start_time": "2023-06-09T19:18:42.664Z"
   },
   {
    "duration": 20,
    "start_time": "2023-06-09T19:18:42.677Z"
   },
   {
    "duration": 28,
    "start_time": "2023-06-09T19:18:42.699Z"
   },
   {
    "duration": 22,
    "start_time": "2023-06-09T19:18:42.729Z"
   },
   {
    "duration": 138,
    "start_time": "2023-06-09T19:18:42.753Z"
   },
   {
    "duration": 328,
    "start_time": "2023-06-09T19:18:42.893Z"
   },
   {
    "duration": 1188,
    "start_time": "2023-06-09T19:18:43.226Z"
   },
   {
    "duration": 119,
    "start_time": "2023-06-09T19:18:44.416Z"
   },
   {
    "duration": 125,
    "start_time": "2023-06-09T19:18:44.536Z"
   },
   {
    "duration": 123,
    "start_time": "2023-06-09T19:18:44.663Z"
   },
   {
    "duration": 110,
    "start_time": "2023-06-09T19:18:44.788Z"
   },
   {
    "duration": 130,
    "start_time": "2023-06-09T19:18:44.900Z"
   },
   {
    "duration": 1170,
    "start_time": "2023-06-09T19:18:45.031Z"
   },
   {
    "duration": 242,
    "start_time": "2023-06-09T19:18:46.202Z"
   },
   {
    "duration": 128,
    "start_time": "2023-06-09T19:18:46.446Z"
   },
   {
    "duration": 694,
    "start_time": "2023-06-09T19:18:46.575Z"
   },
   {
    "duration": 7,
    "start_time": "2023-06-09T19:18:47.272Z"
   },
   {
    "duration": 151,
    "start_time": "2023-06-09T19:18:47.281Z"
   },
   {
    "duration": 519,
    "start_time": "2023-06-09T19:18:47.433Z"
   },
   {
    "duration": 21,
    "start_time": "2023-06-09T19:18:47.954Z"
   },
   {
    "duration": 8,
    "start_time": "2023-06-09T19:18:47.977Z"
   },
   {
    "duration": 51,
    "start_time": "2023-06-09T19:18:47.986Z"
   },
   {
    "duration": 186,
    "start_time": "2023-06-09T19:18:48.039Z"
   },
   {
    "duration": 224,
    "start_time": "2023-06-09T19:20:22.147Z"
   },
   {
    "duration": 116,
    "start_time": "2023-06-09T19:20:37.940Z"
   },
   {
    "duration": 111,
    "start_time": "2023-06-09T19:21:13.442Z"
   },
   {
    "duration": 4,
    "start_time": "2023-06-09T20:14:32.255Z"
   },
   {
    "duration": 139,
    "start_time": "2023-06-09T20:14:54.354Z"
   },
   {
    "duration": 9,
    "start_time": "2023-06-09T20:14:54.495Z"
   },
   {
    "duration": 73,
    "start_time": "2023-06-09T20:14:54.505Z"
   },
   {
    "duration": 1834,
    "start_time": "2023-06-09T20:14:54.580Z"
   },
   {
    "duration": 20,
    "start_time": "2023-06-09T20:14:56.416Z"
   },
   {
    "duration": 25,
    "start_time": "2023-06-09T20:14:56.438Z"
   },
   {
    "duration": 51,
    "start_time": "2023-06-09T20:14:56.464Z"
   },
   {
    "duration": 10,
    "start_time": "2023-06-09T20:14:56.517Z"
   },
   {
    "duration": 28,
    "start_time": "2023-06-09T20:14:56.528Z"
   },
   {
    "duration": 25,
    "start_time": "2023-06-09T20:14:56.558Z"
   },
   {
    "duration": 17,
    "start_time": "2023-06-09T20:14:56.585Z"
   },
   {
    "duration": 22,
    "start_time": "2023-06-09T20:14:56.604Z"
   },
   {
    "duration": 34,
    "start_time": "2023-06-09T20:14:56.627Z"
   },
   {
    "duration": 16,
    "start_time": "2023-06-09T20:14:56.664Z"
   },
   {
    "duration": 19,
    "start_time": "2023-06-09T20:14:56.681Z"
   },
   {
    "duration": 208,
    "start_time": "2023-06-09T20:14:56.701Z"
   },
   {
    "duration": 353,
    "start_time": "2023-06-09T20:14:56.911Z"
   },
   {
    "duration": 1373,
    "start_time": "2023-06-09T20:14:57.265Z"
   },
   {
    "duration": 145,
    "start_time": "2023-06-09T20:14:58.640Z"
   },
   {
    "duration": 137,
    "start_time": "2023-06-09T20:14:58.786Z"
   },
   {
    "duration": 135,
    "start_time": "2023-06-09T20:14:58.925Z"
   },
   {
    "duration": 128,
    "start_time": "2023-06-09T20:14:59.062Z"
   },
   {
    "duration": 1194,
    "start_time": "2023-06-09T20:14:59.192Z"
   },
   {
    "duration": 236,
    "start_time": "2023-06-09T20:15:00.388Z"
   },
   {
    "duration": 137,
    "start_time": "2023-06-09T20:15:00.627Z"
   },
   {
    "duration": 721,
    "start_time": "2023-06-09T20:15:00.766Z"
   },
   {
    "duration": 7,
    "start_time": "2023-06-09T20:15:01.488Z"
   },
   {
    "duration": 535,
    "start_time": "2023-06-09T20:15:01.496Z"
   },
   {
    "duration": 361,
    "start_time": "2023-06-09T20:15:02.033Z"
   },
   {
    "duration": 24,
    "start_time": "2023-06-09T20:15:02.395Z"
   },
   {
    "duration": 55,
    "start_time": "2023-06-09T20:15:02.420Z"
   },
   {
    "duration": 41,
    "start_time": "2023-06-09T20:15:02.476Z"
   },
   {
    "duration": 255,
    "start_time": "2023-06-09T20:15:02.519Z"
   },
   {
    "duration": 154,
    "start_time": "2023-06-09T20:29:01.497Z"
   },
   {
    "duration": 11,
    "start_time": "2023-06-09T20:29:01.653Z"
   },
   {
    "duration": 110,
    "start_time": "2023-06-09T20:29:01.666Z"
   },
   {
    "duration": 1884,
    "start_time": "2023-06-09T20:29:01.778Z"
   },
   {
    "duration": 18,
    "start_time": "2023-06-09T20:29:03.664Z"
   },
   {
    "duration": 22,
    "start_time": "2023-06-09T20:29:03.683Z"
   },
   {
    "duration": 61,
    "start_time": "2023-06-09T20:29:03.706Z"
   },
   {
    "duration": 9,
    "start_time": "2023-06-09T20:29:03.769Z"
   },
   {
    "duration": 14,
    "start_time": "2023-06-09T20:29:03.780Z"
   },
   {
    "duration": 25,
    "start_time": "2023-06-09T20:29:03.797Z"
   },
   {
    "duration": 28,
    "start_time": "2023-06-09T20:29:03.824Z"
   },
   {
    "duration": 26,
    "start_time": "2023-06-09T20:29:03.853Z"
   },
   {
    "duration": 34,
    "start_time": "2023-06-09T20:29:03.882Z"
   },
   {
    "duration": 27,
    "start_time": "2023-06-09T20:29:03.918Z"
   },
   {
    "duration": 34,
    "start_time": "2023-06-09T20:29:03.947Z"
   },
   {
    "duration": 152,
    "start_time": "2023-06-09T20:29:03.983Z"
   },
   {
    "duration": 351,
    "start_time": "2023-06-09T20:29:04.136Z"
   },
   {
    "duration": 1454,
    "start_time": "2023-06-09T20:29:04.488Z"
   },
   {
    "duration": 185,
    "start_time": "2023-06-09T20:29:05.944Z"
   },
   {
    "duration": 132,
    "start_time": "2023-06-09T20:29:06.131Z"
   },
   {
    "duration": 134,
    "start_time": "2023-06-09T20:29:06.265Z"
   },
   {
    "duration": 142,
    "start_time": "2023-06-09T20:29:06.401Z"
   },
   {
    "duration": 1209,
    "start_time": "2023-06-09T20:29:06.545Z"
   },
   {
    "duration": 231,
    "start_time": "2023-06-09T20:29:07.756Z"
   },
   {
    "duration": 142,
    "start_time": "2023-06-09T20:29:07.988Z"
   },
   {
    "duration": 637,
    "start_time": "2023-06-09T20:29:08.134Z"
   },
   {
    "duration": 8,
    "start_time": "2023-06-09T20:29:08.773Z"
   },
   {
    "duration": 152,
    "start_time": "2023-06-09T20:29:08.784Z"
   },
   {
    "duration": 398,
    "start_time": "2023-06-09T20:29:08.938Z"
   },
   {
    "duration": 22,
    "start_time": "2023-06-09T20:29:09.337Z"
   },
   {
    "duration": 7,
    "start_time": "2023-06-09T20:29:09.361Z"
   },
   {
    "duration": 8,
    "start_time": "2023-06-09T20:29:09.369Z"
   },
   {
    "duration": 179,
    "start_time": "2023-06-09T20:29:09.378Z"
   },
   {
    "duration": 782,
    "start_time": "2023-06-10T06:17:05.129Z"
   },
   {
    "duration": 9,
    "start_time": "2023-06-10T06:17:05.913Z"
   },
   {
    "duration": 81,
    "start_time": "2023-06-10T06:17:05.923Z"
   },
   {
    "duration": 2291,
    "start_time": "2023-06-10T06:17:06.006Z"
   },
   {
    "duration": 17,
    "start_time": "2023-06-10T06:17:08.300Z"
   },
   {
    "duration": 40,
    "start_time": "2023-06-10T06:17:08.319Z"
   },
   {
    "duration": 120,
    "start_time": "2023-06-10T06:17:08.361Z"
   },
   {
    "duration": 9,
    "start_time": "2023-06-10T06:17:08.483Z"
   },
   {
    "duration": 30,
    "start_time": "2023-06-10T06:17:08.493Z"
   },
   {
    "duration": 37,
    "start_time": "2023-06-10T06:17:08.525Z"
   },
   {
    "duration": 49,
    "start_time": "2023-06-10T06:17:08.564Z"
   },
   {
    "duration": 14,
    "start_time": "2023-06-10T06:17:08.615Z"
   },
   {
    "duration": 49,
    "start_time": "2023-06-10T06:17:08.631Z"
   },
   {
    "duration": 19,
    "start_time": "2023-06-10T06:17:08.683Z"
   },
   {
    "duration": 30,
    "start_time": "2023-06-10T06:17:08.703Z"
   },
   {
    "duration": 141,
    "start_time": "2023-06-10T06:17:08.735Z"
   },
   {
    "duration": 371,
    "start_time": "2023-06-10T06:17:08.877Z"
   },
   {
    "duration": 1513,
    "start_time": "2023-06-10T06:17:09.249Z"
   },
   {
    "duration": 145,
    "start_time": "2023-06-10T06:17:10.765Z"
   },
   {
    "duration": 146,
    "start_time": "2023-06-10T06:17:10.911Z"
   },
   {
    "duration": 128,
    "start_time": "2023-06-10T06:17:11.060Z"
   },
   {
    "duration": 142,
    "start_time": "2023-06-10T06:17:11.190Z"
   },
   {
    "duration": 1302,
    "start_time": "2023-06-10T06:17:11.335Z"
   },
   {
    "duration": 272,
    "start_time": "2023-06-10T06:17:12.639Z"
   },
   {
    "duration": 164,
    "start_time": "2023-06-10T06:17:12.913Z"
   },
   {
    "duration": 777,
    "start_time": "2023-06-10T06:17:13.078Z"
   },
   {
    "duration": 8,
    "start_time": "2023-06-10T06:17:13.857Z"
   },
   {
    "duration": 191,
    "start_time": "2023-06-10T06:17:13.866Z"
   },
   {
    "duration": 551,
    "start_time": "2023-06-10T06:17:14.058Z"
   },
   {
    "duration": 38,
    "start_time": "2023-06-10T06:17:14.611Z"
   },
   {
    "duration": 8,
    "start_time": "2023-06-10T06:17:14.652Z"
   },
   {
    "duration": 22,
    "start_time": "2023-06-10T06:17:14.662Z"
   },
   {
    "duration": 215,
    "start_time": "2023-06-10T06:17:14.686Z"
   },
   {
    "duration": 152,
    "start_time": "2023-06-10T06:20:19.263Z"
   },
   {
    "duration": 1135,
    "start_time": "2023-06-23T19:04:41.662Z"
   },
   {
    "duration": 7,
    "start_time": "2023-06-23T19:04:42.799Z"
   },
   {
    "duration": 61,
    "start_time": "2023-06-23T19:04:42.808Z"
   },
   {
    "duration": 1843,
    "start_time": "2023-06-23T19:04:42.871Z"
   },
   {
    "duration": 14,
    "start_time": "2023-06-23T19:04:44.716Z"
   },
   {
    "duration": 10,
    "start_time": "2023-06-23T19:04:44.732Z"
   },
   {
    "duration": 67,
    "start_time": "2023-06-23T19:04:44.744Z"
   },
   {
    "duration": 9,
    "start_time": "2023-06-23T19:04:44.813Z"
   },
   {
    "duration": 10,
    "start_time": "2023-06-23T19:04:44.824Z"
   },
   {
    "duration": 6,
    "start_time": "2023-06-23T19:04:44.837Z"
   },
   {
    "duration": 13,
    "start_time": "2023-06-23T19:04:44.844Z"
   },
   {
    "duration": 9,
    "start_time": "2023-06-23T19:04:44.859Z"
   },
   {
    "duration": 44,
    "start_time": "2023-06-23T19:04:44.869Z"
   },
   {
    "duration": 15,
    "start_time": "2023-06-23T19:04:44.914Z"
   },
   {
    "duration": 18,
    "start_time": "2023-06-23T19:04:44.931Z"
   },
   {
    "duration": 140,
    "start_time": "2023-06-23T19:04:44.951Z"
   },
   {
    "duration": 325,
    "start_time": "2023-06-23T19:04:45.092Z"
   },
   {
    "duration": 1175,
    "start_time": "2023-06-23T19:04:45.418Z"
   },
   {
    "duration": 133,
    "start_time": "2023-06-23T19:04:46.595Z"
   },
   {
    "duration": 124,
    "start_time": "2023-06-23T19:04:46.730Z"
   },
   {
    "duration": 113,
    "start_time": "2023-06-23T19:04:46.855Z"
   },
   {
    "duration": 120,
    "start_time": "2023-06-23T19:04:46.970Z"
   },
   {
    "duration": 1038,
    "start_time": "2023-06-23T19:04:47.091Z"
   },
   {
    "duration": 218,
    "start_time": "2023-06-23T19:04:48.130Z"
   },
   {
    "duration": 108,
    "start_time": "2023-06-23T19:04:48.349Z"
   },
   {
    "duration": 609,
    "start_time": "2023-06-23T19:04:48.458Z"
   },
   {
    "duration": 8,
    "start_time": "2023-06-23T19:04:49.068Z"
   },
   {
    "duration": 147,
    "start_time": "2023-06-23T19:04:49.078Z"
   },
   {
    "duration": 448,
    "start_time": "2023-06-23T19:04:49.226Z"
   },
   {
    "duration": 30,
    "start_time": "2023-06-23T19:04:49.675Z"
   },
   {
    "duration": 7,
    "start_time": "2023-06-23T19:04:49.706Z"
   },
   {
    "duration": 11,
    "start_time": "2023-06-23T19:04:49.714Z"
   },
   {
    "duration": 138,
    "start_time": "2023-06-23T19:04:49.726Z"
   }
  ],
  "kernelspec": {
   "display_name": "Python 3 (ipykernel)",
   "language": "python",
   "name": "python3"
  },
  "language_info": {
   "codemirror_mode": {
    "name": "ipython",
    "version": 3
   },
   "file_extension": ".py",
   "mimetype": "text/x-python",
   "name": "python",
   "nbconvert_exporter": "python",
   "pygments_lexer": "ipython3",
   "version": "3.10.9"
  },
  "toc": {
   "base_numbering": 1,
   "nav_menu": {
    "height": "630px",
    "width": "378px"
   },
   "number_sections": true,
   "sideBar": true,
   "skip_h1_title": true,
   "title_cell": "Table of Contents",
   "title_sidebar": "Contents",
   "toc_cell": false,
   "toc_position": {
    "height": "calc(100% - 180px)",
    "left": "10px",
    "top": "150px",
    "width": "264px"
   },
   "toc_section_display": true,
   "toc_window_display": false
  }
 },
 "nbformat": 4,
 "nbformat_minor": 2
}
