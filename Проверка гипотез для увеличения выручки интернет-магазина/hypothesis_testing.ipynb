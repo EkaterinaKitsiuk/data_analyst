{
 "cells": [
  {
   "cell_type": "markdown",
   "metadata": {},
   "source": [
    "# Анализ гипотез для увеличения выручки интернет-магазина\n",
    "\n",
    "Имеется список гипотез для увеличения выручки. Требуется приоритизировать гипотезы, запустить A/B-тесты и проанализировать результаты."
   ]
  },
  {
   "cell_type": "markdown",
   "metadata": {},
   "source": [
    "## Приоритизация гипотез"
   ]
  },
  {
   "cell_type": "code",
   "execution_count": 1,
   "metadata": {},
   "outputs": [],
   "source": [
    "import pandas as pd\n",
    "import scipy.stats as stats\n",
    "import datetime as dt\n",
    "import numpy as np\n",
    "import matplotlib.pyplot as plt"
   ]
  },
  {
   "cell_type": "code",
   "execution_count": 2,
   "metadata": {},
   "outputs": [
    {
     "data": {
      "text/html": [
       "<div>\n",
       "<style scoped>\n",
       "    .dataframe tbody tr th:only-of-type {\n",
       "        vertical-align: middle;\n",
       "    }\n",
       "\n",
       "    .dataframe tbody tr th {\n",
       "        vertical-align: top;\n",
       "    }\n",
       "\n",
       "    .dataframe thead th {\n",
       "        text-align: right;\n",
       "    }\n",
       "</style>\n",
       "<table border=\"1\" class=\"dataframe\">\n",
       "  <thead>\n",
       "    <tr style=\"text-align: right;\">\n",
       "      <th></th>\n",
       "      <th>Hypothesis</th>\n",
       "      <th>Reach</th>\n",
       "      <th>Impact</th>\n",
       "      <th>Confidence</th>\n",
       "      <th>Efforts</th>\n",
       "    </tr>\n",
       "  </thead>\n",
       "  <tbody>\n",
       "    <tr>\n",
       "      <th>0</th>\n",
       "      <td>Добавить два новых канала привлечения трафика, что позволит привлекать на 30% больше пользователей</td>\n",
       "      <td>3</td>\n",
       "      <td>10</td>\n",
       "      <td>8</td>\n",
       "      <td>6</td>\n",
       "    </tr>\n",
       "    <tr>\n",
       "      <th>1</th>\n",
       "      <td>Запустить собственную службу доставки, что сократит срок доставки заказов</td>\n",
       "      <td>2</td>\n",
       "      <td>5</td>\n",
       "      <td>4</td>\n",
       "      <td>10</td>\n",
       "    </tr>\n",
       "    <tr>\n",
       "      <th>2</th>\n",
       "      <td>Добавить блоки рекомендаций товаров на сайт интернет магазина, чтобы повысить конверсию и средний чек заказа</td>\n",
       "      <td>8</td>\n",
       "      <td>3</td>\n",
       "      <td>7</td>\n",
       "      <td>3</td>\n",
       "    </tr>\n",
       "    <tr>\n",
       "      <th>3</th>\n",
       "      <td>Изменить структура категорий, что увеличит конверсию, т.к. пользователи быстрее найдут нужный товар</td>\n",
       "      <td>8</td>\n",
       "      <td>3</td>\n",
       "      <td>3</td>\n",
       "      <td>8</td>\n",
       "    </tr>\n",
       "    <tr>\n",
       "      <th>4</th>\n",
       "      <td>Изменить цвет фона главной страницы, чтобы увеличить вовлеченность пользователей</td>\n",
       "      <td>3</td>\n",
       "      <td>1</td>\n",
       "      <td>1</td>\n",
       "      <td>1</td>\n",
       "    </tr>\n",
       "    <tr>\n",
       "      <th>5</th>\n",
       "      <td>Добавить страницу отзывов клиентов о магазине, что позволит увеличить количество заказов</td>\n",
       "      <td>3</td>\n",
       "      <td>2</td>\n",
       "      <td>2</td>\n",
       "      <td>3</td>\n",
       "    </tr>\n",
       "    <tr>\n",
       "      <th>6</th>\n",
       "      <td>Показать на главной странице баннеры с актуальными акциями и распродажами, чтобы увеличить конверсию</td>\n",
       "      <td>5</td>\n",
       "      <td>3</td>\n",
       "      <td>8</td>\n",
       "      <td>3</td>\n",
       "    </tr>\n",
       "    <tr>\n",
       "      <th>7</th>\n",
       "      <td>Добавить форму подписки на все основные страницы, чтобы собрать базу клиентов для email-рассылок</td>\n",
       "      <td>10</td>\n",
       "      <td>7</td>\n",
       "      <td>8</td>\n",
       "      <td>5</td>\n",
       "    </tr>\n",
       "    <tr>\n",
       "      <th>8</th>\n",
       "      <td>Запустить акцию, дающую скидку на товар в день рождения</td>\n",
       "      <td>1</td>\n",
       "      <td>9</td>\n",
       "      <td>9</td>\n",
       "      <td>5</td>\n",
       "    </tr>\n",
       "  </tbody>\n",
       "</table>\n",
       "</div>"
      ],
      "text/plain": [
       "                                                                                                     Hypothesis  \\\n",
       "0            Добавить два новых канала привлечения трафика, что позволит привлекать на 30% больше пользователей   \n",
       "1                                     Запустить собственную службу доставки, что сократит срок доставки заказов   \n",
       "2  Добавить блоки рекомендаций товаров на сайт интернет магазина, чтобы повысить конверсию и средний чек заказа   \n",
       "3           Изменить структура категорий, что увеличит конверсию, т.к. пользователи быстрее найдут нужный товар   \n",
       "4                              Изменить цвет фона главной страницы, чтобы увеличить вовлеченность пользователей   \n",
       "5                      Добавить страницу отзывов клиентов о магазине, что позволит увеличить количество заказов   \n",
       "6          Показать на главной странице баннеры с актуальными акциями и распродажами, чтобы увеличить конверсию   \n",
       "7              Добавить форму подписки на все основные страницы, чтобы собрать базу клиентов для email-рассылок   \n",
       "8                                                       Запустить акцию, дающую скидку на товар в день рождения   \n",
       "\n",
       "   Reach  Impact  Confidence  Efforts  \n",
       "0      3      10           8        6  \n",
       "1      2       5           4       10  \n",
       "2      8       3           7        3  \n",
       "3      8       3           3        8  \n",
       "4      3       1           1        1  \n",
       "5      3       2           2        3  \n",
       "6      5       3           8        3  \n",
       "7     10       7           8        5  \n",
       "8      1       9           9        5  "
      ]
     },
     "execution_count": 2,
     "metadata": {},
     "output_type": "execute_result"
    }
   ],
   "source": [
    "pd.options.display.max_colwidth = 110\n",
    "\n",
    "try:\n",
    "    data = pd.read_csv('/datasets/hypothesis.csv')\n",
    "except:\n",
    "    data = pd.read_csv('https://code.s3.yandex.net/datasets/hypothesis.csv')\n",
    "data"
   ]
  },
  {
   "cell_type": "code",
   "execution_count": 3,
   "metadata": {},
   "outputs": [
    {
     "data": {
      "text/html": [
       "<div>\n",
       "<style scoped>\n",
       "    .dataframe tbody tr th:only-of-type {\n",
       "        vertical-align: middle;\n",
       "    }\n",
       "\n",
       "    .dataframe tbody tr th {\n",
       "        vertical-align: top;\n",
       "    }\n",
       "\n",
       "    .dataframe thead th {\n",
       "        text-align: right;\n",
       "    }\n",
       "</style>\n",
       "<table border=\"1\" class=\"dataframe\">\n",
       "  <thead>\n",
       "    <tr style=\"text-align: right;\">\n",
       "      <th></th>\n",
       "      <th>hypothesis</th>\n",
       "      <th>reach</th>\n",
       "      <th>impact</th>\n",
       "      <th>confidence</th>\n",
       "      <th>efforts</th>\n",
       "    </tr>\n",
       "  </thead>\n",
       "  <tbody>\n",
       "    <tr>\n",
       "      <th>0</th>\n",
       "      <td>Добавить два новых канала привлечения трафика, что позволит привлекать на 30% больше пользователей</td>\n",
       "      <td>3</td>\n",
       "      <td>10</td>\n",
       "      <td>8</td>\n",
       "      <td>6</td>\n",
       "    </tr>\n",
       "    <tr>\n",
       "      <th>1</th>\n",
       "      <td>Запустить собственную службу доставки, что сократит срок доставки заказов</td>\n",
       "      <td>2</td>\n",
       "      <td>5</td>\n",
       "      <td>4</td>\n",
       "      <td>10</td>\n",
       "    </tr>\n",
       "    <tr>\n",
       "      <th>2</th>\n",
       "      <td>Добавить блоки рекомендаций товаров на сайт интернет магазина, чтобы повысить конверсию и средний чек заказа</td>\n",
       "      <td>8</td>\n",
       "      <td>3</td>\n",
       "      <td>7</td>\n",
       "      <td>3</td>\n",
       "    </tr>\n",
       "    <tr>\n",
       "      <th>3</th>\n",
       "      <td>Изменить структура категорий, что увеличит конверсию, т.к. пользователи быстрее найдут нужный товар</td>\n",
       "      <td>8</td>\n",
       "      <td>3</td>\n",
       "      <td>3</td>\n",
       "      <td>8</td>\n",
       "    </tr>\n",
       "    <tr>\n",
       "      <th>4</th>\n",
       "      <td>Изменить цвет фона главной страницы, чтобы увеличить вовлеченность пользователей</td>\n",
       "      <td>3</td>\n",
       "      <td>1</td>\n",
       "      <td>1</td>\n",
       "      <td>1</td>\n",
       "    </tr>\n",
       "    <tr>\n",
       "      <th>5</th>\n",
       "      <td>Добавить страницу отзывов клиентов о магазине, что позволит увеличить количество заказов</td>\n",
       "      <td>3</td>\n",
       "      <td>2</td>\n",
       "      <td>2</td>\n",
       "      <td>3</td>\n",
       "    </tr>\n",
       "    <tr>\n",
       "      <th>6</th>\n",
       "      <td>Показать на главной странице баннеры с актуальными акциями и распродажами, чтобы увеличить конверсию</td>\n",
       "      <td>5</td>\n",
       "      <td>3</td>\n",
       "      <td>8</td>\n",
       "      <td>3</td>\n",
       "    </tr>\n",
       "    <tr>\n",
       "      <th>7</th>\n",
       "      <td>Добавить форму подписки на все основные страницы, чтобы собрать базу клиентов для email-рассылок</td>\n",
       "      <td>10</td>\n",
       "      <td>7</td>\n",
       "      <td>8</td>\n",
       "      <td>5</td>\n",
       "    </tr>\n",
       "    <tr>\n",
       "      <th>8</th>\n",
       "      <td>Запустить акцию, дающую скидку на товар в день рождения</td>\n",
       "      <td>1</td>\n",
       "      <td>9</td>\n",
       "      <td>9</td>\n",
       "      <td>5</td>\n",
       "    </tr>\n",
       "  </tbody>\n",
       "</table>\n",
       "</div>"
      ],
      "text/plain": [
       "                                                                                                     hypothesis  \\\n",
       "0            Добавить два новых канала привлечения трафика, что позволит привлекать на 30% больше пользователей   \n",
       "1                                     Запустить собственную службу доставки, что сократит срок доставки заказов   \n",
       "2  Добавить блоки рекомендаций товаров на сайт интернет магазина, чтобы повысить конверсию и средний чек заказа   \n",
       "3           Изменить структура категорий, что увеличит конверсию, т.к. пользователи быстрее найдут нужный товар   \n",
       "4                              Изменить цвет фона главной страницы, чтобы увеличить вовлеченность пользователей   \n",
       "5                      Добавить страницу отзывов клиентов о магазине, что позволит увеличить количество заказов   \n",
       "6          Показать на главной странице баннеры с актуальными акциями и распродажами, чтобы увеличить конверсию   \n",
       "7              Добавить форму подписки на все основные страницы, чтобы собрать базу клиентов для email-рассылок   \n",
       "8                                                       Запустить акцию, дающую скидку на товар в день рождения   \n",
       "\n",
       "   reach  impact  confidence  efforts  \n",
       "0      3      10           8        6  \n",
       "1      2       5           4       10  \n",
       "2      8       3           7        3  \n",
       "3      8       3           3        8  \n",
       "4      3       1           1        1  \n",
       "5      3       2           2        3  \n",
       "6      5       3           8        3  \n",
       "7     10       7           8        5  \n",
       "8      1       9           9        5  "
      ]
     },
     "execution_count": 3,
     "metadata": {},
     "output_type": "execute_result"
    }
   ],
   "source": [
    "# Приведем к нижнему регистру названия столбцов. Проверим результат.\n",
    "data.columns = map(str.lower, data.columns)\n",
    "data"
   ]
  },
  {
   "cell_type": "code",
   "execution_count": 4,
   "metadata": {},
   "outputs": [
    {
     "data": {
      "text/html": [
       "<div>\n",
       "<style scoped>\n",
       "    .dataframe tbody tr th:only-of-type {\n",
       "        vertical-align: middle;\n",
       "    }\n",
       "\n",
       "    .dataframe tbody tr th {\n",
       "        vertical-align: top;\n",
       "    }\n",
       "\n",
       "    .dataframe thead th {\n",
       "        text-align: right;\n",
       "    }\n",
       "</style>\n",
       "<table border=\"1\" class=\"dataframe\">\n",
       "  <thead>\n",
       "    <tr style=\"text-align: right;\">\n",
       "      <th></th>\n",
       "      <th>hypothesis</th>\n",
       "      <th>ICE</th>\n",
       "    </tr>\n",
       "  </thead>\n",
       "  <tbody>\n",
       "    <tr>\n",
       "      <th>8</th>\n",
       "      <td>Запустить акцию, дающую скидку на товар в день рождения</td>\n",
       "      <td>16.20</td>\n",
       "    </tr>\n",
       "    <tr>\n",
       "      <th>0</th>\n",
       "      <td>Добавить два новых канала привлечения трафика, что позволит привлекать на 30% больше пользователей</td>\n",
       "      <td>13.33</td>\n",
       "    </tr>\n",
       "    <tr>\n",
       "      <th>7</th>\n",
       "      <td>Добавить форму подписки на все основные страницы, чтобы собрать базу клиентов для email-рассылок</td>\n",
       "      <td>11.20</td>\n",
       "    </tr>\n",
       "    <tr>\n",
       "      <th>6</th>\n",
       "      <td>Показать на главной странице баннеры с актуальными акциями и распродажами, чтобы увеличить конверсию</td>\n",
       "      <td>8.00</td>\n",
       "    </tr>\n",
       "    <tr>\n",
       "      <th>2</th>\n",
       "      <td>Добавить блоки рекомендаций товаров на сайт интернет магазина, чтобы повысить конверсию и средний чек заказа</td>\n",
       "      <td>7.00</td>\n",
       "    </tr>\n",
       "    <tr>\n",
       "      <th>1</th>\n",
       "      <td>Запустить собственную службу доставки, что сократит срок доставки заказов</td>\n",
       "      <td>2.00</td>\n",
       "    </tr>\n",
       "    <tr>\n",
       "      <th>5</th>\n",
       "      <td>Добавить страницу отзывов клиентов о магазине, что позволит увеличить количество заказов</td>\n",
       "      <td>1.33</td>\n",
       "    </tr>\n",
       "    <tr>\n",
       "      <th>3</th>\n",
       "      <td>Изменить структура категорий, что увеличит конверсию, т.к. пользователи быстрее найдут нужный товар</td>\n",
       "      <td>1.12</td>\n",
       "    </tr>\n",
       "    <tr>\n",
       "      <th>4</th>\n",
       "      <td>Изменить цвет фона главной страницы, чтобы увеличить вовлеченность пользователей</td>\n",
       "      <td>1.00</td>\n",
       "    </tr>\n",
       "  </tbody>\n",
       "</table>\n",
       "</div>"
      ],
      "text/plain": [
       "                                                                                                     hypothesis  \\\n",
       "8                                                       Запустить акцию, дающую скидку на товар в день рождения   \n",
       "0            Добавить два новых канала привлечения трафика, что позволит привлекать на 30% больше пользователей   \n",
       "7              Добавить форму подписки на все основные страницы, чтобы собрать базу клиентов для email-рассылок   \n",
       "6          Показать на главной странице баннеры с актуальными акциями и распродажами, чтобы увеличить конверсию   \n",
       "2  Добавить блоки рекомендаций товаров на сайт интернет магазина, чтобы повысить конверсию и средний чек заказа   \n",
       "1                                     Запустить собственную службу доставки, что сократит срок доставки заказов   \n",
       "5                      Добавить страницу отзывов клиентов о магазине, что позволит увеличить количество заказов   \n",
       "3           Изменить структура категорий, что увеличит конверсию, т.к. пользователи быстрее найдут нужный товар   \n",
       "4                              Изменить цвет фона главной страницы, чтобы увеличить вовлеченность пользователей   \n",
       "\n",
       "     ICE  \n",
       "8  16.20  \n",
       "0  13.33  \n",
       "7  11.20  \n",
       "6   8.00  \n",
       "2   7.00  \n",
       "1   2.00  \n",
       "5   1.33  \n",
       "3   1.12  \n",
       "4   1.00  "
      ]
     },
     "execution_count": 4,
     "metadata": {},
     "output_type": "execute_result"
    }
   ],
   "source": [
    "# Применим формулу для ICE\n",
    "data['ICE'] = data['impact'] * data['confidence'] / data['efforts']\n",
    "data['ICE'] = data['ICE'].round(2)\n",
    "data[['hypothesis', 'ICE']].sort_values(by='ICE', ascending=False)"
   ]
  },
  {
   "cell_type": "markdown",
   "metadata": {},
   "source": [
    "Наиболее перспективные гипотезы по ICE:\n",
    "- 8 \"Запустить акцию, дающую скидку на товар в день рождения\"\n",
    "- 0 \"Добавить два новых канала привлечения трафика, что позволит привлекать на 30% больше пользователей\"\n",
    "- 7 \"Добавить форму подписки на все основные страницы, чтобы собрать базу клиентов для email-рассылок\"\t"
   ]
  },
  {
   "cell_type": "code",
   "execution_count": 5,
   "metadata": {},
   "outputs": [
    {
     "data": {
      "text/html": [
       "<div>\n",
       "<style scoped>\n",
       "    .dataframe tbody tr th:only-of-type {\n",
       "        vertical-align: middle;\n",
       "    }\n",
       "\n",
       "    .dataframe tbody tr th {\n",
       "        vertical-align: top;\n",
       "    }\n",
       "\n",
       "    .dataframe thead th {\n",
       "        text-align: right;\n",
       "    }\n",
       "</style>\n",
       "<table border=\"1\" class=\"dataframe\">\n",
       "  <thead>\n",
       "    <tr style=\"text-align: right;\">\n",
       "      <th></th>\n",
       "      <th>hypothesis</th>\n",
       "      <th>RICE</th>\n",
       "    </tr>\n",
       "  </thead>\n",
       "  <tbody>\n",
       "    <tr>\n",
       "      <th>7</th>\n",
       "      <td>Добавить форму подписки на все основные страницы, чтобы собрать базу клиентов для email-рассылок</td>\n",
       "      <td>112.0</td>\n",
       "    </tr>\n",
       "    <tr>\n",
       "      <th>2</th>\n",
       "      <td>Добавить блоки рекомендаций товаров на сайт интернет магазина, чтобы повысить конверсию и средний чек заказа</td>\n",
       "      <td>56.0</td>\n",
       "    </tr>\n",
       "    <tr>\n",
       "      <th>0</th>\n",
       "      <td>Добавить два новых канала привлечения трафика, что позволит привлекать на 30% больше пользователей</td>\n",
       "      <td>40.0</td>\n",
       "    </tr>\n",
       "    <tr>\n",
       "      <th>6</th>\n",
       "      <td>Показать на главной странице баннеры с актуальными акциями и распродажами, чтобы увеличить конверсию</td>\n",
       "      <td>40.0</td>\n",
       "    </tr>\n",
       "    <tr>\n",
       "      <th>8</th>\n",
       "      <td>Запустить акцию, дающую скидку на товар в день рождения</td>\n",
       "      <td>16.2</td>\n",
       "    </tr>\n",
       "    <tr>\n",
       "      <th>3</th>\n",
       "      <td>Изменить структура категорий, что увеличит конверсию, т.к. пользователи быстрее найдут нужный товар</td>\n",
       "      <td>9.0</td>\n",
       "    </tr>\n",
       "    <tr>\n",
       "      <th>1</th>\n",
       "      <td>Запустить собственную службу доставки, что сократит срок доставки заказов</td>\n",
       "      <td>4.0</td>\n",
       "    </tr>\n",
       "    <tr>\n",
       "      <th>5</th>\n",
       "      <td>Добавить страницу отзывов клиентов о магазине, что позволит увеличить количество заказов</td>\n",
       "      <td>4.0</td>\n",
       "    </tr>\n",
       "    <tr>\n",
       "      <th>4</th>\n",
       "      <td>Изменить цвет фона главной страницы, чтобы увеличить вовлеченность пользователей</td>\n",
       "      <td>3.0</td>\n",
       "    </tr>\n",
       "  </tbody>\n",
       "</table>\n",
       "</div>"
      ],
      "text/plain": [
       "                                                                                                     hypothesis  \\\n",
       "7              Добавить форму подписки на все основные страницы, чтобы собрать базу клиентов для email-рассылок   \n",
       "2  Добавить блоки рекомендаций товаров на сайт интернет магазина, чтобы повысить конверсию и средний чек заказа   \n",
       "0            Добавить два новых канала привлечения трафика, что позволит привлекать на 30% больше пользователей   \n",
       "6          Показать на главной странице баннеры с актуальными акциями и распродажами, чтобы увеличить конверсию   \n",
       "8                                                       Запустить акцию, дающую скидку на товар в день рождения   \n",
       "3           Изменить структура категорий, что увеличит конверсию, т.к. пользователи быстрее найдут нужный товар   \n",
       "1                                     Запустить собственную службу доставки, что сократит срок доставки заказов   \n",
       "5                      Добавить страницу отзывов клиентов о магазине, что позволит увеличить количество заказов   \n",
       "4                              Изменить цвет фона главной страницы, чтобы увеличить вовлеченность пользователей   \n",
       "\n",
       "    RICE  \n",
       "7  112.0  \n",
       "2   56.0  \n",
       "0   40.0  \n",
       "6   40.0  \n",
       "8   16.2  \n",
       "3    9.0  \n",
       "1    4.0  \n",
       "5    4.0  \n",
       "4    3.0  "
      ]
     },
     "execution_count": 5,
     "metadata": {},
     "output_type": "execute_result"
    }
   ],
   "source": [
    "# Применим формулу для RICE\n",
    "data['RICE'] = data['reach'] * data['impact'] * data['confidence'] / data['efforts']\n",
    "data['RICE'] = data['RICE'].round(2)\n",
    "data[['hypothesis', 'RICE']].sort_values(by='RICE', ascending=False)"
   ]
  },
  {
   "cell_type": "markdown",
   "metadata": {},
   "source": [
    "Наиболее перспективные гипотезы по RICE: \n",
    "- 7 \"Добавить форму подписки на все основные страницы, чтобы собрать базу клиентов для email-рассылок\"\n",
    "- 2 \"Добавить блоки рекомендаций товаров на сайт интернет магазина, чтобы повысить конверсию и средний чек заказа\"\n",
    "- 0 \"Добавить два новых канала привлечения трафика, что позволит привлекать на 30% больше пользователей\"\n",
    "- 6 \"Показать на главной странице баннеры с актуальными акциями и распродажами, чтобы увеличить конверсию\"\n",
    "\n",
    "Здесь лидирует гипотеза 7, хотя по ICE занимает только третье место. Это связано с тем, что ее параметр Reach самый высокий (10). Так же за счет довольно высокого параметра Reach на второе место вышла гипотеза 2, хотя по ICE она занимает только пятое место.\n",
    "\n",
    "**Выводы**\n",
    "В лидирующие гипотезы по ICE вошли гипотезы 8, 0, 7, по RICE - 7, 2, 6, 0. На результаты по RICE оказывает влияние то, как много пользователей затронет предполагаемое изменение. Это следует принимать во внимание."
   ]
  },
  {
   "cell_type": "markdown",
   "metadata": {},
   "source": [
    "## Анализ A/B-теста"
   ]
  },
  {
   "cell_type": "markdown",
   "metadata": {},
   "source": [
    "### Предобработка данных"
   ]
  },
  {
   "cell_type": "code",
   "execution_count": 6,
   "metadata": {},
   "outputs": [
    {
     "data": {
      "text/html": [
       "<div>\n",
       "<style scoped>\n",
       "    .dataframe tbody tr th:only-of-type {\n",
       "        vertical-align: middle;\n",
       "    }\n",
       "\n",
       "    .dataframe tbody tr th {\n",
       "        vertical-align: top;\n",
       "    }\n",
       "\n",
       "    .dataframe thead th {\n",
       "        text-align: right;\n",
       "    }\n",
       "</style>\n",
       "<table border=\"1\" class=\"dataframe\">\n",
       "  <thead>\n",
       "    <tr style=\"text-align: right;\">\n",
       "      <th></th>\n",
       "      <th>transactionId</th>\n",
       "      <th>visitorId</th>\n",
       "      <th>date</th>\n",
       "      <th>revenue</th>\n",
       "      <th>group</th>\n",
       "    </tr>\n",
       "  </thead>\n",
       "  <tbody>\n",
       "    <tr>\n",
       "      <th>0</th>\n",
       "      <td>3667963787</td>\n",
       "      <td>3312258926</td>\n",
       "      <td>2019-08-15</td>\n",
       "      <td>1650</td>\n",
       "      <td>B</td>\n",
       "    </tr>\n",
       "    <tr>\n",
       "      <th>1</th>\n",
       "      <td>2804400009</td>\n",
       "      <td>3642806036</td>\n",
       "      <td>2019-08-15</td>\n",
       "      <td>730</td>\n",
       "      <td>B</td>\n",
       "    </tr>\n",
       "    <tr>\n",
       "      <th>2</th>\n",
       "      <td>2961555356</td>\n",
       "      <td>4069496402</td>\n",
       "      <td>2019-08-15</td>\n",
       "      <td>400</td>\n",
       "      <td>A</td>\n",
       "    </tr>\n",
       "    <tr>\n",
       "      <th>3</th>\n",
       "      <td>3797467345</td>\n",
       "      <td>1196621759</td>\n",
       "      <td>2019-08-15</td>\n",
       "      <td>9759</td>\n",
       "      <td>B</td>\n",
       "    </tr>\n",
       "    <tr>\n",
       "      <th>4</th>\n",
       "      <td>2282983706</td>\n",
       "      <td>2322279887</td>\n",
       "      <td>2019-08-15</td>\n",
       "      <td>2308</td>\n",
       "      <td>B</td>\n",
       "    </tr>\n",
       "  </tbody>\n",
       "</table>\n",
       "</div>"
      ],
      "text/plain": [
       "   transactionId   visitorId        date  revenue group\n",
       "0     3667963787  3312258926  2019-08-15     1650     B\n",
       "1     2804400009  3642806036  2019-08-15      730     B\n",
       "2     2961555356  4069496402  2019-08-15      400     A\n",
       "3     3797467345  1196621759  2019-08-15     9759     B\n",
       "4     2282983706  2322279887  2019-08-15     2308     B"
      ]
     },
     "metadata": {},
     "output_type": "display_data"
    },
    {
     "name": "stdout",
     "output_type": "stream",
     "text": [
      "<class 'pandas.core.frame.DataFrame'>\n",
      "RangeIndex: 1197 entries, 0 to 1196\n",
      "Data columns (total 5 columns):\n",
      " #   Column         Non-Null Count  Dtype \n",
      "---  ------         --------------  ----- \n",
      " 0   transactionId  1197 non-null   int64 \n",
      " 1   visitorId      1197 non-null   int64 \n",
      " 2   date           1197 non-null   object\n",
      " 3   revenue        1197 non-null   int64 \n",
      " 4   group          1197 non-null   object\n",
      "dtypes: int64(3), object(2)\n",
      "memory usage: 46.9+ KB\n"
     ]
    }
   ],
   "source": [
    "try:\n",
    "    orders = pd.read_csv('/datasets/orders.csv')\n",
    "except:\n",
    "    orders = pd.read_csv('https://code.s3.yandex.net/datasets/orders.csv')\n",
    "\n",
    "display(orders.head())\n",
    "orders.info()"
   ]
  },
  {
   "cell_type": "code",
   "execution_count": 7,
   "metadata": {},
   "outputs": [
    {
     "data": {
      "text/html": [
       "<div>\n",
       "<style scoped>\n",
       "    .dataframe tbody tr th:only-of-type {\n",
       "        vertical-align: middle;\n",
       "    }\n",
       "\n",
       "    .dataframe tbody tr th {\n",
       "        vertical-align: top;\n",
       "    }\n",
       "\n",
       "    .dataframe thead th {\n",
       "        text-align: right;\n",
       "    }\n",
       "</style>\n",
       "<table border=\"1\" class=\"dataframe\">\n",
       "  <thead>\n",
       "    <tr style=\"text-align: right;\">\n",
       "      <th></th>\n",
       "      <th>date</th>\n",
       "      <th>group</th>\n",
       "      <th>visitors</th>\n",
       "    </tr>\n",
       "  </thead>\n",
       "  <tbody>\n",
       "    <tr>\n",
       "      <th>0</th>\n",
       "      <td>2019-08-01</td>\n",
       "      <td>A</td>\n",
       "      <td>719</td>\n",
       "    </tr>\n",
       "    <tr>\n",
       "      <th>1</th>\n",
       "      <td>2019-08-02</td>\n",
       "      <td>A</td>\n",
       "      <td>619</td>\n",
       "    </tr>\n",
       "    <tr>\n",
       "      <th>2</th>\n",
       "      <td>2019-08-03</td>\n",
       "      <td>A</td>\n",
       "      <td>507</td>\n",
       "    </tr>\n",
       "    <tr>\n",
       "      <th>3</th>\n",
       "      <td>2019-08-04</td>\n",
       "      <td>A</td>\n",
       "      <td>717</td>\n",
       "    </tr>\n",
       "    <tr>\n",
       "      <th>4</th>\n",
       "      <td>2019-08-05</td>\n",
       "      <td>A</td>\n",
       "      <td>756</td>\n",
       "    </tr>\n",
       "  </tbody>\n",
       "</table>\n",
       "</div>"
      ],
      "text/plain": [
       "         date group  visitors\n",
       "0  2019-08-01     A       719\n",
       "1  2019-08-02     A       619\n",
       "2  2019-08-03     A       507\n",
       "3  2019-08-04     A       717\n",
       "4  2019-08-05     A       756"
      ]
     },
     "metadata": {},
     "output_type": "display_data"
    },
    {
     "name": "stdout",
     "output_type": "stream",
     "text": [
      "<class 'pandas.core.frame.DataFrame'>\n",
      "RangeIndex: 62 entries, 0 to 61\n",
      "Data columns (total 3 columns):\n",
      " #   Column    Non-Null Count  Dtype \n",
      "---  ------    --------------  ----- \n",
      " 0   date      62 non-null     object\n",
      " 1   group     62 non-null     object\n",
      " 2   visitors  62 non-null     int64 \n",
      "dtypes: int64(1), object(2)\n",
      "memory usage: 1.6+ KB\n"
     ]
    }
   ],
   "source": [
    "try:\n",
    "    visitors = pd.read_csv('/datasets/visitors.csv')\n",
    "except:\n",
    "    visitors = pd.read_csv('https://code.s3.yandex.net/datasets/visitors.csv')\n",
    "\n",
    "display(visitors.head())\n",
    "visitors.info()"
   ]
  },
  {
   "cell_type": "markdown",
   "metadata": {},
   "source": [
    "У нас есть две таблицы **orders, visitors**. Можно заметить, что количество значений в столбцах в рамках каждой таблицы одинаково, значит в данных нет пропущенных значений. Также видим, что не все столбцы имеют подходящий тип данных (столбцы с датой). А также названия столбцов не соответствуют хорошему стилю (в заголовках есть верхний регистр, \"склеенные\" слова).\n",
    "\n",
    "Согласно документации к данным:\n",
    "\n",
    "**orders** (информация о заказах)\n",
    "- `transactionId` — идентификатор заказа;           \n",
    "- `visitorId` — идентификатор пользователя, совершившего заказ;  \n",
    "- `date` — дата, когда был совершён заказ;  \n",
    "- `revenue` — выручка заказа;\n",
    "- `group` — группа A/B-теста, в которую попал заказ.\n",
    "\n",
    "\n",
    "**visitors** (информация о посещениях)\n",
    "- `date` — дата;           \n",
    "- `group` — группа A/B-теста;  \n",
    "- `visitors` — количество пользователей в указанную дату в указанной группе A/B-теста."
   ]
  },
  {
   "cell_type": "code",
   "execution_count": 8,
   "metadata": {},
   "outputs": [],
   "source": [
    "# Преобразуем данные о времени\n",
    "orders['date'] = orders['date'].map(\n",
    "    lambda x: dt.datetime.strptime(x, '%Y-%m-%d')\n",
    ")\n",
    "visitors['date'] = visitors['date'].map(\n",
    "    lambda x: dt.datetime.strptime(x, '%Y-%m-%d')\n",
    ")"
   ]
  },
  {
   "cell_type": "code",
   "execution_count": 9,
   "metadata": {},
   "outputs": [
    {
     "data": {
      "text/html": [
       "<div>\n",
       "<style scoped>\n",
       "    .dataframe tbody tr th:only-of-type {\n",
       "        vertical-align: middle;\n",
       "    }\n",
       "\n",
       "    .dataframe tbody tr th {\n",
       "        vertical-align: top;\n",
       "    }\n",
       "\n",
       "    .dataframe thead th {\n",
       "        text-align: right;\n",
       "    }\n",
       "</style>\n",
       "<table border=\"1\" class=\"dataframe\">\n",
       "  <thead>\n",
       "    <tr style=\"text-align: right;\">\n",
       "      <th></th>\n",
       "      <th>transaction_id</th>\n",
       "      <th>visitor_id</th>\n",
       "      <th>date</th>\n",
       "      <th>revenue</th>\n",
       "      <th>group</th>\n",
       "    </tr>\n",
       "  </thead>\n",
       "  <tbody>\n",
       "    <tr>\n",
       "      <th>0</th>\n",
       "      <td>3667963787</td>\n",
       "      <td>3312258926</td>\n",
       "      <td>2019-08-15</td>\n",
       "      <td>1650</td>\n",
       "      <td>B</td>\n",
       "    </tr>\n",
       "    <tr>\n",
       "      <th>1</th>\n",
       "      <td>2804400009</td>\n",
       "      <td>3642806036</td>\n",
       "      <td>2019-08-15</td>\n",
       "      <td>730</td>\n",
       "      <td>B</td>\n",
       "    </tr>\n",
       "    <tr>\n",
       "      <th>2</th>\n",
       "      <td>2961555356</td>\n",
       "      <td>4069496402</td>\n",
       "      <td>2019-08-15</td>\n",
       "      <td>400</td>\n",
       "      <td>A</td>\n",
       "    </tr>\n",
       "    <tr>\n",
       "      <th>3</th>\n",
       "      <td>3797467345</td>\n",
       "      <td>1196621759</td>\n",
       "      <td>2019-08-15</td>\n",
       "      <td>9759</td>\n",
       "      <td>B</td>\n",
       "    </tr>\n",
       "    <tr>\n",
       "      <th>4</th>\n",
       "      <td>2282983706</td>\n",
       "      <td>2322279887</td>\n",
       "      <td>2019-08-15</td>\n",
       "      <td>2308</td>\n",
       "      <td>B</td>\n",
       "    </tr>\n",
       "    <tr>\n",
       "      <th>...</th>\n",
       "      <td>...</td>\n",
       "      <td>...</td>\n",
       "      <td>...</td>\n",
       "      <td>...</td>\n",
       "      <td>...</td>\n",
       "    </tr>\n",
       "    <tr>\n",
       "      <th>1192</th>\n",
       "      <td>2662137336</td>\n",
       "      <td>3733762160</td>\n",
       "      <td>2019-08-14</td>\n",
       "      <td>6490</td>\n",
       "      <td>B</td>\n",
       "    </tr>\n",
       "    <tr>\n",
       "      <th>1193</th>\n",
       "      <td>2203539145</td>\n",
       "      <td>370388673</td>\n",
       "      <td>2019-08-14</td>\n",
       "      <td>3190</td>\n",
       "      <td>A</td>\n",
       "    </tr>\n",
       "    <tr>\n",
       "      <th>1194</th>\n",
       "      <td>1807773912</td>\n",
       "      <td>573423106</td>\n",
       "      <td>2019-08-14</td>\n",
       "      <td>10550</td>\n",
       "      <td>A</td>\n",
       "    </tr>\n",
       "    <tr>\n",
       "      <th>1195</th>\n",
       "      <td>1947021204</td>\n",
       "      <td>1614305549</td>\n",
       "      <td>2019-08-14</td>\n",
       "      <td>100</td>\n",
       "      <td>A</td>\n",
       "    </tr>\n",
       "    <tr>\n",
       "      <th>1196</th>\n",
       "      <td>3936777065</td>\n",
       "      <td>2108080724</td>\n",
       "      <td>2019-08-15</td>\n",
       "      <td>202740</td>\n",
       "      <td>B</td>\n",
       "    </tr>\n",
       "  </tbody>\n",
       "</table>\n",
       "<p>1197 rows × 5 columns</p>\n",
       "</div>"
      ],
      "text/plain": [
       "      transaction_id  visitor_id       date  revenue group\n",
       "0         3667963787  3312258926 2019-08-15     1650     B\n",
       "1         2804400009  3642806036 2019-08-15      730     B\n",
       "2         2961555356  4069496402 2019-08-15      400     A\n",
       "3         3797467345  1196621759 2019-08-15     9759     B\n",
       "4         2282983706  2322279887 2019-08-15     2308     B\n",
       "...              ...         ...        ...      ...   ...\n",
       "1192      2662137336  3733762160 2019-08-14     6490     B\n",
       "1193      2203539145   370388673 2019-08-14     3190     A\n",
       "1194      1807773912   573423106 2019-08-14    10550     A\n",
       "1195      1947021204  1614305549 2019-08-14      100     A\n",
       "1196      3936777065  2108080724 2019-08-15   202740     B\n",
       "\n",
       "[1197 rows x 5 columns]"
      ]
     },
     "execution_count": 9,
     "metadata": {},
     "output_type": "execute_result"
    }
   ],
   "source": [
    "# Приведем названия столбцов к нижнему регистру и добавим нижнее подчеркивание, где необходимо\n",
    "orders.columns = [x.lower().replace('id', '_id') for x in orders.columns]\n",
    "orders"
   ]
  },
  {
   "cell_type": "code",
   "execution_count": 10,
   "metadata": {},
   "outputs": [
    {
     "name": "stdout",
     "output_type": "stream",
     "text": [
      "0\n",
      "0\n"
     ]
    }
   ],
   "source": [
    "# Проверяем наличие явных дубликатов в датафреймах\n",
    "print(orders.duplicated().sum())\n",
    "print(visitors.duplicated().sum())"
   ]
  },
  {
   "cell_type": "code",
   "execution_count": 11,
   "metadata": {},
   "outputs": [
    {
     "name": "stdout",
     "output_type": "stream",
     "text": [
      "['A' 'B']\n",
      "['A' 'B']\n"
     ]
    }
   ],
   "source": [
    "# Убедимся, что столбцы заполнены корректно\n",
    "print(orders['group'].sort_values().unique())\n",
    "print(visitors['group'].sort_values().unique())"
   ]
  },
  {
   "cell_type": "code",
   "execution_count": 12,
   "metadata": {},
   "outputs": [
    {
     "name": "stdout",
     "output_type": "stream",
     "text": [
      "Пользователей одновременно в A и B: 58\n",
      "Доля пользователей одновременно в A и B от общего числа пользователей: 0.056\n"
     ]
    }
   ],
   "source": [
    "# Проверим, есть ли пользователи, встречающиеся в двух группах одновременно\n",
    "users = orders.groupby(['visitor_id']).agg({'group' : 'nunique'})\n",
    "users_ab = users[users['group'] != 1]\n",
    "print('Пользователей одновременно в A и B:', len(users_ab))\n",
    "print('Доля пользователей одновременно в A и B от общего числа пользователей:', '{0:.3f}'.format(len(users_ab) / len(users)))"
   ]
  },
  {
   "cell_type": "markdown",
   "metadata": {},
   "source": [
    "Каким-то образом 58 пользователей попали в обе группы. Так как доля таких пользователей мала (около 5%), трогать их не будем.\n",
    "Гораздо важнее будет выявить выбросы и избавиться от них."
   ]
  },
  {
   "cell_type": "code",
   "execution_count": 13,
   "metadata": {},
   "outputs": [
    {
     "name": "stdout",
     "output_type": "stream",
     "text": [
      "Данные по заказам за период с 2019-08-01 00:00:00 по 2019-08-31 00:00:00 \n"
     ]
    }
   ],
   "source": [
    "# Убедимся, что в таблицах временные периоды указаны корректно\n",
    "date_min = min(orders['date'])\n",
    "date_max = max(orders['date'])\n",
    "print(f'Данные по заказам за период с {date_min} по {date_max} ')"
   ]
  },
  {
   "cell_type": "code",
   "execution_count": 14,
   "metadata": {
    "scrolled": true
   },
   "outputs": [
    {
     "name": "stdout",
     "output_type": "stream",
     "text": [
      "Данные по пользователям за период с 2019-08-01 00:00:00 по 2019-08-31 00:00:00 \n"
     ]
    }
   ],
   "source": [
    "date_min = min(visitors['date'])\n",
    "date_max = max(visitors['date'])\n",
    "print(f'Данные по пользователям за период с {date_min} по {date_max} ')"
   ]
  },
  {
   "cell_type": "markdown",
   "metadata": {},
   "source": [
    "Данные в таблицах представлены за август 2019 года."
   ]
  },
  {
   "cell_type": "markdown",
   "metadata": {},
   "source": [
    "**Выводы**\n",
    "\n",
    "У нас есть две таблицы **orders, visitors**, в которых:\n",
    "- нет пропущенных значений и дубликатов,\n",
    "- временные периоды указаны корректно,\n",
    "- обнаружено 5% пользователей, присутствующих в двух группах одновременно (оставили их из-за небольшого количества).\n",
    "\n",
    "\n",
    "В то же время замечены некоторые проблемы в данных, которые были устранены:\n",
    "\n",
    "- не соответствие названий столбцов хорошему стилю,\n",
    "- не соответствующие типы данных."
   ]
  },
  {
   "cell_type": "markdown",
   "metadata": {},
   "source": [
    "### Кумулятивная выручка по группам"
   ]
  },
  {
   "cell_type": "code",
   "execution_count": 15,
   "metadata": {},
   "outputs": [
    {
     "data": {
      "text/html": [
       "<div>\n",
       "<style scoped>\n",
       "    .dataframe tbody tr th:only-of-type {\n",
       "        vertical-align: middle;\n",
       "    }\n",
       "\n",
       "    .dataframe tbody tr th {\n",
       "        vertical-align: top;\n",
       "    }\n",
       "\n",
       "    .dataframe thead th {\n",
       "        text-align: right;\n",
       "    }\n",
       "</style>\n",
       "<table border=\"1\" class=\"dataframe\">\n",
       "  <thead>\n",
       "    <tr style=\"text-align: right;\">\n",
       "      <th></th>\n",
       "      <th>date</th>\n",
       "      <th>group</th>\n",
       "      <th>orders</th>\n",
       "      <th>buyers</th>\n",
       "      <th>revenue</th>\n",
       "      <th>visitors</th>\n",
       "    </tr>\n",
       "  </thead>\n",
       "  <tbody>\n",
       "    <tr>\n",
       "      <th>0</th>\n",
       "      <td>2019-08-01</td>\n",
       "      <td>A</td>\n",
       "      <td>24</td>\n",
       "      <td>20</td>\n",
       "      <td>148579</td>\n",
       "      <td>719</td>\n",
       "    </tr>\n",
       "    <tr>\n",
       "      <th>1</th>\n",
       "      <td>2019-08-01</td>\n",
       "      <td>B</td>\n",
       "      <td>21</td>\n",
       "      <td>20</td>\n",
       "      <td>101217</td>\n",
       "      <td>713</td>\n",
       "    </tr>\n",
       "    <tr>\n",
       "      <th>2</th>\n",
       "      <td>2019-08-02</td>\n",
       "      <td>A</td>\n",
       "      <td>44</td>\n",
       "      <td>38</td>\n",
       "      <td>242401</td>\n",
       "      <td>1338</td>\n",
       "    </tr>\n",
       "    <tr>\n",
       "      <th>3</th>\n",
       "      <td>2019-08-02</td>\n",
       "      <td>B</td>\n",
       "      <td>45</td>\n",
       "      <td>43</td>\n",
       "      <td>266748</td>\n",
       "      <td>1294</td>\n",
       "    </tr>\n",
       "    <tr>\n",
       "      <th>4</th>\n",
       "      <td>2019-08-03</td>\n",
       "      <td>A</td>\n",
       "      <td>68</td>\n",
       "      <td>62</td>\n",
       "      <td>354874</td>\n",
       "      <td>1845</td>\n",
       "    </tr>\n",
       "  </tbody>\n",
       "</table>\n",
       "</div>"
      ],
      "text/plain": [
       "        date group  orders  buyers  revenue  visitors\n",
       "0 2019-08-01     A      24      20   148579       719\n",
       "1 2019-08-01     B      21      20   101217       713\n",
       "2 2019-08-02     A      44      38   242401      1338\n",
       "3 2019-08-02     B      45      43   266748      1294\n",
       "4 2019-08-03     A      68      62   354874      1845"
      ]
     },
     "execution_count": 15,
     "metadata": {},
     "output_type": "execute_result"
    }
   ],
   "source": [
    "# создаем массив уникальных пар значений дат и групп теста\n",
    "datesGroups = orders[['date','group']].drop_duplicates()\n",
    "\n",
    "# получаем агрегированные кумулятивные по дням данные о заказах \n",
    "ordersAggregated = datesGroups.apply(lambda x: orders[np.logical_and(orders['date'] <= x['date'], \\\n",
    "                                      orders['group'] == x['group'])]\\\n",
    "                                     .agg({'date' : 'max', 'group' : 'max', 'transaction_id' : 'nunique',\\\n",
    "                                      'visitor_id' : 'nunique', 'revenue' : 'sum'}), axis=1).sort_values(by=['date','group'])\n",
    "\n",
    "# получаем агрегированные кумулятивные по дням данные о посетителях интернет-магазина \n",
    "visitorsAggregated = datesGroups.apply(lambda x: visitors[np.logical_and(visitors['date'] <= x['date'],\\\n",
    "                                      visitors['group'] == x['group'])].agg({'date' : 'max', 'group' : 'max',\\\n",
    "                                      'visitors' : 'sum'}), axis=1).sort_values(by=['date','group'])\n",
    "\n",
    "# объединяем кумулятивные данные в одной таблице и присваиваем ее столбцам понятные названия\n",
    "cumulativeData = ordersAggregated.merge(visitorsAggregated, left_on=['date', 'group'], right_on=['date', 'group'])\n",
    "cumulativeData.columns = ['date', 'group', 'orders', 'buyers', 'revenue', 'visitors']\n",
    "\n",
    "cumulativeData.head(5)"
   ]
  },
  {
   "cell_type": "code",
   "execution_count": 16,
   "metadata": {},
   "outputs": [
    {
     "data": {
      "text/plain": [
       "<matplotlib.legend.Legend at 0x2d8cedb7760>"
      ]
     },
     "execution_count": 16,
     "metadata": {},
     "output_type": "execute_result"
    },
    {
     "data": {
      "image/png": "[encoded data removed]",
      "text/plain": [
       "<Figure size 1200x400 with 1 Axes>"
      ]
     },
     "metadata": {},
     "output_type": "display_data"
    }
   ],
   "source": [
    "# датафрейм с кумулятивным количеством заказов и кумулятивной выручкой по дням в группе А\n",
    "cumulativeRevenueA = cumulativeData[cumulativeData['group']=='A'][['date','revenue', 'orders']]\n",
    "\n",
    "# датафрейм с кумулятивным количеством заказов и кумулятивной выручкой по дням в группе B\n",
    "cumulativeRevenueB = cumulativeData[cumulativeData['group']=='B'][['date','revenue', 'orders']]\n",
    "\n",
    "plt.figure(figsize=(12,4))\n",
    "# Строим график выручки группы А\n",
    "plt.plot(cumulativeRevenueA['date'], cumulativeRevenueA['revenue'], label='A')\n",
    "\n",
    "# Строим график выручки группы B\n",
    "plt.plot(cumulativeRevenueB['date'], cumulativeRevenueB['revenue'], label='B')\n",
    "\n",
    "plt.title('Кумулятивная выручка по группам')\n",
    "plt.xlabel('Дата')\n",
    "plt.ylabel('Руб')\n",
    "plt.grid()\n",
    "plt.legend()"
   ]
  },
  {
   "cell_type": "markdown",
   "metadata": {},
   "source": [
    "Выручка почти равномерно увеличивается в течение всего теста. Однако график выручки в группе B имеет всплеск 19.08.21, что может сигнализировать о всплеске числа заказов либо о появлении очень дорогих заказов в выборке. За счет этого всплеска группа B с 19.08 становится значительно лучше по накпопленным показателям, чем группа A."
   ]
  },
  {
   "cell_type": "markdown",
   "metadata": {},
   "source": [
    "### Кумулятивный средний чек по группам"
   ]
  },
  {
   "cell_type": "code",
   "execution_count": 17,
   "metadata": {},
   "outputs": [
    {
     "data": {
      "text/plain": [
       "<matplotlib.legend.Legend at 0x2d8cef60100>"
      ]
     },
     "execution_count": 17,
     "metadata": {},
     "output_type": "execute_result"
    },
    {
     "data": {
      "image/png": "[encoded data removed]",
      "text/plain": [
       "<Figure size 1200x400 with 1 Axes>"
      ]
     },
     "metadata": {},
     "output_type": "display_data"
    }
   ],
   "source": [
    "plt.figure(figsize=(12,4))\n",
    "plt.plot(cumulativeRevenueA['date'], cumulativeRevenueA['revenue']/cumulativeRevenueA['orders'], label='A')\n",
    "plt.plot(cumulativeRevenueB['date'], cumulativeRevenueB['revenue']/cumulativeRevenueB['orders'], label='B')\n",
    "\n",
    "plt.title('Средний чек по группам')\n",
    "plt.xlabel('Дата')\n",
    "plt.ylabel('Руб')\n",
    "plt.grid()\n",
    "plt.legend()"
   ]
  },
  {
   "cell_type": "markdown",
   "metadata": {},
   "source": [
    "В группу B, вероятно, попали крупные заказы 19.08, что отразилось на сумме среднего чека. Для группы А средний чек установился к концу теста.\n",
    "Необходимо будет проанализировать выбросы, так как они могут оказывать влияние на результат."
   ]
  },
  {
   "cell_type": "markdown",
   "metadata": {},
   "source": [
    "### Относительное  изменение кумулятивного среднего чека группы B к группе A"
   ]
  },
  {
   "cell_type": "code",
   "execution_count": 18,
   "metadata": {},
   "outputs": [
    {
     "data": {
      "text/plain": [
       "<matplotlib.lines.Line2D at 0x2d8cf009690>"
      ]
     },
     "execution_count": 18,
     "metadata": {},
     "output_type": "execute_result"
    },
    {
     "data": {
      "image/png": "[encoded data removed]",
      "text/plain": [
       "<Figure size 1200x400 with 1 Axes>"
      ]
     },
     "metadata": {},
     "output_type": "display_data"
    }
   ],
   "source": [
    "# собираем данные в одном датафрейме\n",
    "mergedCumulativeRevenue = cumulativeRevenueA.merge(cumulativeRevenueB, left_on='date',\\\n",
    "                                                   right_on='date', how='left', suffixes=['A', 'B'])\n",
    "\n",
    "# cтроим отношение средних чеков\n",
    "plt.figure(figsize=(12,4))\n",
    "plt.plot(mergedCumulativeRevenue['date'],(mergedCumulativeRevenue['revenueB']/mergedCumulativeRevenue['ordersB'])\\\n",
    "         /(mergedCumulativeRevenue['revenueA']/mergedCumulativeRevenue['ordersA'])-1)\n",
    "plt.grid()\n",
    "plt.title('Относительное изменение кумулятивного среднего чека группы B к группе A')\n",
    "plt.xlabel('Дата')\n",
    "plt.ylabel('Изменение среднего чека')\n",
    "\n",
    "# добавляем ось X\n",
    "plt.axhline(y=0, color='black', linestyle='--')"
   ]
  },
  {
   "cell_type": "markdown",
   "metadata": {},
   "source": [
    "В нескольких точках график различия между сегментами резко «скачет». Еще раз убеждаемся, что в данных имеются крупные заказы и выбросы."
   ]
  },
  {
   "cell_type": "markdown",
   "metadata": {},
   "source": [
    "### Кумулятивное среднее количество заказов на посетителя по группам"
   ]
  },
  {
   "cell_type": "code",
   "execution_count": 19,
   "metadata": {
    "scrolled": false
   },
   "outputs": [
    {
     "data": {
      "text/plain": [
       "(18109.0, 18140.0, 0.02, 0.05)"
      ]
     },
     "execution_count": 19,
     "metadata": {},
     "output_type": "execute_result"
    },
    {
     "data": {
      "image/png": "[encoded data removed]",
      "text/plain": [
       "<Figure size 1200x400 with 1 Axes>"
      ]
     },
     "metadata": {},
     "output_type": "display_data"
    }
   ],
   "source": [
    "# считаем кумулятивное среднее количество заказов на посетителя\n",
    "cumulativeData['conversion'] = cumulativeData['orders']/cumulativeData['visitors']\n",
    "\n",
    "# отделяем данные по группе A\n",
    "cumulativeDataA = cumulativeData[cumulativeData['group']=='A']\n",
    "\n",
    "# отделяем данные по группе B\n",
    "cumulativeDataB = cumulativeData[cumulativeData['group']=='B']\n",
    "\n",
    "# строим графики\n",
    "plt.figure(figsize=(12,4))\n",
    "plt.plot(cumulativeDataA['date'], cumulativeDataA['conversion'], label='A')\n",
    "plt.plot(cumulativeDataB['date'], cumulativeDataB['conversion'], label='B')\n",
    "plt.grid()\n",
    "plt.title('Кумулятивное среднее количество заказов на посетителя по группам')\n",
    "plt.xlabel('Дата')\n",
    "plt.ylabel('Среднее количество заказов')\n",
    "plt.legend()\n",
    "\n",
    "# задаем масштаб осей\n",
    "plt.axis([dt.datetime(2019, 8, 1), dt.datetime(2019, 9, 1), 0.02, 0.05])"
   ]
  },
  {
   "cell_type": "markdown",
   "metadata": {},
   "source": [
    "В начале теста идет некоторое колебание, но затем показатель для группы B вырвался вперёд и зафиксировался, а для группы A зафиксировался на более низком уровне."
   ]
  },
  {
   "cell_type": "markdown",
   "metadata": {},
   "source": [
    "### Относительное изменение кумулятивного среднего количества заказов на посетителя группы B к группе A"
   ]
  },
  {
   "cell_type": "code",
   "execution_count": 20,
   "metadata": {},
   "outputs": [
    {
     "data": {
      "text/plain": [
       "(18109.0, 18140.0, -0.4, 0.4)"
      ]
     },
     "execution_count": 20,
     "metadata": {},
     "output_type": "execute_result"
    },
    {
     "data": {
      "image/png": "[encoded data removed]",
      "text/plain": [
       "<Figure size 1200x400 with 1 Axes>"
      ]
     },
     "metadata": {},
     "output_type": "display_data"
    }
   ],
   "source": [
    "mergedCumulativeConversions = cumulativeDataA[['date','conversion']].merge(cumulativeDataB[['date','conversion']],\\\n",
    "                                                    left_on='date', right_on='date', how='left', suffixes=['A', 'B'])\n",
    "\n",
    "plt.figure(figsize=(12,4))\n",
    "plt.plot(mergedCumulativeConversions['date'], mergedCumulativeConversions['conversionB']\\\n",
    "     /mergedCumulativeConversions['conversionA']-1, label=\"Относительный прирост конверсии группы B относительно группы A\")\n",
    "plt.title('Относительное изменение кумулятивного среднего количества заказов на посетителя группы B к группе A')\n",
    "plt.xlabel('Дата')\n",
    "plt.ylabel('Изменение среднего количества заказов')\n",
    "plt.legend()\n",
    "plt.grid()\n",
    "plt.axhline(y=0, color='black', linestyle='--')\n",
    "plt.axis([dt.datetime(2019, 8, 1), dt.datetime(2019, 9, 1), -0.4, 0.4])"
   ]
  },
  {
   "cell_type": "markdown",
   "metadata": {},
   "source": [
    "В начале теста идет некоторое колебание, но затем группа B вырвалась вперёд. \n",
    "\n",
    "В целом, выводы делать рано, так как сперва стоит проанализировать аномалии, которые могут оказывать существенное влияние на результат."
   ]
  },
  {
   "cell_type": "markdown",
   "metadata": {},
   "source": [
    "### Определение аномальных пользователей"
   ]
  },
  {
   "cell_type": "markdown",
   "metadata": {},
   "source": [
    "#### Количество заказов по пользователям"
   ]
  },
  {
   "cell_type": "code",
   "execution_count": 21,
   "metadata": {},
   "outputs": [
    {
     "name": "stdout",
     "output_type": "stream",
     "text": [
      "      visitor_id  orders\n",
      "1023  4256040402      11\n",
      "591   2458001652      11\n",
      "569   2378935119       9\n",
      "487   2038680547       8\n",
      "44     199603092       5\n",
      "744   3062433592       5\n",
      "55     237748145       5\n",
      "917   3803269165       5\n",
      "299   1230306981       5\n",
      "897   3717692402       5\n"
     ]
    }
   ],
   "source": [
    "ordersByUsers = (\n",
    "    orders.groupby('visitor_id', as_index=False)\n",
    "    .agg({'transaction_id': 'nunique'})\n",
    ")\n",
    "\n",
    "ordersByUsers.columns = ['visitor_id', 'orders']\n",
    "\n",
    "print(ordersByUsers.sort_values(by='orders', ascending=False).head(10)) "
   ]
  },
  {
   "cell_type": "markdown",
   "metadata": {},
   "source": [
    "Есть пользователи, которые совершали очень много заказов (5, 8, 9, 11)."
   ]
  },
  {
   "cell_type": "code",
   "execution_count": 22,
   "metadata": {},
   "outputs": [
    {
     "data": {
      "text/plain": [
       "Text(0, 0.5, 'Количество заказов')"
      ]
     },
     "execution_count": 22,
     "metadata": {},
     "output_type": "execute_result"
    },
    {
     "data": {
      "image/png": "[encoded data removed]",
      "text/plain": [
       "<Figure size 1200x400 with 1 Axes>"
      ]
     },
     "metadata": {},
     "output_type": "display_data"
    }
   ],
   "source": [
    "# Точечная диаграмма числа заказов на одного пользователя\n",
    "x_values = pd.Series(range(0,len(ordersByUsers)))\n",
    "plt.figure(figsize=(12,4))\n",
    "plt.scatter(x_values, ordersByUsers['orders']) \n",
    "plt.grid()\n",
    "plt.title('Количество заказов на одного пользователя')\n",
    "\n",
    "\n",
    "plt.xlabel('Количество пользователей')\n",
    "plt.ylabel('Количество заказов')"
   ]
  },
  {
   "cell_type": "markdown",
   "metadata": {},
   "source": [
    "Большинство покупателей заказывали только один раз. Однако доля пользователей с 2-3 заказами тоже значительна. "
   ]
  },
  {
   "cell_type": "code",
   "execution_count": 23,
   "metadata": {},
   "outputs": [
    {
     "data": {
      "text/plain": [
       "array([2., 4.])"
      ]
     },
     "execution_count": 23,
     "metadata": {},
     "output_type": "execute_result"
    }
   ],
   "source": [
    "#95-й и 99-й перцентили количества заказов на пользователя\n",
    "np.percentile(ordersByUsers['orders'], [95, 99])"
   ]
  },
  {
   "cell_type": "markdown",
   "metadata": {},
   "source": [
    "Не более 5% пользователей оформляли больше, чем 2 заказа. 99% пользователей совершают до 4х заказов.\n",
    "Выберем 2 заказа на одного пользователя за верхнюю границу числа заказов. Пользователей, совершивших более трех заказов, будем считать аномальными."
   ]
  },
  {
   "cell_type": "markdown",
   "metadata": {},
   "source": [
    "#### Стоимость заказов"
   ]
  },
  {
   "cell_type": "code",
   "execution_count": 24,
   "metadata": {},
   "outputs": [
    {
     "data": {
      "text/plain": [
       "Text(0, 0.5, 'Руб')"
      ]
     },
     "execution_count": 24,
     "metadata": {},
     "output_type": "execute_result"
    },
    {
     "data": {
      "image/png": "[encoded data removed]",
      "text/plain": [
       "<Figure size 1200x400 with 1 Axes>"
      ]
     },
     "metadata": {},
     "output_type": "display_data"
    }
   ],
   "source": [
    "x_values = pd.Series(range(0,len(orders['revenue'])))\n",
    "plt.figure(figsize=(12,4))\n",
    "plt.scatter(x_values, orders['revenue']) \n",
    "plt.grid()\n",
    "plt.title('Стоимость заказов')\n",
    "plt.xlabel('Количество пользователей')\n",
    "plt.ylabel('Руб')"
   ]
  },
  {
   "cell_type": "markdown",
   "metadata": {},
   "source": [
    "Чтобы график стал наглядным, уберем два выброса, которые портят всю картину (заказы стоимостью выше 190000 руб)."
   ]
  },
  {
   "cell_type": "code",
   "execution_count": 25,
   "metadata": {},
   "outputs": [
    {
     "data": {
      "text/plain": [
       "Text(0, 0.5, 'Руб')"
      ]
     },
     "execution_count": 25,
     "metadata": {},
     "output_type": "execute_result"
    },
    {
     "data": {
      "image/png": "[encoded data removed]",
      "text/plain": [
       "<Figure size 1200x400 with 1 Axes>"
      ]
     },
     "metadata": {},
     "output_type": "display_data"
    }
   ],
   "source": [
    "x_values = pd.Series(range(0,len(orders[orders['revenue'] < 190000]['revenue'])))\n",
    "plt.figure(figsize=(12,4))\n",
    "plt.scatter(x_values, orders[orders['revenue'] < 190000]['revenue']) \n",
    "plt.grid()\n",
    "plt.title('Стоимость заказов')\n",
    "plt.xlabel('Количество пользователей')\n",
    "plt.ylabel('Руб')"
   ]
  },
  {
   "cell_type": "markdown",
   "metadata": {},
   "source": [
    "Большая часть заказов укладывается в 20000 руб."
   ]
  },
  {
   "cell_type": "code",
   "execution_count": 26,
   "metadata": {},
   "outputs": [
    {
     "data": {
      "text/plain": [
       "array([28000. , 58233.2])"
      ]
     },
     "execution_count": 26,
     "metadata": {},
     "output_type": "execute_result"
    }
   ],
   "source": [
    "#95-й и 99-й перцентили стоимости заказов\n",
    "np.percentile(orders['revenue'], [95, 99])"
   ]
  },
  {
   "cell_type": "markdown",
   "metadata": {},
   "source": [
    "Не более 5% заказов имеют стоимость выше 28000 руб. 99% заказов укладываются в 58233.2 руб.\n",
    "Аномальными заказами будем считать заказы стоимостью свыше 30000 руб (укладывается в 1-5% заказов с наибольшей стоимостью).\n",
    "Примем за аномальных пользователей тех, кто совершил эти аномальные заказы."
   ]
  },
  {
   "cell_type": "markdown",
   "metadata": {},
   "source": [
    "### Расчет статистической значимости по «сырым» данным\n",
    "\n",
    "Предварительно подготовим данные, создав большую таблицу data со всеми данными по заказам и посещениям."
   ]
  },
  {
   "cell_type": "code",
   "execution_count": 27,
   "metadata": {
    "scrolled": false
   },
   "outputs": [
    {
     "data": {
      "text/html": [
       "<div>\n",
       "<style scoped>\n",
       "    .dataframe tbody tr th:only-of-type {\n",
       "        vertical-align: middle;\n",
       "    }\n",
       "\n",
       "    .dataframe tbody tr th {\n",
       "        vertical-align: top;\n",
       "    }\n",
       "\n",
       "    .dataframe thead th {\n",
       "        text-align: right;\n",
       "    }\n",
       "</style>\n",
       "<table border=\"1\" class=\"dataframe\">\n",
       "  <thead>\n",
       "    <tr style=\"text-align: right;\">\n",
       "      <th></th>\n",
       "      <th>date</th>\n",
       "      <th>ordersPerDateA</th>\n",
       "      <th>revenuePerDateA</th>\n",
       "      <th>ordersPerDateB</th>\n",
       "      <th>revenuePerDateB</th>\n",
       "      <th>ordersCummulativeA</th>\n",
       "      <th>revenueCummulativeA</th>\n",
       "      <th>ordersCummulativeB</th>\n",
       "      <th>revenueCummulativeB</th>\n",
       "      <th>visitorsPerDateA</th>\n",
       "      <th>visitorsPerDateB</th>\n",
       "      <th>visitorsCummulativeA</th>\n",
       "      <th>visitorsCummulativeB</th>\n",
       "    </tr>\n",
       "  </thead>\n",
       "  <tbody>\n",
       "    <tr>\n",
       "      <th>0</th>\n",
       "      <td>2019-08-01</td>\n",
       "      <td>24</td>\n",
       "      <td>148579</td>\n",
       "      <td>21</td>\n",
       "      <td>101217</td>\n",
       "      <td>24</td>\n",
       "      <td>148579</td>\n",
       "      <td>21</td>\n",
       "      <td>101217</td>\n",
       "      <td>719</td>\n",
       "      <td>713</td>\n",
       "      <td>719</td>\n",
       "      <td>713</td>\n",
       "    </tr>\n",
       "    <tr>\n",
       "      <th>1</th>\n",
       "      <td>2019-08-02</td>\n",
       "      <td>20</td>\n",
       "      <td>93822</td>\n",
       "      <td>24</td>\n",
       "      <td>165531</td>\n",
       "      <td>44</td>\n",
       "      <td>242401</td>\n",
       "      <td>45</td>\n",
       "      <td>266748</td>\n",
       "      <td>619</td>\n",
       "      <td>581</td>\n",
       "      <td>1338</td>\n",
       "      <td>1294</td>\n",
       "    </tr>\n",
       "    <tr>\n",
       "      <th>2</th>\n",
       "      <td>2019-08-03</td>\n",
       "      <td>24</td>\n",
       "      <td>112473</td>\n",
       "      <td>16</td>\n",
       "      <td>114248</td>\n",
       "      <td>68</td>\n",
       "      <td>354874</td>\n",
       "      <td>61</td>\n",
       "      <td>380996</td>\n",
       "      <td>507</td>\n",
       "      <td>509</td>\n",
       "      <td>1845</td>\n",
       "      <td>1803</td>\n",
       "    </tr>\n",
       "    <tr>\n",
       "      <th>3</th>\n",
       "      <td>2019-08-04</td>\n",
       "      <td>16</td>\n",
       "      <td>70825</td>\n",
       "      <td>17</td>\n",
       "      <td>108571</td>\n",
       "      <td>84</td>\n",
       "      <td>425699</td>\n",
       "      <td>78</td>\n",
       "      <td>489567</td>\n",
       "      <td>717</td>\n",
       "      <td>770</td>\n",
       "      <td>2562</td>\n",
       "      <td>2573</td>\n",
       "    </tr>\n",
       "    <tr>\n",
       "      <th>4</th>\n",
       "      <td>2019-08-05</td>\n",
       "      <td>25</td>\n",
       "      <td>124218</td>\n",
       "      <td>23</td>\n",
       "      <td>92428</td>\n",
       "      <td>109</td>\n",
       "      <td>549917</td>\n",
       "      <td>101</td>\n",
       "      <td>581995</td>\n",
       "      <td>756</td>\n",
       "      <td>707</td>\n",
       "      <td>3318</td>\n",
       "      <td>3280</td>\n",
       "    </tr>\n",
       "  </tbody>\n",
       "</table>\n",
       "</div>"
      ],
      "text/plain": [
       "        date  ordersPerDateA  revenuePerDateA  ordersPerDateB  \\\n",
       "0 2019-08-01              24           148579              21   \n",
       "1 2019-08-02              20            93822              24   \n",
       "2 2019-08-03              24           112473              16   \n",
       "3 2019-08-04              16            70825              17   \n",
       "4 2019-08-05              25           124218              23   \n",
       "\n",
       "   revenuePerDateB  ordersCummulativeA  revenueCummulativeA  \\\n",
       "0           101217                  24               148579   \n",
       "1           165531                  44               242401   \n",
       "2           114248                  68               354874   \n",
       "3           108571                  84               425699   \n",
       "4            92428                 109               549917   \n",
       "\n",
       "   ordersCummulativeB  revenueCummulativeB  visitorsPerDateA  \\\n",
       "0                  21               101217               719   \n",
       "1                  45               266748               619   \n",
       "2                  61               380996               507   \n",
       "3                  78               489567               717   \n",
       "4                 101               581995               756   \n",
       "\n",
       "   visitorsPerDateB  visitorsCummulativeA  visitorsCummulativeB  \n",
       "0               713                   719                   713  \n",
       "1               581                  1338                  1294  \n",
       "2               509                  1845                  1803  \n",
       "3               770                  2562                  2573  \n",
       "4               707                  3318                  3280  "
      ]
     },
     "execution_count": 27,
     "metadata": {},
     "output_type": "execute_result"
    }
   ],
   "source": [
    "visitorsADaily = visitors[visitors['group'] == 'A'][['date', 'visitors']]\n",
    "visitorsADaily.columns = ['date', 'visitorsPerDateA']\n",
    "\n",
    "visitorsACummulative = visitorsADaily.apply(\n",
    "    lambda x: visitorsADaily[visitorsADaily['date'] <= x['date']].agg(\n",
    "        {'date': 'max', 'visitorsPerDateA': 'sum'}\n",
    "    ),\n",
    "    axis=1,\n",
    ")\n",
    "visitorsACummulative.columns = ['date', 'visitorsCummulativeA']\n",
    "\n",
    "visitorsBDaily = visitors[visitors['group'] == 'B'][['date', 'visitors']]\n",
    "visitorsBDaily.columns = ['date', 'visitorsPerDateB']\n",
    "\n",
    "visitorsBCummulative = visitorsBDaily.apply(\n",
    "    lambda x: visitorsBDaily[visitorsBDaily['date'] <= x['date']].agg(\n",
    "        {'date': 'max', 'visitorsPerDateB': 'sum'}\n",
    "    ),\n",
    "    axis=1,\n",
    ")\n",
    "visitorsBCummulative.columns = ['date', 'visitorsCummulativeB']\n",
    "\n",
    "ordersADaily = (\n",
    "    orders[orders['group'] == 'A'][['date', 'transaction_id', 'visitor_id', 'revenue']]\n",
    "    .groupby('date', as_index=False)\n",
    "    .agg({'transaction_id': pd.Series.nunique, 'revenue': 'sum'})\n",
    ")\n",
    "ordersADaily.columns = ['date', 'ordersPerDateA', 'revenuePerDateA']\n",
    "\n",
    "ordersACummulative = ordersADaily.apply(\n",
    "    lambda x: ordersADaily[ordersADaily['date'] <= x['date']].agg(\n",
    "        {'date': 'max', 'ordersPerDateA': 'sum', 'revenuePerDateA': 'sum'}\n",
    "    ),\n",
    "    axis=1,\n",
    ").sort_values(by=['date'])\n",
    "ordersACummulative.columns = [\n",
    "    'date',\n",
    "    'ordersCummulativeA',\n",
    "    'revenueCummulativeA',\n",
    "]\n",
    "\n",
    "ordersBDaily = (\n",
    "    orders[orders['group'] == 'B'][['date', 'transaction_id', 'visitor_id', 'revenue']]\n",
    "    .groupby('date', as_index=False)\n",
    "    .agg({'transaction_id': pd.Series.nunique, 'revenue': 'sum'})\n",
    ")\n",
    "ordersBDaily.columns = ['date', 'ordersPerDateB', 'revenuePerDateB']\n",
    "\n",
    "ordersBCummulative = ordersBDaily.apply(\n",
    "    lambda x: ordersBDaily[ordersBDaily['date'] <= x['date']].agg(\n",
    "        {'date': 'max', 'ordersPerDateB': 'sum', 'revenuePerDateB': 'sum'}\n",
    "    ),\n",
    "    axis=1,\n",
    ").sort_values(by=['date'])\n",
    "ordersBCummulative.columns = [\n",
    "    'date',\n",
    "    'ordersCummulativeB',\n",
    "    'revenueCummulativeB',\n",
    "]\n",
    "\n",
    "data = (\n",
    "    ordersADaily.merge(\n",
    "        ordersBDaily, left_on='date', right_on='date', how='left'\n",
    "    )\n",
    "    .merge(ordersACummulative, left_on='date', right_on='date', how='left')\n",
    "    .merge(ordersBCummulative, left_on='date', right_on='date', how='left')\n",
    "    .merge(visitorsADaily, left_on='date', right_on='date', how='left')\n",
    "    .merge(visitorsBDaily, left_on='date', right_on='date', how='left')\n",
    "    .merge(visitorsACummulative, left_on='date', right_on='date', how='left')\n",
    "    .merge(visitorsBCummulative, left_on='date', right_on='date', how='left')\n",
    ")\n",
    "\n",
    "data.head()"
   ]
  },
  {
   "cell_type": "markdown",
   "metadata": {},
   "source": [
    "Создадим переменные ordersByUsersA и ordersByUsersB со столбцами `visitor_id`, `orders`. В них для пользователей, которые заказывали хотя бы 1 раз, укажем число совершённых заказов. "
   ]
  },
  {
   "cell_type": "code",
   "execution_count": 28,
   "metadata": {},
   "outputs": [],
   "source": [
    "ordersByUsersA = (\n",
    "    orders[orders['group'] == 'A']\n",
    "    .groupby('visitor_id', as_index=False)\n",
    "    .agg({'transaction_id': pd.Series.nunique})\n",
    ")\n",
    "ordersByUsersA.columns = ['visitor_id', 'orders']\n",
    "\n",
    "ordersByUsersB = (\n",
    "    orders[orders['group'] == 'B']\n",
    "    .groupby('visitor_id', as_index=False)\n",
    "    .agg({'transaction_id': pd.Series.nunique})\n",
    ")\n",
    "ordersByUsersB.columns = ['visitor_id', 'orders'] "
   ]
  },
  {
   "cell_type": "markdown",
   "metadata": {},
   "source": [
    "Объявим переменные `sampleA` и `sampleB`, в которых пользователям из разных групп будет соответствовать количество заказов. Тем, кто ничего не заказал, будут соответствовать нули. Это нужно, чтобы подготовить выборки к проверке критерием Манна-Уитни."
   ]
  },
  {
   "cell_type": "code",
   "execution_count": 29,
   "metadata": {},
   "outputs": [],
   "source": [
    "sampleA = pd.concat([ordersByUsersA['orders'],pd.Series(0, index=np.arange(data['visitorsPerDateA'].sum() -\\\n",
    "                                                            len(ordersByUsersA['orders'])), name='orders')],axis=0)\n",
    "\n",
    "sampleB = pd.concat([ordersByUsersB['orders'],pd.Series(0, index=np.arange(data['visitorsPerDateB'].sum() - \\\n",
    "                                                            len(ordersByUsersB['orders'])), name='orders')],axis=0)"
   ]
  },
  {
   "cell_type": "markdown",
   "metadata": {},
   "source": [
    "#### Статистическая значимость различий  в среднем количестве заказов на посетителя между группами"
   ]
  },
  {
   "cell_type": "markdown",
   "metadata": {},
   "source": [
    "**Уровень статистической значимости = 0.05**\n",
    "\n",
    "**Нулевая гипотеза:**\n",
    "- H0 - различий в среднем количестве заказов между группами нет.\n",
    "\n",
    "**Альтернативная двухсторонняя гипотеза:**\n",
    "- Н1 - различия в среднем количестве заказов между группами есть."
   ]
  },
  {
   "cell_type": "code",
   "execution_count": 30,
   "metadata": {},
   "outputs": [
    {
     "name": "stdout",
     "output_type": "stream",
     "text": [
      "p-value: 0.017\n",
      "Относительный прирост среднего числа заказов группы B: 0.138\n"
     ]
    }
   ],
   "source": [
    "print('p-value:', \"{0:.3f}\".format(stats.mannwhitneyu(sampleA, sampleB)[1]))\n",
    "\n",
    "print('Относительный прирост среднего числа заказов группы B:', \"{0:.3f}\".format(sampleB.mean() / sampleA.mean() - 1))"
   ]
  },
  {
   "cell_type": "markdown",
   "metadata": {},
   "source": [
    "**Вывод**\n",
    "\n",
    "Отвергаем нулевую гипотезу, так как p-value меньше 0.05. Есть все основания говорить о том, что по «сырым» данным в среднем количестве заказов между группами есть статистически значимые различия. Относительный прирост группы B достигает почти 14%."
   ]
  },
  {
   "cell_type": "markdown",
   "metadata": {},
   "source": [
    "#### Статистическая значимость различий в среднем чеке заказа между группами"
   ]
  },
  {
   "cell_type": "markdown",
   "metadata": {},
   "source": [
    "**Уровень статистической значимости = 0.05**\n",
    "\n",
    "**Нулевая гипотеза:**\n",
    "- H0 - различий в среднем чеке между группами нет.\n",
    "\n",
    "**Альтернативная двухсторонняя гипотеза:**\n",
    "- Н1 - различия в среднем чеке между группами есть."
   ]
  },
  {
   "cell_type": "code",
   "execution_count": 31,
   "metadata": {
    "scrolled": true
   },
   "outputs": [
    {
     "name": "stdout",
     "output_type": "stream",
     "text": [
      "p-value: 0.729\n",
      "Относительный прирост в среднем чеке группы B: 0.259\n"
     ]
    }
   ],
   "source": [
    "print('p-value:', '{0:.3f}'.format(stats.mannwhitneyu(orders[orders['group']=='A']['revenue'], \\\n",
    "                                                      orders[orders['group']=='B']['revenue'])[1]))\n",
    "print('Относительный прирост в среднем чеке группы B:', '{0:.3f}'\\\n",
    "      .format(orders[orders['group']=='B']['revenue'].mean()/orders[orders['group']=='A']['revenue'].mean()-1))"
   ]
  },
  {
   "cell_type": "markdown",
   "metadata": {},
   "source": [
    "**Вывод**\n",
    "\n",
    "Нет причин отвергать нулевую гипотезу и считать, что в среднем чеке есть различия, так как P-value больше 0.05. \n",
    "\n",
    "Средний чек для группы B статистически значимо не отличается от среднего чека для группы А."
   ]
  },
  {
   "cell_type": "markdown",
   "metadata": {},
   "source": [
    "### Расчет статистической значимости по «очищенным» данным"
   ]
  },
  {
   "cell_type": "code",
   "execution_count": 32,
   "metadata": {},
   "outputs": [
    {
     "name": "stdout",
     "output_type": "stream",
     "text": [
      "1099    148427295\n",
      "18      199603092\n",
      "928     204675465\n",
      "23      237748145\n",
      "37      249864742\n",
      "Name: visitor_id, dtype: int64\n",
      "74\n"
     ]
    }
   ],
   "source": [
    "usersWithManyOrders = pd.concat(\n",
    "    [\n",
    "        ordersByUsersA[ordersByUsersA['orders'] > np.percentile(ordersByUsers['orders'], 95)]['visitor_id'],\n",
    "        ordersByUsersB[ordersByUsersB['orders'] > np.percentile(ordersByUsers['orders'], 95)]['visitor_id'],\n",
    "    ],\n",
    "    axis=0,\n",
    ")\n",
    "usersWithExpensiveOrders = orders[orders['revenue'] > np.percentile(orders['revenue'], 95)]['visitor_id']\n",
    "abnormalUsers = (\n",
    "    pd.concat([usersWithManyOrders, usersWithExpensiveOrders], axis=0)\n",
    "    .drop_duplicates()\n",
    "    .sort_values()\n",
    ")\n",
    "print(abnormalUsers.head(5))\n",
    "print(abnormalUsers.shape[0])"
   ]
  },
  {
   "cell_type": "markdown",
   "metadata": {},
   "source": [
    "Таким образом, у нас получилось 74 аномальных пользователя. Исключаем их из расчета, чтобы узнать, как их действия повлияли на результаты теста."
   ]
  },
  {
   "cell_type": "code",
   "execution_count": 33,
   "metadata": {},
   "outputs": [],
   "source": [
    "sampleAFiltered = pd.concat(\n",
    "    [\n",
    "        ordersByUsersA[\n",
    "            np.logical_not(ordersByUsersA['visitor_id'].isin(abnormalUsers))\n",
    "        ]['orders'],\n",
    "        pd.Series(\n",
    "            0,\n",
    "            index=np.arange(\n",
    "                data['visitorsPerDateA'].sum() - len(ordersByUsersA['orders'])\n",
    "            ),\n",
    "            name='orders',\n",
    "        ),\n",
    "    ],\n",
    "    axis=0,\n",
    ")\n",
    "\n",
    "sampleBFiltered = pd.concat(\n",
    "    [\n",
    "        ordersByUsersB[\n",
    "            np.logical_not(ordersByUsersB['visitor_id'].isin(abnormalUsers))\n",
    "        ]['orders'],\n",
    "        pd.Series(\n",
    "            0,\n",
    "            index=np.arange(\n",
    "                data['visitorsPerDateB'].sum() - len(ordersByUsersB['orders'])\n",
    "            ),\n",
    "            name='orders',\n",
    "        ),\n",
    "    ],\n",
    "    axis=0,\n",
    ")"
   ]
  },
  {
   "cell_type": "markdown",
   "metadata": {},
   "source": [
    "#### Статистическая значимость различий  в среднем количестве заказов на посетителя между группами"
   ]
  },
  {
   "cell_type": "markdown",
   "metadata": {},
   "source": [
    "**Уровень статистической значимости = 0.05**\n",
    "\n",
    "**Нулевая гипотеза:**\n",
    "- H0 - различий в среднем количестве заказов между группами нет.\n",
    "\n",
    "**Альтернативная двухсторонняя гипотеза:**\n",
    "- Н1 - различия в среднем количестве заказов между группами есть."
   ]
  },
  {
   "cell_type": "code",
   "execution_count": 34,
   "metadata": {},
   "outputs": [
    {
     "name": "stdout",
     "output_type": "stream",
     "text": [
      "p-value: 0.013\n",
      "Относительный прирост среднего числа заказов группы B: 0.173\n"
     ]
    }
   ],
   "source": [
    "print('p-value:', '{0:.3f}'.format(stats.mannwhitneyu(sampleAFiltered, sampleBFiltered)[1]))\n",
    "print('Относительный прирост среднего числа заказов группы B:','{0:.3f}'\\\n",
    "      .format(sampleBFiltered.mean()/sampleAFiltered.mean()-1))"
   ]
  },
  {
   "cell_type": "markdown",
   "metadata": {},
   "source": [
    "**Вывод**\n",
    "\n",
    "Результаты по среднему количеству заказов практически не изменились: отвергаем нулевую гипотезу, так как p-value меньше 0.05. Есть все основания говорить о том, что по «очищенным» данным в среднем количестве заказов между группами есть статистически значимые различия. Относительный прирост группы B достигает 17%."
   ]
  },
  {
   "cell_type": "markdown",
   "metadata": {},
   "source": [
    "#### Статистическая значимость различий в среднем чеке заказа между группами"
   ]
  },
  {
   "cell_type": "markdown",
   "metadata": {},
   "source": [
    "**Уровень статистической значимости = 0.05**\n",
    "\n",
    "**Нулевая гипотеза:**\n",
    "- H0 - различий в среднем чеке между группами нет.\n",
    "\n",
    "**Альтернативная двухсторонняя гипотеза:**\n",
    "- Н1 - различия в среднем чеке между группами есть."
   ]
  },
  {
   "cell_type": "code",
   "execution_count": 35,
   "metadata": {},
   "outputs": [
    {
     "name": "stdout",
     "output_type": "stream",
     "text": [
      "p-value: 0.738\n",
      "Относительный прирост в среднем чеке группы B: -0.020\n"
     ]
    }
   ],
   "source": [
    "print('p-value:',\n",
    "    '{0:.3f}'.format(\n",
    "        stats.mannwhitneyu(\n",
    "            orders[\n",
    "                np.logical_and(\n",
    "                    orders['group'] == 'A',\n",
    "                    np.logical_not(orders['visitor_id'].isin(abnormalUsers)),\n",
    "                )\n",
    "            ]['revenue'],\n",
    "            orders[\n",
    "                np.logical_and(\n",
    "                    orders['group'] == 'B',\n",
    "                    np.logical_not(orders['visitor_id'].isin(abnormalUsers)),\n",
    "                )\n",
    "            ]['revenue'],\n",
    "        )[1]\n",
    "    )\n",
    ")\n",
    "\n",
    "print('Относительный прирост в среднем чеке группы B:',\n",
    "    \"{0:.3f}\".format(\n",
    "        orders[\n",
    "            np.logical_and(\n",
    "                orders['group'] == 'B',\n",
    "                np.logical_not(orders['visitor_id'].isin(abnormalUsers)),\n",
    "            )\n",
    "        ]['revenue'].mean()\n",
    "        / orders[\n",
    "            np.logical_and(\n",
    "                orders['group'] == 'A',\n",
    "                np.logical_not(orders['visitor_id'].isin(abnormalUsers)),\n",
    "            )\n",
    "        ]['revenue'].mean()\n",
    "        - 1\n",
    "    )\n",
    ")"
   ]
  },
  {
   "cell_type": "markdown",
   "metadata": {},
   "source": [
    "**Вывод**\n",
    "\n",
    "Как и в случае с «сырыми» данными, нет причин отвергать нулевую гипотезу и считать, что в среднем чеке есть различия, так как p-value больше 0.05. \n",
    "\n",
    "Средний чек для группы B статистически значимо не отличается от среднего чека для группы А."
   ]
  },
  {
   "cell_type": "markdown",
   "metadata": {},
   "source": [
    "### Общие выводы"
   ]
  },
  {
   "cell_type": "markdown",
   "metadata": {},
   "source": [
    "**Предварительно была выполнена предобработка данных:**\n",
    "\n",
    "- Скорректированы названия столбцов.\n",
    "\n",
    "- Приведены к типу даты столбцы с датами.\n",
    "\n",
    "\n",
    "**Проведен A/B-тест и проанализированы результаты:**\n",
    "\n",
    "- На основании построенных графиков кумулятивной выручки и кумулятивного среднего чека по группам сделан вывод о наличии всплеска числа заказов и/или очень дорогих заказов в выборке.\n",
    "\n",
    "- График кумулятивного среднего количества заказов на посетителя по группам показывает стабильный результат во второй половине теста (данный показатель для группы B зафиксировался на более высоком уровне, чем для группы A). Тест можно остановить.\n",
    "\n",
    "- Определено 74 аномальных пользователя. Посчитана статистическая значимость по «сырым» и по «очищенным» данным.\n",
    "\n",
    "- Есть все основания говорить о том, что и по «сырым», и по «очищенным» данным в среднем количестве заказов между группами есть статистически значимые различия. Относительный прирост группы B по «очищенным» данным достигает 17%. Можно зафиксировать победу группы B. \n",
    "\n",
    "- Нет причин отвергать нулевую гипотезу и считать, что в среднем чеке есть различия. Можно говорить о том, что средний чек для группы B статистически значимо не отличается от среднего чека для группы А. Поэтому ничего страшного, что в группе B относительный прирост в среднем чеке меньше, чем в группе А:\n",
    "\n",
    "**Рекомендации:**\n",
    "\n",
    "- На основании вышеизложенных выводов рекомендуется остановить тест и зафиксировать победу группы B."
   ]
  }
 ],
 "metadata": {
  "ExecuteTimeLog": [
   {
    "duration": 47,
    "start_time": "2023-08-30T08:27:15.706Z"
   },
   {
    "duration": 412,
    "start_time": "2023-08-30T08:27:18.952Z"
   },
   {
    "duration": 82,
    "start_time": "2023-08-30T08:27:19.376Z"
   },
   {
    "duration": 35,
    "start_time": "2023-08-30T08:27:35.249Z"
   },
   {
    "duration": 32,
    "start_time": "2023-08-30T08:27:42.025Z"
   },
   {
    "duration": 2740,
    "start_time": "2023-08-30T08:29:36.787Z"
   },
   {
    "duration": 8,
    "start_time": "2023-08-30T09:13:13.459Z"
   },
   {
    "duration": 3,
    "start_time": "2023-08-30T09:13:27.331Z"
   },
   {
    "duration": 33,
    "start_time": "2023-08-30T09:13:27.919Z"
   },
   {
    "duration": 3,
    "start_time": "2023-08-30T09:13:45.627Z"
   },
   {
    "duration": 9,
    "start_time": "2023-08-30T09:13:57.359Z"
   },
   {
    "duration": 8,
    "start_time": "2023-08-30T09:14:27.522Z"
   },
   {
    "duration": 10,
    "start_time": "2023-08-30T09:16:07.960Z"
   },
   {
    "duration": 9,
    "start_time": "2023-08-30T09:16:59.526Z"
   },
   {
    "duration": 12,
    "start_time": "2023-08-30T09:34:00.321Z"
   },
   {
    "duration": 11,
    "start_time": "2023-08-30T09:34:09.050Z"
   },
   {
    "duration": 105,
    "start_time": "2023-08-30T09:35:35.165Z"
   },
   {
    "duration": 495,
    "start_time": "2023-08-30T11:25:20.130Z"
   },
   {
    "duration": 75,
    "start_time": "2023-08-30T11:25:55.156Z"
   },
   {
    "duration": 668,
    "start_time": "2023-08-30T11:26:55.971Z"
   },
   {
    "duration": 15,
    "start_time": "2023-08-30T11:28:20.848Z"
   },
   {
    "duration": 63,
    "start_time": "2023-08-30T11:29:44.898Z"
   },
   {
    "duration": 40,
    "start_time": "2023-08-30T11:30:07.662Z"
   },
   {
    "duration": 4,
    "start_time": "2023-08-30T11:31:07.049Z"
   },
   {
    "duration": 33,
    "start_time": "2023-08-30T11:40:25.289Z"
   },
   {
    "duration": 274,
    "start_time": "2023-08-30T11:43:49.157Z"
   },
   {
    "duration": 295,
    "start_time": "2023-08-30T11:43:57.080Z"
   },
   {
    "duration": 486,
    "start_time": "2023-08-30T11:44:35.447Z"
   },
   {
    "duration": 3,
    "start_time": "2023-08-30T11:44:39.588Z"
   },
   {
    "duration": 51,
    "start_time": "2023-08-30T11:44:39.593Z"
   },
   {
    "duration": 9,
    "start_time": "2023-08-30T11:44:39.645Z"
   },
   {
    "duration": 12,
    "start_time": "2023-08-30T11:44:39.655Z"
   },
   {
    "duration": 24,
    "start_time": "2023-08-30T11:44:39.669Z"
   },
   {
    "duration": 76,
    "start_time": "2023-08-30T11:44:39.694Z"
   },
   {
    "duration": 26,
    "start_time": "2023-08-30T11:44:39.772Z"
   },
   {
    "duration": 16,
    "start_time": "2023-08-30T11:44:39.800Z"
   },
   {
    "duration": 15,
    "start_time": "2023-08-30T11:44:39.818Z"
   },
   {
    "duration": 304,
    "start_time": "2023-08-30T11:44:39.835Z"
   },
   {
    "duration": 277,
    "start_time": "2023-08-30T11:47:34.987Z"
   },
   {
    "duration": 202,
    "start_time": "2023-08-30T11:49:07.977Z"
   },
   {
    "duration": 329,
    "start_time": "2023-08-30T11:49:50.863Z"
   },
   {
    "duration": 251,
    "start_time": "2023-08-30T11:54:59.937Z"
   },
   {
    "duration": 312,
    "start_time": "2023-08-30T11:55:29.192Z"
   },
   {
    "duration": 205,
    "start_time": "2023-08-30T11:55:42.210Z"
   },
   {
    "duration": 176,
    "start_time": "2023-08-30T11:56:09.089Z"
   },
   {
    "duration": 261,
    "start_time": "2023-08-30T11:56:21.039Z"
   },
   {
    "duration": 226,
    "start_time": "2023-08-30T11:56:35.552Z"
   },
   {
    "duration": 250,
    "start_time": "2023-08-30T11:57:22.927Z"
   },
   {
    "duration": 222,
    "start_time": "2023-08-30T11:57:28.745Z"
   },
   {
    "duration": 214,
    "start_time": "2023-08-30T11:57:38.189Z"
   },
   {
    "duration": 191,
    "start_time": "2023-08-30T12:02:26.725Z"
   },
   {
    "duration": 227,
    "start_time": "2023-08-30T12:02:41.840Z"
   },
   {
    "duration": 217,
    "start_time": "2023-08-30T12:05:05.727Z"
   },
   {
    "duration": 324,
    "start_time": "2023-08-30T12:11:59.662Z"
   },
   {
    "duration": 357,
    "start_time": "2023-08-30T12:12:27.356Z"
   },
   {
    "duration": 323,
    "start_time": "2023-08-30T12:12:55.398Z"
   },
   {
    "duration": 332,
    "start_time": "2023-08-30T12:13:06.720Z"
   },
   {
    "duration": 470,
    "start_time": "2023-08-30T12:13:22.533Z"
   },
   {
    "duration": 5,
    "start_time": "2023-08-30T13:41:19.514Z"
   },
   {
    "duration": 4,
    "start_time": "2023-08-30T13:41:20.670Z"
   },
   {
    "duration": 207,
    "start_time": "2023-08-30T13:42:43.281Z"
   },
   {
    "duration": 211,
    "start_time": "2023-08-30T13:44:40.067Z"
   },
   {
    "duration": 205,
    "start_time": "2023-08-30T13:45:16.686Z"
   },
   {
    "duration": 195,
    "start_time": "2023-08-30T13:46:58.883Z"
   },
   {
    "duration": 232,
    "start_time": "2023-08-30T13:49:01.760Z"
   },
   {
    "duration": 238,
    "start_time": "2023-08-30T13:49:14.633Z"
   },
   {
    "duration": 228,
    "start_time": "2023-08-30T13:49:29.764Z"
   },
   {
    "duration": 234,
    "start_time": "2023-08-30T13:50:31.546Z"
   },
   {
    "duration": 238,
    "start_time": "2023-08-30T13:50:48.560Z"
   },
   {
    "duration": 7,
    "start_time": "2023-08-30T13:55:45.063Z"
   },
   {
    "duration": 7,
    "start_time": "2023-08-30T13:56:08.324Z"
   },
   {
    "duration": 7,
    "start_time": "2023-08-30T13:56:28.794Z"
   },
   {
    "duration": 6,
    "start_time": "2023-08-30T13:59:37.035Z"
   },
   {
    "duration": 5,
    "start_time": "2023-08-30T13:59:51.588Z"
   },
   {
    "duration": 7,
    "start_time": "2023-08-30T14:01:16.912Z"
   },
   {
    "duration": 6,
    "start_time": "2023-08-30T14:01:30.475Z"
   },
   {
    "duration": 18,
    "start_time": "2023-08-30T14:19:41.441Z"
   },
   {
    "duration": 13,
    "start_time": "2023-08-30T14:19:56.912Z"
   },
   {
    "duration": 8,
    "start_time": "2023-08-30T14:20:18.543Z"
   },
   {
    "duration": 19,
    "start_time": "2023-08-30T14:20:24.393Z"
   },
   {
    "duration": 15,
    "start_time": "2023-08-30T14:22:02.546Z"
   },
   {
    "duration": 113,
    "start_time": "2023-08-30T14:22:52.825Z"
   },
   {
    "duration": 12,
    "start_time": "2023-08-30T14:22:58.694Z"
   },
   {
    "duration": 15,
    "start_time": "2023-08-30T14:23:51.991Z"
   },
   {
    "duration": 10,
    "start_time": "2023-08-30T14:24:24.696Z"
   },
   {
    "duration": 19,
    "start_time": "2023-08-30T14:24:31.290Z"
   },
   {
    "duration": 21,
    "start_time": "2023-08-30T14:25:04.179Z"
   },
   {
    "duration": 17,
    "start_time": "2023-08-30T14:25:22.779Z"
   },
   {
    "duration": 17,
    "start_time": "2023-08-30T14:25:32.382Z"
   },
   {
    "duration": 18,
    "start_time": "2023-08-30T14:25:54.993Z"
   },
   {
    "duration": 16,
    "start_time": "2023-08-30T14:25:57.332Z"
   },
   {
    "duration": 11,
    "start_time": "2023-08-30T14:26:11.092Z"
   },
   {
    "duration": 14,
    "start_time": "2023-08-30T14:26:54.280Z"
   },
   {
    "duration": 12,
    "start_time": "2023-08-30T14:27:05.053Z"
   },
   {
    "duration": 5,
    "start_time": "2023-08-30T18:40:52.942Z"
   },
   {
    "duration": 16,
    "start_time": "2023-08-30T18:40:59.741Z"
   },
   {
    "duration": 16,
    "start_time": "2023-08-30T18:41:06.857Z"
   },
   {
    "duration": 15,
    "start_time": "2023-08-30T18:42:44.113Z"
   },
   {
    "duration": 113,
    "start_time": "2023-08-30T18:59:43.706Z"
   },
   {
    "duration": 126,
    "start_time": "2023-08-30T18:59:53.265Z"
   },
   {
    "duration": 3,
    "start_time": "2023-08-30T18:59:57.047Z"
   },
   {
    "duration": 38,
    "start_time": "2023-08-30T18:59:57.052Z"
   },
   {
    "duration": 8,
    "start_time": "2023-08-30T18:59:57.092Z"
   },
   {
    "duration": 13,
    "start_time": "2023-08-30T18:59:57.102Z"
   },
   {
    "duration": 19,
    "start_time": "2023-08-30T18:59:57.117Z"
   },
   {
    "duration": 54,
    "start_time": "2023-08-30T18:59:57.138Z"
   },
   {
    "duration": 27,
    "start_time": "2023-08-30T18:59:57.194Z"
   },
   {
    "duration": 12,
    "start_time": "2023-08-30T18:59:57.223Z"
   },
   {
    "duration": 15,
    "start_time": "2023-08-30T18:59:57.237Z"
   },
   {
    "duration": 11,
    "start_time": "2023-08-30T18:59:57.254Z"
   },
   {
    "duration": 9,
    "start_time": "2023-08-30T18:59:57.267Z"
   },
   {
    "duration": 110,
    "start_time": "2023-08-30T18:59:57.278Z"
   },
   {
    "duration": 0,
    "start_time": "2023-08-30T18:59:57.389Z"
   },
   {
    "duration": 1,
    "start_time": "2023-08-30T18:59:57.390Z"
   },
   {
    "duration": 0,
    "start_time": "2023-08-30T18:59:57.392Z"
   },
   {
    "duration": 0,
    "start_time": "2023-08-30T18:59:57.392Z"
   },
   {
    "duration": 0,
    "start_time": "2023-08-30T18:59:57.394Z"
   },
   {
    "duration": 0,
    "start_time": "2023-08-30T18:59:57.394Z"
   },
   {
    "duration": 0,
    "start_time": "2023-08-30T18:59:57.395Z"
   },
   {
    "duration": 10,
    "start_time": "2023-08-30T19:00:13.467Z"
   },
   {
    "duration": 17,
    "start_time": "2023-08-30T19:09:17.049Z"
   },
   {
    "duration": 21,
    "start_time": "2023-08-30T19:09:38.166Z"
   },
   {
    "duration": 105,
    "start_time": "2023-08-30T19:09:46.232Z"
   },
   {
    "duration": 120,
    "start_time": "2023-08-30T19:09:54.871Z"
   },
   {
    "duration": 10,
    "start_time": "2023-08-30T19:13:45.948Z"
   },
   {
    "duration": 8,
    "start_time": "2023-08-30T19:18:58.753Z"
   },
   {
    "duration": 3,
    "start_time": "2023-08-30T19:21:58.291Z"
   },
   {
    "duration": 7,
    "start_time": "2023-08-30T19:22:04.616Z"
   },
   {
    "duration": 5,
    "start_time": "2023-08-30T19:22:22.873Z"
   },
   {
    "duration": 8,
    "start_time": "2023-08-30T19:23:04.889Z"
   },
   {
    "duration": 5,
    "start_time": "2023-08-30T19:24:02.880Z"
   },
   {
    "duration": 8,
    "start_time": "2023-08-30T19:24:03.800Z"
   },
   {
    "duration": 1118,
    "start_time": "2023-08-30T19:24:35.106Z"
   },
   {
    "duration": 116,
    "start_time": "2023-08-30T19:24:36.226Z"
   },
   {
    "duration": 17,
    "start_time": "2023-08-30T19:24:36.344Z"
   },
   {
    "duration": 15,
    "start_time": "2023-08-30T19:24:36.363Z"
   },
   {
    "duration": 13,
    "start_time": "2023-08-30T19:24:36.381Z"
   },
   {
    "duration": 62,
    "start_time": "2023-08-30T19:24:36.396Z"
   },
   {
    "duration": 28,
    "start_time": "2023-08-30T19:24:36.460Z"
   },
   {
    "duration": 14,
    "start_time": "2023-08-30T19:24:36.490Z"
   },
   {
    "duration": 20,
    "start_time": "2023-08-30T19:24:36.506Z"
   },
   {
    "duration": 7,
    "start_time": "2023-08-30T19:24:36.529Z"
   },
   {
    "duration": 24,
    "start_time": "2023-08-30T19:24:36.538Z"
   },
   {
    "duration": 9,
    "start_time": "2023-08-30T19:24:36.563Z"
   },
   {
    "duration": 10,
    "start_time": "2023-08-30T19:24:36.574Z"
   },
   {
    "duration": 12,
    "start_time": "2023-08-30T19:24:36.586Z"
   },
   {
    "duration": 8,
    "start_time": "2023-08-30T19:24:36.600Z"
   },
   {
    "duration": 13,
    "start_time": "2023-08-30T19:24:36.610Z"
   },
   {
    "duration": 338,
    "start_time": "2023-08-30T19:24:36.625Z"
   },
   {
    "duration": 301,
    "start_time": "2023-08-30T19:24:36.964Z"
   },
   {
    "duration": 219,
    "start_time": "2023-08-30T19:24:37.266Z"
   },
   {
    "duration": 318,
    "start_time": "2023-08-30T19:24:37.486Z"
   },
   {
    "duration": 269,
    "start_time": "2023-08-30T19:24:37.806Z"
   },
   {
    "duration": 15,
    "start_time": "2023-08-30T19:26:31.804Z"
   },
   {
    "duration": 9,
    "start_time": "2023-08-30T19:26:38.455Z"
   },
   {
    "duration": 110,
    "start_time": "2023-08-30T19:31:15.793Z"
   },
   {
    "duration": 1968,
    "start_time": "2023-08-30T19:31:29.762Z"
   },
   {
    "duration": 1788,
    "start_time": "2023-08-30T19:33:42.814Z"
   },
   {
    "duration": 1722,
    "start_time": "2023-08-30T19:33:57.259Z"
   },
   {
    "duration": 13,
    "start_time": "2023-08-30T19:34:15.930Z"
   },
   {
    "duration": 8,
    "start_time": "2023-08-30T19:35:25.278Z"
   },
   {
    "duration": 1857,
    "start_time": "2023-08-30T19:36:20.317Z"
   },
   {
    "duration": 8,
    "start_time": "2023-08-30T19:36:33.145Z"
   },
   {
    "duration": 1772,
    "start_time": "2023-08-30T19:36:33.937Z"
   },
   {
    "duration": 1808,
    "start_time": "2023-08-30T19:39:15.813Z"
   },
   {
    "duration": 13,
    "start_time": "2023-08-30T19:39:30.413Z"
   },
   {
    "duration": 8,
    "start_time": "2023-08-30T19:39:42.671Z"
   },
   {
    "duration": 4,
    "start_time": "2023-08-30T19:39:48.141Z"
   },
   {
    "duration": 1894,
    "start_time": "2023-08-30T19:39:59.212Z"
   },
   {
    "duration": 1358,
    "start_time": "2023-08-30T19:40:12.339Z"
   },
   {
    "duration": 4,
    "start_time": "2023-08-30T19:40:52.625Z"
   },
   {
    "duration": 7,
    "start_time": "2023-08-30T19:40:55.386Z"
   },
   {
    "duration": 1473,
    "start_time": "2023-08-30T19:41:34.627Z"
   },
   {
    "duration": 6,
    "start_time": "2023-08-30T19:41:50.847Z"
   },
   {
    "duration": 8,
    "start_time": "2023-08-30T19:42:15.885Z"
   },
   {
    "duration": 9,
    "start_time": "2023-08-30T19:42:29.329Z"
   },
   {
    "duration": 3,
    "start_time": "2023-08-30T19:42:35.975Z"
   },
   {
    "duration": 45,
    "start_time": "2023-08-30T19:42:35.980Z"
   },
   {
    "duration": 18,
    "start_time": "2023-08-30T19:42:36.028Z"
   },
   {
    "duration": 14,
    "start_time": "2023-08-30T19:42:36.049Z"
   },
   {
    "duration": 38,
    "start_time": "2023-08-30T19:42:36.065Z"
   },
   {
    "duration": 54,
    "start_time": "2023-08-30T19:42:36.105Z"
   },
   {
    "duration": 30,
    "start_time": "2023-08-30T19:42:36.161Z"
   },
   {
    "duration": 18,
    "start_time": "2023-08-30T19:42:36.193Z"
   },
   {
    "duration": 28,
    "start_time": "2023-08-30T19:42:36.213Z"
   },
   {
    "duration": 32,
    "start_time": "2023-08-30T19:42:36.244Z"
   },
   {
    "duration": 8,
    "start_time": "2023-08-30T19:42:36.278Z"
   },
   {
    "duration": 16,
    "start_time": "2023-08-30T19:42:36.288Z"
   },
   {
    "duration": 3,
    "start_time": "2023-08-30T19:42:36.306Z"
   },
   {
    "duration": 7,
    "start_time": "2023-08-30T19:42:36.311Z"
   },
   {
    "duration": 10,
    "start_time": "2023-08-30T19:42:36.319Z"
   },
   {
    "duration": 8,
    "start_time": "2023-08-30T19:42:36.330Z"
   },
   {
    "duration": 22,
    "start_time": "2023-08-30T19:42:36.339Z"
   },
   {
    "duration": 319,
    "start_time": "2023-08-30T19:42:36.363Z"
   },
   {
    "duration": 243,
    "start_time": "2023-08-30T19:42:36.684Z"
   },
   {
    "duration": 224,
    "start_time": "2023-08-30T19:42:36.929Z"
   },
   {
    "duration": 335,
    "start_time": "2023-08-30T19:42:37.155Z"
   },
   {
    "duration": 254,
    "start_time": "2023-08-30T19:42:37.492Z"
   },
   {
    "duration": 8,
    "start_time": "2023-08-30T19:44:47.285Z"
   },
   {
    "duration": 7,
    "start_time": "2023-08-30T19:44:54.291Z"
   },
   {
    "duration": 10,
    "start_time": "2023-08-30T19:44:56.660Z"
   },
   {
    "duration": 9,
    "start_time": "2023-08-30T19:45:33.708Z"
   },
   {
    "duration": 4,
    "start_time": "2023-08-30T19:45:33.971Z"
   },
   {
    "duration": 7,
    "start_time": "2023-08-30T19:45:34.242Z"
   },
   {
    "duration": 10,
    "start_time": "2023-08-30T19:45:34.529Z"
   },
   {
    "duration": 90,
    "start_time": "2023-08-30T19:45:34.810Z"
   },
   {
    "duration": 9,
    "start_time": "2023-08-30T19:56:50.818Z"
   },
   {
    "duration": 1734,
    "start_time": "2023-08-30T19:56:52.027Z"
   },
   {
    "duration": 1759,
    "start_time": "2023-08-30T19:57:03.577Z"
   },
   {
    "duration": 10,
    "start_time": "2023-08-30T19:57:05.369Z"
   },
   {
    "duration": 1695,
    "start_time": "2023-08-30T19:57:17.608Z"
   },
   {
    "duration": 245,
    "start_time": "2023-08-30T19:59:11.937Z"
   },
   {
    "duration": 219,
    "start_time": "2023-08-30T19:59:16.780Z"
   },
   {
    "duration": 232,
    "start_time": "2023-08-30T19:59:21.636Z"
   },
   {
    "duration": 342,
    "start_time": "2023-08-30T20:02:31.013Z"
   },
   {
    "duration": 347,
    "start_time": "2023-08-30T20:03:01.849Z"
   },
   {
    "duration": 15,
    "start_time": "2023-08-31T06:32:40.648Z"
   },
   {
    "duration": 4,
    "start_time": "2023-08-31T06:33:01.134Z"
   },
   {
    "duration": 72,
    "start_time": "2023-08-31T06:33:01.141Z"
   },
   {
    "duration": 10,
    "start_time": "2023-08-31T06:33:01.215Z"
   },
   {
    "duration": 127,
    "start_time": "2023-08-31T06:33:01.227Z"
   },
   {
    "duration": 87,
    "start_time": "2023-08-31T06:33:01.357Z"
   },
   {
    "duration": 165,
    "start_time": "2023-08-31T06:33:01.446Z"
   },
   {
    "duration": 121,
    "start_time": "2023-08-31T06:33:01.613Z"
   },
   {
    "duration": 47,
    "start_time": "2023-08-31T06:33:01.736Z"
   },
   {
    "duration": 54,
    "start_time": "2023-08-31T06:33:01.785Z"
   },
   {
    "duration": 50,
    "start_time": "2023-08-31T06:33:01.840Z"
   },
   {
    "duration": 46,
    "start_time": "2023-08-31T06:33:01.892Z"
   },
   {
    "duration": 64,
    "start_time": "2023-08-31T06:33:01.940Z"
   },
   {
    "duration": 58,
    "start_time": "2023-08-31T06:33:02.006Z"
   },
   {
    "duration": 1973,
    "start_time": "2023-08-31T06:33:02.067Z"
   },
   {
    "duration": 0,
    "start_time": "2023-08-31T06:33:04.042Z"
   },
   {
    "duration": 0,
    "start_time": "2023-08-31T06:33:04.044Z"
   },
   {
    "duration": 0,
    "start_time": "2023-08-31T06:33:04.046Z"
   },
   {
    "duration": 0,
    "start_time": "2023-08-31T06:33:04.047Z"
   },
   {
    "duration": 0,
    "start_time": "2023-08-31T06:33:04.048Z"
   },
   {
    "duration": 0,
    "start_time": "2023-08-31T06:33:04.049Z"
   },
   {
    "duration": 0,
    "start_time": "2023-08-31T06:33:04.050Z"
   },
   {
    "duration": 0,
    "start_time": "2023-08-31T06:33:04.051Z"
   },
   {
    "duration": 1,
    "start_time": "2023-08-31T06:33:04.055Z"
   },
   {
    "duration": 5,
    "start_time": "2023-08-31T06:34:43.863Z"
   },
   {
    "duration": 4,
    "start_time": "2023-08-31T06:38:51.694Z"
   },
   {
    "duration": 5,
    "start_time": "2023-08-31T06:39:28.736Z"
   },
   {
    "duration": 5,
    "start_time": "2023-08-31T06:39:57.718Z"
   },
   {
    "duration": 5,
    "start_time": "2023-08-31T06:40:33.536Z"
   },
   {
    "duration": 497,
    "start_time": "2023-08-31T06:54:07.606Z"
   },
   {
    "duration": 4,
    "start_time": "2023-08-31T06:54:13.094Z"
   },
   {
    "duration": 69,
    "start_time": "2023-08-31T06:54:13.100Z"
   },
   {
    "duration": 9,
    "start_time": "2023-08-31T06:54:13.170Z"
   },
   {
    "duration": 36,
    "start_time": "2023-08-31T06:54:13.181Z"
   },
   {
    "duration": 17,
    "start_time": "2023-08-31T06:54:13.219Z"
   },
   {
    "duration": 52,
    "start_time": "2023-08-31T06:54:13.238Z"
   },
   {
    "duration": 28,
    "start_time": "2023-08-31T06:54:13.292Z"
   },
   {
    "duration": 24,
    "start_time": "2023-08-31T06:54:13.322Z"
   },
   {
    "duration": 19,
    "start_time": "2023-08-31T06:54:13.348Z"
   },
   {
    "duration": 47,
    "start_time": "2023-08-31T06:54:13.369Z"
   },
   {
    "duration": 21,
    "start_time": "2023-08-31T06:54:13.418Z"
   },
   {
    "duration": 20,
    "start_time": "2023-08-31T06:54:13.441Z"
   },
   {
    "duration": 16,
    "start_time": "2023-08-31T06:54:13.463Z"
   },
   {
    "duration": 1933,
    "start_time": "2023-08-31T06:54:13.482Z"
   },
   {
    "duration": 0,
    "start_time": "2023-08-31T06:54:15.417Z"
   },
   {
    "duration": 0,
    "start_time": "2023-08-31T06:54:15.418Z"
   },
   {
    "duration": 0,
    "start_time": "2023-08-31T06:54:15.420Z"
   },
   {
    "duration": 0,
    "start_time": "2023-08-31T06:54:15.421Z"
   },
   {
    "duration": 0,
    "start_time": "2023-08-31T06:54:15.422Z"
   },
   {
    "duration": 0,
    "start_time": "2023-08-31T06:54:15.423Z"
   },
   {
    "duration": 0,
    "start_time": "2023-08-31T06:54:15.425Z"
   },
   {
    "duration": 0,
    "start_time": "2023-08-31T06:54:15.426Z"
   },
   {
    "duration": 0,
    "start_time": "2023-08-31T06:54:15.427Z"
   },
   {
    "duration": 458,
    "start_time": "2023-08-31T06:54:36.330Z"
   },
   {
    "duration": 3,
    "start_time": "2023-08-31T06:54:44.509Z"
   },
   {
    "duration": 34,
    "start_time": "2023-08-31T06:54:44.514Z"
   },
   {
    "duration": 8,
    "start_time": "2023-08-31T06:54:44.550Z"
   },
   {
    "duration": 37,
    "start_time": "2023-08-31T06:54:44.560Z"
   },
   {
    "duration": 16,
    "start_time": "2023-08-31T06:54:44.600Z"
   },
   {
    "duration": 54,
    "start_time": "2023-08-31T06:54:44.618Z"
   },
   {
    "duration": 28,
    "start_time": "2023-08-31T06:54:44.675Z"
   },
   {
    "duration": 14,
    "start_time": "2023-08-31T06:54:44.705Z"
   },
   {
    "duration": 35,
    "start_time": "2023-08-31T06:54:44.721Z"
   },
   {
    "duration": 14,
    "start_time": "2023-08-31T06:54:44.758Z"
   },
   {
    "duration": 7,
    "start_time": "2023-08-31T06:54:44.774Z"
   },
   {
    "duration": 12,
    "start_time": "2023-08-31T06:54:44.782Z"
   },
   {
    "duration": 30,
    "start_time": "2023-08-31T06:54:44.796Z"
   },
   {
    "duration": 1784,
    "start_time": "2023-08-31T06:54:44.829Z"
   },
   {
    "duration": 0,
    "start_time": "2023-08-31T06:54:46.614Z"
   },
   {
    "duration": 0,
    "start_time": "2023-08-31T06:54:46.616Z"
   },
   {
    "duration": 0,
    "start_time": "2023-08-31T06:54:46.617Z"
   },
   {
    "duration": 0,
    "start_time": "2023-08-31T06:54:46.619Z"
   },
   {
    "duration": 0,
    "start_time": "2023-08-31T06:54:46.620Z"
   },
   {
    "duration": 0,
    "start_time": "2023-08-31T06:54:46.621Z"
   },
   {
    "duration": 0,
    "start_time": "2023-08-31T06:54:46.623Z"
   },
   {
    "duration": 0,
    "start_time": "2023-08-31T06:54:46.624Z"
   },
   {
    "duration": 0,
    "start_time": "2023-08-31T06:54:46.625Z"
   },
   {
    "duration": 16,
    "start_time": "2023-08-31T06:56:04.658Z"
   },
   {
    "duration": 15,
    "start_time": "2023-08-31T06:57:42.753Z"
   },
   {
    "duration": 3,
    "start_time": "2023-08-31T06:58:01.041Z"
   },
   {
    "duration": 66,
    "start_time": "2023-08-31T06:58:01.046Z"
   },
   {
    "duration": 10,
    "start_time": "2023-08-31T06:58:01.114Z"
   },
   {
    "duration": 47,
    "start_time": "2023-08-31T06:58:01.125Z"
   },
   {
    "duration": 51,
    "start_time": "2023-08-31T06:58:01.175Z"
   },
   {
    "duration": 92,
    "start_time": "2023-08-31T06:58:01.228Z"
   },
   {
    "duration": 31,
    "start_time": "2023-08-31T06:58:01.322Z"
   },
   {
    "duration": 33,
    "start_time": "2023-08-31T06:58:01.354Z"
   },
   {
    "duration": 89,
    "start_time": "2023-08-31T06:58:01.389Z"
   },
   {
    "duration": 57,
    "start_time": "2023-08-31T06:58:01.480Z"
   },
   {
    "duration": 49,
    "start_time": "2023-08-31T06:58:01.539Z"
   },
   {
    "duration": 33,
    "start_time": "2023-08-31T06:58:01.590Z"
   },
   {
    "duration": 34,
    "start_time": "2023-08-31T06:58:01.625Z"
   },
   {
    "duration": 1920,
    "start_time": "2023-08-31T06:58:01.663Z"
   },
   {
    "duration": 0,
    "start_time": "2023-08-31T06:58:03.584Z"
   },
   {
    "duration": 0,
    "start_time": "2023-08-31T06:58:03.586Z"
   },
   {
    "duration": 0,
    "start_time": "2023-08-31T06:58:03.587Z"
   },
   {
    "duration": 0,
    "start_time": "2023-08-31T06:58:03.588Z"
   },
   {
    "duration": 0,
    "start_time": "2023-08-31T06:58:03.588Z"
   },
   {
    "duration": 0,
    "start_time": "2023-08-31T06:58:03.590Z"
   },
   {
    "duration": 0,
    "start_time": "2023-08-31T06:58:03.591Z"
   },
   {
    "duration": 0,
    "start_time": "2023-08-31T06:58:03.592Z"
   },
   {
    "duration": 0,
    "start_time": "2023-08-31T06:58:03.593Z"
   },
   {
    "duration": 14,
    "start_time": "2023-08-31T06:58:39.076Z"
   },
   {
    "duration": 15,
    "start_time": "2023-08-31T06:59:40.970Z"
   },
   {
    "duration": 15,
    "start_time": "2023-08-31T07:00:05.746Z"
   },
   {
    "duration": 11,
    "start_time": "2023-08-31T07:01:23.879Z"
   },
   {
    "duration": 11,
    "start_time": "2023-08-31T07:01:32.798Z"
   },
   {
    "duration": 4,
    "start_time": "2023-08-31T07:01:56.774Z"
   },
   {
    "duration": 15,
    "start_time": "2023-08-31T07:02:17.002Z"
   },
   {
    "duration": 11,
    "start_time": "2023-08-31T07:02:24.031Z"
   },
   {
    "duration": 14,
    "start_time": "2023-08-31T07:03:15.246Z"
   },
   {
    "duration": 135,
    "start_time": "2023-08-31T07:03:42.639Z"
   },
   {
    "duration": 8,
    "start_time": "2023-08-31T07:03:48.520Z"
   },
   {
    "duration": 10,
    "start_time": "2023-08-31T07:05:31.785Z"
   },
   {
    "duration": 128,
    "start_time": "2023-08-31T07:05:45.379Z"
   },
   {
    "duration": 9,
    "start_time": "2023-08-31T07:05:50.149Z"
   },
   {
    "duration": 8,
    "start_time": "2023-08-31T07:06:15.853Z"
   },
   {
    "duration": 120,
    "start_time": "2023-08-31T07:07:04.062Z"
   },
   {
    "duration": 151,
    "start_time": "2023-08-31T07:07:11.124Z"
   },
   {
    "duration": 116,
    "start_time": "2023-08-31T07:07:16.577Z"
   },
   {
    "duration": 124,
    "start_time": "2023-08-31T07:07:20.673Z"
   },
   {
    "duration": 124,
    "start_time": "2023-08-31T07:08:28.298Z"
   },
   {
    "duration": 116,
    "start_time": "2023-08-31T07:08:43.201Z"
   },
   {
    "duration": 9,
    "start_time": "2023-08-31T07:08:56.210Z"
   },
   {
    "duration": 3,
    "start_time": "2023-08-31T07:11:07.590Z"
   },
   {
    "duration": 8,
    "start_time": "2023-08-31T07:11:53.688Z"
   },
   {
    "duration": 12,
    "start_time": "2023-08-31T07:13:04.089Z"
   },
   {
    "duration": 7,
    "start_time": "2023-08-31T07:16:48.009Z"
   },
   {
    "duration": 6,
    "start_time": "2023-08-31T07:16:49.947Z"
   },
   {
    "duration": 274,
    "start_time": "2023-08-31T07:30:19.439Z"
   },
   {
    "duration": 216,
    "start_time": "2023-08-31T07:31:05.510Z"
   },
   {
    "duration": 215,
    "start_time": "2023-08-31T07:31:37.787Z"
   },
   {
    "duration": 206,
    "start_time": "2023-08-31T07:32:26.989Z"
   },
   {
    "duration": 220,
    "start_time": "2023-08-31T07:34:38.790Z"
   },
   {
    "duration": 330,
    "start_time": "2023-08-31T07:34:43.164Z"
   },
   {
    "duration": 248,
    "start_time": "2023-08-31T07:35:04.198Z"
   },
   {
    "duration": 401,
    "start_time": "2023-08-31T07:57:27.410Z"
   },
   {
    "duration": 233,
    "start_time": "2023-08-31T08:15:14.302Z"
   },
   {
    "duration": 201,
    "start_time": "2023-08-31T08:15:38.209Z"
   },
   {
    "duration": 213,
    "start_time": "2023-08-31T08:16:10.882Z"
   },
   {
    "duration": 231,
    "start_time": "2023-08-31T08:16:16.969Z"
   },
   {
    "duration": 234,
    "start_time": "2023-08-31T08:16:25.932Z"
   },
   {
    "duration": 229,
    "start_time": "2023-08-31T08:17:35.037Z"
   },
   {
    "duration": 214,
    "start_time": "2023-08-31T08:18:44.349Z"
   },
   {
    "duration": 297,
    "start_time": "2023-08-31T08:23:49.572Z"
   },
   {
    "duration": 365,
    "start_time": "2023-08-31T08:36:54.003Z"
   },
   {
    "duration": 287,
    "start_time": "2023-08-31T08:37:16.003Z"
   },
   {
    "duration": 284,
    "start_time": "2023-08-31T08:37:34.477Z"
   },
   {
    "duration": 277,
    "start_time": "2023-08-31T08:37:42.702Z"
   },
   {
    "duration": 314,
    "start_time": "2023-08-31T08:37:57.070Z"
   },
   {
    "duration": 454,
    "start_time": "2023-08-31T08:38:10.060Z"
   },
   {
    "duration": 318,
    "start_time": "2023-08-31T08:39:50.864Z"
   },
   {
    "duration": 228,
    "start_time": "2023-08-31T08:41:32.766Z"
   },
   {
    "duration": 349,
    "start_time": "2023-08-31T08:41:37.565Z"
   },
   {
    "duration": 1989,
    "start_time": "2023-08-31T08:50:28.568Z"
   },
   {
    "duration": 142,
    "start_time": "2023-08-31T08:50:49.580Z"
   },
   {
    "duration": 14,
    "start_time": "2023-08-31T08:52:24.722Z"
   },
   {
    "duration": 10,
    "start_time": "2023-08-31T08:52:46.112Z"
   },
   {
    "duration": 116,
    "start_time": "2023-08-31T08:54:41.900Z"
   },
   {
    "duration": 115,
    "start_time": "2023-08-31T08:55:35.812Z"
   },
   {
    "duration": 6,
    "start_time": "2023-08-31T08:59:22.320Z"
   },
   {
    "duration": 1920,
    "start_time": "2023-08-31T09:07:13.791Z"
   },
   {
    "duration": 128,
    "start_time": "2023-08-31T09:07:36.374Z"
   },
   {
    "duration": 157,
    "start_time": "2023-08-31T09:09:29.628Z"
   },
   {
    "duration": 158,
    "start_time": "2023-08-31T09:09:41.218Z"
   },
   {
    "duration": 152,
    "start_time": "2023-08-31T09:09:53.874Z"
   },
   {
    "duration": 245,
    "start_time": "2023-08-31T09:10:33.722Z"
   },
   {
    "duration": 160,
    "start_time": "2023-08-31T09:10:42.245Z"
   },
   {
    "duration": 145,
    "start_time": "2023-08-31T09:12:01.185Z"
   },
   {
    "duration": 148,
    "start_time": "2023-08-31T09:12:06.290Z"
   },
   {
    "duration": 116,
    "start_time": "2023-08-31T09:17:09.019Z"
   },
   {
    "duration": 302,
    "start_time": "2023-08-31T09:18:32.326Z"
   },
   {
    "duration": 6,
    "start_time": "2023-08-31T09:23:23.263Z"
   },
   {
    "duration": 13,
    "start_time": "2023-08-31T09:41:59.008Z"
   },
   {
    "duration": 9,
    "start_time": "2023-08-31T09:44:25.748Z"
   },
   {
    "duration": 108,
    "start_time": "2023-08-31T09:44:39.212Z"
   },
   {
    "duration": 105,
    "start_time": "2023-08-31T09:45:58.528Z"
   },
   {
    "duration": 259,
    "start_time": "2023-08-31T09:46:17.561Z"
   },
   {
    "duration": 263,
    "start_time": "2023-08-31T09:47:06.119Z"
   },
   {
    "duration": 163,
    "start_time": "2023-08-31T09:48:08.670Z"
   },
   {
    "duration": 7,
    "start_time": "2023-08-31T09:48:39.652Z"
   },
   {
    "duration": 6,
    "start_time": "2023-08-31T09:57:33.950Z"
   },
   {
    "duration": 22,
    "start_time": "2023-08-31T09:59:40.719Z"
   },
   {
    "duration": 21,
    "start_time": "2023-08-31T10:03:55.235Z"
   },
   {
    "duration": 25,
    "start_time": "2023-08-31T10:05:06.059Z"
   },
   {
    "duration": 11,
    "start_time": "2023-08-31T10:16:26.007Z"
   },
   {
    "duration": 10,
    "start_time": "2023-08-31T10:17:04.947Z"
   },
   {
    "duration": 12,
    "start_time": "2023-08-31T10:22:26.218Z"
   },
   {
    "duration": 11,
    "start_time": "2023-08-31T14:20:46.345Z"
   },
   {
    "duration": 13,
    "start_time": "2023-08-31T14:24:17.319Z"
   },
   {
    "duration": 13,
    "start_time": "2023-08-31T14:25:51.036Z"
   },
   {
    "duration": 11,
    "start_time": "2023-08-31T14:26:50.698Z"
   },
   {
    "duration": 11,
    "start_time": "2023-08-31T14:30:00.744Z"
   },
   {
    "duration": 22,
    "start_time": "2023-08-31T14:30:15.093Z"
   },
   {
    "duration": 26,
    "start_time": "2023-08-31T14:33:02.399Z"
   },
   {
    "duration": 28,
    "start_time": "2023-08-31T14:34:38.302Z"
   },
   {
    "duration": 13,
    "start_time": "2023-08-31T14:35:04.369Z"
   },
   {
    "duration": 13,
    "start_time": "2023-08-31T14:35:20.376Z"
   },
   {
    "duration": 1773,
    "start_time": "2023-08-31T14:36:36.327Z"
   },
   {
    "duration": 15,
    "start_time": "2023-08-31T14:36:57.391Z"
   },
   {
    "duration": 20,
    "start_time": "2023-08-31T14:37:14.504Z"
   },
   {
    "duration": 15,
    "start_time": "2023-08-31T15:56:32.996Z"
   },
   {
    "duration": 1305,
    "start_time": "2023-08-31T16:00:26.441Z"
   },
   {
    "duration": 131,
    "start_time": "2023-08-31T16:00:27.748Z"
   },
   {
    "duration": 13,
    "start_time": "2023-08-31T16:00:27.881Z"
   },
   {
    "duration": 24,
    "start_time": "2023-08-31T16:00:27.897Z"
   },
   {
    "duration": 14,
    "start_time": "2023-08-31T16:00:27.923Z"
   },
   {
    "duration": 57,
    "start_time": "2023-08-31T16:00:27.960Z"
   },
   {
    "duration": 30,
    "start_time": "2023-08-31T16:00:28.019Z"
   },
   {
    "duration": 23,
    "start_time": "2023-08-31T16:00:28.052Z"
   },
   {
    "duration": 26,
    "start_time": "2023-08-31T16:00:28.077Z"
   },
   {
    "duration": 22,
    "start_time": "2023-08-31T16:00:28.107Z"
   },
   {
    "duration": 18,
    "start_time": "2023-08-31T16:00:28.132Z"
   },
   {
    "duration": 12,
    "start_time": "2023-08-31T16:00:28.159Z"
   },
   {
    "duration": 7,
    "start_time": "2023-08-31T16:00:28.173Z"
   },
   {
    "duration": 10,
    "start_time": "2023-08-31T16:00:28.182Z"
   },
   {
    "duration": 337,
    "start_time": "2023-08-31T16:00:28.194Z"
   },
   {
    "duration": 343,
    "start_time": "2023-08-31T16:00:28.533Z"
   },
   {
    "duration": 228,
    "start_time": "2023-08-31T16:00:28.878Z"
   },
   {
    "duration": 360,
    "start_time": "2023-08-31T16:00:29.108Z"
   },
   {
    "duration": 301,
    "start_time": "2023-08-31T16:00:29.471Z"
   },
   {
    "duration": 369,
    "start_time": "2023-08-31T16:00:29.774Z"
   },
   {
    "duration": 18,
    "start_time": "2023-08-31T16:00:30.144Z"
   },
   {
    "duration": 198,
    "start_time": "2023-08-31T16:00:30.164Z"
   },
   {
    "duration": 5,
    "start_time": "2023-08-31T16:00:30.364Z"
   },
   {
    "duration": 249,
    "start_time": "2023-08-31T16:00:30.371Z"
   },
   {
    "duration": 187,
    "start_time": "2023-08-31T16:00:30.621Z"
   },
   {
    "duration": 5,
    "start_time": "2023-08-31T16:00:30.811Z"
   },
   {
    "duration": 278,
    "start_time": "2023-08-31T16:00:30.818Z"
   },
   {
    "duration": 141,
    "start_time": "2023-08-31T16:00:31.100Z"
   },
   {
    "duration": 19,
    "start_time": "2023-08-31T16:00:31.243Z"
   },
   {
    "duration": 50,
    "start_time": "2023-08-31T16:00:31.265Z"
   },
   {
    "duration": 39,
    "start_time": "2023-08-31T16:00:31.318Z"
   },
   {
    "duration": 51,
    "start_time": "2023-08-31T16:00:31.360Z"
   },
   {
    "duration": 41,
    "start_time": "2023-08-31T16:00:31.413Z"
   },
   {
    "duration": 64,
    "start_time": "2023-08-31T16:00:31.457Z"
   },
   {
    "duration": 25,
    "start_time": "2023-08-31T16:00:31.523Z"
   },
   {
    "duration": 12,
    "start_time": "2023-08-31T16:01:06.870Z"
   },
   {
    "duration": 10,
    "start_time": "2023-08-31T16:01:26.726Z"
   },
   {
    "duration": 302,
    "start_time": "2023-08-31T16:02:17.629Z"
   },
   {
    "duration": 106,
    "start_time": "2023-08-31T16:03:11.674Z"
   },
   {
    "duration": 454,
    "start_time": "2023-08-31T16:03:47.366Z"
   },
   {
    "duration": 343,
    "start_time": "2023-08-31T16:04:19.077Z"
   },
   {
    "duration": 8,
    "start_time": "2023-08-31T16:05:11.548Z"
   },
   {
    "duration": 16,
    "start_time": "2023-08-31T16:05:31.062Z"
   },
   {
    "duration": 37,
    "start_time": "2023-08-31T16:05:40.097Z"
   },
   {
    "duration": 1273,
    "start_time": "2023-08-31T16:06:43.534Z"
   },
   {
    "duration": 113,
    "start_time": "2023-08-31T16:06:44.811Z"
   },
   {
    "duration": 9,
    "start_time": "2023-08-31T16:06:44.926Z"
   },
   {
    "duration": 32,
    "start_time": "2023-08-31T16:06:44.937Z"
   },
   {
    "duration": 13,
    "start_time": "2023-08-31T16:06:44.972Z"
   },
   {
    "duration": 68,
    "start_time": "2023-08-31T16:06:44.987Z"
   },
   {
    "duration": 32,
    "start_time": "2023-08-31T16:06:45.057Z"
   },
   {
    "duration": 21,
    "start_time": "2023-08-31T16:06:45.091Z"
   },
   {
    "duration": 22,
    "start_time": "2023-08-31T16:06:45.115Z"
   },
   {
    "duration": 11,
    "start_time": "2023-08-31T16:06:45.158Z"
   },
   {
    "duration": 8,
    "start_time": "2023-08-31T16:06:45.171Z"
   },
   {
    "duration": 21,
    "start_time": "2023-08-31T16:06:45.181Z"
   },
   {
    "duration": 28,
    "start_time": "2023-08-31T16:06:45.204Z"
   },
   {
    "duration": 5,
    "start_time": "2023-08-31T16:06:45.236Z"
   },
   {
    "duration": 340,
    "start_time": "2023-08-31T16:06:45.242Z"
   },
   {
    "duration": 326,
    "start_time": "2023-08-31T16:06:45.584Z"
   },
   {
    "duration": 246,
    "start_time": "2023-08-31T16:06:45.913Z"
   },
   {
    "duration": 329,
    "start_time": "2023-08-31T16:06:46.161Z"
   },
   {
    "duration": 256,
    "start_time": "2023-08-31T16:06:46.492Z"
   },
   {
    "duration": 412,
    "start_time": "2023-08-31T16:06:46.750Z"
   },
   {
    "duration": 10,
    "start_time": "2023-08-31T16:06:47.164Z"
   },
   {
    "duration": 186,
    "start_time": "2023-08-31T16:06:47.176Z"
   },
   {
    "duration": 6,
    "start_time": "2023-08-31T16:06:47.364Z"
   },
   {
    "duration": 212,
    "start_time": "2023-08-31T16:06:47.372Z"
   },
   {
    "duration": 191,
    "start_time": "2023-08-31T16:06:47.587Z"
   },
   {
    "duration": 6,
    "start_time": "2023-08-31T16:06:47.780Z"
   },
   {
    "duration": 274,
    "start_time": "2023-08-31T16:06:47.789Z"
   },
   {
    "duration": 165,
    "start_time": "2023-08-31T16:06:48.065Z"
   },
   {
    "duration": 8,
    "start_time": "2023-08-31T16:06:48.231Z"
   },
   {
    "duration": 23,
    "start_time": "2023-08-31T16:06:48.260Z"
   },
   {
    "duration": 12,
    "start_time": "2023-08-31T16:06:48.285Z"
   },
   {
    "duration": 13,
    "start_time": "2023-08-31T16:06:48.299Z"
   },
   {
    "duration": 50,
    "start_time": "2023-08-31T16:06:48.314Z"
   },
   {
    "duration": 34,
    "start_time": "2023-08-31T16:06:48.367Z"
   },
   {
    "duration": 17,
    "start_time": "2023-08-31T16:06:48.404Z"
   },
   {
    "duration": 1441,
    "start_time": "2023-08-31T16:08:55.937Z"
   },
   {
    "duration": 133,
    "start_time": "2023-08-31T16:08:57.381Z"
   },
   {
    "duration": 11,
    "start_time": "2023-08-31T16:08:57.517Z"
   },
   {
    "duration": 34,
    "start_time": "2023-08-31T16:08:57.530Z"
   },
   {
    "duration": 16,
    "start_time": "2023-08-31T16:08:57.568Z"
   },
   {
    "duration": 69,
    "start_time": "2023-08-31T16:08:57.586Z"
   },
   {
    "duration": 31,
    "start_time": "2023-08-31T16:08:57.658Z"
   },
   {
    "duration": 14,
    "start_time": "2023-08-31T16:08:57.691Z"
   },
   {
    "duration": 22,
    "start_time": "2023-08-31T16:08:57.708Z"
   },
   {
    "duration": 30,
    "start_time": "2023-08-31T16:08:57.732Z"
   },
   {
    "duration": 7,
    "start_time": "2023-08-31T16:08:57.765Z"
   },
   {
    "duration": 10,
    "start_time": "2023-08-31T16:08:57.774Z"
   },
   {
    "duration": 12,
    "start_time": "2023-08-31T16:08:57.786Z"
   },
   {
    "duration": 4,
    "start_time": "2023-08-31T16:08:57.802Z"
   },
   {
    "duration": 418,
    "start_time": "2023-08-31T16:08:57.808Z"
   },
   {
    "duration": 309,
    "start_time": "2023-08-31T16:08:58.228Z"
   },
   {
    "duration": 246,
    "start_time": "2023-08-31T16:08:58.539Z"
   },
   {
    "duration": 385,
    "start_time": "2023-08-31T16:08:58.787Z"
   },
   {
    "duration": 248,
    "start_time": "2023-08-31T16:08:59.174Z"
   },
   {
    "duration": 474,
    "start_time": "2023-08-31T16:08:59.424Z"
   },
   {
    "duration": 14,
    "start_time": "2023-08-31T16:08:59.901Z"
   },
   {
    "duration": 265,
    "start_time": "2023-08-31T16:08:59.918Z"
   },
   {
    "duration": 7,
    "start_time": "2023-08-31T16:09:00.190Z"
   },
   {
    "duration": 312,
    "start_time": "2023-08-31T16:09:00.200Z"
   },
   {
    "duration": 249,
    "start_time": "2023-08-31T16:09:00.514Z"
   },
   {
    "duration": 8,
    "start_time": "2023-08-31T16:09:00.765Z"
   },
   {
    "duration": 275,
    "start_time": "2023-08-31T16:09:00.775Z"
   },
   {
    "duration": 171,
    "start_time": "2023-08-31T16:09:01.059Z"
   },
   {
    "duration": 8,
    "start_time": "2023-08-31T16:09:01.232Z"
   },
   {
    "duration": 87,
    "start_time": "2023-08-31T16:09:01.242Z"
   },
   {
    "duration": 21,
    "start_time": "2023-08-31T16:09:01.331Z"
   },
   {
    "duration": 77,
    "start_time": "2023-08-31T16:09:01.354Z"
   },
   {
    "duration": 37,
    "start_time": "2023-08-31T16:09:01.432Z"
   },
   {
    "duration": 123,
    "start_time": "2023-08-31T16:09:01.470Z"
   },
   {
    "duration": 45,
    "start_time": "2023-08-31T16:09:01.596Z"
   },
   {
    "duration": 49,
    "start_time": "2023-09-01T16:55:05.705Z"
   },
   {
    "duration": 1252,
    "start_time": "2023-09-01T16:55:10.647Z"
   },
   {
    "duration": 136,
    "start_time": "2023-09-01T16:55:11.901Z"
   },
   {
    "duration": 6,
    "start_time": "2023-09-01T16:55:12.039Z"
   },
   {
    "duration": 75,
    "start_time": "2023-09-01T16:55:12.046Z"
   },
   {
    "duration": 0,
    "start_time": "2023-09-01T16:55:12.124Z"
   },
   {
    "duration": 0,
    "start_time": "2023-09-01T16:55:12.125Z"
   },
   {
    "duration": 0,
    "start_time": "2023-09-01T16:55:12.126Z"
   },
   {
    "duration": 0,
    "start_time": "2023-09-01T16:55:12.127Z"
   },
   {
    "duration": 0,
    "start_time": "2023-09-01T16:55:12.128Z"
   },
   {
    "duration": 0,
    "start_time": "2023-09-01T16:55:12.129Z"
   },
   {
    "duration": 0,
    "start_time": "2023-09-01T16:55:12.130Z"
   },
   {
    "duration": 0,
    "start_time": "2023-09-01T16:55:12.131Z"
   },
   {
    "duration": 0,
    "start_time": "2023-09-01T16:55:12.132Z"
   },
   {
    "duration": 0,
    "start_time": "2023-09-01T16:55:12.133Z"
   },
   {
    "duration": 0,
    "start_time": "2023-09-01T16:55:12.134Z"
   },
   {
    "duration": 0,
    "start_time": "2023-09-01T16:55:12.135Z"
   },
   {
    "duration": 0,
    "start_time": "2023-09-01T16:55:12.136Z"
   },
   {
    "duration": 0,
    "start_time": "2023-09-01T16:55:12.149Z"
   },
   {
    "duration": 0,
    "start_time": "2023-09-01T16:55:12.150Z"
   },
   {
    "duration": 0,
    "start_time": "2023-09-01T16:55:12.150Z"
   },
   {
    "duration": 0,
    "start_time": "2023-09-01T16:55:12.152Z"
   },
   {
    "duration": 0,
    "start_time": "2023-09-01T16:55:12.153Z"
   },
   {
    "duration": 0,
    "start_time": "2023-09-01T16:55:12.154Z"
   },
   {
    "duration": 0,
    "start_time": "2023-09-01T16:55:12.155Z"
   },
   {
    "duration": 0,
    "start_time": "2023-09-01T16:55:12.156Z"
   },
   {
    "duration": 0,
    "start_time": "2023-09-01T16:55:12.157Z"
   },
   {
    "duration": 0,
    "start_time": "2023-09-01T16:55:12.157Z"
   },
   {
    "duration": 0,
    "start_time": "2023-09-01T16:55:12.158Z"
   },
   {
    "duration": 0,
    "start_time": "2023-09-01T16:55:12.159Z"
   },
   {
    "duration": 0,
    "start_time": "2023-09-01T16:55:12.160Z"
   },
   {
    "duration": 0,
    "start_time": "2023-09-01T16:55:12.161Z"
   },
   {
    "duration": 0,
    "start_time": "2023-09-01T16:55:12.162Z"
   },
   {
    "duration": 0,
    "start_time": "2023-09-01T16:55:12.163Z"
   },
   {
    "duration": 0,
    "start_time": "2023-09-01T16:55:12.163Z"
   },
   {
    "duration": 0,
    "start_time": "2023-09-01T16:55:12.164Z"
   },
   {
    "duration": 12,
    "start_time": "2023-09-01T16:56:57.242Z"
   },
   {
    "duration": 15,
    "start_time": "2023-09-01T16:57:26.450Z"
   },
   {
    "duration": 18,
    "start_time": "2023-09-01T16:57:46.366Z"
   },
   {
    "duration": 19,
    "start_time": "2023-09-01T16:59:23.373Z"
   },
   {
    "duration": 9,
    "start_time": "2023-09-01T16:59:39.476Z"
   },
   {
    "duration": 10,
    "start_time": "2023-09-01T16:59:42.533Z"
   },
   {
    "duration": 52,
    "start_time": "2023-09-01T17:00:10.430Z"
   },
   {
    "duration": 13,
    "start_time": "2023-09-01T17:00:12.276Z"
   },
   {
    "duration": 52,
    "start_time": "2023-09-01T17:00:25.225Z"
   },
   {
    "duration": 8,
    "start_time": "2023-09-01T17:00:33.819Z"
   },
   {
    "duration": 12,
    "start_time": "2023-09-01T17:23:21.622Z"
   },
   {
    "duration": 16,
    "start_time": "2023-09-01T17:23:49.772Z"
   },
   {
    "duration": 8,
    "start_time": "2023-09-01T18:29:58.264Z"
   },
   {
    "duration": 4,
    "start_time": "2023-09-01T18:30:02.993Z"
   },
   {
    "duration": 44,
    "start_time": "2023-09-01T18:30:02.999Z"
   },
   {
    "duration": 8,
    "start_time": "2023-09-01T18:30:03.045Z"
   },
   {
    "duration": 13,
    "start_time": "2023-09-01T18:30:03.055Z"
   },
   {
    "duration": 29,
    "start_time": "2023-09-01T18:30:03.071Z"
   },
   {
    "duration": 99,
    "start_time": "2023-09-01T18:30:03.101Z"
   },
   {
    "duration": 64,
    "start_time": "2023-09-01T18:30:03.202Z"
   },
   {
    "duration": 12,
    "start_time": "2023-09-01T18:30:03.267Z"
   },
   {
    "duration": 13,
    "start_time": "2023-09-01T18:30:03.280Z"
   },
   {
    "duration": 8,
    "start_time": "2023-09-01T18:30:03.294Z"
   },
   {
    "duration": 5,
    "start_time": "2023-09-01T18:30:03.304Z"
   },
   {
    "duration": 8,
    "start_time": "2023-09-01T18:30:03.310Z"
   },
   {
    "duration": 6,
    "start_time": "2023-09-01T18:30:03.320Z"
   },
   {
    "duration": 22,
    "start_time": "2023-09-01T18:30:03.328Z"
   },
   {
    "duration": 263,
    "start_time": "2023-09-01T18:30:03.351Z"
   },
   {
    "duration": 260,
    "start_time": "2023-09-01T18:30:03.616Z"
   },
   {
    "duration": 184,
    "start_time": "2023-09-01T18:30:03.877Z"
   },
   {
    "duration": 335,
    "start_time": "2023-09-01T18:30:04.063Z"
   },
   {
    "duration": 191,
    "start_time": "2023-09-01T18:30:04.400Z"
   },
   {
    "duration": 296,
    "start_time": "2023-09-01T18:30:04.593Z"
   },
   {
    "duration": 9,
    "start_time": "2023-09-01T18:30:04.890Z"
   },
   {
    "duration": 138,
    "start_time": "2023-09-01T18:30:04.900Z"
   },
   {
    "duration": 12,
    "start_time": "2023-09-01T18:30:05.040Z"
   },
   {
    "duration": 142,
    "start_time": "2023-09-01T18:30:05.054Z"
   },
   {
    "duration": 143,
    "start_time": "2023-09-01T18:30:05.198Z"
   },
   {
    "duration": 9,
    "start_time": "2023-09-01T18:30:05.343Z"
   },
   {
    "duration": 215,
    "start_time": "2023-09-01T18:30:05.354Z"
   },
   {
    "duration": 132,
    "start_time": "2023-09-01T18:30:05.571Z"
   },
   {
    "duration": 7,
    "start_time": "2023-09-01T18:30:05.704Z"
   },
   {
    "duration": 37,
    "start_time": "2023-09-01T18:30:05.712Z"
   },
   {
    "duration": 10,
    "start_time": "2023-09-01T18:30:05.751Z"
   },
   {
    "duration": 11,
    "start_time": "2023-09-01T18:30:05.762Z"
   },
   {
    "duration": 11,
    "start_time": "2023-09-01T18:30:05.774Z"
   },
   {
    "duration": 36,
    "start_time": "2023-09-01T18:30:05.786Z"
   },
   {
    "duration": 13,
    "start_time": "2023-09-01T18:30:05.823Z"
   },
   {
    "duration": 14,
    "start_time": "2023-09-01T18:31:20.080Z"
   },
   {
    "duration": 7,
    "start_time": "2023-09-01T18:31:21.454Z"
   },
   {
    "duration": 82,
    "start_time": "2023-09-01T18:31:53.874Z"
   },
   {
    "duration": 96,
    "start_time": "2023-09-01T18:32:13.457Z"
   },
   {
    "duration": 8,
    "start_time": "2023-09-01T18:33:51.505Z"
   },
   {
    "duration": 8,
    "start_time": "2023-09-01T18:34:10.077Z"
   },
   {
    "duration": 10,
    "start_time": "2023-09-01T18:35:02.784Z"
   },
   {
    "duration": 27,
    "start_time": "2023-09-01T18:36:06.101Z"
   },
   {
    "duration": 8,
    "start_time": "2023-09-01T18:37:41.115Z"
   },
   {
    "duration": 1015,
    "start_time": "2023-09-01T18:42:56.021Z"
   },
   {
    "duration": 79,
    "start_time": "2023-09-01T18:42:57.037Z"
   },
   {
    "duration": 7,
    "start_time": "2023-09-01T18:42:57.117Z"
   },
   {
    "duration": 10,
    "start_time": "2023-09-01T18:42:57.126Z"
   },
   {
    "duration": 10,
    "start_time": "2023-09-01T18:42:57.138Z"
   },
   {
    "duration": 50,
    "start_time": "2023-09-01T18:42:57.149Z"
   },
   {
    "duration": 24,
    "start_time": "2023-09-01T18:42:57.200Z"
   },
   {
    "duration": 12,
    "start_time": "2023-09-01T18:42:57.226Z"
   },
   {
    "duration": 16,
    "start_time": "2023-09-01T18:42:57.239Z"
   },
   {
    "duration": 6,
    "start_time": "2023-09-01T18:42:57.259Z"
   },
   {
    "duration": 5,
    "start_time": "2023-09-01T18:42:57.267Z"
   },
   {
    "duration": 8,
    "start_time": "2023-09-01T18:42:57.273Z"
   },
   {
    "duration": 5,
    "start_time": "2023-09-01T18:42:57.283Z"
   },
   {
    "duration": 5,
    "start_time": "2023-09-01T18:42:57.289Z"
   },
   {
    "duration": 291,
    "start_time": "2023-09-01T18:42:57.296Z"
   },
   {
    "duration": 251,
    "start_time": "2023-09-01T18:42:57.589Z"
   },
   {
    "duration": 179,
    "start_time": "2023-09-01T18:42:57.842Z"
   },
   {
    "duration": 343,
    "start_time": "2023-09-01T18:42:58.023Z"
   },
   {
    "duration": 204,
    "start_time": "2023-09-01T18:42:58.368Z"
   },
   {
    "duration": 301,
    "start_time": "2023-09-01T18:42:58.573Z"
   },
   {
    "duration": 8,
    "start_time": "2023-09-01T18:42:58.875Z"
   },
   {
    "duration": 141,
    "start_time": "2023-09-01T18:42:58.885Z"
   },
   {
    "duration": 5,
    "start_time": "2023-09-01T18:42:59.028Z"
   },
   {
    "duration": 166,
    "start_time": "2023-09-01T18:42:59.035Z"
   },
   {
    "duration": 147,
    "start_time": "2023-09-01T18:42:59.203Z"
   },
   {
    "duration": 5,
    "start_time": "2023-09-01T18:42:59.351Z"
   },
   {
    "duration": 210,
    "start_time": "2023-09-01T18:42:59.357Z"
   },
   {
    "duration": 119,
    "start_time": "2023-09-01T18:42:59.570Z"
   },
   {
    "duration": 5,
    "start_time": "2023-09-01T18:42:59.691Z"
   },
   {
    "duration": 33,
    "start_time": "2023-09-01T18:42:59.698Z"
   },
   {
    "duration": 14,
    "start_time": "2023-09-01T18:42:59.732Z"
   },
   {
    "duration": 17,
    "start_time": "2023-09-01T18:42:59.748Z"
   },
   {
    "duration": 25,
    "start_time": "2023-09-01T18:42:59.766Z"
   },
   {
    "duration": 36,
    "start_time": "2023-09-01T18:42:59.793Z"
   },
   {
    "duration": 14,
    "start_time": "2023-09-01T18:42:59.831Z"
   }
  ],
  "kernelspec": {
   "display_name": "Python 3 (ipykernel)",
   "language": "python",
   "name": "python3"
  },
  "language_info": {
   "codemirror_mode": {
    "name": "ipython",
    "version": 3
   },
   "file_extension": ".py",
   "mimetype": "text/x-python",
   "name": "python",
   "nbconvert_exporter": "python",
   "pygments_lexer": "ipython3",
   "version": "3.10.9"
  },
  "toc": {
   "base_numbering": 1,
   "nav_menu": {
    "height": "619px",
    "width": "1439px"
   },
   "number_sections": true,
   "sideBar": true,
   "skip_h1_title": true,
   "title_cell": "Table of Contents",
   "title_sidebar": "Contents",
   "toc_cell": false,
   "toc_position": {},
   "toc_section_display": true,
   "toc_window_display": false
  }
 },
 "nbformat": 4,
 "nbformat_minor": 2
}
