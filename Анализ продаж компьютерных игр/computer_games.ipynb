{
 "cells": [
  {
   "cell_type": "markdown",
   "metadata": {},
   "source": [
    "# Исследование данных о продажах компьютерных игр\n",
    "\n",
    "Имеются исторические данные о продажах игр, оценки пользователей и экспертов, жанры и платформы (например, Xbox или PlayStation) до 2016 года. \n",
    "\n",
    "Требуется выявить определяющие успешность игры закономерности. Это позволит сделать ставку на потенциально популярный продукт и спланировать рекламные кампании.\n",
    "\n",
    "Для этого проанализируем, какие игровые платформы и жанры самые востребованные, как на предпочтение по играм влияет территориальный признак, проверим некоторые гипотезы. Но предварительно выполним предобработку данных."
   ]
  },
  {
   "cell_type": "markdown",
   "metadata": {},
   "source": [
    "### Общая информация "
   ]
  },
  {
   "cell_type": "code",
   "execution_count": 1,
   "metadata": {},
   "outputs": [],
   "source": [
    "import pandas as pd\n",
    "import matplotlib.pyplot as plt\n",
    "import seaborn as sns\n",
    "import numpy as np\n",
    "from scipy import stats as st"
   ]
  },
  {
   "cell_type": "code",
   "execution_count": 2,
   "metadata": {},
   "outputs": [],
   "source": [
    "try:\n",
    "    data = pd.read_csv('/datasets/games.csv')\n",
    "except:\n",
    "    data = pd.read_csv('https://code.s3.yandex.net/datasets/games.csv')\n",
    "    \n",
    "data.to_csv('data.csv', index=False)"
   ]
  },
  {
   "cell_type": "code",
   "execution_count": 3,
   "metadata": {
    "scrolled": false
   },
   "outputs": [
    {
     "data": {
      "text/html": [
       "<div>\n",
       "<style scoped>\n",
       "    .dataframe tbody tr th:only-of-type {\n",
       "        vertical-align: middle;\n",
       "    }\n",
       "\n",
       "    .dataframe tbody tr th {\n",
       "        vertical-align: top;\n",
       "    }\n",
       "\n",
       "    .dataframe thead th {\n",
       "        text-align: right;\n",
       "    }\n",
       "</style>\n",
       "<table border=\"1\" class=\"dataframe\">\n",
       "  <thead>\n",
       "    <tr style=\"text-align: right;\">\n",
       "      <th></th>\n",
       "      <th>Name</th>\n",
       "      <th>Platform</th>\n",
       "      <th>Year_of_Release</th>\n",
       "      <th>Genre</th>\n",
       "      <th>NA_sales</th>\n",
       "      <th>EU_sales</th>\n",
       "      <th>JP_sales</th>\n",
       "      <th>Other_sales</th>\n",
       "      <th>Critic_Score</th>\n",
       "      <th>User_Score</th>\n",
       "      <th>Rating</th>\n",
       "    </tr>\n",
       "  </thead>\n",
       "  <tbody>\n",
       "    <tr>\n",
       "      <th>0</th>\n",
       "      <td>Wii Sports</td>\n",
       "      <td>Wii</td>\n",
       "      <td>2006.0</td>\n",
       "      <td>Sports</td>\n",
       "      <td>41.36</td>\n",
       "      <td>28.96</td>\n",
       "      <td>3.77</td>\n",
       "      <td>8.45</td>\n",
       "      <td>76.0</td>\n",
       "      <td>8</td>\n",
       "      <td>E</td>\n",
       "    </tr>\n",
       "    <tr>\n",
       "      <th>1</th>\n",
       "      <td>Super Mario Bros.</td>\n",
       "      <td>NES</td>\n",
       "      <td>1985.0</td>\n",
       "      <td>Platform</td>\n",
       "      <td>29.08</td>\n",
       "      <td>3.58</td>\n",
       "      <td>6.81</td>\n",
       "      <td>0.77</td>\n",
       "      <td>NaN</td>\n",
       "      <td>NaN</td>\n",
       "      <td>NaN</td>\n",
       "    </tr>\n",
       "    <tr>\n",
       "      <th>2</th>\n",
       "      <td>Mario Kart Wii</td>\n",
       "      <td>Wii</td>\n",
       "      <td>2008.0</td>\n",
       "      <td>Racing</td>\n",
       "      <td>15.68</td>\n",
       "      <td>12.76</td>\n",
       "      <td>3.79</td>\n",
       "      <td>3.29</td>\n",
       "      <td>82.0</td>\n",
       "      <td>8.3</td>\n",
       "      <td>E</td>\n",
       "    </tr>\n",
       "    <tr>\n",
       "      <th>3</th>\n",
       "      <td>Wii Sports Resort</td>\n",
       "      <td>Wii</td>\n",
       "      <td>2009.0</td>\n",
       "      <td>Sports</td>\n",
       "      <td>15.61</td>\n",
       "      <td>10.93</td>\n",
       "      <td>3.28</td>\n",
       "      <td>2.95</td>\n",
       "      <td>80.0</td>\n",
       "      <td>8</td>\n",
       "      <td>E</td>\n",
       "    </tr>\n",
       "    <tr>\n",
       "      <th>4</th>\n",
       "      <td>Pokemon Red/Pokemon Blue</td>\n",
       "      <td>GB</td>\n",
       "      <td>1996.0</td>\n",
       "      <td>Role-Playing</td>\n",
       "      <td>11.27</td>\n",
       "      <td>8.89</td>\n",
       "      <td>10.22</td>\n",
       "      <td>1.00</td>\n",
       "      <td>NaN</td>\n",
       "      <td>NaN</td>\n",
       "      <td>NaN</td>\n",
       "    </tr>\n",
       "    <tr>\n",
       "      <th>5</th>\n",
       "      <td>Tetris</td>\n",
       "      <td>GB</td>\n",
       "      <td>1989.0</td>\n",
       "      <td>Puzzle</td>\n",
       "      <td>23.20</td>\n",
       "      <td>2.26</td>\n",
       "      <td>4.22</td>\n",
       "      <td>0.58</td>\n",
       "      <td>NaN</td>\n",
       "      <td>NaN</td>\n",
       "      <td>NaN</td>\n",
       "    </tr>\n",
       "    <tr>\n",
       "      <th>6</th>\n",
       "      <td>New Super Mario Bros.</td>\n",
       "      <td>DS</td>\n",
       "      <td>2006.0</td>\n",
       "      <td>Platform</td>\n",
       "      <td>11.28</td>\n",
       "      <td>9.14</td>\n",
       "      <td>6.50</td>\n",
       "      <td>2.88</td>\n",
       "      <td>89.0</td>\n",
       "      <td>8.5</td>\n",
       "      <td>E</td>\n",
       "    </tr>\n",
       "    <tr>\n",
       "      <th>7</th>\n",
       "      <td>Wii Play</td>\n",
       "      <td>Wii</td>\n",
       "      <td>2006.0</td>\n",
       "      <td>Misc</td>\n",
       "      <td>13.96</td>\n",
       "      <td>9.18</td>\n",
       "      <td>2.93</td>\n",
       "      <td>2.84</td>\n",
       "      <td>58.0</td>\n",
       "      <td>6.6</td>\n",
       "      <td>E</td>\n",
       "    </tr>\n",
       "    <tr>\n",
       "      <th>8</th>\n",
       "      <td>New Super Mario Bros. Wii</td>\n",
       "      <td>Wii</td>\n",
       "      <td>2009.0</td>\n",
       "      <td>Platform</td>\n",
       "      <td>14.44</td>\n",
       "      <td>6.94</td>\n",
       "      <td>4.70</td>\n",
       "      <td>2.24</td>\n",
       "      <td>87.0</td>\n",
       "      <td>8.4</td>\n",
       "      <td>E</td>\n",
       "    </tr>\n",
       "    <tr>\n",
       "      <th>9</th>\n",
       "      <td>Duck Hunt</td>\n",
       "      <td>NES</td>\n",
       "      <td>1984.0</td>\n",
       "      <td>Shooter</td>\n",
       "      <td>26.93</td>\n",
       "      <td>0.63</td>\n",
       "      <td>0.28</td>\n",
       "      <td>0.47</td>\n",
       "      <td>NaN</td>\n",
       "      <td>NaN</td>\n",
       "      <td>NaN</td>\n",
       "    </tr>\n",
       "    <tr>\n",
       "      <th>10</th>\n",
       "      <td>Nintendogs</td>\n",
       "      <td>DS</td>\n",
       "      <td>2005.0</td>\n",
       "      <td>Simulation</td>\n",
       "      <td>9.05</td>\n",
       "      <td>10.95</td>\n",
       "      <td>1.93</td>\n",
       "      <td>2.74</td>\n",
       "      <td>NaN</td>\n",
       "      <td>NaN</td>\n",
       "      <td>NaN</td>\n",
       "    </tr>\n",
       "    <tr>\n",
       "      <th>11</th>\n",
       "      <td>Mario Kart DS</td>\n",
       "      <td>DS</td>\n",
       "      <td>2005.0</td>\n",
       "      <td>Racing</td>\n",
       "      <td>9.71</td>\n",
       "      <td>7.47</td>\n",
       "      <td>4.13</td>\n",
       "      <td>1.90</td>\n",
       "      <td>91.0</td>\n",
       "      <td>8.6</td>\n",
       "      <td>E</td>\n",
       "    </tr>\n",
       "    <tr>\n",
       "      <th>12</th>\n",
       "      <td>Pokemon Gold/Pokemon Silver</td>\n",
       "      <td>GB</td>\n",
       "      <td>1999.0</td>\n",
       "      <td>Role-Playing</td>\n",
       "      <td>9.00</td>\n",
       "      <td>6.18</td>\n",
       "      <td>7.20</td>\n",
       "      <td>0.71</td>\n",
       "      <td>NaN</td>\n",
       "      <td>NaN</td>\n",
       "      <td>NaN</td>\n",
       "    </tr>\n",
       "    <tr>\n",
       "      <th>13</th>\n",
       "      <td>Wii Fit</td>\n",
       "      <td>Wii</td>\n",
       "      <td>2007.0</td>\n",
       "      <td>Sports</td>\n",
       "      <td>8.92</td>\n",
       "      <td>8.03</td>\n",
       "      <td>3.60</td>\n",
       "      <td>2.15</td>\n",
       "      <td>80.0</td>\n",
       "      <td>7.7</td>\n",
       "      <td>E</td>\n",
       "    </tr>\n",
       "    <tr>\n",
       "      <th>14</th>\n",
       "      <td>Kinect Adventures!</td>\n",
       "      <td>X360</td>\n",
       "      <td>2010.0</td>\n",
       "      <td>Misc</td>\n",
       "      <td>15.00</td>\n",
       "      <td>4.89</td>\n",
       "      <td>0.24</td>\n",
       "      <td>1.69</td>\n",
       "      <td>61.0</td>\n",
       "      <td>6.3</td>\n",
       "      <td>E</td>\n",
       "    </tr>\n",
       "  </tbody>\n",
       "</table>\n",
       "</div>"
      ],
      "text/plain": [
       "                           Name Platform  Year_of_Release         Genre  \\\n",
       "0                    Wii Sports      Wii           2006.0        Sports   \n",
       "1             Super Mario Bros.      NES           1985.0      Platform   \n",
       "2                Mario Kart Wii      Wii           2008.0        Racing   \n",
       "3             Wii Sports Resort      Wii           2009.0        Sports   \n",
       "4      Pokemon Red/Pokemon Blue       GB           1996.0  Role-Playing   \n",
       "5                        Tetris       GB           1989.0        Puzzle   \n",
       "6         New Super Mario Bros.       DS           2006.0      Platform   \n",
       "7                      Wii Play      Wii           2006.0          Misc   \n",
       "8     New Super Mario Bros. Wii      Wii           2009.0      Platform   \n",
       "9                     Duck Hunt      NES           1984.0       Shooter   \n",
       "10                   Nintendogs       DS           2005.0    Simulation   \n",
       "11                Mario Kart DS       DS           2005.0        Racing   \n",
       "12  Pokemon Gold/Pokemon Silver       GB           1999.0  Role-Playing   \n",
       "13                      Wii Fit      Wii           2007.0        Sports   \n",
       "14           Kinect Adventures!     X360           2010.0          Misc   \n",
       "\n",
       "    NA_sales  EU_sales  JP_sales  Other_sales  Critic_Score User_Score Rating  \n",
       "0      41.36     28.96      3.77         8.45          76.0          8      E  \n",
       "1      29.08      3.58      6.81         0.77           NaN        NaN    NaN  \n",
       "2      15.68     12.76      3.79         3.29          82.0        8.3      E  \n",
       "3      15.61     10.93      3.28         2.95          80.0          8      E  \n",
       "4      11.27      8.89     10.22         1.00           NaN        NaN    NaN  \n",
       "5      23.20      2.26      4.22         0.58           NaN        NaN    NaN  \n",
       "6      11.28      9.14      6.50         2.88          89.0        8.5      E  \n",
       "7      13.96      9.18      2.93         2.84          58.0        6.6      E  \n",
       "8      14.44      6.94      4.70         2.24          87.0        8.4      E  \n",
       "9      26.93      0.63      0.28         0.47           NaN        NaN    NaN  \n",
       "10      9.05     10.95      1.93         2.74           NaN        NaN    NaN  \n",
       "11      9.71      7.47      4.13         1.90          91.0        8.6      E  \n",
       "12      9.00      6.18      7.20         0.71           NaN        NaN    NaN  \n",
       "13      8.92      8.03      3.60         2.15          80.0        7.7      E  \n",
       "14     15.00      4.89      0.24         1.69          61.0        6.3      E  "
      ]
     },
     "metadata": {},
     "output_type": "display_data"
    },
    {
     "name": "stdout",
     "output_type": "stream",
     "text": [
      "<class 'pandas.core.frame.DataFrame'>\n",
      "RangeIndex: 16715 entries, 0 to 16714\n",
      "Data columns (total 11 columns):\n",
      " #   Column           Non-Null Count  Dtype  \n",
      "---  ------           --------------  -----  \n",
      " 0   Name             16713 non-null  object \n",
      " 1   Platform         16715 non-null  object \n",
      " 2   Year_of_Release  16446 non-null  float64\n",
      " 3   Genre            16713 non-null  object \n",
      " 4   NA_sales         16715 non-null  float64\n",
      " 5   EU_sales         16715 non-null  float64\n",
      " 6   JP_sales         16715 non-null  float64\n",
      " 7   Other_sales      16715 non-null  float64\n",
      " 8   Critic_Score     8137 non-null   float64\n",
      " 9   User_Score       10014 non-null  object \n",
      " 10  Rating           9949 non-null   object \n",
      "dtypes: float64(6), object(5)\n",
      "memory usage: 1.4+ MB\n"
     ]
    }
   ],
   "source": [
    "display(data.head(15))\n",
    "data.info()"
   ]
  },
  {
   "cell_type": "markdown",
   "metadata": {},
   "source": [
    "В таблице 11 столбцов с двумя типами данных: `float`, `object`. Названия столбцов не соответствуют хорошему стилю (содержат заглавные буквы).\n",
    "\n",
    "Согласно документации к данным:\n",
    "* `Name` — название игры;           \n",
    "* `Platform` — платформа;  \n",
    "* `Year_of_Release` — год выпуска;\n",
    "* `Genre` — жанр игры;\n",
    "* `NA_sales` — продажи в Северной Америке (миллионы проданных копий);\n",
    "* `EU_sales` — продажи в Европе (миллионы проданных копий);\n",
    "* `JP_sales` — продажи в Японии (миллионы проданных копий);\n",
    "* `Other_sales` — продажи в других странах (миллионы проданных копий);\n",
    "* `Critic_Score` — оценка критиков (максимум 100);\n",
    "* `User_Score` — оценка пользователей (максимум 10);\n",
    "* `Rating` — рейтинг от организации ESRB (англ. Entertainment Software Rating Board). Эта ассоциация определяет рейтинг компьютерных игр и присваивает им подходящую возрастную категорию.\n",
    "\n",
    "Количество значений в столбцах различается. Значит в данных есть пропущенные значения."
   ]
  },
  {
   "cell_type": "code",
   "execution_count": 4,
   "metadata": {},
   "outputs": [
    {
     "data": {
      "text/plain": [
       "Name                  2\n",
       "Platform              0\n",
       "Year_of_Release     269\n",
       "Genre                 2\n",
       "NA_sales              0\n",
       "EU_sales              0\n",
       "JP_sales              0\n",
       "Other_sales           0\n",
       "Critic_Score       8578\n",
       "User_Score         6701\n",
       "Rating             6766\n",
       "dtype: int64"
      ]
     },
     "execution_count": 4,
     "metadata": {},
     "output_type": "execute_result"
    }
   ],
   "source": [
    " data.isna().sum() # оценим количество пропусков с помощью комбинации методов"
   ]
  },
  {
   "cell_type": "code",
   "execution_count": 5,
   "metadata": {},
   "outputs": [
    {
     "data": {
      "text/html": [
       "<div>\n",
       "<style scoped>\n",
       "    .dataframe tbody tr th:only-of-type {\n",
       "        vertical-align: middle;\n",
       "    }\n",
       "\n",
       "    .dataframe tbody tr th {\n",
       "        vertical-align: top;\n",
       "    }\n",
       "\n",
       "    .dataframe thead th {\n",
       "        text-align: right;\n",
       "    }\n",
       "</style>\n",
       "<table border=\"1\" class=\"dataframe\">\n",
       "  <thead>\n",
       "    <tr style=\"text-align: right;\">\n",
       "      <th></th>\n",
       "      <th>Year_of_Release</th>\n",
       "      <th>NA_sales</th>\n",
       "      <th>EU_sales</th>\n",
       "      <th>JP_sales</th>\n",
       "      <th>Other_sales</th>\n",
       "      <th>Critic_Score</th>\n",
       "    </tr>\n",
       "  </thead>\n",
       "  <tbody>\n",
       "    <tr>\n",
       "      <th>count</th>\n",
       "      <td>16446.000000</td>\n",
       "      <td>16715.000000</td>\n",
       "      <td>16715.000000</td>\n",
       "      <td>16715.000000</td>\n",
       "      <td>16715.000000</td>\n",
       "      <td>8137.000000</td>\n",
       "    </tr>\n",
       "    <tr>\n",
       "      <th>mean</th>\n",
       "      <td>2006.484616</td>\n",
       "      <td>0.263377</td>\n",
       "      <td>0.145060</td>\n",
       "      <td>0.077617</td>\n",
       "      <td>0.047342</td>\n",
       "      <td>68.967679</td>\n",
       "    </tr>\n",
       "    <tr>\n",
       "      <th>std</th>\n",
       "      <td>5.877050</td>\n",
       "      <td>0.813604</td>\n",
       "      <td>0.503339</td>\n",
       "      <td>0.308853</td>\n",
       "      <td>0.186731</td>\n",
       "      <td>13.938165</td>\n",
       "    </tr>\n",
       "    <tr>\n",
       "      <th>min</th>\n",
       "      <td>1980.000000</td>\n",
       "      <td>0.000000</td>\n",
       "      <td>0.000000</td>\n",
       "      <td>0.000000</td>\n",
       "      <td>0.000000</td>\n",
       "      <td>13.000000</td>\n",
       "    </tr>\n",
       "    <tr>\n",
       "      <th>25%</th>\n",
       "      <td>2003.000000</td>\n",
       "      <td>0.000000</td>\n",
       "      <td>0.000000</td>\n",
       "      <td>0.000000</td>\n",
       "      <td>0.000000</td>\n",
       "      <td>60.000000</td>\n",
       "    </tr>\n",
       "    <tr>\n",
       "      <th>50%</th>\n",
       "      <td>2007.000000</td>\n",
       "      <td>0.080000</td>\n",
       "      <td>0.020000</td>\n",
       "      <td>0.000000</td>\n",
       "      <td>0.010000</td>\n",
       "      <td>71.000000</td>\n",
       "    </tr>\n",
       "    <tr>\n",
       "      <th>75%</th>\n",
       "      <td>2010.000000</td>\n",
       "      <td>0.240000</td>\n",
       "      <td>0.110000</td>\n",
       "      <td>0.040000</td>\n",
       "      <td>0.030000</td>\n",
       "      <td>79.000000</td>\n",
       "    </tr>\n",
       "    <tr>\n",
       "      <th>max</th>\n",
       "      <td>2016.000000</td>\n",
       "      <td>41.360000</td>\n",
       "      <td>28.960000</td>\n",
       "      <td>10.220000</td>\n",
       "      <td>10.570000</td>\n",
       "      <td>98.000000</td>\n",
       "    </tr>\n",
       "  </tbody>\n",
       "</table>\n",
       "</div>"
      ],
      "text/plain": [
       "       Year_of_Release      NA_sales      EU_sales      JP_sales  \\\n",
       "count     16446.000000  16715.000000  16715.000000  16715.000000   \n",
       "mean       2006.484616      0.263377      0.145060      0.077617   \n",
       "std           5.877050      0.813604      0.503339      0.308853   \n",
       "min        1980.000000      0.000000      0.000000      0.000000   \n",
       "25%        2003.000000      0.000000      0.000000      0.000000   \n",
       "50%        2007.000000      0.080000      0.020000      0.000000   \n",
       "75%        2010.000000      0.240000      0.110000      0.040000   \n",
       "max        2016.000000     41.360000     28.960000     10.220000   \n",
       "\n",
       "        Other_sales  Critic_Score  \n",
       "count  16715.000000   8137.000000  \n",
       "mean       0.047342     68.967679  \n",
       "std        0.186731     13.938165  \n",
       "min        0.000000     13.000000  \n",
       "25%        0.000000     60.000000  \n",
       "50%        0.010000     71.000000  \n",
       "75%        0.030000     79.000000  \n",
       "max       10.570000     98.000000  "
      ]
     },
     "execution_count": 5,
     "metadata": {},
     "output_type": "execute_result"
    }
   ],
   "source": [
    "data.describe()"
   ]
  },
  {
   "cell_type": "code",
   "execution_count": 6,
   "metadata": {},
   "outputs": [
    {
     "data": {
      "text/plain": [
       "array([[<Axes: title={'center': 'Year_of_Release'}>,\n",
       "        <Axes: title={'center': 'NA_sales'}>],\n",
       "       [<Axes: title={'center': 'EU_sales'}>,\n",
       "        <Axes: title={'center': 'JP_sales'}>],\n",
       "       [<Axes: title={'center': 'Other_sales'}>,\n",
       "        <Axes: title={'center': 'Critic_Score'}>]], dtype=object)"
      ]
     },
     "execution_count": 6,
     "metadata": {},
     "output_type": "execute_result"
    },
    {
     "data": {
      "image/png": "[encoded data removed]",
      "text/plain": [
       "<Figure size 1200x1000 with 6 Axes>"
      ]
     },
     "metadata": {},
     "output_type": "display_data"
    }
   ],
   "source": [
    "data.hist(figsize=(12, 10))"
   ]
  },
  {
   "cell_type": "markdown",
   "metadata": {},
   "source": [
    "По гистаграммам и информации, полученной с помощью метода describe(), видно, что год выпуска игр варьируется от 1980 до 2016. При этом большинство игр выпускались в 2003-2009 г. Предварительно можно оценить, что основной рынок продаж - в Северной Америке, затем - в Европе. \n",
    "\n",
    "**Выводы**\n",
    "\n",
    "В каждой строке таблицы — данные о продажах компьютерной игры по разным регионам, а также её рейтинг, как пользователей, так критиков. Предварительно можно утверждать, что данных достаточно для изучения закономерностей, определяющих успешность игры. Но при первой оценке видно, что встречаются пропуски в данных, не соответствующий тип данных. \n",
    "\n",
    "Поэтому важно будет устранить проблемы в данных."
   ]
  },
  {
   "cell_type": "markdown",
   "metadata": {},
   "source": [
    "### Предобработка данных"
   ]
  },
  {
   "cell_type": "markdown",
   "metadata": {},
   "source": [
    "#### Замена названий столбцов"
   ]
  },
  {
   "cell_type": "code",
   "execution_count": 7,
   "metadata": {},
   "outputs": [
    {
     "data": {
      "text/plain": [
       "Index(['name', 'platform', 'year_of_release', 'genre', 'na_sales', 'eu_sales',\n",
       "       'jp_sales', 'other_sales', 'critic_score', 'user_score', 'rating'],\n",
       "      dtype='object')"
      ]
     },
     "execution_count": 7,
     "metadata": {},
     "output_type": "execute_result"
    }
   ],
   "source": [
    "# Переводим названия столбцов к нижнему регистру и проверяем результат\n",
    "data.columns = data.columns.str.lower()\n",
    "data.columns"
   ]
  },
  {
   "cell_type": "markdown",
   "metadata": {},
   "source": [
    "#### Обработка пропусков, дубликатов, выбросов"
   ]
  },
  {
   "cell_type": "markdown",
   "metadata": {},
   "source": [
    "Удаляем строки, в которых не указаны название игры и/или год выпуска в связи с несущественным количеством (2 и 269 строк). Хотя при большой необходимости год выпуска игры можно было бы найти в интернете и заполнить вручную. Для нашего исследования этого делать не будем."
   ]
  },
  {
   "cell_type": "code",
   "execution_count": 8,
   "metadata": {},
   "outputs": [],
   "source": [
    "# Удалим строки, где не указано название игры\n",
    "data = data.dropna(subset=['name'])\n",
    "# Удалим строки, где не указан год выпуска\n",
    "data = data.dropna(subset=['year_of_release'])\n",
    "data = data.reset_index(drop=True)"
   ]
  },
  {
   "cell_type": "code",
   "execution_count": 9,
   "metadata": {},
   "outputs": [
    {
     "data": {
      "text/plain": [
       "0"
      ]
     },
     "execution_count": 9,
     "metadata": {},
     "output_type": "execute_result"
    }
   ],
   "source": [
    "# Оценим количество явных дубликатов\n",
    "data.duplicated().sum() "
   ]
  },
  {
   "cell_type": "code",
   "execution_count": 10,
   "metadata": {},
   "outputs": [
    {
     "data": {
      "text/plain": [
       "array(['Action', 'Adventure', 'Fighting', 'Misc', 'Platform', 'Puzzle',\n",
       "       'Racing', 'Role-Playing', 'Shooter', 'Simulation', 'Sports',\n",
       "       'Strategy'], dtype=object)"
      ]
     },
     "execution_count": 10,
     "metadata": {},
     "output_type": "execute_result"
    }
   ],
   "source": [
    " # Рассмотрим подробнее, какие данные представлены в данном столбце\n",
    "data['genre'].sort_values().unique()"
   ]
  },
  {
   "cell_type": "code",
   "execution_count": 11,
   "metadata": {},
   "outputs": [
    {
     "data": {
      "text/plain": [
       "array(['2600', '3DO', '3DS', 'DC', 'DS', 'GB', 'GBA', 'GC', 'GEN', 'GG',\n",
       "       'N64', 'NES', 'NG', 'PC', 'PCFX', 'PS', 'PS2', 'PS3', 'PS4', 'PSP',\n",
       "       'PSV', 'SAT', 'SCD', 'SNES', 'TG16', 'WS', 'Wii', 'WiiU', 'X360',\n",
       "       'XB', 'XOne'], dtype=object)"
      ]
     },
     "execution_count": 11,
     "metadata": {},
     "output_type": "execute_result"
    }
   ],
   "source": [
    " # Рассмотрим подробнее, какие данные представлены в данном столбце\n",
    "data['platform'].sort_values().unique()"
   ]
  },
  {
   "cell_type": "code",
   "execution_count": 12,
   "metadata": {},
   "outputs": [
    {
     "data": {
      "text/plain": [
       "array(['Sports', 'Wii', 'Platform', 'NES', 'Racing', 'Role-Playing', 'GB',\n",
       "       'Puzzle', 'DS', 'Misc', 'Shooter', 'Simulation', 'X360', 'Action',\n",
       "       'PS3', 'PS2', 'SNES', 'GBA', 'PS4', '3DS', 'Fighting', 'N64',\n",
       "       'Adventure', 'PS', 'XB', 'PC', '2600', 'PSP', 'XOne', 'WiiU', 'GC',\n",
       "       'GEN', 'Strategy', 'DC', 'PSV', 'SAT', 'SCD', 'WS', 'NG', 'TG16',\n",
       "       '3DO', 'GG', 'PCFX'], dtype=object)"
      ]
     },
     "execution_count": 12,
     "metadata": {},
     "output_type": "execute_result"
    }
   ],
   "source": [
    "pd.unique(data[['genre', 'platform']].values.ravel())"
   ]
  },
  {
   "cell_type": "markdown",
   "metadata": {},
   "source": [
    "В столбцах `genre` и `platform` с данным все впорядке."
   ]
  },
  {
   "cell_type": "code",
   "execution_count": 13,
   "metadata": {
    "scrolled": true
   },
   "outputs": [
    {
     "data": {
      "text/plain": [
       "array([13., 17., 19., 20., 21., 23., 24., 25., 26., 27., 28., 29., 30.,\n",
       "       31., 32., 33., 34., 35., 36., 37., 38., 39., 40., 41., 42., 43.,\n",
       "       44., 45., 46., 47., 48., 49., 50., 51., 52., 53., 54., 55., 56.,\n",
       "       57., 58., 59., 60., 61., 62., 63., 64., 65., 66., 67., 68., 69.,\n",
       "       70., 71., 72., 73., 74., 75., 76., 77., 78., 79., 80., 81., 82.,\n",
       "       83., 84., 85., 86., 87., 88., 89., 90., 91., 92., 93., 94., 95.,\n",
       "       96., 97., 98., nan])"
      ]
     },
     "execution_count": 13,
     "metadata": {},
     "output_type": "execute_result"
    }
   ],
   "source": [
    "# В данном столбце много пропусков. Рассмотрим подробнее, какие данные в нем представлены\n",
    "data['critic_score'].sort_values().unique()"
   ]
  },
  {
   "cell_type": "markdown",
   "metadata": {},
   "source": [
    "Оценка критиков находится в пределах от 13.0 до 98.0. Подобрать адекватные значений для пропущенных 8578 ячеек невозможно. Но если оставить пропуски, то они могут нам помешать в дальнейшем анализе, так как некоторые методы плохо работают с пропущенными значениями. Поэтому заполним пропуски специальным маркером (например, значением 1000). Мы будем знать, что такого рейтинга быть не может и сможем отфильтровать эти значения при необходимости."
   ]
  },
  {
   "cell_type": "code",
   "execution_count": 14,
   "metadata": {},
   "outputs": [],
   "source": [
    "data['critic_score'] = data['critic_score'].fillna(1000)"
   ]
  },
  {
   "cell_type": "code",
   "execution_count": 15,
   "metadata": {},
   "outputs": [
    {
     "data": {
      "text/plain": [
       "array(['0', '0.2', '0.3', '0.5', '0.6', '0.7', '0.9', '1', '1.1', '1.2',\n",
       "       '1.3', '1.4', '1.5', '1.6', '1.7', '1.8', '1.9', '2', '2.1', '2.2',\n",
       "       '2.3', '2.4', '2.5', '2.6', '2.7', '2.8', '2.9', '3', '3.1', '3.2',\n",
       "       '3.3', '3.4', '3.5', '3.6', '3.7', '3.8', '3.9', '4', '4.1', '4.2',\n",
       "       '4.3', '4.4', '4.5', '4.6', '4.7', '4.8', '4.9', '5', '5.1', '5.2',\n",
       "       '5.3', '5.4', '5.5', '5.6', '5.7', '5.8', '5.9', '6', '6.1', '6.2',\n",
       "       '6.3', '6.4', '6.5', '6.6', '6.7', '6.8', '6.9', '7', '7.1', '7.2',\n",
       "       '7.3', '7.4', '7.5', '7.6', '7.7', '7.8', '7.9', '8', '8.1', '8.2',\n",
       "       '8.3', '8.4', '8.5', '8.6', '8.7', '8.8', '8.9', '9', '9.1', '9.2',\n",
       "       '9.3', '9.4', '9.5', '9.6', '9.7', 'tbd', nan], dtype=object)"
      ]
     },
     "execution_count": 15,
     "metadata": {},
     "output_type": "execute_result"
    }
   ],
   "source": [
    "# В данном столбце много пропусков. Рассмотрим подробнее, какие данные в нем представлены\n",
    "data['user_score'].sort_values().unique()"
   ]
  },
  {
   "cell_type": "markdown",
   "metadata": {},
   "source": [
    "Подход к оценке пользователей аналогичен подходу к оценке критиков. Но еще обращаем внимание на aббревиатуру 'tbd' ('to be determined'). Это обозначение говорит о том, что на момент формирования базы данных рейтинг не был определен. Для нас это обозначает тоже самое, что и nan. Поэтому заменим 'tbd' и nan на '1000' (имеем ввиду, что тип данных этого столбца - object). А на следующем этапе данный столбец переведем в тип float."
   ]
  },
  {
   "cell_type": "code",
   "execution_count": 16,
   "metadata": {},
   "outputs": [],
   "source": [
    "data.loc[data['user_score'] == 'tbd', 'user_score'] = '1000'\n",
    "data['user_score'] = data['user_score'].fillna('1000')"
   ]
  },
  {
   "cell_type": "code",
   "execution_count": 17,
   "metadata": {},
   "outputs": [
    {
     "data": {
      "text/plain": [
       "array(['E', nan, 'M', 'T', 'E10+', 'K-A', 'AO', 'EC', 'RP'], dtype=object)"
      ]
     },
     "execution_count": 17,
     "metadata": {},
     "output_type": "execute_result"
    }
   ],
   "source": [
    "# В данном столбце много пропусков. Рассмотрим подробнее, какие данные в нем представлены\n",
    "data['rating'].unique()"
   ]
  },
  {
   "cell_type": "markdown",
   "metadata": {},
   "source": [
    "Рейтинг определен в соответствии с требованиями ESRB (Entertainment Software Rating Board), ассоциацией, определяющей возрастной рейтинг компьютерных игр.\n",
    "\n",
    "**Действующие обозначения:**\n",
    "- 'EC' - 4+\n",
    "- 'E' - 6+\n",
    "- 'E10+' - 10+\n",
    "- 'T' - 13+\n",
    "- 'M' - 17+\n",
    "- 'AO' - 18+\n",
    "- 'RP' - не присвоена\n",
    "\n",
    "**Устаревшее обозначение:**\n",
    "- 'K-A' - 6+\n",
    "\n",
    "Будет логичным заменить устаревшее обозначение ('K-A') на соответствующее действующее ('E')."
   ]
  },
  {
   "cell_type": "code",
   "execution_count": 18,
   "metadata": {},
   "outputs": [],
   "source": [
    "data.loc[data['rating'] == 'K-A', 'rating'] = 'E'"
   ]
  },
  {
   "cell_type": "code",
   "execution_count": 19,
   "metadata": {
    "scrolled": false
   },
   "outputs": [
    {
     "data": {
      "text/html": [
       "<div>\n",
       "<style scoped>\n",
       "    .dataframe tbody tr th:only-of-type {\n",
       "        vertical-align: middle;\n",
       "    }\n",
       "\n",
       "    .dataframe tbody tr th {\n",
       "        vertical-align: top;\n",
       "    }\n",
       "\n",
       "    .dataframe thead th {\n",
       "        text-align: right;\n",
       "    }\n",
       "</style>\n",
       "<table border=\"1\" class=\"dataframe\">\n",
       "  <thead>\n",
       "    <tr style=\"text-align: right;\">\n",
       "      <th></th>\n",
       "      <th>name</th>\n",
       "      <th>platform</th>\n",
       "      <th>year_of_release</th>\n",
       "      <th>genre</th>\n",
       "      <th>na_sales</th>\n",
       "      <th>eu_sales</th>\n",
       "      <th>jp_sales</th>\n",
       "      <th>other_sales</th>\n",
       "      <th>critic_score</th>\n",
       "      <th>user_score</th>\n",
       "      <th>rating</th>\n",
       "    </tr>\n",
       "  </thead>\n",
       "  <tbody>\n",
       "    <tr>\n",
       "      <th>1</th>\n",
       "      <td>Super Mario Bros.</td>\n",
       "      <td>NES</td>\n",
       "      <td>1985.0</td>\n",
       "      <td>Platform</td>\n",
       "      <td>29.08</td>\n",
       "      <td>3.58</td>\n",
       "      <td>6.81</td>\n",
       "      <td>0.77</td>\n",
       "      <td>1000.0</td>\n",
       "      <td>1000</td>\n",
       "      <td>NaN</td>\n",
       "    </tr>\n",
       "    <tr>\n",
       "      <th>4</th>\n",
       "      <td>Pokemon Red/Pokemon Blue</td>\n",
       "      <td>GB</td>\n",
       "      <td>1996.0</td>\n",
       "      <td>Role-Playing</td>\n",
       "      <td>11.27</td>\n",
       "      <td>8.89</td>\n",
       "      <td>10.22</td>\n",
       "      <td>1.00</td>\n",
       "      <td>1000.0</td>\n",
       "      <td>1000</td>\n",
       "      <td>NaN</td>\n",
       "    </tr>\n",
       "    <tr>\n",
       "      <th>5</th>\n",
       "      <td>Tetris</td>\n",
       "      <td>GB</td>\n",
       "      <td>1989.0</td>\n",
       "      <td>Puzzle</td>\n",
       "      <td>23.20</td>\n",
       "      <td>2.26</td>\n",
       "      <td>4.22</td>\n",
       "      <td>0.58</td>\n",
       "      <td>1000.0</td>\n",
       "      <td>1000</td>\n",
       "      <td>NaN</td>\n",
       "    </tr>\n",
       "    <tr>\n",
       "      <th>9</th>\n",
       "      <td>Duck Hunt</td>\n",
       "      <td>NES</td>\n",
       "      <td>1984.0</td>\n",
       "      <td>Shooter</td>\n",
       "      <td>26.93</td>\n",
       "      <td>0.63</td>\n",
       "      <td>0.28</td>\n",
       "      <td>0.47</td>\n",
       "      <td>1000.0</td>\n",
       "      <td>1000</td>\n",
       "      <td>NaN</td>\n",
       "    </tr>\n",
       "    <tr>\n",
       "      <th>10</th>\n",
       "      <td>Nintendogs</td>\n",
       "      <td>DS</td>\n",
       "      <td>2005.0</td>\n",
       "      <td>Simulation</td>\n",
       "      <td>9.05</td>\n",
       "      <td>10.95</td>\n",
       "      <td>1.93</td>\n",
       "      <td>2.74</td>\n",
       "      <td>1000.0</td>\n",
       "      <td>1000</td>\n",
       "      <td>NaN</td>\n",
       "    </tr>\n",
       "    <tr>\n",
       "      <th>...</th>\n",
       "      <td>...</td>\n",
       "      <td>...</td>\n",
       "      <td>...</td>\n",
       "      <td>...</td>\n",
       "      <td>...</td>\n",
       "      <td>...</td>\n",
       "      <td>...</td>\n",
       "      <td>...</td>\n",
       "      <td>...</td>\n",
       "      <td>...</td>\n",
       "      <td>...</td>\n",
       "    </tr>\n",
       "    <tr>\n",
       "      <th>16439</th>\n",
       "      <td>Samurai Warriors: Sanada Maru</td>\n",
       "      <td>PS3</td>\n",
       "      <td>2016.0</td>\n",
       "      <td>Action</td>\n",
       "      <td>0.00</td>\n",
       "      <td>0.00</td>\n",
       "      <td>0.01</td>\n",
       "      <td>0.00</td>\n",
       "      <td>1000.0</td>\n",
       "      <td>1000</td>\n",
       "      <td>NaN</td>\n",
       "    </tr>\n",
       "    <tr>\n",
       "      <th>16440</th>\n",
       "      <td>LMA Manager 2007</td>\n",
       "      <td>X360</td>\n",
       "      <td>2006.0</td>\n",
       "      <td>Sports</td>\n",
       "      <td>0.00</td>\n",
       "      <td>0.01</td>\n",
       "      <td>0.00</td>\n",
       "      <td>0.00</td>\n",
       "      <td>1000.0</td>\n",
       "      <td>1000</td>\n",
       "      <td>NaN</td>\n",
       "    </tr>\n",
       "    <tr>\n",
       "      <th>16441</th>\n",
       "      <td>Haitaka no Psychedelica</td>\n",
       "      <td>PSV</td>\n",
       "      <td>2016.0</td>\n",
       "      <td>Adventure</td>\n",
       "      <td>0.00</td>\n",
       "      <td>0.00</td>\n",
       "      <td>0.01</td>\n",
       "      <td>0.00</td>\n",
       "      <td>1000.0</td>\n",
       "      <td>1000</td>\n",
       "      <td>NaN</td>\n",
       "    </tr>\n",
       "    <tr>\n",
       "      <th>16442</th>\n",
       "      <td>Spirits &amp; Spells</td>\n",
       "      <td>GBA</td>\n",
       "      <td>2003.0</td>\n",
       "      <td>Platform</td>\n",
       "      <td>0.01</td>\n",
       "      <td>0.00</td>\n",
       "      <td>0.00</td>\n",
       "      <td>0.00</td>\n",
       "      <td>1000.0</td>\n",
       "      <td>1000</td>\n",
       "      <td>NaN</td>\n",
       "    </tr>\n",
       "    <tr>\n",
       "      <th>16443</th>\n",
       "      <td>Winning Post 8 2016</td>\n",
       "      <td>PSV</td>\n",
       "      <td>2016.0</td>\n",
       "      <td>Simulation</td>\n",
       "      <td>0.00</td>\n",
       "      <td>0.00</td>\n",
       "      <td>0.01</td>\n",
       "      <td>0.00</td>\n",
       "      <td>1000.0</td>\n",
       "      <td>1000</td>\n",
       "      <td>NaN</td>\n",
       "    </tr>\n",
       "  </tbody>\n",
       "</table>\n",
       "<p>6676 rows × 11 columns</p>\n",
       "</div>"
      ],
      "text/plain": [
       "                                name platform  year_of_release         genre  \\\n",
       "1                  Super Mario Bros.      NES           1985.0      Platform   \n",
       "4           Pokemon Red/Pokemon Blue       GB           1996.0  Role-Playing   \n",
       "5                             Tetris       GB           1989.0        Puzzle   \n",
       "9                          Duck Hunt      NES           1984.0       Shooter   \n",
       "10                        Nintendogs       DS           2005.0    Simulation   \n",
       "...                              ...      ...              ...           ...   \n",
       "16439  Samurai Warriors: Sanada Maru      PS3           2016.0        Action   \n",
       "16440               LMA Manager 2007     X360           2006.0        Sports   \n",
       "16441        Haitaka no Psychedelica      PSV           2016.0     Adventure   \n",
       "16442               Spirits & Spells      GBA           2003.0      Platform   \n",
       "16443            Winning Post 8 2016      PSV           2016.0    Simulation   \n",
       "\n",
       "       na_sales  eu_sales  jp_sales  other_sales  critic_score user_score  \\\n",
       "1         29.08      3.58      6.81         0.77        1000.0       1000   \n",
       "4         11.27      8.89     10.22         1.00        1000.0       1000   \n",
       "5         23.20      2.26      4.22         0.58        1000.0       1000   \n",
       "9         26.93      0.63      0.28         0.47        1000.0       1000   \n",
       "10         9.05     10.95      1.93         2.74        1000.0       1000   \n",
       "...         ...       ...       ...          ...           ...        ...   \n",
       "16439      0.00      0.00      0.01         0.00        1000.0       1000   \n",
       "16440      0.00      0.01      0.00         0.00        1000.0       1000   \n",
       "16441      0.00      0.00      0.01         0.00        1000.0       1000   \n",
       "16442      0.01      0.00      0.00         0.00        1000.0       1000   \n",
       "16443      0.00      0.00      0.01         0.00        1000.0       1000   \n",
       "\n",
       "      rating  \n",
       "1        NaN  \n",
       "4        NaN  \n",
       "5        NaN  \n",
       "9        NaN  \n",
       "10       NaN  \n",
       "...      ...  \n",
       "16439    NaN  \n",
       "16440    NaN  \n",
       "16441    NaN  \n",
       "16442    NaN  \n",
       "16443    NaN  \n",
       "\n",
       "[6676 rows x 11 columns]"
      ]
     },
     "execution_count": 19,
     "metadata": {},
     "output_type": "execute_result"
    }
   ],
   "source": [
    "# Рассмотрим подробнее строки с пропусками в данном столбце\n",
    "data[data['rating'].isna()]"
   ]
  },
  {
   "cell_type": "markdown",
   "metadata": {},
   "source": [
    "Что касается пропущенных рейтингов, можно было бы предположить, что в ранние годы (а данные с 1980 г) рейтинги могли еще не рассчитываться. Но уже по небольшой выгрузке видно, что рейтинг не указан и в строках игр, которые появились после 2000гг. Подобрать подходящие значения для пропущенных значений рейтинга невозможно, поэтому заменим эти значения на 'no_data'."
   ]
  },
  {
   "cell_type": "code",
   "execution_count": 20,
   "metadata": {},
   "outputs": [],
   "source": [
    "data['rating'] = data['rating'].fillna('no_data')"
   ]
  },
  {
   "cell_type": "code",
   "execution_count": 21,
   "metadata": {
    "scrolled": false
   },
   "outputs": [
    {
     "data": {
      "text/plain": [
       "name               0\n",
       "platform           0\n",
       "year_of_release    0\n",
       "genre              0\n",
       "na_sales           0\n",
       "eu_sales           0\n",
       "jp_sales           0\n",
       "other_sales        0\n",
       "critic_score       0\n",
       "user_score         0\n",
       "rating             0\n",
       "dtype: int64"
      ]
     },
     "execution_count": 21,
     "metadata": {},
     "output_type": "execute_result"
    }
   ],
   "source": [
    "# Убедимся, что мы обработали все пропуски\n",
    "data.isna().sum()"
   ]
  },
  {
   "cell_type": "markdown",
   "metadata": {},
   "source": [
    "#### Типы данных"
   ]
  },
  {
   "cell_type": "markdown",
   "metadata": {},
   "source": [
    "Чтобы работать с данными, необходимо привести их к соответствующему типу. Так, год выпуска может иметь только целочисленные значения. А оценку пользователей можем перевести в тип float из типа object ('tbd' мы из столбца убрали). "
   ]
  },
  {
   "cell_type": "code",
   "execution_count": 22,
   "metadata": {},
   "outputs": [],
   "source": [
    "# Сделаем целочисленным столбец с годом выпуска\n",
    "data['year_of_release'] = data['year_of_release'].astype(int)\n",
    "\n",
    "# Исправим тип данных с object на float\n",
    "data['user_score'] = data['user_score'].astype(float)"
   ]
  },
  {
   "cell_type": "code",
   "execution_count": 23,
   "metadata": {},
   "outputs": [
    {
     "name": "stdout",
     "output_type": "stream",
     "text": [
      "<class 'pandas.core.frame.DataFrame'>\n",
      "RangeIndex: 16444 entries, 0 to 16443\n",
      "Data columns (total 11 columns):\n",
      " #   Column           Non-Null Count  Dtype  \n",
      "---  ------           --------------  -----  \n",
      " 0   name             16444 non-null  object \n",
      " 1   platform         16444 non-null  object \n",
      " 2   year_of_release  16444 non-null  int32  \n",
      " 3   genre            16444 non-null  object \n",
      " 4   na_sales         16444 non-null  float64\n",
      " 5   eu_sales         16444 non-null  float64\n",
      " 6   jp_sales         16444 non-null  float64\n",
      " 7   other_sales      16444 non-null  float64\n",
      " 8   critic_score     16444 non-null  float64\n",
      " 9   user_score       16444 non-null  float64\n",
      " 10  rating           16444 non-null  object \n",
      "dtypes: float64(6), int32(1), object(4)\n",
      "memory usage: 1.3+ MB\n"
     ]
    }
   ],
   "source": [
    "# Проверяем результат\n",
    "data.info()"
   ]
  },
  {
   "cell_type": "markdown",
   "metadata": {},
   "source": [
    "#### Выбросы"
   ]
  },
  {
   "cell_type": "markdown",
   "metadata": {},
   "source": [
    "В последующей работе (исследовательский анализ данных) при построении погодовых продаж по платформе 'DS' был замечен выброс. Дело в том, что платформа 'DS' появилась в только 2004 году, но встретилось одно значение от 1980 г. "
   ]
  },
  {
   "cell_type": "code",
   "execution_count": 24,
   "metadata": {},
   "outputs": [
    {
     "data": {
      "text/html": [
       "<div>\n",
       "<style scoped>\n",
       "    .dataframe tbody tr th:only-of-type {\n",
       "        vertical-align: middle;\n",
       "    }\n",
       "\n",
       "    .dataframe tbody tr th {\n",
       "        vertical-align: top;\n",
       "    }\n",
       "\n",
       "    .dataframe thead th {\n",
       "        text-align: right;\n",
       "    }\n",
       "</style>\n",
       "<table border=\"1\" class=\"dataframe\">\n",
       "  <thead>\n",
       "    <tr style=\"text-align: right;\">\n",
       "      <th></th>\n",
       "      <th>name</th>\n",
       "      <th>platform</th>\n",
       "      <th>year_of_release</th>\n",
       "      <th>genre</th>\n",
       "      <th>na_sales</th>\n",
       "      <th>eu_sales</th>\n",
       "      <th>jp_sales</th>\n",
       "      <th>other_sales</th>\n",
       "      <th>critic_score</th>\n",
       "      <th>user_score</th>\n",
       "      <th>rating</th>\n",
       "    </tr>\n",
       "  </thead>\n",
       "  <tbody>\n",
       "    <tr>\n",
       "      <th>15704</th>\n",
       "      <td>Strongest Tokyo University Shogi DS</td>\n",
       "      <td>DS</td>\n",
       "      <td>1985</td>\n",
       "      <td>Action</td>\n",
       "      <td>0.0</td>\n",
       "      <td>0.0</td>\n",
       "      <td>0.02</td>\n",
       "      <td>0.0</td>\n",
       "      <td>1000.0</td>\n",
       "      <td>1000.0</td>\n",
       "      <td>no_data</td>\n",
       "    </tr>\n",
       "  </tbody>\n",
       "</table>\n",
       "</div>"
      ],
      "text/plain": [
       "                                      name platform  year_of_release   genre  \\\n",
       "15704  Strongest Tokyo University Shogi DS       DS             1985  Action   \n",
       "\n",
       "       na_sales  eu_sales  jp_sales  other_sales  critic_score  user_score  \\\n",
       "15704       0.0       0.0      0.02          0.0        1000.0      1000.0   \n",
       "\n",
       "        rating  \n",
       "15704  no_data  "
      ]
     },
     "execution_count": 24,
     "metadata": {},
     "output_type": "execute_result"
    }
   ],
   "source": [
    "# Рассмотрим выброс подробнее\n",
    "data_DS = data.loc[(data['platform'] == 'DS') & (data['year_of_release'] < 2004)]\n",
    "data_DS"
   ]
  },
  {
   "cell_type": "markdown",
   "metadata": {},
   "source": [
    "Эта строка никакой роли не играет, но ухудашет качество визуализации при рассмотрении жизненного цикла платформ. Поэтому удалим заранее этот выброс в данном разделе."
   ]
  },
  {
   "cell_type": "code",
   "execution_count": 25,
   "metadata": {},
   "outputs": [],
   "source": [
    "data = data.loc[~((data['platform'] == 'DS') & (data['year_of_release'] == 1985))]\n",
    "data = data.reset_index(drop=True)"
   ]
  },
  {
   "cell_type": "markdown",
   "metadata": {},
   "source": [
    "#### Новый столбец с суммарными продажами во всех регионах"
   ]
  },
  {
   "cell_type": "code",
   "execution_count": 26,
   "metadata": {
    "scrolled": false
   },
   "outputs": [
    {
     "name": "stdout",
     "output_type": "stream",
     "text": [
      "<class 'pandas.core.frame.DataFrame'>\n",
      "RangeIndex: 16443 entries, 0 to 16442\n",
      "Data columns (total 12 columns):\n",
      " #   Column           Non-Null Count  Dtype  \n",
      "---  ------           --------------  -----  \n",
      " 0   name             16443 non-null  object \n",
      " 1   platform         16443 non-null  object \n",
      " 2   year_of_release  16443 non-null  int32  \n",
      " 3   genre            16443 non-null  object \n",
      " 4   na_sales         16443 non-null  float64\n",
      " 5   eu_sales         16443 non-null  float64\n",
      " 6   jp_sales         16443 non-null  float64\n",
      " 7   other_sales      16443 non-null  float64\n",
      " 8   critic_score     16443 non-null  float64\n",
      " 9   user_score       16443 non-null  float64\n",
      " 10  rating           16443 non-null  object \n",
      " 11  total_sales      16443 non-null  float64\n",
      "dtypes: float64(7), int32(1), object(4)\n",
      "memory usage: 1.4+ MB\n"
     ]
    }
   ],
   "source": [
    "# Добавляем столбец с общей продажей по всем регионам\n",
    "data['total_sales'] = data['na_sales'] + data['eu_sales'] + data['jp_sales'] + data['other_sales']\n",
    "data.info()"
   ]
  },
  {
   "cell_type": "markdown",
   "metadata": {},
   "source": [
    "**Выводы**\n",
    "\n",
    "Предобработка обнаружила ряд проблем в данных, которые были устранены:\n",
    "\n",
    "- неудачные наименования столбцов (заглавные буквы),\n",
    "- пропущенные значения,\n",
    "- не соответствующие типы данных,\n",
    "- выбросы.\n",
    "\n",
    "Добавлен новый столбец:\n",
    "\n",
    "* `total_sales` — суммарные продажаи по всем регионам (миллионы проданных копий);"
   ]
  },
  {
   "cell_type": "markdown",
   "metadata": {},
   "source": [
    "### Исследовательский анализ данных"
   ]
  },
  {
   "cell_type": "markdown",
   "metadata": {},
   "source": [
    "#### Выпуск игр по годам"
   ]
  },
  {
   "cell_type": "code",
   "execution_count": 27,
   "metadata": {
    "scrolled": false
   },
   "outputs": [
    {
     "data": {
      "text/plain": [
       "Text(0, 0.5, 'Количество')"
      ]
     },
     "execution_count": 27,
     "metadata": {},
     "output_type": "execute_result"
    },
    {
     "data": {
      "image/png": "[encoded data removed]",
      "text/plain": [
       "<Figure size 640x480 with 1 Axes>"
      ]
     },
     "metadata": {},
     "output_type": "display_data"
    }
   ],
   "source": [
    "data.hist('year_of_release', bins = 37, range = (1980, 2016))\n",
    "plt.title('Выпуск игр по годам')\n",
    "plt.xlabel('Годы')\n",
    "plt.ylabel('Количество')"
   ]
  },
  {
   "cell_type": "markdown",
   "metadata": {},
   "source": [
    "Вместе с развитием технологий, начиная с середины 90х пошел резкий рост рынка компьютерных игр. В этот период появлялись новые жанры, появилась первая гоночная игра в 3D формате, интерес к компьютерным играм был огромен. В 1994 г. появилась игра Need for Speed, ставшая одной из самых успешных серий игр в целом. Все это сказывалось на росте данного рынка. \n",
    "Основные годы выпуска игр пришлись на 2005-2010 г. Спад после 2010 г можно связать с тем, что с развитием общедоступного и скоростного интернета интерес пользователей сместился на общение в сети. "
   ]
  },
  {
   "cell_type": "code",
   "execution_count": 28,
   "metadata": {},
   "outputs": [
    {
     "data": {
      "text/plain": [
       "count    16443.000000\n",
       "mean      2006.487563\n",
       "std          5.873314\n",
       "min       1980.000000\n",
       "25%       2003.000000\n",
       "50%       2007.000000\n",
       "75%       2010.000000\n",
       "max       2016.000000\n",
       "Name: year_of_release, dtype: float64"
      ]
     },
     "execution_count": 28,
     "metadata": {},
     "output_type": "execute_result"
    },
    {
     "data": {
      "image/png": "[encoded data removed]",
      "text/plain": [
       "<Figure size 640x480 with 1 Axes>"
      ]
     },
     "metadata": {},
     "output_type": "display_data"
    }
   ],
   "source": [
    "# Построим диаграмму размаха\n",
    "data.boxplot('year_of_release')\n",
    "data['year_of_release'].describe()"
   ]
  },
  {
   "cell_type": "markdown",
   "metadata": {},
   "source": [
    "В построенной диаграмме размаха видно, что нижний \"ус\" упирается в 1993 год, что считается границей нормального размаха. Это значит, что до 1993 г было выпущено крайне мало игр, то есть годами до 1993 г можно пренебречь."
   ]
  },
  {
   "cell_type": "markdown",
   "metadata": {},
   "source": [
    "#### Продажи по платформам"
   ]
  },
  {
   "cell_type": "code",
   "execution_count": 29,
   "metadata": {},
   "outputs": [
    {
     "data": {
      "text/plain": [
       "Text(0, 0.5, 'Миллионы проданных копий')"
      ]
     },
     "execution_count": 29,
     "metadata": {},
     "output_type": "execute_result"
    },
    {
     "data": {
      "image/png": "[encoded data removed]",
      "text/plain": [
       "<Figure size 1200x400 with 1 Axes>"
      ]
     },
     "metadata": {},
     "output_type": "display_data"
    }
   ],
   "source": [
    "# Построим график зависимости суммарных общих продаж в зависимости от платформы\n",
    "data.pivot_table(index='platform', values='total_sales', aggfunc='sum').sort_values(by='total_sales', ascending=False)\\\n",
    "                 .plot(kind='bar', grid=True, figsize=(12,4))\n",
    "plt.title('Продажи по платформам')\n",
    "plt.xlabel('Платформы')\n",
    "plt.ylabel('Миллионы проданных копий')"
   ]
  },
  {
   "cell_type": "code",
   "execution_count": 30,
   "metadata": {},
   "outputs": [
    {
     "data": {
      "text/plain": [
       "Text(0, 0.5, 'Миллионы проданных копий')"
      ]
     },
     "execution_count": 30,
     "metadata": {},
     "output_type": "execute_result"
    },
    {
     "data": {
      "image/png": "[encoded data removed]",
      "text/plain": [
       "<Figure size 2000x400 with 1 Axes>"
      ]
     },
     "metadata": {},
     "output_type": "display_data"
    }
   ],
   "source": [
    "# Построим распределение суммарных продаж по годам для самых популярных платформ\n",
    "data_top_platforms = data.loc[(data['platform'] == 'PS2') | (data['platform'] == 'X360') | (data['platform'] == 'PS3')\\\n",
    "                              | (data['platform'] == 'Wii') | (data['platform'] == 'DS') | (data['platform'] == 'PS')]\n",
    "data_top_platforms = data_top_platforms.pivot_table(index='year_of_release', columns='platform', values='total_sales',\\\n",
    "                                                    aggfunc='sum').plot(style='o-', grid=True, figsize=(20,4))\n",
    "plt.title('Распределение суммарных продаж для самых популярных платформ')\n",
    "plt.xlabel('Годы')\n",
    "plt.ylabel('Миллионы проданных копий')"
   ]
  },
  {
   "cell_type": "markdown",
   "metadata": {},
   "source": [
    "По данному распределению мы видим, что самой старейшей и популярной платформой является PS. До 2004 г эта платформа была монополистом на рынке, меняя лишь серию (PS, PS2 итп). Но в 2004-2006 гг появились крупные конкуренты (X360, Wii, DS).\n",
    "\n",
    "Также по графику видим, что жизненный цикл платформы составляет в среднем 10 лет.\n",
    "\n",
    "Для того, чтобы можно было построить прогноз на 2017 год, возьмем не слишком большой период (2013-2016 гг), чтобы не исказить результаты отжившими трендами (например, PS, PS2)."
   ]
  },
  {
   "cell_type": "code",
   "execution_count": 31,
   "metadata": {
    "scrolled": true
   },
   "outputs": [
    {
     "name": "stdout",
     "output_type": "stream",
     "text": [
      "<class 'pandas.core.frame.DataFrame'>\n",
      "Int64Index: 2233 entries, 16 to 16442\n",
      "Data columns (total 12 columns):\n",
      " #   Column           Non-Null Count  Dtype  \n",
      "---  ------           --------------  -----  \n",
      " 0   name             2233 non-null   object \n",
      " 1   platform         2233 non-null   object \n",
      " 2   year_of_release  2233 non-null   int32  \n",
      " 3   genre            2233 non-null   object \n",
      " 4   na_sales         2233 non-null   float64\n",
      " 5   eu_sales         2233 non-null   float64\n",
      " 6   jp_sales         2233 non-null   float64\n",
      " 7   other_sales      2233 non-null   float64\n",
      " 8   critic_score     2233 non-null   float64\n",
      " 9   user_score       2233 non-null   float64\n",
      " 10  rating           2233 non-null   object \n",
      " 11  total_sales      2233 non-null   float64\n",
      "dtypes: float64(7), int32(1), object(4)\n",
      "memory usage: 218.1+ KB\n"
     ]
    }
   ],
   "source": [
    "data_actual = data.loc[(data['year_of_release'] > 2012)]\n",
    "data_actual.info()"
   ]
  },
  {
   "cell_type": "code",
   "execution_count": 32,
   "metadata": {
    "scrolled": false
   },
   "outputs": [
    {
     "data": {
      "text/html": [
       "<div>\n",
       "<style scoped>\n",
       "    .dataframe tbody tr th:only-of-type {\n",
       "        vertical-align: middle;\n",
       "    }\n",
       "\n",
       "    .dataframe tbody tr th {\n",
       "        vertical-align: top;\n",
       "    }\n",
       "\n",
       "    .dataframe thead th {\n",
       "        text-align: right;\n",
       "    }\n",
       "</style>\n",
       "<table border=\"1\" class=\"dataframe\">\n",
       "  <thead>\n",
       "    <tr style=\"text-align: right;\">\n",
       "      <th></th>\n",
       "      <th>total_sales</th>\n",
       "    </tr>\n",
       "    <tr>\n",
       "      <th>platform</th>\n",
       "      <th></th>\n",
       "    </tr>\n",
       "  </thead>\n",
       "  <tbody>\n",
       "    <tr>\n",
       "      <th>PS4</th>\n",
       "      <td>314.14</td>\n",
       "    </tr>\n",
       "    <tr>\n",
       "      <th>PS3</th>\n",
       "      <td>181.43</td>\n",
       "    </tr>\n",
       "    <tr>\n",
       "      <th>XOne</th>\n",
       "      <td>159.32</td>\n",
       "    </tr>\n",
       "    <tr>\n",
       "      <th>3DS</th>\n",
       "      <td>143.25</td>\n",
       "    </tr>\n",
       "    <tr>\n",
       "      <th>X360</th>\n",
       "      <td>136.80</td>\n",
       "    </tr>\n",
       "    <tr>\n",
       "      <th>WiiU</th>\n",
       "      <td>64.63</td>\n",
       "    </tr>\n",
       "    <tr>\n",
       "      <th>PC</th>\n",
       "      <td>39.43</td>\n",
       "    </tr>\n",
       "    <tr>\n",
       "      <th>PSV</th>\n",
       "      <td>32.99</td>\n",
       "    </tr>\n",
       "    <tr>\n",
       "      <th>Wii</th>\n",
       "      <td>13.66</td>\n",
       "    </tr>\n",
       "    <tr>\n",
       "      <th>PSP</th>\n",
       "      <td>3.50</td>\n",
       "    </tr>\n",
       "    <tr>\n",
       "      <th>DS</th>\n",
       "      <td>1.54</td>\n",
       "    </tr>\n",
       "  </tbody>\n",
       "</table>\n",
       "</div>"
      ],
      "text/plain": [
       "          total_sales\n",
       "platform             \n",
       "PS4            314.14\n",
       "PS3            181.43\n",
       "XOne           159.32\n",
       "3DS            143.25\n",
       "X360           136.80\n",
       "WiiU            64.63\n",
       "PC              39.43\n",
       "PSV             32.99\n",
       "Wii             13.66\n",
       "PSP              3.50\n",
       "DS               1.54"
      ]
     },
     "execution_count": 32,
     "metadata": {},
     "output_type": "execute_result"
    }
   ],
   "source": [
    "# Рассмотрим продажи по платформам за этот период\n",
    "data_actual.pivot_table(index='platform', values='total_sales', aggfunc='sum')\\\n",
    "        .sort_values(by='total_sales', ascending=False)"
   ]
  },
  {
   "cell_type": "code",
   "execution_count": 33,
   "metadata": {},
   "outputs": [
    {
     "data": {
      "text/html": [
       "<div>\n",
       "<style scoped>\n",
       "    .dataframe tbody tr th:only-of-type {\n",
       "        vertical-align: middle;\n",
       "    }\n",
       "\n",
       "    .dataframe tbody tr th {\n",
       "        vertical-align: top;\n",
       "    }\n",
       "\n",
       "    .dataframe thead th {\n",
       "        text-align: right;\n",
       "    }\n",
       "</style>\n",
       "<table border=\"1\" class=\"dataframe\">\n",
       "  <thead>\n",
       "    <tr style=\"text-align: right;\">\n",
       "      <th></th>\n",
       "      <th>total_sales</th>\n",
       "    </tr>\n",
       "    <tr>\n",
       "      <th>platform</th>\n",
       "      <th></th>\n",
       "    </tr>\n",
       "  </thead>\n",
       "  <tbody>\n",
       "    <tr>\n",
       "      <th>PS4</th>\n",
       "      <td>69.25</td>\n",
       "    </tr>\n",
       "    <tr>\n",
       "      <th>XOne</th>\n",
       "      <td>26.15</td>\n",
       "    </tr>\n",
       "    <tr>\n",
       "      <th>3DS</th>\n",
       "      <td>15.14</td>\n",
       "    </tr>\n",
       "    <tr>\n",
       "      <th>PC</th>\n",
       "      <td>5.25</td>\n",
       "    </tr>\n",
       "    <tr>\n",
       "      <th>WiiU</th>\n",
       "      <td>4.60</td>\n",
       "    </tr>\n",
       "    <tr>\n",
       "      <th>PSV</th>\n",
       "      <td>4.25</td>\n",
       "    </tr>\n",
       "    <tr>\n",
       "      <th>PS3</th>\n",
       "      <td>3.60</td>\n",
       "    </tr>\n",
       "    <tr>\n",
       "      <th>X360</th>\n",
       "      <td>1.52</td>\n",
       "    </tr>\n",
       "    <tr>\n",
       "      <th>Wii</th>\n",
       "      <td>0.18</td>\n",
       "    </tr>\n",
       "  </tbody>\n",
       "</table>\n",
       "</div>"
      ],
      "text/plain": [
       "          total_sales\n",
       "platform             \n",
       "PS4             69.25\n",
       "XOne            26.15\n",
       "3DS             15.14\n",
       "PC               5.25\n",
       "WiiU             4.60\n",
       "PSV              4.25\n",
       "PS3              3.60\n",
       "X360             1.52\n",
       "Wii              0.18"
      ]
     },
     "execution_count": 33,
     "metadata": {},
     "output_type": "execute_result"
    }
   ],
   "source": [
    "# Рассмотрим продажи по платформам за 2016\n",
    "data.loc[(data['year_of_release'] == 2016)].pivot_table(index='platform', values='total_sales', aggfunc='sum')\\\n",
    "        .sort_values(by='total_sales', ascending=False)"
   ]
  },
  {
   "cell_type": "code",
   "execution_count": 34,
   "metadata": {},
   "outputs": [],
   "source": [
    "# Построим распределение суммарных продаж по актуальному периоду для топ перспективных платформ\n",
    "data_actual_top_platforms = data_actual.loc[(data['platform'] == 'PS4') | (data['platform'] == 'XOne') | (data['platform'] ==\\\n",
    "                                                                                                          '3DS')\\\n",
    "                              | (data['platform'] == 'PC') | (data['platform'] == 'WiiU')]"
   ]
  },
  {
   "cell_type": "code",
   "execution_count": 35,
   "metadata": {},
   "outputs": [
    {
     "data": {
      "text/plain": [
       "Text(0, 0.5, 'Миллионы проданных копий')"
      ]
     },
     "execution_count": 35,
     "metadata": {},
     "output_type": "execute_result"
    },
    {
     "data": {
      "image/png": "[encoded data removed]",
      "text/plain": [
       "<Figure size 2000x800 with 1 Axes>"
      ]
     },
     "metadata": {},
     "output_type": "display_data"
    }
   ],
   "source": [
    "data_actual_top_platforms.pivot_table(index = 'year_of_release', columns = 'platform', values = 'total_sales', aggfunc = 'sum')\\\n",
    ".plot(style='o-', grid=True, figsize=(20,8))\n",
    "\n",
    "plt.title('Распределение суммарных продаж по платформам')\n",
    "plt.xlabel('Годы')\n",
    "plt.ylabel('Миллионы проданных копий')"
   ]
  },
  {
   "cell_type": "markdown",
   "metadata": {},
   "source": [
    "На основании данных о продажах за 2013-2016 г и распределений по годам можно сделать вывод, что к 2017 году закончит свое существование четверка платформ, которая лидировала в период с 2006 по 2016 г (X360, PS3, Wii, DS). При этом на смену PS3 придет PS4, на смену DS - 3DS, а на смену X360 - XOne.\n",
    "\n",
    "В 2016 г наиболее прибыльными платформами были PS4, XOne, 3DS. Вероятно, они и останутся наиболее прибыльными платформами в 2017 году. Хотя пиковые значения их жизненногого цикла уже прошли, можно ожидать, что до 2018 года они еще будут приносить прибыль. Также в топ-5 попадают платформы WiiU (замена Wii) и PC (персональный компьютер, занимающий свою небольшую нишу)."
   ]
  },
  {
   "cell_type": "code",
   "execution_count": 36,
   "metadata": {},
   "outputs": [
    {
     "data": {
      "text/plain": [
       "(0.0, 5.0)"
      ]
     },
     "execution_count": 36,
     "metadata": {},
     "output_type": "execute_result"
    },
    {
     "data": {
      "image/png": "[encoded data removed]",
      "text/plain": [
       "<Figure size 2000x1000 with 1 Axes>"
      ]
     },
     "metadata": {},
     "output_type": "display_data"
    }
   ],
   "source": [
    "plt.figure(figsize=(20,10))\n",
    "sns.boxplot(x='platform', y='total_sales', data=data_actual_top_platforms)\n",
    "plt.ylim(0,5)"
   ]
  },
  {
   "cell_type": "markdown",
   "metadata": {},
   "source": [
    "По построенным диаграммам размаха видно, что у некоторых есть большое количество выбросов. Это обозначает, что распределение игр по продажам для одной платформы неравномерно: на платформе может быть много игр, но огромную популярность приобретают единицы, которые и определяют общие объемы продаж.\n",
    "\n",
    "Таким образом, вероятно, что на платформах PS4, 3DS, XOne представлены бестселлеры, которые и задают высокий уровень продаж. При этом медианы в коробках заметно меньше средних значений, т.е. на этих платформах есть немало игр с гораздо меньшими продажами, чем у бестселлеров.\n",
    "\n",
    "А вот в диаграммах для WiiU и PC видим гораздо меньше выбросов. Очевидно, на этих платформах объемы продаж различных игр распределены более-менее равномерно. "
   ]
  },
  {
   "cell_type": "markdown",
   "metadata": {},
   "source": [
    "#### Взаимосвязь между отзывами и продажами"
   ]
  },
  {
   "cell_type": "markdown",
   "metadata": {},
   "source": [
    "Для исследования взаимосвязи между отзывами и продажами исключим строки с маркерами в столбцах `critic_score` и `user_score`. Здесь не будем ограничиваться срезом топ-5 перспективных платформ, так как и так отфильтруем много строк с маркерами. Посмотрим, данные по каким платформам у нас останутся в наличии после такой фильтрации."
   ]
  },
  {
   "cell_type": "code",
   "execution_count": 37,
   "metadata": {},
   "outputs": [
    {
     "data": {
      "text/html": [
       "<div>\n",
       "<style scoped>\n",
       "    .dataframe tbody tr th:only-of-type {\n",
       "        vertical-align: middle;\n",
       "    }\n",
       "\n",
       "    .dataframe tbody tr th {\n",
       "        vertical-align: top;\n",
       "    }\n",
       "\n",
       "    .dataframe thead th {\n",
       "        text-align: right;\n",
       "    }\n",
       "</style>\n",
       "<table border=\"1\" class=\"dataframe\">\n",
       "  <thead>\n",
       "    <tr style=\"text-align: right;\">\n",
       "      <th></th>\n",
       "      <th>total_sales</th>\n",
       "    </tr>\n",
       "    <tr>\n",
       "      <th>platform</th>\n",
       "      <th></th>\n",
       "    </tr>\n",
       "  </thead>\n",
       "  <tbody>\n",
       "    <tr>\n",
       "      <th>PS4</th>\n",
       "      <td>244.27</td>\n",
       "    </tr>\n",
       "    <tr>\n",
       "      <th>XOne</th>\n",
       "      <td>130.21</td>\n",
       "    </tr>\n",
       "    <tr>\n",
       "      <th>PS3</th>\n",
       "      <td>114.06</td>\n",
       "    </tr>\n",
       "    <tr>\n",
       "      <th>X360</th>\n",
       "      <td>85.27</td>\n",
       "    </tr>\n",
       "    <tr>\n",
       "      <th>WiiU</th>\n",
       "      <td>51.23</td>\n",
       "    </tr>\n",
       "    <tr>\n",
       "      <th>3DS</th>\n",
       "      <td>40.10</td>\n",
       "    </tr>\n",
       "    <tr>\n",
       "      <th>PC</th>\n",
       "      <td>34.79</td>\n",
       "    </tr>\n",
       "    <tr>\n",
       "      <th>PSV</th>\n",
       "      <td>13.88</td>\n",
       "    </tr>\n",
       "    <tr>\n",
       "      <th>PSP</th>\n",
       "      <td>0.15</td>\n",
       "    </tr>\n",
       "  </tbody>\n",
       "</table>\n",
       "</div>"
      ],
      "text/plain": [
       "          total_sales\n",
       "platform             \n",
       "PS4            244.27\n",
       "XOne           130.21\n",
       "PS3            114.06\n",
       "X360            85.27\n",
       "WiiU            51.23\n",
       "3DS             40.10\n",
       "PC              34.79\n",
       "PSV             13.88\n",
       "PSP              0.15"
      ]
     },
     "execution_count": 37,
     "metadata": {},
     "output_type": "execute_result"
    }
   ],
   "source": [
    "data_filtered = data_actual.loc[~((data_actual['critic_score'] == 1000) | (data_actual['user_score'] == 1000))]\n",
    "data_filtered.pivot_table(index='platform', values='total_sales', aggfunc='sum').sort_values(by='total_sales', ascending=False)"
   ]
  },
  {
   "cell_type": "code",
   "execution_count": 38,
   "metadata": {},
   "outputs": [
    {
     "data": {
      "text/html": [
       "<div>\n",
       "<style scoped>\n",
       "    .dataframe tbody tr th:only-of-type {\n",
       "        vertical-align: middle;\n",
       "    }\n",
       "\n",
       "    .dataframe tbody tr th {\n",
       "        vertical-align: top;\n",
       "    }\n",
       "\n",
       "    .dataframe thead th {\n",
       "        text-align: right;\n",
       "    }\n",
       "</style>\n",
       "<table border=\"1\" class=\"dataframe\">\n",
       "  <thead>\n",
       "    <tr style=\"text-align: right;\">\n",
       "      <th></th>\n",
       "      <th>user_score</th>\n",
       "      <th>critic_score</th>\n",
       "    </tr>\n",
       "    <tr>\n",
       "      <th>platform</th>\n",
       "      <th></th>\n",
       "      <th></th>\n",
       "    </tr>\n",
       "  </thead>\n",
       "  <tbody>\n",
       "    <tr>\n",
       "      <th>3DS</th>\n",
       "      <td>7.195522</td>\n",
       "      <td>69.149254</td>\n",
       "    </tr>\n",
       "    <tr>\n",
       "      <th>PC</th>\n",
       "      <td>6.302027</td>\n",
       "      <td>75.601351</td>\n",
       "    </tr>\n",
       "    <tr>\n",
       "      <th>PS3</th>\n",
       "      <td>6.625833</td>\n",
       "      <td>70.466667</td>\n",
       "    </tr>\n",
       "    <tr>\n",
       "      <th>PS4</th>\n",
       "      <td>6.749799</td>\n",
       "      <td>72.132530</td>\n",
       "    </tr>\n",
       "    <tr>\n",
       "      <th>PSP</th>\n",
       "      <td>8.300000</td>\n",
       "      <td>74.000000</td>\n",
       "    </tr>\n",
       "    <tr>\n",
       "      <th>PSV</th>\n",
       "      <td>7.782895</td>\n",
       "      <td>71.657895</td>\n",
       "    </tr>\n",
       "    <tr>\n",
       "      <th>WiiU</th>\n",
       "      <td>7.213043</td>\n",
       "      <td>71.579710</td>\n",
       "    </tr>\n",
       "    <tr>\n",
       "      <th>X360</th>\n",
       "      <td>6.301235</td>\n",
       "      <td>69.234568</td>\n",
       "    </tr>\n",
       "    <tr>\n",
       "      <th>XOne</th>\n",
       "      <td>6.538182</td>\n",
       "      <td>73.618182</td>\n",
       "    </tr>\n",
       "  </tbody>\n",
       "</table>\n",
       "</div>"
      ],
      "text/plain": [
       "          user_score  critic_score\n",
       "platform                          \n",
       "3DS         7.195522     69.149254\n",
       "PC          6.302027     75.601351\n",
       "PS3         6.625833     70.466667\n",
       "PS4         6.749799     72.132530\n",
       "PSP         8.300000     74.000000\n",
       "PSV         7.782895     71.657895\n",
       "WiiU        7.213043     71.579710\n",
       "X360        6.301235     69.234568\n",
       "XOne        6.538182     73.618182"
      ]
     },
     "execution_count": 38,
     "metadata": {},
     "output_type": "execute_result"
    }
   ],
   "source": [
    "# Посмотрим среднюю оценку по платформам\n",
    "data_filtered.groupby('platform')[['user_score', 'critic_score']].agg('mean')"
   ]
  },
  {
   "cell_type": "markdown",
   "metadata": {},
   "source": [
    "Средняя оценка пользователя находится в пределах 6.3-8.3, критиков - 69-75. На первый взгляд, зависимости от продаж не наблюдается. Рассмотрим корреляцию для перспективных платформ PS4, XOne, WiiU."
   ]
  },
  {
   "cell_type": "code",
   "execution_count": 39,
   "metadata": {
    "scrolled": false
   },
   "outputs": [
    {
     "data": {
      "text/plain": [
       "Text(0.5, 1.0, 'Диаграмма рассеивания для PS4 (общие продажи/оценка критиков)')"
      ]
     },
     "execution_count": 39,
     "metadata": {},
     "output_type": "execute_result"
    },
    {
     "data": {
      "image/png": "[encoded data removed]",
      "text/plain": [
       "<Figure size 640x480 with 1 Axes>"
      ]
     },
     "metadata": {},
     "output_type": "display_data"
    },
    {
     "data": {
      "image/png": "[encoded data removed]",
      "text/plain": [
       "<Figure size 640x480 with 1 Axes>"
      ]
     },
     "metadata": {},
     "output_type": "display_data"
    }
   ],
   "source": [
    "data_filtered.loc[data_filtered['platform'] == 'PS4'].plot(x='user_score', y='total_sales', kind='scatter', alpha=0.3,\\\n",
    "                                                           grid=True)\n",
    "plt.title('Диаграмма рассеивания для PS4 (общие продажи/оценка пользователей)')\n",
    "data_filtered.loc[data_filtered['platform'] == 'PS4'].plot(x='critic_score', y='total_sales', kind='scatter', alpha=0.3,\\\n",
    "                                                           grid=True)\n",
    "plt.title('Диаграмма рассеивания для PS4 (общие продажи/оценка критиков)')"
   ]
  },
  {
   "cell_type": "code",
   "execution_count": 40,
   "metadata": {},
   "outputs": [
    {
     "ename": "SyntaxError",
     "evalue": "unexpected character after line continuation character (1961490383.py, line 1)",
     "output_type": "error",
     "traceback": [
      "\u001b[1;36m  Cell \u001b[1;32mIn[40], line 1\u001b[1;36m\u001b[0m\n\u001b[1;33m    print('Коэффициент Пирсона для PS4 (общие продажи/оценка пользователей):', data_filtered.loc[data_filtered['platform'] ==\\\u001b[0m\n\u001b[1;37m                                                                                                                              ^\u001b[0m\n\u001b[1;31mSyntaxError\u001b[0m\u001b[1;31m:\u001b[0m unexpected character after line continuation character\n"
     ]
    }
   ],
   "source": [
    "print('Коэффициент Пирсона для PS4 (общие продажи/оценка пользователей):', data_filtered.loc[data_filtered['platform'] ==\\ \n",
    "                             'PS4']['total_sales'].corr(data_filtered.loc[data_filtered['platform'] == 'PS4']['user_score']))\n",
    "print('Коэффициент Пирсона для PS4  (общие продажи/оценка критиков):', data_filtered.loc[data_filtered['platform'] == 'PS4']\\\n",
    "      ['total_sales'].corr(data_filtered.loc[data_filtered['platform'] == 'PS4']['critic_score']))"
   ]
  },
  {
   "cell_type": "code",
   "execution_count": null,
   "metadata": {},
   "outputs": [],
   "source": [
    "data_filtered.loc[data_filtered['platform'] == 'XOne'].plot(x='user_score', y='total_sales', kind='scatter', alpha=0.3,\\\n",
    "                                                            grid=True)\n",
    "plt.title('Диаграмма рассеивания для XOne (общие продажи/оценка пользователей)')\n",
    "data_filtered.loc[data_filtered['platform'] == 'XOne'].plot(x='critic_score', y='total_sales', kind='scatter', alpha=0.3,\\\n",
    "                                                            grid=True)\n",
    "plt.title('Диаграмма рассеивания для XOne (общие продажи/оценка критиков)')"
   ]
  },
  {
   "cell_type": "code",
   "execution_count": null,
   "metadata": {},
   "outputs": [],
   "source": [
    "print('Коэффициент Пирсона для XOne (общие продажи/оценка пользователей):', data_filtered.loc[data_filtered['platform'] ==\\\n",
    "                            'XOne']['total_sales'].corr(data_filtered.loc[data_filtered['platform'] == 'XOne']['user_score']))\n",
    "print('Коэффициент Пирсона для XOne  (общие продажи/оценка критиков):', data_filtered.loc[data_filtered['platform'] == 'XOne']\\\n",
    "      ['total_sales'].corr(data_filtered.loc[data_filtered['platform'] == 'XOne']['critic_score']))"
   ]
  },
  {
   "cell_type": "code",
   "execution_count": null,
   "metadata": {},
   "outputs": [],
   "source": [
    "data_filtered.loc[data_filtered['platform'] == 'WiiU'].plot(x='user_score', y='total_sales', kind='scatter', alpha=0.3,\\\n",
    "                                                            grid=True)\n",
    "plt.title('Диаграмма рассеивания для WiiU (общие продажи/оценка пользователей)')\n",
    "data_filtered.loc[data_filtered['platform'] == 'WiiU'].plot(x='critic_score', y='total_sales', kind='scatter', alpha=0.3,\\\n",
    "                                                            grid=True)\n",
    "plt.title('Диаграмма рассеивания для WiiU (общие продажи/оценка критиков)')"
   ]
  },
  {
   "cell_type": "code",
   "execution_count": null,
   "metadata": {},
   "outputs": [],
   "source": [
    "print('Коэффициент Пирсона для WiiU (общие продажи/оценка пользователей):', data_filtered.loc[data_filtered['platform'] ==\\\n",
    "                        'WiiU']['total_sales'].corr(data_filtered.loc[data_filtered['platform'] == 'WiiU']['user_score']))\n",
    "print('Коэффициент Пирсона для WiiU  (общие продажи/оценка критиков):', data_filtered.loc[data_filtered['platform'] == 'WiiU']\\\n",
    "      ['total_sales'].corr(data_filtered.loc[data_filtered['platform'] == 'WiiU']['critic_score']))"
   ]
  },
  {
   "cell_type": "markdown",
   "metadata": {},
   "source": [
    "Для платформ PS4 и XOne взаимосвязи между продажами и оценками пользователей не наблюдается, об этом говорит коэффициент Пирсона близкий к 0. Но можно сказать, что есть некоторая прямая взаимосвязь между продажами и оценками критиков, но она не сильная. Коэффициент Пирсона между продажами и оценками пользователей для платформы WiiU тоже показывает небольшую взаимосвязь."
   ]
  },
  {
   "cell_type": "markdown",
   "metadata": {},
   "source": [
    "#### Распределение по жанрам"
   ]
  },
  {
   "cell_type": "code",
   "execution_count": null,
   "metadata": {},
   "outputs": [],
   "source": [
    "# Частота встречаемости жанров\n",
    "data_actual_top_platforms['genre'].value_counts(ascending=True).plot(y='city', kind='barh', grid=True, figsize=(10,6))\n",
    "plt.title('Распределение по жанрам')\n",
    "plt.xlabel('Количество')\n",
    "plt.ylabel('Жанры')"
   ]
  },
  {
   "cell_type": "code",
   "execution_count": null,
   "metadata": {
    "scrolled": false
   },
   "outputs": [],
   "source": [
    "# Суммарные продажи по жанрам\n",
    "data_actual_top_platforms.pivot_table(index='genre', values='total_sales', aggfunc='sum')\\\n",
    ".sort_values(by='total_sales', ascending=True).plot(kind='barh', grid=True, figsize=(12,8))\n",
    "plt.title('Суммарные продажи по жанрам')\n",
    "plt.xlabel('Миллионы проданных копий')\n",
    "plt.ylabel('Жанры')"
   ]
  },
  {
   "cell_type": "code",
   "execution_count": null,
   "metadata": {},
   "outputs": [],
   "source": [
    "# Посмотрим на медианные значения продаж\n",
    "data_actual_top_platforms.pivot_table(index='genre', values='total_sales', aggfunc='median').sort_values(by='total_sales',\\\n",
    "                                                                                                         ascending=False)"
   ]
  },
  {
   "cell_type": "markdown",
   "metadata": {},
   "source": [
    "Наиболее встречаемым жанром является Action. Лидерами по суммарным продажам являются Action, Shooter и Role-Playing. При этом медианное значение продаж выше всего у игр с жанром Shooter. Меньше всего продаж у игр с жанрами Strategy и Puzzle.\n",
    "\n",
    "Отдельно можно выделить Adventure - весьма популярный жанр, но не имеющий больших суммарных продаж.\n",
    "\n",
    "Скорее всего, игры в жанре Action являются одними из самых прибыльных. Но на основании имеющихся данных мы не можем это утверждать. Ведь затраты на производство качественной игры в таком жанре не сравнимо выше затрат на производство игры в жанре, например, Puzzle. "
   ]
  },
  {
   "cell_type": "markdown",
   "metadata": {},
   "source": [
    "**Выводы**\n",
    "\n",
    "- Вместе с развитием технологий, начиная с середины 90х пошел резкий рост рынка компьютерных игр. Основные годы выпуска игр пришлись на 2005-2010 г. Самой старейшей и популярной платформой является PS. До 2004 г эта платформа была монополистом на рынке, меняя лишь серию (PS, PS2 итп). Но в 2004-2006 гг появились крупные конкуренты (X360, Wii, DS). Жизненный цикл платформы составляет в среднем 10 лет.\n",
    "\n",
    "- Для того, чтобы можно было построить прогноз на 2017 год, возьмем не слишком большой период (2013-2016 гг), чтобы не исказить результаты отжившими трендами (например, PS, PS2).\n",
    "\n",
    "- На основании данных о продажах за 2006-2016 г и распределений по годам можно сделать вывод, что к 2017 году закончит свое существование четверка платформ, которая лидировала в период с 2006 по 2016 г (X360, PS3, Wii, DS). При этом на смену PS3 придет PS4, на смену DS - 3DS, а на смену X360 - XOne.\n",
    "\n",
    "- В 2016 г наиболее прибыльными платформами были PS4, XOne, 3DS. Вероятно, они и останутся наиболее прибыльными платформами в 2017 году. Хотя пиковые значения их жизненногого цикла уже прошли, можно ожидать, что до 2018 года они еще будут приносить прибыль. Также в топ-5 попадают платформы WiiU (замена Wii) и PC (персональный компьютер, занимающий свою небольшую нишу).\n",
    "\n",
    "- У самых перспективных платформ PS4, 3DS, XOne однотипные диграммы размаха с большим количеством выбросов. Вероятно, на этих платформах представлены бестселлеры, которые и задают высокий уровень продаж. \n",
    "\n",
    "- В диаграммах для WiiU и PC гораздо меньше выбросов. Очевидно, на этих платформах объемы продаж различных игр распределены более-менее равномерно. \n",
    "\n",
    "- Для платформ PS4 и XOne взаимосвязи между продажами и оценками пользователей не наблюдается, об этом говорит коэффициент Пирсона близкий к 0. Но можно сказать, что есть некоторая прямая взаимосвязь между продажами и оценками критиков, но она не сильная. Коэффициент Пирсона между продажами и оценками пользователей для платформы WiiU тоже показывает небольшую взаимосвязь.\n",
    "\n",
    "- Самыми продаваемыми жанрами являются Action, Shooter и Role-Playing (медианное значение выше всего у жанра Role-Playing). Меньше всего продаж у игр с жанрами Strategy и Puzzle. Отдельно можно выделить Adventure - весьма популярный жанр, но не имеющий больших суммарных продаж."
   ]
  },
  {
   "cell_type": "markdown",
   "metadata": {},
   "source": [
    "### Портрет пользователя по регионам (NA, EU, JP)"
   ]
  },
  {
   "cell_type": "markdown",
   "metadata": {},
   "source": [
    "#### Самые популярные платформы (топ-5) по регионам"
   ]
  },
  {
   "cell_type": "code",
   "execution_count": null,
   "metadata": {},
   "outputs": [],
   "source": [
    "# Сводная таблица продаж по платформам в Северной Америке (NA)\n",
    "data_actual_na = data_actual.pivot_table(index='platform', values='na_sales', aggfunc='sum')\\\n",
    ".sort_values(by='na_sales', ascending=False)\n",
    "data_actual_na['na_share']= data_actual_na['na_sales']/data_actual_na['na_sales'].sum()\n",
    "display(data_actual_na)\n",
    "\n",
    "# Построим график зависимости суммарных продаж в NA в зависимости от платформы (за период 2013-2016 г)\n",
    "data_actual.pivot_table(index='platform', values='na_sales', aggfunc='sum')\\\n",
    ".sort_values(by='na_sales', ascending=False).head().plot(kind='bar', grid=True, figsize=(12,4))\n",
    "\n",
    "plt.title('Топ-5 платформ в Северной Америке (NA): 2013-2016 г')\n",
    "plt.xlabel('Платформы')\n",
    "plt.ylabel('Миллионы проданных копий')"
   ]
  },
  {
   "cell_type": "code",
   "execution_count": null,
   "metadata": {},
   "outputs": [],
   "source": [
    "# Сводная таблица продаж по платформам в Европе (EU)\n",
    "data_actual_eu = data_actual.pivot_table(index='platform', values='eu_sales', aggfunc='sum')\\\n",
    ".sort_values(by='eu_sales', ascending=False)\n",
    "data_actual_eu['eu_share']= data_actual_eu['eu_sales']/data_actual_eu['eu_sales'].sum()\n",
    "display(data_actual_eu)\n",
    "\n",
    "# Построим график зависимости суммарных продаж в EU в зависимости от платформы (за период 2013-2016 г)\n",
    "data_actual.pivot_table(index='platform', values='eu_sales', aggfunc='sum')\\\n",
    ".sort_values(by='eu_sales', ascending=False).head().plot(kind='bar', grid=True, figsize=(12,4))\n",
    "\n",
    "plt.title('Топ-5 платформ в Европе (EU): 2013-2016 г')\n",
    "plt.xlabel('Платформы')\n",
    "plt.ylabel('Миллионы проданных копий')"
   ]
  },
  {
   "cell_type": "code",
   "execution_count": null,
   "metadata": {
    "scrolled": false
   },
   "outputs": [],
   "source": [
    "# Сводная таблица продаж по платформам в Японии (JP)\n",
    "data_actual_jp = data_actual.pivot_table(index='platform', values='jp_sales', aggfunc='sum')\\\n",
    ".sort_values(by='jp_sales', ascending=False)\n",
    "data_actual_jp['jp_share']= data_actual_jp['jp_sales']/data_actual_jp['jp_sales'].sum()\n",
    "display(data_actual_jp)\n",
    "\n",
    "# Построим график зависимости суммарных продаж в JP в зависимости от платформы (за период 2013-2016 г)\n",
    "data_actual.pivot_table(index='platform', values='jp_sales', aggfunc='sum')\\\n",
    ".sort_values(by='jp_sales', ascending=False).head().plot(kind='bar', grid=True, figsize=(12,4))\n",
    "\n",
    "plt.title('Топ-5 платформ в Японии (JP): 2013-2016 г')\n",
    "plt.xlabel('Платформы')\n",
    "plt.ylabel('Миллионы проданных копий')"
   ]
  },
  {
   "cell_type": "markdown",
   "metadata": {},
   "source": [
    "В Северной Америке предпочтение отдается платформам компании Microsoft (XOne + X360 составляет около 40% продаж) и Sony (PS3 + PS4 составляет около 38% продаж). \n",
    "\n",
    "В Европе с большим отрывом лидируют платформы компании Sony (доля продаж PS3 + PS4 около 53%). Доля продаж XOne + X360 составляет около 24%.\n",
    "\n",
    "В Японии безоговорочным лидером является платформа 3DS японской компании Nintendo (около 48%). Ближайшим конкурентом можно назвать платформы компании Sony (PS3 + PS4 составляет около 28% продаж)."
   ]
  },
  {
   "cell_type": "markdown",
   "metadata": {},
   "source": [
    "#### Самые популярные жанры (топ-5) по регионам"
   ]
  },
  {
   "cell_type": "code",
   "execution_count": null,
   "metadata": {},
   "outputs": [],
   "source": [
    "# Построим график зависимости суммарных продаж в NA в зависимости от жанра (за период 2013-2016 г)\n",
    "data_actual.pivot_table(index='genre', values='na_sales', aggfunc='sum')\\\n",
    ".sort_values(by='na_sales', ascending=True).tail().plot(kind='barh', grid=True, figsize=(12,4))\n",
    "\n",
    "plt.title('Топ-5 жанров в Северной Америке (NA): 2013-2016 г')\n",
    "plt.xlabel('Миллионы проданных копий')\n",
    "plt.ylabel('Жанры')"
   ]
  },
  {
   "cell_type": "code",
   "execution_count": null,
   "metadata": {},
   "outputs": [],
   "source": [
    "# Построим график зависимости суммарных продаж в EU в зависимости от жанра (за период 2013-2016 г)\n",
    "data_actual.pivot_table(index='genre', values='eu_sales', aggfunc='sum')\\\n",
    ".sort_values(by='eu_sales', ascending=True).tail().plot(kind='barh', grid=True, figsize=(12,4))\n",
    "\n",
    "plt.title('Топ-5 жанров в Европе(EU): 2013-2016 г')\n",
    "plt.xlabel('Миллионы проданных копий')\n",
    "plt.ylabel('Жанры')"
   ]
  },
  {
   "cell_type": "code",
   "execution_count": null,
   "metadata": {},
   "outputs": [],
   "source": [
    "# Построим график зависимости суммарных продаж в JP в зависимости от жанра (за период 2013-2016 г)\n",
    "data_actual.pivot_table(index='genre', values='jp_sales', aggfunc='sum')\\\n",
    ".sort_values(by='jp_sales', ascending=True).tail().plot(kind='barh', grid=True, figsize=(12,4))\n",
    "\n",
    "plt.title('Топ-5 жанров в Японии (JP): 2013-2016 г')\n",
    "plt.xlabel('Миллионы проданных копий')\n",
    "plt.ylabel('Жанры')"
   ]
  },
  {
   "cell_type": "markdown",
   "metadata": {},
   "source": [
    "По данным графикам видим, что в Северной Америке и Европе самыми популярными жанрами являются Action и Sports.\n",
    "\n",
    "В Японии же лидирует жанр Role-Playing, на втором месте Action. Так как в Японии с большим преимуществом лидирует платформа DS, можно сделать вывод, что на этой платформе представлены в основном игры в жанре Role-Playing."
   ]
  },
  {
   "cell_type": "markdown",
   "metadata": {},
   "source": [
    "#### Влияние рейтинга ESRB на продажи по регионам"
   ]
  },
  {
   "cell_type": "code",
   "execution_count": null,
   "metadata": {},
   "outputs": [],
   "source": [
    "# Рейтинг ESRB в NA\n",
    "data_actual.pivot_table(index='rating', values='na_sales', aggfunc='sum')\\\n",
    ".sort_values(by='na_sales', ascending=True).plot(kind='barh', grid=True, figsize=(12,4))\n",
    "\n",
    "plt.title('Рейтинг по ESRB в Северной Америке (NA): 2013-2016 г')\n",
    "plt.xlabel('Миллионы проданных копий')\n",
    "plt.ylabel('Рейтинг')"
   ]
  },
  {
   "cell_type": "code",
   "execution_count": null,
   "metadata": {},
   "outputs": [],
   "source": [
    "# Рейтинг ESRB в EU\n",
    "data_actual.pivot_table(index='rating', values='eu_sales', aggfunc='sum')\\\n",
    ".sort_values(by='eu_sales', ascending=True).plot(kind='barh', grid=True, figsize=(12,4))\n",
    "\n",
    "plt.title('Рейтинг по ESRB в Европе (EU): 2013-2016 г')\n",
    "plt.xlabel('Миллионы проданных копий')\n",
    "plt.ylabel('Рейтинг')"
   ]
  },
  {
   "cell_type": "code",
   "execution_count": null,
   "metadata": {},
   "outputs": [],
   "source": [
    "# Рейтинг ESRB в JP\n",
    "data_actual.pivot_table(index='rating', values='jp_sales', aggfunc='sum')\\\n",
    ".sort_values(by='jp_sales', ascending=True).plot(kind='barh', grid=True, figsize=(12,4))\n",
    "\n",
    "plt.title('Рейтинг по ESRB в Японии (JP): 2013-2016 г')\n",
    "plt.xlabel('Миллионы проданных копий')\n",
    "plt.ylabel('Рейтинг')"
   ]
  },
  {
   "cell_type": "markdown",
   "metadata": {},
   "source": [
    "По полученным графикам мы видим, что В Северной Америке и Европе наиболее популярные игры имеют рейтинг M(17+).\n",
    "\n",
    "Система ESRB не используется в Японии. Поэтому, вероятно, игры на японской платформе DS не имеют ретинга по ESRB, что и показывает график."
   ]
  },
  {
   "cell_type": "markdown",
   "metadata": {},
   "source": [
    "**Выводы**\n",
    "\n",
    "- В Северной Америке предпочтение отдается платформам компании Microsoft (XOne + X360 составляет около 40% продаж) и Sony (PS3 + PS4 составляет около 38% продаж). Самыми популярными жанрами являются Action и Shooter.\n",
    "\n",
    "- В Европе с большим отрывом лидируют платформы компании Sony (доля продаж PS3 + PS4 около 53%). Доля продаж XOne + X360 составляет около 24%. Самыми популярными жанрами являются Action и Shooter.\n",
    "\n",
    "- В Японии безоговорочным лидером является платформа 3DS японской компании Nintendo (около 48%). Ближайшим конкурентом можно назвать платформы компании Sony (PS3 + PS4 составляет около 28% продаж). Самыми популярными жанрами являются Role-Playing и Action.\n",
    "\n",
    "- В Северной Америке и Европе наиболее популярные игры имеют рейтинг M(17+). В Японии система ESRB не применяется, поэтому, вероятно, игры на японской платформе DS не имеют ретинга по ESRB."
   ]
  },
  {
   "cell_type": "markdown",
   "metadata": {},
   "source": [
    "### Проверка гипотез"
   ]
  },
  {
   "cell_type": "markdown",
   "metadata": {},
   "source": [
    "#### Средние пользовательские рейтинги платформ Xbox One и PC одинаковые"
   ]
  },
  {
   "cell_type": "markdown",
   "metadata": {},
   "source": [
    "**Нулевая гипотеза:**\n",
    "- H0 - средние пользовательские рейтинги платформ Xbox One и PC одинаковые.\n",
    "\n",
    "**Альтернативная гипотеза:**\n",
    "- Н1 - средние пользовательские рейтинги платформ Xbox One и PC разные.\n",
    "\n",
    "Пороговое значение - 5%\n",
    "\n",
    "Для проверки данной гипотезы возьмем данные за весь период и отбросим маркеры со значением 1000 в столбце `user_score`."
   ]
  },
  {
   "cell_type": "code",
   "execution_count": null,
   "metadata": {},
   "outputs": [],
   "source": [
    "data_user_score = data.loc[~(data['user_score'] == 1000)]\n",
    "data_XOne = data_user_score.loc[data_user_score['platform'] == 'XOne']\n",
    "data_XOne = data_XOne['user_score']\n",
    "\n",
    "data_PC = data_user_score.loc[data_user_score['platform'] == 'PC']\n",
    "data_PC = data_PC['user_score']\n",
    "\n",
    "alpha = 0.05\n",
    "results = st.ttest_ind(data_XOne, data_PC)\n",
    "print ('P-value:', results.pvalue)\n",
    "if results.pvalue < alpha:\n",
    "    print('Отвергаем Н0')\n",
    "else:\n",
    "    print('Не отвергаем Н0')"
   ]
  },
  {
   "cell_type": "code",
   "execution_count": null,
   "metadata": {},
   "outputs": [],
   "source": [
    "# Средний пользовательский рейтинг платформ XOne и PC\n",
    "print(data_XOne.mean())\n",
    "print(data_PC.mean())"
   ]
  },
  {
   "cell_type": "markdown",
   "metadata": {},
   "source": [
    "**Вывод**: отвергаем гипотезу о том, что средние пользовательские рейтинги платформ Xbox One и PC одинаковые, так как полученное значение p-value ниже заданного уровня значимости. Даже если взять более низкий общепринятый порог значимости (1%), то p-value все равно был бы гораздо ниже.  \n",
    "\n",
    "Есть все основания говорить, что рейтинги у данных платформ различны. Дополнительно подтверждаем, что средний пользовательский рейтинг платформы XOne ниже, чем у PC (6,5 против 7,1)."
   ]
  },
  {
   "cell_type": "markdown",
   "metadata": {},
   "source": [
    "#### Средние пользовательские рейтинги жанров Action и Sports разные"
   ]
  },
  {
   "cell_type": "markdown",
   "metadata": {},
   "source": [
    "В нулевой гипотезе принято использовать знак равенства. Поэтому сформулируем ее так:\n",
    "\n",
    "**Нулевая гипотеза:**\n",
    "- H0 - средние пользовательские рейтинги жанров Action и Sports одинаковые.\n",
    "\n",
    "**Альтернативная гипотеза:**\n",
    "- Н1 - средние пользовательские рейтинги жанров Action и Sports разные.\n",
    "\n",
    "Пороговое значение - 5%\n",
    "\n",
    "Для проверки данной гипотезы тоже берем данные за весь период с отброшенными маркерами (1000) в столбце `user_score`."
   ]
  },
  {
   "cell_type": "code",
   "execution_count": null,
   "metadata": {},
   "outputs": [],
   "source": [
    "data_action = data_user_score.loc[data_user_score['genre'] == 'Action']\n",
    "data_action = data_action['user_score']\n",
    "\n",
    "data_sports = data_user_score.loc[data_user_score['genre'] == 'Sports']\n",
    "data_sports = data_sports['user_score']\n",
    "\n",
    "alpha = 0.05\n",
    "results = st.ttest_ind(data_action, data_sports)\n",
    "print ('P-value:', results.pvalue)\n",
    "if results.pvalue < alpha:\n",
    "    print('Отвергаем Н0')\n",
    "else:\n",
    "    print('Не отвергаем Н0')"
   ]
  },
  {
   "cell_type": "code",
   "execution_count": null,
   "metadata": {},
   "outputs": [],
   "source": [
    "# Средний пользовательский рейтинг жанров Action и Sports\n",
    "print(data_action.mean())\n",
    "print(data_sports.mean())"
   ]
  },
  {
   "cell_type": "markdown",
   "metadata": {},
   "source": [
    "**Вывод**: не отвергаем гипотезу о том, что средние пользовательские рейтинги жанров Action и Sports одинаковые, так как полученное значение p-value превышает заданный уровень значимости. Cредний рейтинг жанра Action статистически значимо не отличается от среднего рейтинга жанра Sports."
   ]
  },
  {
   "cell_type": "markdown",
   "metadata": {},
   "source": [
    "### Общий вывод"
   ]
  },
  {
   "cell_type": "markdown",
   "metadata": {},
   "source": [
    "**Выполнена предобработка данных:**\n",
    "\n",
    "- Заменены названия столбцов.\n",
    "\n",
    "- Обработаны пропуски и выбросы.\n",
    "- Скорректированы типы данных.\n",
    "\n",
    "- Добавлен столбец `total_sales` с суммарными продажами по всем регионам.\n",
    "\n",
    "\n",
    "**Проведен исследовательский анализ данных:**\n",
    "\n",
    "- Основные годы выпуска игр пришлись на 2005-2010 г. Самой старейшей и популярной платформой является PS. До 2004 г эта платформа была монополистом на рынке, меняя лишь серию (PS, PS2 итп). Но в 2004-2006 гг появились крупные конкуренты (X360, Wii, DS). Жизненный цикл платформы составляет в среднем 10 лет.\n",
    "\n",
    "- Предполагаем, что перспективными платформами в 2017 г будут PS4, XOne, 3DS. Хотя пиковые значения их жизненногого цикла уже прошли, можно ожидать, что до 2018 года они еще будут приносить прибыль. Также в топ-5 попадают платформы WiiU (замена Wii) и PC (персональный компьютер, занимающий свою небольшую нишу).\n",
    "\n",
    "- У самых перспективных платформ PS4, 3DS, XOne однотипные диграммы размаха с большим количеством выбросов. Вероятно, на этих платформах представлены бестселлеры, которые и задают высокий уровень продаж. \n",
    "\n",
    "- В диаграммах для WiiU и PC гораздо меньше выбросов. Очевидно, на этих платформах объемы продаж различных игр распределены более-менее равномерно. \n",
    "\n",
    "- Для платформ PS4 и XOne взаимосвязи между продажами и оценками пользователей не наблюдается, об этом говорит коэффициент Пирсона близкий к 0. А вот для платформы WiiU коэффициент Пирсона между продажами и оценками пользователей показывает небольшую взаимосвязь. Так же для всех платформ наблюдается некоторая прямая взаимосвязь между продажами и оценками критиков.\n",
    "\n",
    "- Самыми продаваемыми жанрами являются Action, Shooter и Role-Playing (медианное значение выше всего у жанра Role-Playing). Меньше всего продаж у игр с жанрами Strategy и Puzzle. Отдельно можно выделить Adventure - весьма популярный жанр, но не имеющий больших суммарных продаж.\n",
    "\n",
    "\n",
    "**Исследованы продажи по регионам (NA, EU, JP):**\n",
    "\n",
    "- В Северной Америке предпочтение отдается платформам компании Microsoft (XOne + X360 составляет около 40% продаж) и Sony (PS3 + PS4 составляет около 38% продаж). Самыми популярными жанрами являются Action и Shooter.\n",
    "\n",
    "- В Европе с большим отрывом лидируют платформы компании Sony (доля продаж PS3 + PS4 около 53%). Доля продаж XOne + X360 составляет около 24%. Самыми популярными жанрами являются Action и Shooter.\n",
    "\n",
    "- В Японии безоговорочным лидером является платформа 3DS японской компании Nintendo (около 48%). Ближайшим конкурентом можно назвать платформы компании Sony (PS3 + PS4 составляет около 28% продаж). Самыми популярными жанрами являются Role-Playing и Action.\n",
    "\n",
    "- В Северной Америке и Европе наиболее популярные игры имеют рейтинг M(17+). В Японии система ESRB не применяется, поэтому, вероятно, игры на японской платформе DS не имеют ретинга по ESRB.\n",
    "\n",
    "**Проверены гипотезы:**\n",
    "\n",
    "- Средние пользовательские рейтинги платформ Xbox One и PC разные.\n",
    "- Не можем утверждать, что средние пользовательские рейтинги жанров Action и Sports разные. Cредний рейтинг жанра Action статистически значимо не отличается от среднего рейтинга жанра Sports.\n",
    "\n",
    "**Рекомендации:**\n",
    "\n",
    "В 2017 г. для каждого региона следует проводить свои маркетинговые кампании, ориентированные на популярные продукты именно на этом рынке: \n",
    "- В Северной Америке будут популярны игры в жанрах Action и Shooter на платформах PS4 и XOne (которые окончательно заменят PS3 и X360 соответственно).\n",
    "- В Европе будут наиболее популярны игры в жанрах Action и Shooter на платформе XOne (замена X360).\n",
    "- В Японии будут популярны игры в жанре Role-Playing на платформе 3DS (замена DS)."
   ]
  }
 ],
 "metadata": {
  "ExecuteTimeLog": [
   {
    "duration": 562,
    "start_time": "2023-06-26T09:12:09.811Z"
   },
   {
    "duration": 21,
    "start_time": "2023-06-26T09:12:34.551Z"
   },
   {
    "duration": 27,
    "start_time": "2023-06-26T09:12:47.925Z"
   },
   {
    "duration": 1062,
    "start_time": "2023-06-26T09:13:05.590Z"
   },
   {
    "duration": 10,
    "start_time": "2023-06-26T14:13:36.942Z"
   },
   {
    "duration": 1162,
    "start_time": "2023-06-26T14:56:52.074Z"
   },
   {
    "duration": 137,
    "start_time": "2023-06-26T14:57:01.681Z"
   },
   {
    "duration": 8,
    "start_time": "2023-06-26T14:57:01.820Z"
   },
   {
    "duration": 62,
    "start_time": "2023-06-26T14:57:01.830Z"
   },
   {
    "duration": 783,
    "start_time": "2023-06-26T14:57:01.894Z"
   },
   {
    "duration": 1093,
    "start_time": "2023-06-26T14:57:02.680Z"
   },
   {
    "duration": 1022,
    "start_time": "2023-06-26T14:57:52.428Z"
   },
   {
    "duration": 9,
    "start_time": "2023-06-26T14:59:50.532Z"
   },
   {
    "duration": 5,
    "start_time": "2023-06-26T15:00:03.737Z"
   },
   {
    "duration": 70,
    "start_time": "2023-06-26T15:09:35.236Z"
   },
   {
    "duration": 8,
    "start_time": "2023-06-26T15:09:35.308Z"
   },
   {
    "duration": 32,
    "start_time": "2023-06-26T15:09:35.317Z"
   },
   {
    "duration": 731,
    "start_time": "2023-06-26T15:09:35.359Z"
   },
   {
    "duration": 5,
    "start_time": "2023-06-26T15:09:36.093Z"
   },
   {
    "duration": 16,
    "start_time": "2023-06-26T15:09:36.099Z"
   },
   {
    "duration": 2,
    "start_time": "2023-06-26T15:09:54.578Z"
   },
   {
    "duration": 16,
    "start_time": "2023-06-26T15:10:08.192Z"
   },
   {
    "duration": 11,
    "start_time": "2023-06-26T15:12:00.436Z"
   },
   {
    "duration": 65,
    "start_time": "2023-06-26T15:13:56.755Z"
   },
   {
    "duration": 8,
    "start_time": "2023-06-26T15:14:00.847Z"
   },
   {
    "duration": 7,
    "start_time": "2023-06-26T15:14:21.839Z"
   },
   {
    "duration": 7,
    "start_time": "2023-06-26T15:16:28.100Z"
   },
   {
    "duration": 7,
    "start_time": "2023-06-26T15:16:43.516Z"
   },
   {
    "duration": 26,
    "start_time": "2023-06-26T15:17:47.331Z"
   },
   {
    "duration": 10,
    "start_time": "2023-06-26T15:18:08.077Z"
   },
   {
    "duration": 14,
    "start_time": "2023-06-26T15:21:29.859Z"
   },
   {
    "duration": 19,
    "start_time": "2023-06-26T19:55:13.111Z"
   },
   {
    "duration": 22,
    "start_time": "2023-06-26T19:55:39.920Z"
   },
   {
    "duration": 1934,
    "start_time": "2023-06-26T20:00:54.124Z"
   },
   {
    "duration": 10,
    "start_time": "2023-06-26T20:01:44.268Z"
   },
   {
    "duration": 8,
    "start_time": "2023-06-26T20:01:51.539Z"
   },
   {
    "duration": 17,
    "start_time": "2023-06-26T20:02:11.012Z"
   },
   {
    "duration": 18,
    "start_time": "2023-06-26T20:06:29.226Z"
   },
   {
    "duration": 8,
    "start_time": "2023-06-26T20:06:35.112Z"
   },
   {
    "duration": 8,
    "start_time": "2023-06-26T20:09:24.423Z"
   },
   {
    "duration": 20,
    "start_time": "2023-06-26T20:10:46.252Z"
   },
   {
    "duration": 10,
    "start_time": "2023-06-26T20:12:11.454Z"
   },
   {
    "duration": 20,
    "start_time": "2023-06-26T20:12:51.620Z"
   },
   {
    "duration": 46,
    "start_time": "2023-06-27T06:12:26.993Z"
   },
   {
    "duration": 474,
    "start_time": "2023-06-27T06:12:30.441Z"
   },
   {
    "duration": 8,
    "start_time": "2023-06-27T06:12:30.917Z"
   },
   {
    "duration": 61,
    "start_time": "2023-06-27T06:12:30.927Z"
   },
   {
    "duration": 1088,
    "start_time": "2023-06-27T06:12:30.989Z"
   },
   {
    "duration": 5,
    "start_time": "2023-06-27T06:12:32.080Z"
   },
   {
    "duration": 25,
    "start_time": "2023-06-27T06:12:32.086Z"
   },
   {
    "duration": 44,
    "start_time": "2023-06-27T06:12:32.113Z"
   },
   {
    "duration": 20,
    "start_time": "2023-06-27T06:12:32.158Z"
   },
   {
    "duration": 35,
    "start_time": "2023-06-27T06:12:32.180Z"
   },
   {
    "duration": 59,
    "start_time": "2023-06-27T06:12:32.216Z"
   },
   {
    "duration": 90,
    "start_time": "2023-06-27T06:12:32.277Z"
   },
   {
    "duration": 18,
    "start_time": "2023-06-27T06:14:19.252Z"
   },
   {
    "duration": 98,
    "start_time": "2023-06-27T14:21:49.514Z"
   },
   {
    "duration": 120,
    "start_time": "2023-06-27T14:22:03.149Z"
   },
   {
    "duration": 427,
    "start_time": "2023-06-27T14:22:25.311Z"
   },
   {
    "duration": 100,
    "start_time": "2023-06-27T14:22:57.519Z"
   },
   {
    "duration": 5,
    "start_time": "2023-06-27T14:27:15.968Z"
   },
   {
    "duration": 10,
    "start_time": "2023-06-27T14:34:33.837Z"
   },
   {
    "duration": 13,
    "start_time": "2023-06-27T14:36:49.663Z"
   },
   {
    "duration": 20,
    "start_time": "2023-06-27T14:58:28.666Z"
   },
   {
    "duration": 10,
    "start_time": "2023-06-27T14:58:31.615Z"
   },
   {
    "duration": 13,
    "start_time": "2023-06-27T14:59:27.761Z"
   },
   {
    "duration": 9,
    "start_time": "2023-06-27T15:00:32.980Z"
   },
   {
    "duration": 20,
    "start_time": "2023-06-27T15:01:01.375Z"
   },
   {
    "duration": 29,
    "start_time": "2023-06-27T15:01:30.816Z"
   },
   {
    "duration": 19,
    "start_time": "2023-06-27T15:01:52.175Z"
   },
   {
    "duration": 10,
    "start_time": "2023-06-27T15:02:33.703Z"
   },
   {
    "duration": 10,
    "start_time": "2023-06-27T15:02:59.292Z"
   },
   {
    "duration": 17,
    "start_time": "2023-06-27T15:34:24.550Z"
   },
   {
    "duration": 68,
    "start_time": "2023-06-27T15:34:57.758Z"
   },
   {
    "duration": 18,
    "start_time": "2023-06-27T15:35:01.224Z"
   },
   {
    "duration": 9,
    "start_time": "2023-06-27T15:36:28.577Z"
   },
   {
    "duration": 11,
    "start_time": "2023-06-27T15:36:35.741Z"
   },
   {
    "duration": 13,
    "start_time": "2023-06-27T15:36:40.430Z"
   },
   {
    "duration": 3,
    "start_time": "2023-06-27T15:36:59.085Z"
   },
   {
    "duration": 8,
    "start_time": "2023-06-27T15:37:14.102Z"
   },
   {
    "duration": 8,
    "start_time": "2023-06-27T15:37:19.606Z"
   },
   {
    "duration": 9,
    "start_time": "2023-06-27T15:37:40.140Z"
   },
   {
    "duration": 3,
    "start_time": "2023-06-27T15:38:00.286Z"
   },
   {
    "duration": 96,
    "start_time": "2023-06-27T15:38:00.291Z"
   },
   {
    "duration": 8,
    "start_time": "2023-06-27T15:38:00.389Z"
   },
   {
    "duration": 45,
    "start_time": "2023-06-27T15:38:00.399Z"
   },
   {
    "duration": 757,
    "start_time": "2023-06-27T15:38:00.446Z"
   },
   {
    "duration": 5,
    "start_time": "2023-06-27T15:38:01.204Z"
   },
   {
    "duration": 45,
    "start_time": "2023-06-27T15:38:01.211Z"
   },
   {
    "duration": 69,
    "start_time": "2023-06-27T15:38:01.258Z"
   },
   {
    "duration": 50,
    "start_time": "2023-06-27T15:38:01.328Z"
   },
   {
    "duration": 48,
    "start_time": "2023-06-27T15:38:01.381Z"
   },
   {
    "duration": 0,
    "start_time": "2023-06-27T15:38:01.431Z"
   },
   {
    "duration": 0,
    "start_time": "2023-06-27T15:38:01.432Z"
   },
   {
    "duration": 0,
    "start_time": "2023-06-27T15:38:01.433Z"
   },
   {
    "duration": 0,
    "start_time": "2023-06-27T15:38:01.434Z"
   },
   {
    "duration": 0,
    "start_time": "2023-06-27T15:38:01.435Z"
   },
   {
    "duration": 0,
    "start_time": "2023-06-27T15:38:01.436Z"
   },
   {
    "duration": 0,
    "start_time": "2023-06-27T15:38:01.437Z"
   },
   {
    "duration": 6,
    "start_time": "2023-06-27T15:38:24.589Z"
   },
   {
    "duration": 5,
    "start_time": "2023-06-27T15:40:26.897Z"
   },
   {
    "duration": 6,
    "start_time": "2023-06-27T15:41:11.345Z"
   },
   {
    "duration": 8,
    "start_time": "2023-06-27T15:42:04.159Z"
   },
   {
    "duration": 10,
    "start_time": "2023-06-27T15:42:10.933Z"
   },
   {
    "duration": 11,
    "start_time": "2023-06-27T15:43:12.543Z"
   },
   {
    "duration": 3,
    "start_time": "2023-06-27T15:45:25.412Z"
   },
   {
    "duration": 73,
    "start_time": "2023-06-27T15:45:25.417Z"
   },
   {
    "duration": 8,
    "start_time": "2023-06-27T15:45:25.492Z"
   },
   {
    "duration": 28,
    "start_time": "2023-06-27T15:45:25.501Z"
   },
   {
    "duration": 762,
    "start_time": "2023-06-27T15:45:25.530Z"
   },
   {
    "duration": 5,
    "start_time": "2023-06-27T15:45:26.294Z"
   },
   {
    "duration": 6,
    "start_time": "2023-06-27T15:45:26.300Z"
   },
   {
    "duration": 11,
    "start_time": "2023-06-27T15:45:26.308Z"
   },
   {
    "duration": 14,
    "start_time": "2023-06-27T15:45:26.320Z"
   },
   {
    "duration": 14,
    "start_time": "2023-06-27T15:45:26.335Z"
   },
   {
    "duration": 30,
    "start_time": "2023-06-27T15:45:26.351Z"
   },
   {
    "duration": 14,
    "start_time": "2023-06-27T15:45:26.383Z"
   },
   {
    "duration": 17,
    "start_time": "2023-06-27T15:45:26.399Z"
   },
   {
    "duration": 35,
    "start_time": "2023-06-27T15:45:26.419Z"
   },
   {
    "duration": 26,
    "start_time": "2023-06-27T15:45:26.456Z"
   },
   {
    "duration": 4,
    "start_time": "2023-06-27T16:07:18.297Z"
   },
   {
    "duration": 86,
    "start_time": "2023-06-27T16:17:19.204Z"
   },
   {
    "duration": 91,
    "start_time": "2023-06-27T16:17:25.249Z"
   },
   {
    "duration": 4,
    "start_time": "2023-06-27T16:17:35.429Z"
   },
   {
    "duration": 18,
    "start_time": "2023-06-27T16:17:43.116Z"
   },
   {
    "duration": 3,
    "start_time": "2023-06-27T16:18:28.064Z"
   },
   {
    "duration": 79,
    "start_time": "2023-06-27T16:18:28.069Z"
   },
   {
    "duration": 8,
    "start_time": "2023-06-27T16:18:28.150Z"
   },
   {
    "duration": 32,
    "start_time": "2023-06-27T16:18:28.159Z"
   },
   {
    "duration": 706,
    "start_time": "2023-06-27T16:18:28.193Z"
   },
   {
    "duration": 5,
    "start_time": "2023-06-27T16:18:28.901Z"
   },
   {
    "duration": 9,
    "start_time": "2023-06-27T16:18:28.907Z"
   },
   {
    "duration": 15,
    "start_time": "2023-06-27T16:18:28.917Z"
   },
   {
    "duration": 13,
    "start_time": "2023-06-27T16:18:28.934Z"
   },
   {
    "duration": 32,
    "start_time": "2023-06-27T16:18:28.949Z"
   },
   {
    "duration": 5,
    "start_time": "2023-06-27T16:18:28.983Z"
   },
   {
    "duration": 11,
    "start_time": "2023-06-27T16:18:28.990Z"
   },
   {
    "duration": 12,
    "start_time": "2023-06-27T16:18:29.003Z"
   },
   {
    "duration": 20,
    "start_time": "2023-06-27T16:18:29.017Z"
   },
   {
    "duration": 0,
    "start_time": "2023-06-27T16:18:29.039Z"
   },
   {
    "duration": 0,
    "start_time": "2023-06-27T16:18:29.040Z"
   },
   {
    "duration": 5,
    "start_time": "2023-06-27T16:20:28.528Z"
   },
   {
    "duration": 9,
    "start_time": "2023-06-27T16:21:05.010Z"
   },
   {
    "duration": 7,
    "start_time": "2023-06-27T16:21:57.724Z"
   },
   {
    "duration": 5,
    "start_time": "2023-06-27T16:22:02.056Z"
   },
   {
    "duration": 7,
    "start_time": "2023-06-27T16:22:04.548Z"
   },
   {
    "duration": 3,
    "start_time": "2023-06-27T16:22:08.864Z"
   },
   {
    "duration": 91,
    "start_time": "2023-06-27T16:22:08.869Z"
   },
   {
    "duration": 9,
    "start_time": "2023-06-27T16:22:08.961Z"
   },
   {
    "duration": 35,
    "start_time": "2023-06-27T16:22:08.972Z"
   },
   {
    "duration": 716,
    "start_time": "2023-06-27T16:22:09.009Z"
   },
   {
    "duration": 5,
    "start_time": "2023-06-27T16:22:09.727Z"
   },
   {
    "duration": 8,
    "start_time": "2023-06-27T16:22:09.734Z"
   },
   {
    "duration": 34,
    "start_time": "2023-06-27T16:22:09.744Z"
   },
   {
    "duration": 27,
    "start_time": "2023-06-27T16:22:09.780Z"
   },
   {
    "duration": 15,
    "start_time": "2023-06-27T16:22:09.810Z"
   },
   {
    "duration": 11,
    "start_time": "2023-06-27T16:22:09.826Z"
   },
   {
    "duration": 12,
    "start_time": "2023-06-27T16:22:09.838Z"
   },
   {
    "duration": 4,
    "start_time": "2023-06-27T16:22:09.852Z"
   },
   {
    "duration": 24,
    "start_time": "2023-06-27T16:22:09.858Z"
   },
   {
    "duration": 28,
    "start_time": "2023-06-27T16:22:09.884Z"
   },
   {
    "duration": 7,
    "start_time": "2023-06-27T16:22:09.914Z"
   },
   {
    "duration": 10,
    "start_time": "2023-06-27T16:22:23.060Z"
   },
   {
    "duration": 22,
    "start_time": "2023-06-27T16:23:34.726Z"
   },
   {
    "duration": 4,
    "start_time": "2023-06-27T16:40:57.551Z"
   },
   {
    "duration": 19,
    "start_time": "2023-06-27T16:40:59.773Z"
   },
   {
    "duration": 6,
    "start_time": "2023-06-27T16:51:15.459Z"
   },
   {
    "duration": 11,
    "start_time": "2023-06-27T16:51:31.032Z"
   },
   {
    "duration": 4,
    "start_time": "2023-06-27T16:58:48.708Z"
   },
   {
    "duration": 4,
    "start_time": "2023-06-27T16:59:17.860Z"
   },
   {
    "duration": 10,
    "start_time": "2023-06-27T16:59:22.164Z"
   },
   {
    "duration": 3,
    "start_time": "2023-06-27T16:59:35.263Z"
   },
   {
    "duration": 76,
    "start_time": "2023-06-27T16:59:35.268Z"
   },
   {
    "duration": 11,
    "start_time": "2023-06-27T16:59:35.345Z"
   },
   {
    "duration": 119,
    "start_time": "2023-06-27T16:59:35.357Z"
   },
   {
    "duration": 715,
    "start_time": "2023-06-27T16:59:35.478Z"
   },
   {
    "duration": 5,
    "start_time": "2023-06-27T16:59:36.195Z"
   },
   {
    "duration": 7,
    "start_time": "2023-06-27T16:59:36.201Z"
   },
   {
    "duration": 15,
    "start_time": "2023-06-27T16:59:36.210Z"
   },
   {
    "duration": 15,
    "start_time": "2023-06-27T16:59:36.227Z"
   },
   {
    "duration": 36,
    "start_time": "2023-06-27T16:59:36.244Z"
   },
   {
    "duration": 15,
    "start_time": "2023-06-27T16:59:36.282Z"
   },
   {
    "duration": 13,
    "start_time": "2023-06-27T16:59:36.299Z"
   },
   {
    "duration": 21,
    "start_time": "2023-06-27T16:59:36.314Z"
   },
   {
    "duration": 7,
    "start_time": "2023-06-27T16:59:36.338Z"
   },
   {
    "duration": 24,
    "start_time": "2023-06-27T16:59:36.346Z"
   },
   {
    "duration": 20,
    "start_time": "2023-06-27T16:59:36.372Z"
   },
   {
    "duration": 28,
    "start_time": "2023-06-27T16:59:36.394Z"
   },
   {
    "duration": 4,
    "start_time": "2023-06-27T16:59:36.423Z"
   },
   {
    "duration": 15,
    "start_time": "2023-06-27T16:59:36.429Z"
   },
   {
    "duration": 11,
    "start_time": "2023-06-27T16:59:36.445Z"
   },
   {
    "duration": 9,
    "start_time": "2023-06-27T17:00:53.813Z"
   },
   {
    "duration": 9,
    "start_time": "2023-06-27T17:01:22.715Z"
   },
   {
    "duration": 6,
    "start_time": "2023-06-27T17:04:00.652Z"
   },
   {
    "duration": 3,
    "start_time": "2023-06-27T17:04:08.305Z"
   },
   {
    "duration": 96,
    "start_time": "2023-06-27T17:04:08.314Z"
   },
   {
    "duration": 8,
    "start_time": "2023-06-27T17:04:08.412Z"
   },
   {
    "duration": 31,
    "start_time": "2023-06-27T17:04:08.421Z"
   },
   {
    "duration": 691,
    "start_time": "2023-06-27T17:04:08.454Z"
   },
   {
    "duration": 5,
    "start_time": "2023-06-27T17:04:09.147Z"
   },
   {
    "duration": 25,
    "start_time": "2023-06-27T17:04:09.153Z"
   },
   {
    "duration": 0,
    "start_time": "2023-06-27T17:04:09.180Z"
   },
   {
    "duration": 0,
    "start_time": "2023-06-27T17:04:09.181Z"
   },
   {
    "duration": 0,
    "start_time": "2023-06-27T17:04:09.183Z"
   },
   {
    "duration": 0,
    "start_time": "2023-06-27T17:04:09.184Z"
   },
   {
    "duration": 1,
    "start_time": "2023-06-27T17:04:09.185Z"
   },
   {
    "duration": 0,
    "start_time": "2023-06-27T17:04:09.187Z"
   },
   {
    "duration": 0,
    "start_time": "2023-06-27T17:04:09.188Z"
   },
   {
    "duration": 0,
    "start_time": "2023-06-27T17:04:09.189Z"
   },
   {
    "duration": 0,
    "start_time": "2023-06-27T17:04:09.190Z"
   },
   {
    "duration": 0,
    "start_time": "2023-06-27T17:04:09.191Z"
   },
   {
    "duration": 0,
    "start_time": "2023-06-27T17:04:09.192Z"
   },
   {
    "duration": 0,
    "start_time": "2023-06-27T17:04:09.193Z"
   },
   {
    "duration": 0,
    "start_time": "2023-06-27T17:04:09.194Z"
   },
   {
    "duration": 0,
    "start_time": "2023-06-27T17:04:09.196Z"
   },
   {
    "duration": 12,
    "start_time": "2023-06-27T17:04:44.254Z"
   },
   {
    "duration": 4,
    "start_time": "2023-06-27T17:04:47.230Z"
   },
   {
    "duration": 93,
    "start_time": "2023-06-27T17:04:47.236Z"
   },
   {
    "duration": 10,
    "start_time": "2023-06-27T17:04:47.331Z"
   },
   {
    "duration": 45,
    "start_time": "2023-06-27T17:04:47.343Z"
   },
   {
    "duration": 676,
    "start_time": "2023-06-27T17:04:47.390Z"
   },
   {
    "duration": 5,
    "start_time": "2023-06-27T17:04:48.074Z"
   },
   {
    "duration": 15,
    "start_time": "2023-06-27T17:04:48.081Z"
   },
   {
    "duration": 0,
    "start_time": "2023-06-27T17:04:48.098Z"
   },
   {
    "duration": 0,
    "start_time": "2023-06-27T17:04:48.099Z"
   },
   {
    "duration": 0,
    "start_time": "2023-06-27T17:04:48.100Z"
   },
   {
    "duration": 0,
    "start_time": "2023-06-27T17:04:48.101Z"
   },
   {
    "duration": 1,
    "start_time": "2023-06-27T17:04:48.102Z"
   },
   {
    "duration": 0,
    "start_time": "2023-06-27T17:04:48.104Z"
   },
   {
    "duration": 0,
    "start_time": "2023-06-27T17:04:48.105Z"
   },
   {
    "duration": 0,
    "start_time": "2023-06-27T17:04:48.106Z"
   },
   {
    "duration": 0,
    "start_time": "2023-06-27T17:04:48.107Z"
   },
   {
    "duration": 0,
    "start_time": "2023-06-27T17:04:48.108Z"
   },
   {
    "duration": 0,
    "start_time": "2023-06-27T17:04:48.109Z"
   },
   {
    "duration": 0,
    "start_time": "2023-06-27T17:04:48.110Z"
   },
   {
    "duration": 0,
    "start_time": "2023-06-27T17:04:48.111Z"
   },
   {
    "duration": 0,
    "start_time": "2023-06-27T17:04:48.112Z"
   },
   {
    "duration": 3,
    "start_time": "2023-06-27T17:05:32.245Z"
   },
   {
    "duration": 88,
    "start_time": "2023-06-27T17:05:32.250Z"
   },
   {
    "duration": 10,
    "start_time": "2023-06-27T17:05:32.339Z"
   },
   {
    "duration": 35,
    "start_time": "2023-06-27T17:05:32.350Z"
   },
   {
    "duration": 863,
    "start_time": "2023-06-27T17:05:32.387Z"
   },
   {
    "duration": 5,
    "start_time": "2023-06-27T17:05:33.252Z"
   },
   {
    "duration": 23,
    "start_time": "2023-06-27T17:05:33.258Z"
   },
   {
    "duration": 18,
    "start_time": "2023-06-27T17:05:33.282Z"
   },
   {
    "duration": 29,
    "start_time": "2023-06-27T17:05:33.301Z"
   },
   {
    "duration": 22,
    "start_time": "2023-06-27T17:05:33.332Z"
   },
   {
    "duration": 13,
    "start_time": "2023-06-27T17:05:33.356Z"
   },
   {
    "duration": 14,
    "start_time": "2023-06-27T17:05:33.371Z"
   },
   {
    "duration": 19,
    "start_time": "2023-06-27T17:05:33.387Z"
   },
   {
    "duration": 21,
    "start_time": "2023-06-27T17:05:33.409Z"
   },
   {
    "duration": 26,
    "start_time": "2023-06-27T17:05:33.431Z"
   },
   {
    "duration": 42,
    "start_time": "2023-06-27T17:05:33.459Z"
   },
   {
    "duration": 48,
    "start_time": "2023-06-27T17:05:33.503Z"
   },
   {
    "duration": 20,
    "start_time": "2023-06-27T17:05:33.553Z"
   },
   {
    "duration": 49,
    "start_time": "2023-06-27T17:05:33.574Z"
   },
   {
    "duration": 29,
    "start_time": "2023-06-27T17:05:33.625Z"
   },
   {
    "duration": 12,
    "start_time": "2023-06-27T17:06:48.946Z"
   },
   {
    "duration": 4,
    "start_time": "2023-06-27T17:07:38.432Z"
   },
   {
    "duration": 3,
    "start_time": "2023-06-27T17:07:41.112Z"
   },
   {
    "duration": 76,
    "start_time": "2023-06-27T17:07:41.117Z"
   },
   {
    "duration": 9,
    "start_time": "2023-06-27T17:07:41.195Z"
   },
   {
    "duration": 78,
    "start_time": "2023-06-27T17:07:41.205Z"
   },
   {
    "duration": 754,
    "start_time": "2023-06-27T17:07:41.285Z"
   },
   {
    "duration": 5,
    "start_time": "2023-06-27T17:07:42.040Z"
   },
   {
    "duration": 15,
    "start_time": "2023-06-27T17:07:42.047Z"
   },
   {
    "duration": 14,
    "start_time": "2023-06-27T17:07:42.063Z"
   },
   {
    "duration": 24,
    "start_time": "2023-06-27T17:07:42.078Z"
   },
   {
    "duration": 14,
    "start_time": "2023-06-27T17:07:42.104Z"
   },
   {
    "duration": 13,
    "start_time": "2023-06-27T17:07:42.120Z"
   },
   {
    "duration": 6,
    "start_time": "2023-06-27T17:07:42.135Z"
   },
   {
    "duration": 13,
    "start_time": "2023-06-27T17:07:42.143Z"
   },
   {
    "duration": 9,
    "start_time": "2023-06-27T17:07:42.175Z"
   },
   {
    "duration": 13,
    "start_time": "2023-06-27T17:07:42.186Z"
   },
   {
    "duration": 21,
    "start_time": "2023-06-27T17:07:42.201Z"
   },
   {
    "duration": 30,
    "start_time": "2023-06-27T17:07:42.224Z"
   },
   {
    "duration": 4,
    "start_time": "2023-06-27T17:07:42.256Z"
   },
   {
    "duration": 14,
    "start_time": "2023-06-27T17:07:42.261Z"
   },
   {
    "duration": 33,
    "start_time": "2023-06-27T17:07:42.277Z"
   },
   {
    "duration": 13,
    "start_time": "2023-06-27T17:07:42.312Z"
   },
   {
    "duration": 5,
    "start_time": "2023-06-27T17:12:33.540Z"
   },
   {
    "duration": 16,
    "start_time": "2023-06-27T17:12:47.435Z"
   },
   {
    "duration": 129,
    "start_time": "2023-06-27T17:18:09.499Z"
   },
   {
    "duration": 158,
    "start_time": "2023-06-27T17:18:24.738Z"
   },
   {
    "duration": 161,
    "start_time": "2023-06-27T17:18:35.572Z"
   },
   {
    "duration": 189,
    "start_time": "2023-06-27T17:18:57.135Z"
   },
   {
    "duration": 162,
    "start_time": "2023-06-27T17:19:29.454Z"
   },
   {
    "duration": 312,
    "start_time": "2023-06-27T17:20:12.115Z"
   },
   {
    "duration": 163,
    "start_time": "2023-06-27T17:20:58.657Z"
   },
   {
    "duration": 241,
    "start_time": "2023-06-27T17:21:06.808Z"
   },
   {
    "duration": 174,
    "start_time": "2023-06-27T17:21:18.895Z"
   },
   {
    "duration": 152,
    "start_time": "2023-06-27T17:21:37.659Z"
   },
   {
    "duration": 193,
    "start_time": "2023-06-27T17:21:43.225Z"
   },
   {
    "duration": 186,
    "start_time": "2023-06-27T17:22:00.083Z"
   },
   {
    "duration": 106,
    "start_time": "2023-06-27T17:22:29.529Z"
   },
   {
    "duration": 2197,
    "start_time": "2023-06-27T18:25:00.569Z"
   },
   {
    "duration": 3,
    "start_time": "2023-06-27T18:25:06.032Z"
   },
   {
    "duration": 75,
    "start_time": "2023-06-27T18:25:06.037Z"
   },
   {
    "duration": 9,
    "start_time": "2023-06-27T18:25:06.114Z"
   },
   {
    "duration": 30,
    "start_time": "2023-06-27T18:25:06.124Z"
   },
   {
    "duration": 726,
    "start_time": "2023-06-27T18:25:06.156Z"
   },
   {
    "duration": 4,
    "start_time": "2023-06-27T18:25:06.884Z"
   },
   {
    "duration": 25,
    "start_time": "2023-06-27T18:25:06.889Z"
   },
   {
    "duration": 4,
    "start_time": "2023-06-27T18:25:06.915Z"
   },
   {
    "duration": 18,
    "start_time": "2023-06-27T18:25:06.920Z"
   },
   {
    "duration": 11,
    "start_time": "2023-06-27T18:25:06.940Z"
   },
   {
    "duration": 2397,
    "start_time": "2023-06-27T18:25:06.952Z"
   },
   {
    "duration": 0,
    "start_time": "2023-06-27T18:25:09.352Z"
   },
   {
    "duration": 0,
    "start_time": "2023-06-27T18:25:09.353Z"
   },
   {
    "duration": 0,
    "start_time": "2023-06-27T18:25:09.354Z"
   },
   {
    "duration": 0,
    "start_time": "2023-06-27T18:25:09.355Z"
   },
   {
    "duration": 0,
    "start_time": "2023-06-27T18:25:09.356Z"
   },
   {
    "duration": 0,
    "start_time": "2023-06-27T18:25:09.357Z"
   },
   {
    "duration": 0,
    "start_time": "2023-06-27T18:25:09.358Z"
   },
   {
    "duration": 0,
    "start_time": "2023-06-27T18:25:09.359Z"
   },
   {
    "duration": 0,
    "start_time": "2023-06-27T18:25:09.360Z"
   },
   {
    "duration": 0,
    "start_time": "2023-06-27T18:25:09.361Z"
   },
   {
    "duration": 0,
    "start_time": "2023-06-27T18:25:09.362Z"
   },
   {
    "duration": 0,
    "start_time": "2023-06-27T18:25:09.363Z"
   },
   {
    "duration": 0,
    "start_time": "2023-06-27T18:25:09.364Z"
   },
   {
    "duration": 14,
    "start_time": "2023-06-27T18:25:27.670Z"
   },
   {
    "duration": 3,
    "start_time": "2023-06-27T18:25:30.754Z"
   },
   {
    "duration": 125,
    "start_time": "2023-06-27T18:25:30.759Z"
   },
   {
    "duration": 9,
    "start_time": "2023-06-27T18:25:30.885Z"
   },
   {
    "duration": 80,
    "start_time": "2023-06-27T18:25:30.895Z"
   },
   {
    "duration": 904,
    "start_time": "2023-06-27T18:25:30.976Z"
   },
   {
    "duration": 5,
    "start_time": "2023-06-27T18:25:31.882Z"
   },
   {
    "duration": 25,
    "start_time": "2023-06-27T18:25:31.889Z"
   },
   {
    "duration": 13,
    "start_time": "2023-06-27T18:25:31.915Z"
   },
   {
    "duration": 28,
    "start_time": "2023-06-27T18:25:31.930Z"
   },
   {
    "duration": 22,
    "start_time": "2023-06-27T18:25:31.961Z"
   },
   {
    "duration": 26,
    "start_time": "2023-06-27T18:25:31.985Z"
   },
   {
    "duration": 8,
    "start_time": "2023-06-27T18:25:32.012Z"
   },
   {
    "duration": 11,
    "start_time": "2023-06-27T18:25:32.022Z"
   },
   {
    "duration": 16,
    "start_time": "2023-06-27T18:25:32.035Z"
   },
   {
    "duration": 9,
    "start_time": "2023-06-27T18:25:32.052Z"
   },
   {
    "duration": 8,
    "start_time": "2023-06-27T18:25:32.062Z"
   },
   {
    "duration": 14,
    "start_time": "2023-06-27T18:25:32.071Z"
   },
   {
    "duration": 29,
    "start_time": "2023-06-27T18:25:32.086Z"
   },
   {
    "duration": 4,
    "start_time": "2023-06-27T18:25:32.116Z"
   },
   {
    "duration": 15,
    "start_time": "2023-06-27T18:25:32.122Z"
   },
   {
    "duration": 22,
    "start_time": "2023-06-27T18:25:32.138Z"
   },
   {
    "duration": 9,
    "start_time": "2023-06-27T18:25:32.162Z"
   },
   {
    "duration": 15,
    "start_time": "2023-06-27T18:25:32.172Z"
   },
   {
    "duration": 164,
    "start_time": "2023-06-27T18:25:32.188Z"
   },
   {
    "duration": 7,
    "start_time": "2023-06-27T18:26:14.941Z"
   },
   {
    "duration": 151,
    "start_time": "2023-06-27T18:30:29.721Z"
   },
   {
    "duration": 15,
    "start_time": "2023-06-27T18:32:24.761Z"
   },
   {
    "duration": 262,
    "start_time": "2023-06-27T18:32:38.983Z"
   },
   {
    "duration": 245,
    "start_time": "2023-06-27T18:32:47.230Z"
   },
   {
    "duration": 266,
    "start_time": "2023-06-27T18:34:10.744Z"
   },
   {
    "duration": 298,
    "start_time": "2023-06-27T18:35:44.620Z"
   },
   {
    "duration": 276,
    "start_time": "2023-06-27T18:36:38.228Z"
   },
   {
    "duration": 311,
    "start_time": "2023-06-27T18:36:51.040Z"
   },
   {
    "duration": 275,
    "start_time": "2023-06-27T18:36:57.600Z"
   },
   {
    "duration": 284,
    "start_time": "2023-06-27T18:37:23.056Z"
   },
   {
    "duration": 331,
    "start_time": "2023-06-27T18:37:33.796Z"
   },
   {
    "duration": 321,
    "start_time": "2023-06-27T18:37:43.650Z"
   },
   {
    "duration": 278,
    "start_time": "2023-06-27T18:37:48.727Z"
   },
   {
    "duration": 43,
    "start_time": "2023-06-27T18:38:18.581Z"
   },
   {
    "duration": 16,
    "start_time": "2023-06-27T18:38:43.973Z"
   },
   {
    "duration": 16,
    "start_time": "2023-06-27T18:40:56.146Z"
   },
   {
    "duration": 496,
    "start_time": "2023-06-27T18:41:10.823Z"
   },
   {
    "duration": 293,
    "start_time": "2023-06-27T18:41:25.246Z"
   },
   {
    "duration": 322,
    "start_time": "2023-06-27T18:43:41.429Z"
   },
   {
    "duration": 5,
    "start_time": "2023-06-27T18:49:21.805Z"
   },
   {
    "duration": 10,
    "start_time": "2023-06-27T18:49:33.263Z"
   },
   {
    "duration": 9,
    "start_time": "2023-06-27T18:53:22.577Z"
   },
   {
    "duration": 2,
    "start_time": "2023-06-27T18:53:27.562Z"
   },
   {
    "duration": 77,
    "start_time": "2023-06-27T18:53:27.567Z"
   },
   {
    "duration": 8,
    "start_time": "2023-06-27T18:53:27.645Z"
   },
   {
    "duration": 37,
    "start_time": "2023-06-27T18:53:27.655Z"
   },
   {
    "duration": 744,
    "start_time": "2023-06-27T18:53:27.693Z"
   },
   {
    "duration": 4,
    "start_time": "2023-06-27T18:53:28.439Z"
   },
   {
    "duration": 13,
    "start_time": "2023-06-27T18:53:28.445Z"
   },
   {
    "duration": 3,
    "start_time": "2023-06-27T18:53:28.459Z"
   },
   {
    "duration": 19,
    "start_time": "2023-06-27T18:53:28.475Z"
   },
   {
    "duration": 12,
    "start_time": "2023-06-27T18:53:28.497Z"
   },
   {
    "duration": 15,
    "start_time": "2023-06-27T18:53:28.511Z"
   },
   {
    "duration": 9,
    "start_time": "2023-06-27T18:53:28.527Z"
   },
   {
    "duration": 3,
    "start_time": "2023-06-27T18:53:28.538Z"
   },
   {
    "duration": 36,
    "start_time": "2023-06-27T18:53:28.543Z"
   },
   {
    "duration": 9,
    "start_time": "2023-06-27T18:53:28.580Z"
   },
   {
    "duration": 7,
    "start_time": "2023-06-27T18:53:28.591Z"
   },
   {
    "duration": 10,
    "start_time": "2023-06-27T18:53:28.599Z"
   },
   {
    "duration": 20,
    "start_time": "2023-06-27T18:53:28.610Z"
   },
   {
    "duration": 4,
    "start_time": "2023-06-27T18:53:28.632Z"
   },
   {
    "duration": 10,
    "start_time": "2023-06-27T18:53:28.637Z"
   },
   {
    "duration": 14,
    "start_time": "2023-06-27T18:53:28.675Z"
   },
   {
    "duration": 8,
    "start_time": "2023-06-27T18:53:28.691Z"
   },
   {
    "duration": 19,
    "start_time": "2023-06-27T18:53:28.701Z"
   },
   {
    "duration": 196,
    "start_time": "2023-06-27T18:53:28.722Z"
   },
   {
    "duration": 302,
    "start_time": "2023-06-27T18:53:28.920Z"
   },
   {
    "duration": 17,
    "start_time": "2023-06-27T18:53:29.224Z"
   },
   {
    "duration": 23,
    "start_time": "2023-06-27T18:53:47.539Z"
   },
   {
    "duration": 16,
    "start_time": "2023-06-27T18:56:46.469Z"
   },
   {
    "duration": 13,
    "start_time": "2023-06-27T18:56:52.637Z"
   },
   {
    "duration": 305,
    "start_time": "2023-06-27T18:57:24.730Z"
   },
   {
    "duration": 28,
    "start_time": "2023-06-27T18:58:05.181Z"
   },
   {
    "duration": 135,
    "start_time": "2023-06-27T19:03:01.191Z"
   },
   {
    "duration": 134,
    "start_time": "2023-06-27T19:03:46.489Z"
   },
   {
    "duration": 1372,
    "start_time": "2023-06-28T10:02:09.957Z"
   },
   {
    "duration": 210,
    "start_time": "2023-06-28T10:02:11.330Z"
   },
   {
    "duration": 12,
    "start_time": "2023-06-28T10:02:11.542Z"
   },
   {
    "duration": 32,
    "start_time": "2023-06-28T10:02:11.556Z"
   },
   {
    "duration": 803,
    "start_time": "2023-06-28T10:02:11.589Z"
   },
   {
    "duration": 5,
    "start_time": "2023-06-28T10:02:12.393Z"
   },
   {
    "duration": 17,
    "start_time": "2023-06-28T10:02:12.400Z"
   },
   {
    "duration": 6,
    "start_time": "2023-06-28T10:02:12.420Z"
   },
   {
    "duration": 32,
    "start_time": "2023-06-28T10:02:12.428Z"
   },
   {
    "duration": 11,
    "start_time": "2023-06-28T10:02:12.463Z"
   },
   {
    "duration": 13,
    "start_time": "2023-06-28T10:02:12.476Z"
   },
   {
    "duration": 11,
    "start_time": "2023-06-28T10:02:12.490Z"
   },
   {
    "duration": 4,
    "start_time": "2023-06-28T10:02:12.503Z"
   },
   {
    "duration": 13,
    "start_time": "2023-06-28T10:02:12.508Z"
   },
   {
    "duration": 35,
    "start_time": "2023-06-28T10:02:12.523Z"
   },
   {
    "duration": 7,
    "start_time": "2023-06-28T10:02:12.559Z"
   },
   {
    "duration": 9,
    "start_time": "2023-06-28T10:02:12.568Z"
   },
   {
    "duration": 22,
    "start_time": "2023-06-28T10:02:12.578Z"
   },
   {
    "duration": 5,
    "start_time": "2023-06-28T10:02:12.602Z"
   },
   {
    "duration": 18,
    "start_time": "2023-06-28T10:02:12.608Z"
   },
   {
    "duration": 15,
    "start_time": "2023-06-28T10:02:12.656Z"
   },
   {
    "duration": 10,
    "start_time": "2023-06-28T10:02:12.673Z"
   },
   {
    "duration": 27,
    "start_time": "2023-06-28T10:02:12.686Z"
   },
   {
    "duration": 215,
    "start_time": "2023-06-28T10:02:12.716Z"
   },
   {
    "duration": 365,
    "start_time": "2023-06-28T10:02:12.933Z"
   },
   {
    "duration": 31,
    "start_time": "2023-06-28T10:02:13.300Z"
   },
   {
    "duration": 171,
    "start_time": "2023-06-28T10:02:13.332Z"
   },
   {
    "duration": 102,
    "start_time": "2023-06-28T10:04:37.486Z"
   },
   {
    "duration": 167,
    "start_time": "2023-06-28T10:04:52.515Z"
   },
   {
    "duration": 20,
    "start_time": "2023-06-28T10:05:06.235Z"
   },
   {
    "duration": 16,
    "start_time": "2023-06-28T10:05:14.747Z"
   },
   {
    "duration": 276,
    "start_time": "2023-06-28T10:05:42.470Z"
   },
   {
    "duration": 1323,
    "start_time": "2023-06-28T10:07:56.597Z"
   },
   {
    "duration": 1082,
    "start_time": "2023-06-28T10:08:42.860Z"
   },
   {
    "duration": 1143,
    "start_time": "2023-06-28T10:08:52.757Z"
   },
   {
    "duration": 13,
    "start_time": "2023-06-28T10:09:24.572Z"
   },
   {
    "duration": 115,
    "start_time": "2023-06-28T10:17:12.899Z"
   },
   {
    "duration": 31,
    "start_time": "2023-06-28T10:17:41.299Z"
   },
   {
    "duration": 94,
    "start_time": "2023-06-28T10:17:47.990Z"
   },
   {
    "duration": 583,
    "start_time": "2023-06-28T10:17:55.186Z"
   },
   {
    "duration": 10,
    "start_time": "2023-06-28T10:18:13.716Z"
   },
   {
    "duration": 9,
    "start_time": "2023-06-28T10:18:19.717Z"
   },
   {
    "duration": 2,
    "start_time": "2023-06-28T10:18:32.490Z"
   },
   {
    "duration": 104,
    "start_time": "2023-06-28T10:18:32.494Z"
   },
   {
    "duration": 15,
    "start_time": "2023-06-28T10:18:32.600Z"
   },
   {
    "duration": 65,
    "start_time": "2023-06-28T10:18:32.617Z"
   },
   {
    "duration": 860,
    "start_time": "2023-06-28T10:18:32.685Z"
   },
   {
    "duration": 11,
    "start_time": "2023-06-28T10:18:33.547Z"
   },
   {
    "duration": 36,
    "start_time": "2023-06-28T10:18:33.559Z"
   },
   {
    "duration": 16,
    "start_time": "2023-06-28T10:18:33.597Z"
   },
   {
    "duration": 23,
    "start_time": "2023-06-28T10:18:33.615Z"
   },
   {
    "duration": 13,
    "start_time": "2023-06-28T10:18:33.640Z"
   },
   {
    "duration": 18,
    "start_time": "2023-06-28T10:18:33.655Z"
   },
   {
    "duration": 16,
    "start_time": "2023-06-28T10:18:33.674Z"
   },
   {
    "duration": 31,
    "start_time": "2023-06-28T10:18:33.692Z"
   },
   {
    "duration": 17,
    "start_time": "2023-06-28T10:18:33.727Z"
   },
   {
    "duration": 10,
    "start_time": "2023-06-28T10:18:33.746Z"
   },
   {
    "duration": 25,
    "start_time": "2023-06-28T10:18:33.758Z"
   },
   {
    "duration": 22,
    "start_time": "2023-06-28T10:18:33.784Z"
   },
   {
    "duration": 41,
    "start_time": "2023-06-28T10:18:33.808Z"
   },
   {
    "duration": 4,
    "start_time": "2023-06-28T10:18:33.852Z"
   },
   {
    "duration": 16,
    "start_time": "2023-06-28T10:18:33.858Z"
   },
   {
    "duration": 22,
    "start_time": "2023-06-28T10:18:33.876Z"
   },
   {
    "duration": 10,
    "start_time": "2023-06-28T10:18:33.900Z"
   },
   {
    "duration": 23,
    "start_time": "2023-06-28T10:18:33.911Z"
   },
   {
    "duration": 196,
    "start_time": "2023-06-28T10:18:33.936Z"
   },
   {
    "duration": 357,
    "start_time": "2023-06-28T10:18:34.134Z"
   },
   {
    "duration": 29,
    "start_time": "2023-06-28T10:18:34.493Z"
   },
   {
    "duration": 646,
    "start_time": "2023-06-28T10:18:34.523Z"
   },
   {
    "duration": 9,
    "start_time": "2023-06-28T10:19:14.389Z"
   },
   {
    "duration": 4,
    "start_time": "2023-06-28T10:19:17.941Z"
   },
   {
    "duration": 97,
    "start_time": "2023-06-28T10:19:17.947Z"
   },
   {
    "duration": 10,
    "start_time": "2023-06-28T10:19:18.045Z"
   },
   {
    "duration": 49,
    "start_time": "2023-06-28T10:19:18.057Z"
   },
   {
    "duration": 851,
    "start_time": "2023-06-28T10:19:18.109Z"
   },
   {
    "duration": 6,
    "start_time": "2023-06-28T10:19:18.962Z"
   },
   {
    "duration": 20,
    "start_time": "2023-06-28T10:19:18.969Z"
   },
   {
    "duration": 3,
    "start_time": "2023-06-28T10:19:18.992Z"
   },
   {
    "duration": 18,
    "start_time": "2023-06-28T10:19:18.997Z"
   },
   {
    "duration": 12,
    "start_time": "2023-06-28T10:19:19.016Z"
   },
   {
    "duration": 36,
    "start_time": "2023-06-28T10:19:19.030Z"
   },
   {
    "duration": 7,
    "start_time": "2023-06-28T10:19:19.068Z"
   },
   {
    "duration": 4,
    "start_time": "2023-06-28T10:19:19.076Z"
   },
   {
    "duration": 10,
    "start_time": "2023-06-28T10:19:19.083Z"
   },
   {
    "duration": 9,
    "start_time": "2023-06-28T10:19:19.095Z"
   },
   {
    "duration": 9,
    "start_time": "2023-06-28T10:19:19.105Z"
   },
   {
    "duration": 43,
    "start_time": "2023-06-28T10:19:19.115Z"
   },
   {
    "duration": 23,
    "start_time": "2023-06-28T10:19:19.159Z"
   },
   {
    "duration": 4,
    "start_time": "2023-06-28T10:19:19.184Z"
   },
   {
    "duration": 12,
    "start_time": "2023-06-28T10:19:19.190Z"
   },
   {
    "duration": 15,
    "start_time": "2023-06-28T10:19:19.204Z"
   },
   {
    "duration": 39,
    "start_time": "2023-06-28T10:19:19.221Z"
   },
   {
    "duration": 16,
    "start_time": "2023-06-28T10:19:19.261Z"
   },
   {
    "duration": 193,
    "start_time": "2023-06-28T10:19:19.278Z"
   },
   {
    "duration": 334,
    "start_time": "2023-06-28T10:19:19.473Z"
   },
   {
    "duration": 47,
    "start_time": "2023-06-28T10:19:19.809Z"
   },
   {
    "duration": 263,
    "start_time": "2023-06-28T10:19:19.858Z"
   },
   {
    "duration": 11,
    "start_time": "2023-06-28T10:20:12.594Z"
   },
   {
    "duration": 4,
    "start_time": "2023-06-28T10:20:25.237Z"
   },
   {
    "duration": 83,
    "start_time": "2023-06-28T10:20:25.244Z"
   },
   {
    "duration": 10,
    "start_time": "2023-06-28T10:20:25.329Z"
   },
   {
    "duration": 48,
    "start_time": "2023-06-28T10:20:25.340Z"
   },
   {
    "duration": 983,
    "start_time": "2023-06-28T10:20:25.390Z"
   },
   {
    "duration": 5,
    "start_time": "2023-06-28T10:20:26.374Z"
   },
   {
    "duration": 28,
    "start_time": "2023-06-28T10:20:26.382Z"
   },
   {
    "duration": 16,
    "start_time": "2023-06-28T10:20:26.412Z"
   },
   {
    "duration": 16,
    "start_time": "2023-06-28T10:20:26.430Z"
   },
   {
    "duration": 24,
    "start_time": "2023-06-28T10:20:26.451Z"
   },
   {
    "duration": 15,
    "start_time": "2023-06-28T10:20:26.477Z"
   },
   {
    "duration": 9,
    "start_time": "2023-06-28T10:20:26.493Z"
   },
   {
    "duration": 5,
    "start_time": "2023-06-28T10:20:26.504Z"
   },
   {
    "duration": 47,
    "start_time": "2023-06-28T10:20:26.513Z"
   },
   {
    "duration": 16,
    "start_time": "2023-06-28T10:20:26.562Z"
   },
   {
    "duration": 7,
    "start_time": "2023-06-28T10:20:26.580Z"
   },
   {
    "duration": 14,
    "start_time": "2023-06-28T10:20:26.589Z"
   },
   {
    "duration": 30,
    "start_time": "2023-06-28T10:20:26.604Z"
   },
   {
    "duration": 29,
    "start_time": "2023-06-28T10:20:26.636Z"
   },
   {
    "duration": 11,
    "start_time": "2023-06-28T10:20:26.667Z"
   },
   {
    "duration": 18,
    "start_time": "2023-06-28T10:20:26.680Z"
   },
   {
    "duration": 17,
    "start_time": "2023-06-28T10:20:26.700Z"
   },
   {
    "duration": 39,
    "start_time": "2023-06-28T10:20:26.719Z"
   },
   {
    "duration": 232,
    "start_time": "2023-06-28T10:20:26.760Z"
   },
   {
    "duration": 397,
    "start_time": "2023-06-28T10:20:26.994Z"
   },
   {
    "duration": 41,
    "start_time": "2023-06-28T10:20:27.393Z"
   },
   {
    "duration": 296,
    "start_time": "2023-06-28T10:20:27.436Z"
   },
   {
    "duration": 6,
    "start_time": "2023-06-28T10:22:21.888Z"
   },
   {
    "duration": 25,
    "start_time": "2023-06-28T10:22:34.772Z"
   },
   {
    "duration": 15,
    "start_time": "2023-06-28T10:23:37.705Z"
   },
   {
    "duration": 1738,
    "start_time": "2023-06-29T08:59:40.110Z"
   },
   {
    "duration": 126,
    "start_time": "2023-06-29T08:59:41.850Z"
   },
   {
    "duration": 9,
    "start_time": "2023-06-29T08:59:41.978Z"
   },
   {
    "duration": 32,
    "start_time": "2023-06-29T08:59:41.988Z"
   },
   {
    "duration": 770,
    "start_time": "2023-06-29T08:59:42.022Z"
   },
   {
    "duration": 11,
    "start_time": "2023-06-29T08:59:42.794Z"
   },
   {
    "duration": 17,
    "start_time": "2023-06-29T08:59:42.807Z"
   },
   {
    "duration": 4,
    "start_time": "2023-06-29T08:59:42.825Z"
   },
   {
    "duration": 22,
    "start_time": "2023-06-29T08:59:42.830Z"
   },
   {
    "duration": 12,
    "start_time": "2023-06-29T08:59:42.854Z"
   },
   {
    "duration": 38,
    "start_time": "2023-06-29T08:59:42.868Z"
   },
   {
    "duration": 6,
    "start_time": "2023-06-29T08:59:42.907Z"
   },
   {
    "duration": 4,
    "start_time": "2023-06-29T08:59:42.915Z"
   },
   {
    "duration": 11,
    "start_time": "2023-06-29T08:59:42.921Z"
   },
   {
    "duration": 8,
    "start_time": "2023-06-29T08:59:42.934Z"
   },
   {
    "duration": 5,
    "start_time": "2023-06-29T08:59:42.944Z"
   },
   {
    "duration": 10,
    "start_time": "2023-06-29T08:59:42.951Z"
   },
   {
    "duration": 57,
    "start_time": "2023-06-29T08:59:42.963Z"
   },
   {
    "duration": 5,
    "start_time": "2023-06-29T08:59:43.021Z"
   },
   {
    "duration": 23,
    "start_time": "2023-06-29T08:59:43.027Z"
   },
   {
    "duration": 20,
    "start_time": "2023-06-29T08:59:43.052Z"
   },
   {
    "duration": 22,
    "start_time": "2023-06-29T08:59:43.074Z"
   },
   {
    "duration": 30,
    "start_time": "2023-06-29T08:59:43.098Z"
   },
   {
    "duration": 206,
    "start_time": "2023-06-29T08:59:43.130Z"
   },
   {
    "duration": 358,
    "start_time": "2023-06-29T08:59:43.338Z"
   },
   {
    "duration": 41,
    "start_time": "2023-06-29T08:59:43.702Z"
   },
   {
    "duration": 290,
    "start_time": "2023-06-29T08:59:43.745Z"
   },
   {
    "duration": 20,
    "start_time": "2023-06-29T08:59:44.038Z"
   },
   {
    "duration": 948,
    "start_time": "2023-06-29T09:00:24.234Z"
   },
   {
    "duration": 735,
    "start_time": "2023-06-29T09:00:35.114Z"
   },
   {
    "duration": 829,
    "start_time": "2023-06-29T09:00:48.185Z"
   },
   {
    "duration": 931,
    "start_time": "2023-06-29T09:01:03.498Z"
   },
   {
    "duration": 820,
    "start_time": "2023-06-29T09:01:11.797Z"
   },
   {
    "duration": 3,
    "start_time": "2023-06-29T09:14:31.919Z"
   },
   {
    "duration": 84,
    "start_time": "2023-06-29T09:14:31.923Z"
   },
   {
    "duration": 9,
    "start_time": "2023-06-29T09:14:32.009Z"
   },
   {
    "duration": 41,
    "start_time": "2023-06-29T09:14:32.020Z"
   },
   {
    "duration": 840,
    "start_time": "2023-06-29T09:14:32.064Z"
   },
   {
    "duration": 6,
    "start_time": "2023-06-29T09:14:32.907Z"
   },
   {
    "duration": 17,
    "start_time": "2023-06-29T09:14:32.915Z"
   },
   {
    "duration": 24,
    "start_time": "2023-06-29T09:14:32.933Z"
   },
   {
    "duration": 15,
    "start_time": "2023-06-29T09:14:32.959Z"
   },
   {
    "duration": 27,
    "start_time": "2023-06-29T09:14:32.976Z"
   },
   {
    "duration": 7,
    "start_time": "2023-06-29T09:14:33.006Z"
   },
   {
    "duration": 4,
    "start_time": "2023-06-29T09:14:33.014Z"
   },
   {
    "duration": 13,
    "start_time": "2023-06-29T09:14:33.020Z"
   },
   {
    "duration": 10,
    "start_time": "2023-06-29T09:14:33.035Z"
   },
   {
    "duration": 5,
    "start_time": "2023-06-29T09:14:33.047Z"
   },
   {
    "duration": 8,
    "start_time": "2023-06-29T09:14:33.054Z"
   },
   {
    "duration": 15,
    "start_time": "2023-06-29T09:14:33.064Z"
   },
   {
    "duration": 22,
    "start_time": "2023-06-29T09:14:33.102Z"
   },
   {
    "duration": 4,
    "start_time": "2023-06-29T09:14:33.126Z"
   },
   {
    "duration": 12,
    "start_time": "2023-06-29T09:14:33.132Z"
   },
   {
    "duration": 21,
    "start_time": "2023-06-29T09:14:33.145Z"
   },
   {
    "duration": 33,
    "start_time": "2023-06-29T09:14:33.169Z"
   },
   {
    "duration": 31,
    "start_time": "2023-06-29T09:14:33.204Z"
   },
   {
    "duration": 193,
    "start_time": "2023-06-29T09:14:33.237Z"
   },
   {
    "duration": 370,
    "start_time": "2023-06-29T09:14:33.432Z"
   },
   {
    "duration": 32,
    "start_time": "2023-06-29T09:14:33.805Z"
   },
   {
    "duration": 259,
    "start_time": "2023-06-29T09:14:33.838Z"
   },
   {
    "duration": 15,
    "start_time": "2023-06-29T09:14:34.101Z"
   },
   {
    "duration": 5,
    "start_time": "2023-06-29T09:26:36.397Z"
   },
   {
    "duration": 9,
    "start_time": "2023-06-29T09:27:08.378Z"
   },
   {
    "duration": 9,
    "start_time": "2023-06-29T09:27:12.127Z"
   },
   {
    "duration": 3,
    "start_time": "2023-06-29T09:27:15.989Z"
   },
   {
    "duration": 90,
    "start_time": "2023-06-29T09:27:15.994Z"
   },
   {
    "duration": 9,
    "start_time": "2023-06-29T09:27:16.085Z"
   },
   {
    "duration": 35,
    "start_time": "2023-06-29T09:27:16.096Z"
   },
   {
    "duration": 683,
    "start_time": "2023-06-29T09:27:16.133Z"
   },
   {
    "duration": 5,
    "start_time": "2023-06-29T09:27:16.818Z"
   },
   {
    "duration": 18,
    "start_time": "2023-06-29T09:27:16.824Z"
   },
   {
    "duration": 16,
    "start_time": "2023-06-29T09:27:16.844Z"
   },
   {
    "duration": 12,
    "start_time": "2023-06-29T09:27:16.862Z"
   },
   {
    "duration": 13,
    "start_time": "2023-06-29T09:27:16.902Z"
   },
   {
    "duration": 10,
    "start_time": "2023-06-29T09:27:16.917Z"
   },
   {
    "duration": 11,
    "start_time": "2023-06-29T09:27:16.928Z"
   },
   {
    "duration": 23,
    "start_time": "2023-06-29T09:27:16.940Z"
   },
   {
    "duration": 7,
    "start_time": "2023-06-29T09:27:16.964Z"
   },
   {
    "duration": 8,
    "start_time": "2023-06-29T09:27:16.972Z"
   },
   {
    "duration": 21,
    "start_time": "2023-06-29T09:27:16.982Z"
   },
   {
    "duration": 23,
    "start_time": "2023-06-29T09:27:17.005Z"
   },
   {
    "duration": 6,
    "start_time": "2023-06-29T09:27:17.030Z"
   },
   {
    "duration": 5,
    "start_time": "2023-06-29T09:27:17.037Z"
   },
   {
    "duration": 13,
    "start_time": "2023-06-29T09:27:17.044Z"
   },
   {
    "duration": 13,
    "start_time": "2023-06-29T09:27:17.058Z"
   },
   {
    "duration": 39,
    "start_time": "2023-06-29T09:27:17.073Z"
   },
   {
    "duration": 18,
    "start_time": "2023-06-29T09:27:17.114Z"
   },
   {
    "duration": 223,
    "start_time": "2023-06-29T09:27:17.134Z"
   },
   {
    "duration": 351,
    "start_time": "2023-06-29T09:27:17.359Z"
   },
   {
    "duration": 31,
    "start_time": "2023-06-29T09:27:17.712Z"
   },
   {
    "duration": 246,
    "start_time": "2023-06-29T09:27:17.745Z"
   },
   {
    "duration": 20,
    "start_time": "2023-06-29T09:27:17.994Z"
   },
   {
    "duration": 5,
    "start_time": "2023-06-29T09:38:40.520Z"
   },
   {
    "duration": 14,
    "start_time": "2023-06-29T09:39:40.676Z"
   },
   {
    "duration": 4,
    "start_time": "2023-06-29T09:52:42.832Z"
   },
   {
    "duration": 80,
    "start_time": "2023-06-29T09:52:42.840Z"
   },
   {
    "duration": 12,
    "start_time": "2023-06-29T09:52:42.922Z"
   },
   {
    "duration": 41,
    "start_time": "2023-06-29T09:52:42.935Z"
   },
   {
    "duration": 877,
    "start_time": "2023-06-29T09:52:42.981Z"
   },
   {
    "duration": 6,
    "start_time": "2023-06-29T09:52:43.861Z"
   },
   {
    "duration": 25,
    "start_time": "2023-06-29T09:52:43.869Z"
   },
   {
    "duration": 20,
    "start_time": "2023-06-29T09:52:43.901Z"
   },
   {
    "duration": 15,
    "start_time": "2023-06-29T09:52:43.922Z"
   },
   {
    "duration": 15,
    "start_time": "2023-06-29T09:52:43.939Z"
   },
   {
    "duration": 8,
    "start_time": "2023-06-29T09:52:43.956Z"
   },
   {
    "duration": 39,
    "start_time": "2023-06-29T09:52:43.965Z"
   },
   {
    "duration": 18,
    "start_time": "2023-06-29T09:52:44.007Z"
   },
   {
    "duration": 6,
    "start_time": "2023-06-29T09:52:44.028Z"
   },
   {
    "duration": 13,
    "start_time": "2023-06-29T09:52:44.036Z"
   },
   {
    "duration": 13,
    "start_time": "2023-06-29T09:52:44.051Z"
   },
   {
    "duration": 42,
    "start_time": "2023-06-29T09:52:44.066Z"
   },
   {
    "duration": 6,
    "start_time": "2023-06-29T09:52:44.110Z"
   },
   {
    "duration": 18,
    "start_time": "2023-06-29T09:52:44.117Z"
   },
   {
    "duration": 10,
    "start_time": "2023-06-29T09:52:44.137Z"
   },
   {
    "duration": 13,
    "start_time": "2023-06-29T09:52:44.149Z"
   },
   {
    "duration": 44,
    "start_time": "2023-06-29T09:52:44.164Z"
   },
   {
    "duration": 14,
    "start_time": "2023-06-29T09:52:44.210Z"
   },
   {
    "duration": 212,
    "start_time": "2023-06-29T09:52:44.226Z"
   },
   {
    "duration": 364,
    "start_time": "2023-06-29T09:52:44.440Z"
   },
   {
    "duration": 31,
    "start_time": "2023-06-29T09:52:44.806Z"
   },
   {
    "duration": 247,
    "start_time": "2023-06-29T09:52:44.839Z"
   },
   {
    "duration": 26,
    "start_time": "2023-06-29T09:52:45.088Z"
   },
   {
    "duration": 17,
    "start_time": "2023-06-29T09:53:48.295Z"
   },
   {
    "duration": 18,
    "start_time": "2023-06-29T09:53:54.320Z"
   },
   {
    "duration": 17,
    "start_time": "2023-06-29T09:57:44.876Z"
   },
   {
    "duration": 6,
    "start_time": "2023-06-29T09:57:47.532Z"
   },
   {
    "duration": 13,
    "start_time": "2023-06-29T09:57:50.644Z"
   },
   {
    "duration": 3,
    "start_time": "2023-06-29T09:58:03.217Z"
   },
   {
    "duration": 106,
    "start_time": "2023-06-29T09:58:03.222Z"
   },
   {
    "duration": 11,
    "start_time": "2023-06-29T09:58:03.330Z"
   },
   {
    "duration": 43,
    "start_time": "2023-06-29T09:58:03.343Z"
   },
   {
    "duration": 774,
    "start_time": "2023-06-29T09:58:03.389Z"
   },
   {
    "duration": 7,
    "start_time": "2023-06-29T09:58:04.164Z"
   },
   {
    "duration": 30,
    "start_time": "2023-06-29T09:58:04.172Z"
   },
   {
    "duration": 16,
    "start_time": "2023-06-29T09:58:04.204Z"
   },
   {
    "duration": 12,
    "start_time": "2023-06-29T09:58:04.222Z"
   },
   {
    "duration": 15,
    "start_time": "2023-06-29T09:58:04.237Z"
   },
   {
    "duration": 8,
    "start_time": "2023-06-29T09:58:04.255Z"
   },
   {
    "duration": 38,
    "start_time": "2023-06-29T09:58:04.265Z"
   },
   {
    "duration": 11,
    "start_time": "2023-06-29T09:58:04.305Z"
   },
   {
    "duration": 12,
    "start_time": "2023-06-29T09:58:04.318Z"
   },
   {
    "duration": 9,
    "start_time": "2023-06-29T09:58:04.332Z"
   },
   {
    "duration": 10,
    "start_time": "2023-06-29T09:58:04.343Z"
   },
   {
    "duration": 51,
    "start_time": "2023-06-29T09:58:04.354Z"
   },
   {
    "duration": 6,
    "start_time": "2023-06-29T09:58:04.406Z"
   },
   {
    "duration": 21,
    "start_time": "2023-06-29T09:58:04.414Z"
   },
   {
    "duration": 12,
    "start_time": "2023-06-29T09:58:04.436Z"
   },
   {
    "duration": 28,
    "start_time": "2023-06-29T09:58:04.450Z"
   },
   {
    "duration": 23,
    "start_time": "2023-06-29T09:58:04.480Z"
   },
   {
    "duration": 7,
    "start_time": "2023-06-29T09:58:04.504Z"
   },
   {
    "duration": 16,
    "start_time": "2023-06-29T09:58:04.513Z"
   },
   {
    "duration": 206,
    "start_time": "2023-06-29T09:58:04.531Z"
   },
   {
    "duration": 177,
    "start_time": "2023-06-29T09:58:04.738Z"
   },
   {
    "duration": 19,
    "start_time": "2023-06-29T09:58:04.917Z"
   },
   {
    "duration": 224,
    "start_time": "2023-06-29T09:58:04.939Z"
   },
   {
    "duration": 5,
    "start_time": "2023-06-29T09:58:58.069Z"
   },
   {
    "duration": 12,
    "start_time": "2023-06-29T09:58:59.865Z"
   },
   {
    "duration": 105,
    "start_time": "2023-06-29T10:04:25.556Z"
   },
   {
    "duration": 21,
    "start_time": "2023-06-29T10:04:39.941Z"
   },
   {
    "duration": 2,
    "start_time": "2023-06-29T10:05:47.265Z"
   },
   {
    "duration": 4,
    "start_time": "2023-06-29T10:06:21.112Z"
   },
   {
    "duration": 12,
    "start_time": "2023-06-29T10:06:25.089Z"
   },
   {
    "duration": 3,
    "start_time": "2023-06-29T10:06:28.393Z"
   },
   {
    "duration": 85,
    "start_time": "2023-06-29T10:06:28.399Z"
   },
   {
    "duration": 8,
    "start_time": "2023-06-29T10:06:28.486Z"
   },
   {
    "duration": 32,
    "start_time": "2023-06-29T10:06:28.496Z"
   },
   {
    "duration": 701,
    "start_time": "2023-06-29T10:06:28.530Z"
   },
   {
    "duration": 5,
    "start_time": "2023-06-29T10:06:29.233Z"
   },
   {
    "duration": 17,
    "start_time": "2023-06-29T10:06:29.239Z"
   },
   {
    "duration": 15,
    "start_time": "2023-06-29T10:06:29.258Z"
   },
   {
    "duration": 34,
    "start_time": "2023-06-29T10:06:29.276Z"
   },
   {
    "duration": 15,
    "start_time": "2023-06-29T10:06:29.312Z"
   },
   {
    "duration": 7,
    "start_time": "2023-06-29T10:06:29.330Z"
   },
   {
    "duration": 4,
    "start_time": "2023-06-29T10:06:29.339Z"
   },
   {
    "duration": 13,
    "start_time": "2023-06-29T10:06:29.345Z"
   },
   {
    "duration": 44,
    "start_time": "2023-06-29T10:06:29.361Z"
   },
   {
    "duration": 7,
    "start_time": "2023-06-29T10:06:29.407Z"
   },
   {
    "duration": 9,
    "start_time": "2023-06-29T10:06:29.416Z"
   },
   {
    "duration": 29,
    "start_time": "2023-06-29T10:06:29.426Z"
   },
   {
    "duration": 5,
    "start_time": "2023-06-29T10:06:29.457Z"
   },
   {
    "duration": 15,
    "start_time": "2023-06-29T10:06:29.464Z"
   },
   {
    "duration": 6,
    "start_time": "2023-06-29T10:06:29.502Z"
   },
   {
    "duration": 21,
    "start_time": "2023-06-29T10:06:29.510Z"
   },
   {
    "duration": 212,
    "start_time": "2023-06-29T10:06:29.533Z"
   },
   {
    "duration": 9,
    "start_time": "2023-06-29T10:06:29.748Z"
   },
   {
    "duration": 30,
    "start_time": "2023-06-29T10:06:29.759Z"
   },
   {
    "duration": 201,
    "start_time": "2023-06-29T10:06:29.790Z"
   },
   {
    "duration": 339,
    "start_time": "2023-06-29T10:06:29.993Z"
   },
   {
    "duration": 30,
    "start_time": "2023-06-29T10:06:30.334Z"
   },
   {
    "duration": 281,
    "start_time": "2023-06-29T10:06:30.366Z"
   },
   {
    "duration": 11,
    "start_time": "2023-06-29T10:07:02.867Z"
   },
   {
    "duration": 24,
    "start_time": "2023-06-29T10:07:04.755Z"
   },
   {
    "duration": 3,
    "start_time": "2023-06-29T10:07:43.899Z"
   },
   {
    "duration": 89,
    "start_time": "2023-06-29T10:07:43.904Z"
   },
   {
    "duration": 13,
    "start_time": "2023-06-29T10:07:43.995Z"
   },
   {
    "duration": 43,
    "start_time": "2023-06-29T10:07:44.010Z"
   },
   {
    "duration": 701,
    "start_time": "2023-06-29T10:07:44.056Z"
   },
   {
    "duration": 5,
    "start_time": "2023-06-29T10:07:44.759Z"
   },
   {
    "duration": 45,
    "start_time": "2023-06-29T10:07:44.765Z"
   },
   {
    "duration": 35,
    "start_time": "2023-06-29T10:07:44.812Z"
   },
   {
    "duration": 52,
    "start_time": "2023-06-29T10:07:44.850Z"
   },
   {
    "duration": 26,
    "start_time": "2023-06-29T10:07:44.905Z"
   },
   {
    "duration": 28,
    "start_time": "2023-06-29T10:07:44.934Z"
   },
   {
    "duration": 9,
    "start_time": "2023-06-29T10:07:44.965Z"
   },
   {
    "duration": 49,
    "start_time": "2023-06-29T10:07:44.977Z"
   },
   {
    "duration": 83,
    "start_time": "2023-06-29T10:07:45.031Z"
   },
   {
    "duration": 100,
    "start_time": "2023-06-29T10:07:45.117Z"
   },
   {
    "duration": 32,
    "start_time": "2023-06-29T10:07:45.219Z"
   },
   {
    "duration": 71,
    "start_time": "2023-06-29T10:07:45.252Z"
   },
   {
    "duration": 9,
    "start_time": "2023-06-29T10:07:45.326Z"
   },
   {
    "duration": 48,
    "start_time": "2023-06-29T10:07:45.338Z"
   },
   {
    "duration": 33,
    "start_time": "2023-06-29T10:07:45.388Z"
   },
   {
    "duration": 34,
    "start_time": "2023-06-29T10:07:45.424Z"
   },
   {
    "duration": 19,
    "start_time": "2023-06-29T10:07:45.460Z"
   },
   {
    "duration": 13,
    "start_time": "2023-06-29T10:07:45.481Z"
   },
   {
    "duration": 34,
    "start_time": "2023-06-29T10:07:45.496Z"
   },
   {
    "duration": 192,
    "start_time": "2023-06-29T10:07:45.532Z"
   },
   {
    "duration": 338,
    "start_time": "2023-06-29T10:07:45.726Z"
   },
   {
    "duration": 41,
    "start_time": "2023-06-29T10:07:46.066Z"
   },
   {
    "duration": 270,
    "start_time": "2023-06-29T10:07:46.109Z"
   },
   {
    "duration": 15,
    "start_time": "2023-06-29T10:08:00.391Z"
   },
   {
    "duration": 3,
    "start_time": "2023-06-29T10:08:07.363Z"
   },
   {
    "duration": 82,
    "start_time": "2023-06-29T10:08:07.369Z"
   },
   {
    "duration": 9,
    "start_time": "2023-06-29T10:08:07.452Z"
   },
   {
    "duration": 48,
    "start_time": "2023-06-29T10:08:07.463Z"
   },
   {
    "duration": 716,
    "start_time": "2023-06-29T10:08:07.514Z"
   },
   {
    "duration": 7,
    "start_time": "2023-06-29T10:08:08.232Z"
   },
   {
    "duration": 16,
    "start_time": "2023-06-29T10:08:08.240Z"
   },
   {
    "duration": 16,
    "start_time": "2023-06-29T10:08:08.258Z"
   },
   {
    "duration": 36,
    "start_time": "2023-06-29T10:08:08.276Z"
   },
   {
    "duration": 12,
    "start_time": "2023-06-29T10:08:08.314Z"
   },
   {
    "duration": 7,
    "start_time": "2023-06-29T10:08:08.328Z"
   },
   {
    "duration": 7,
    "start_time": "2023-06-29T10:08:08.336Z"
   },
   {
    "duration": 16,
    "start_time": "2023-06-29T10:08:08.345Z"
   },
   {
    "duration": 12,
    "start_time": "2023-06-29T10:08:08.364Z"
   },
   {
    "duration": 42,
    "start_time": "2023-06-29T10:08:08.377Z"
   },
   {
    "duration": 6,
    "start_time": "2023-06-29T10:08:08.422Z"
   },
   {
    "duration": 30,
    "start_time": "2023-06-29T10:08:08.429Z"
   },
   {
    "duration": 5,
    "start_time": "2023-06-29T10:08:08.461Z"
   },
   {
    "duration": 27,
    "start_time": "2023-06-29T10:08:08.468Z"
   },
   {
    "duration": 8,
    "start_time": "2023-06-29T10:08:08.497Z"
   },
   {
    "duration": 16,
    "start_time": "2023-06-29T10:08:08.507Z"
   },
   {
    "duration": 16,
    "start_time": "2023-06-29T10:08:08.525Z"
   },
   {
    "duration": 5,
    "start_time": "2023-06-29T10:08:08.542Z"
   },
   {
    "duration": 18,
    "start_time": "2023-06-29T10:08:08.549Z"
   },
   {
    "duration": 227,
    "start_time": "2023-06-29T10:08:08.568Z"
   },
   {
    "duration": 339,
    "start_time": "2023-06-29T10:08:08.802Z"
   },
   {
    "duration": 31,
    "start_time": "2023-06-29T10:08:09.143Z"
   },
   {
    "duration": 243,
    "start_time": "2023-06-29T10:08:09.176Z"
   },
   {
    "duration": 3,
    "start_time": "2023-06-29T10:09:40.058Z"
   },
   {
    "duration": 15,
    "start_time": "2023-06-29T10:09:42.358Z"
   },
   {
    "duration": 3,
    "start_time": "2023-06-29T10:09:59.623Z"
   },
   {
    "duration": 16,
    "start_time": "2023-06-29T10:10:01.715Z"
   },
   {
    "duration": 3,
    "start_time": "2023-06-29T10:10:24.136Z"
   },
   {
    "duration": 4,
    "start_time": "2023-06-29T10:10:27.664Z"
   },
   {
    "duration": 87,
    "start_time": "2023-06-29T10:10:27.671Z"
   },
   {
    "duration": 10,
    "start_time": "2023-06-29T10:10:27.760Z"
   },
   {
    "duration": 55,
    "start_time": "2023-06-29T10:10:27.772Z"
   },
   {
    "duration": 935,
    "start_time": "2023-06-29T10:10:27.829Z"
   },
   {
    "duration": 5,
    "start_time": "2023-06-29T10:10:28.766Z"
   },
   {
    "duration": 14,
    "start_time": "2023-06-29T10:10:28.772Z"
   },
   {
    "duration": 19,
    "start_time": "2023-06-29T10:10:28.802Z"
   },
   {
    "duration": 12,
    "start_time": "2023-06-29T10:10:28.822Z"
   },
   {
    "duration": 15,
    "start_time": "2023-06-29T10:10:28.836Z"
   },
   {
    "duration": 10,
    "start_time": "2023-06-29T10:10:28.852Z"
   },
   {
    "duration": 3,
    "start_time": "2023-06-29T10:10:28.864Z"
   },
   {
    "duration": 41,
    "start_time": "2023-06-29T10:10:28.869Z"
   },
   {
    "duration": 7,
    "start_time": "2023-06-29T10:10:28.912Z"
   },
   {
    "duration": 31,
    "start_time": "2023-06-29T10:10:28.920Z"
   },
   {
    "duration": 7,
    "start_time": "2023-06-29T10:10:28.954Z"
   },
   {
    "duration": 40,
    "start_time": "2023-06-29T10:10:28.963Z"
   },
   {
    "duration": 4,
    "start_time": "2023-06-29T10:10:29.005Z"
   },
   {
    "duration": 23,
    "start_time": "2023-06-29T10:10:29.010Z"
   },
   {
    "duration": 9,
    "start_time": "2023-06-29T10:10:29.035Z"
   },
   {
    "duration": 29,
    "start_time": "2023-06-29T10:10:29.046Z"
   },
   {
    "duration": 16,
    "start_time": "2023-06-29T10:10:29.077Z"
   },
   {
    "duration": 4,
    "start_time": "2023-06-29T10:10:29.102Z"
   },
   {
    "duration": 18,
    "start_time": "2023-06-29T10:10:29.107Z"
   },
   {
    "duration": 208,
    "start_time": "2023-06-29T10:10:29.127Z"
   },
   {
    "duration": 335,
    "start_time": "2023-06-29T10:10:29.337Z"
   },
   {
    "duration": 39,
    "start_time": "2023-06-29T10:10:29.673Z"
   },
   {
    "duration": 230,
    "start_time": "2023-06-29T10:10:29.714Z"
   },
   {
    "duration": 7,
    "start_time": "2023-06-29T10:10:46.830Z"
   },
   {
    "duration": 14,
    "start_time": "2023-06-29T10:10:49.143Z"
   },
   {
    "duration": 222,
    "start_time": "2023-06-29T10:11:13.443Z"
   },
   {
    "duration": 11,
    "start_time": "2023-06-29T10:11:19.475Z"
   },
   {
    "duration": 3,
    "start_time": "2023-06-29T10:11:26.337Z"
   },
   {
    "duration": 86,
    "start_time": "2023-06-29T10:11:26.342Z"
   },
   {
    "duration": 9,
    "start_time": "2023-06-29T10:11:26.430Z"
   },
   {
    "duration": 42,
    "start_time": "2023-06-29T10:11:26.441Z"
   },
   {
    "duration": 687,
    "start_time": "2023-06-29T10:11:26.486Z"
   },
   {
    "duration": 7,
    "start_time": "2023-06-29T10:11:27.175Z"
   },
   {
    "duration": 29,
    "start_time": "2023-06-29T10:11:27.184Z"
   },
   {
    "duration": 16,
    "start_time": "2023-06-29T10:11:27.215Z"
   },
   {
    "duration": 12,
    "start_time": "2023-06-29T10:11:27.233Z"
   },
   {
    "duration": 17,
    "start_time": "2023-06-29T10:11:27.247Z"
   },
   {
    "duration": 7,
    "start_time": "2023-06-29T10:11:27.266Z"
   },
   {
    "duration": 30,
    "start_time": "2023-06-29T10:11:27.274Z"
   },
   {
    "duration": 19,
    "start_time": "2023-06-29T10:11:27.306Z"
   },
   {
    "duration": 7,
    "start_time": "2023-06-29T10:11:27.328Z"
   },
   {
    "duration": 7,
    "start_time": "2023-06-29T10:11:27.337Z"
   },
   {
    "duration": 8,
    "start_time": "2023-06-29T10:11:27.345Z"
   },
   {
    "duration": 23,
    "start_time": "2023-06-29T10:11:27.355Z"
   },
   {
    "duration": 5,
    "start_time": "2023-06-29T10:11:27.401Z"
   },
   {
    "duration": 13,
    "start_time": "2023-06-29T10:11:27.407Z"
   },
   {
    "duration": 12,
    "start_time": "2023-06-29T10:11:27.421Z"
   },
   {
    "duration": 14,
    "start_time": "2023-06-29T10:11:27.435Z"
   },
   {
    "duration": 15,
    "start_time": "2023-06-29T10:11:27.450Z"
   },
   {
    "duration": 37,
    "start_time": "2023-06-29T10:11:27.468Z"
   },
   {
    "duration": 18,
    "start_time": "2023-06-29T10:11:27.506Z"
   },
   {
    "duration": 246,
    "start_time": "2023-06-29T10:11:27.526Z"
   },
   {
    "duration": 339,
    "start_time": "2023-06-29T10:11:27.775Z"
   },
   {
    "duration": 32,
    "start_time": "2023-06-29T10:11:28.116Z"
   },
   {
    "duration": 221,
    "start_time": "2023-06-29T10:11:28.149Z"
   },
   {
    "duration": 12,
    "start_time": "2023-06-29T10:11:46.149Z"
   },
   {
    "duration": 3,
    "start_time": "2023-06-29T10:11:49.530Z"
   },
   {
    "duration": 117,
    "start_time": "2023-06-29T10:11:49.535Z"
   },
   {
    "duration": 10,
    "start_time": "2023-06-29T10:11:49.653Z"
   },
   {
    "duration": 60,
    "start_time": "2023-06-29T10:11:49.664Z"
   },
   {
    "duration": 685,
    "start_time": "2023-06-29T10:11:49.727Z"
   },
   {
    "duration": 6,
    "start_time": "2023-06-29T10:11:50.415Z"
   },
   {
    "duration": 44,
    "start_time": "2023-06-29T10:11:50.423Z"
   },
   {
    "duration": 57,
    "start_time": "2023-06-29T10:11:50.469Z"
   },
   {
    "duration": 19,
    "start_time": "2023-06-29T10:11:50.528Z"
   },
   {
    "duration": 59,
    "start_time": "2023-06-29T10:11:50.549Z"
   },
   {
    "duration": 40,
    "start_time": "2023-06-29T10:11:50.611Z"
   },
   {
    "duration": 33,
    "start_time": "2023-06-29T10:11:50.653Z"
   },
   {
    "duration": 46,
    "start_time": "2023-06-29T10:11:50.688Z"
   },
   {
    "duration": 32,
    "start_time": "2023-06-29T10:11:50.737Z"
   },
   {
    "duration": 44,
    "start_time": "2023-06-29T10:11:50.771Z"
   },
   {
    "duration": 54,
    "start_time": "2023-06-29T10:11:50.817Z"
   },
   {
    "duration": 71,
    "start_time": "2023-06-29T10:11:50.874Z"
   },
   {
    "duration": 6,
    "start_time": "2023-06-29T10:11:50.947Z"
   },
   {
    "duration": 34,
    "start_time": "2023-06-29T10:11:50.955Z"
   },
   {
    "duration": 42,
    "start_time": "2023-06-29T10:11:50.990Z"
   },
   {
    "duration": 44,
    "start_time": "2023-06-29T10:11:51.034Z"
   },
   {
    "duration": 48,
    "start_time": "2023-06-29T10:11:51.081Z"
   },
   {
    "duration": 25,
    "start_time": "2023-06-29T10:11:51.131Z"
   },
   {
    "duration": 44,
    "start_time": "2023-06-29T10:11:51.158Z"
   },
   {
    "duration": 212,
    "start_time": "2023-06-29T10:11:51.204Z"
   },
   {
    "duration": 326,
    "start_time": "2023-06-29T10:11:51.417Z"
   },
   {
    "duration": 31,
    "start_time": "2023-06-29T10:11:51.746Z"
   },
   {
    "duration": 237,
    "start_time": "2023-06-29T10:11:51.779Z"
   },
   {
    "duration": 3,
    "start_time": "2023-06-29T10:13:12.579Z"
   },
   {
    "duration": 93,
    "start_time": "2023-06-29T10:13:12.584Z"
   },
   {
    "duration": 9,
    "start_time": "2023-06-29T10:13:12.678Z"
   },
   {
    "duration": 38,
    "start_time": "2023-06-29T10:13:12.689Z"
   },
   {
    "duration": 996,
    "start_time": "2023-06-29T10:13:12.730Z"
   },
   {
    "duration": 5,
    "start_time": "2023-06-29T10:13:13.728Z"
   },
   {
    "duration": 17,
    "start_time": "2023-06-29T10:13:13.734Z"
   },
   {
    "duration": 19,
    "start_time": "2023-06-29T10:13:13.753Z"
   },
   {
    "duration": 33,
    "start_time": "2023-06-29T10:13:13.774Z"
   },
   {
    "duration": 15,
    "start_time": "2023-06-29T10:13:13.809Z"
   },
   {
    "duration": 7,
    "start_time": "2023-06-29T10:13:13.826Z"
   },
   {
    "duration": 4,
    "start_time": "2023-06-29T10:13:13.835Z"
   },
   {
    "duration": 13,
    "start_time": "2023-06-29T10:13:13.840Z"
   },
   {
    "duration": 8,
    "start_time": "2023-06-29T10:13:13.856Z"
   },
   {
    "duration": 50,
    "start_time": "2023-06-29T10:13:13.866Z"
   },
   {
    "duration": 10,
    "start_time": "2023-06-29T10:13:13.918Z"
   },
   {
    "duration": 37,
    "start_time": "2023-06-29T10:13:13.931Z"
   },
   {
    "duration": 5,
    "start_time": "2023-06-29T10:13:13.971Z"
   },
   {
    "duration": 13,
    "start_time": "2023-06-29T10:13:13.978Z"
   },
   {
    "duration": 17,
    "start_time": "2023-06-29T10:13:13.992Z"
   },
   {
    "duration": 24,
    "start_time": "2023-06-29T10:13:14.011Z"
   },
   {
    "duration": 17,
    "start_time": "2023-06-29T10:13:14.037Z"
   },
   {
    "duration": 3,
    "start_time": "2023-06-29T10:13:14.055Z"
   },
   {
    "duration": 20,
    "start_time": "2023-06-29T10:13:14.060Z"
   },
   {
    "duration": 228,
    "start_time": "2023-06-29T10:13:14.082Z"
   },
   {
    "duration": 354,
    "start_time": "2023-06-29T10:13:14.313Z"
   },
   {
    "duration": 46,
    "start_time": "2023-06-29T10:13:14.669Z"
   },
   {
    "duration": 231,
    "start_time": "2023-06-29T10:13:14.717Z"
   },
   {
    "duration": 202,
    "start_time": "2023-06-29T10:14:21.950Z"
   },
   {
    "duration": 10,
    "start_time": "2023-06-29T10:14:25.733Z"
   },
   {
    "duration": 16,
    "start_time": "2023-06-29T10:14:28.166Z"
   },
   {
    "duration": 7,
    "start_time": "2023-06-29T10:14:56.611Z"
   },
   {
    "duration": 17,
    "start_time": "2023-06-29T10:14:58.000Z"
   },
   {
    "duration": 3,
    "start_time": "2023-06-29T10:15:01.629Z"
   },
   {
    "duration": 140,
    "start_time": "2023-06-29T10:15:01.634Z"
   },
   {
    "duration": 9,
    "start_time": "2023-06-29T10:15:01.777Z"
   },
   {
    "duration": 62,
    "start_time": "2023-06-29T10:15:01.788Z"
   },
   {
    "duration": 693,
    "start_time": "2023-06-29T10:15:01.852Z"
   },
   {
    "duration": 6,
    "start_time": "2023-06-29T10:15:02.546Z"
   },
   {
    "duration": 29,
    "start_time": "2023-06-29T10:15:02.553Z"
   },
   {
    "duration": 87,
    "start_time": "2023-06-29T10:15:02.584Z"
   },
   {
    "duration": 11,
    "start_time": "2023-06-29T10:15:02.673Z"
   },
   {
    "duration": 22,
    "start_time": "2023-06-29T10:15:02.686Z"
   },
   {
    "duration": 7,
    "start_time": "2023-06-29T10:15:02.710Z"
   },
   {
    "duration": 4,
    "start_time": "2023-06-29T10:15:02.719Z"
   },
   {
    "duration": 15,
    "start_time": "2023-06-29T10:15:02.724Z"
   },
   {
    "duration": 6,
    "start_time": "2023-06-29T10:15:02.743Z"
   },
   {
    "duration": 6,
    "start_time": "2023-06-29T10:15:02.751Z"
   },
   {
    "duration": 6,
    "start_time": "2023-06-29T10:15:02.759Z"
   },
   {
    "duration": 56,
    "start_time": "2023-06-29T10:15:02.767Z"
   },
   {
    "duration": 19,
    "start_time": "2023-06-29T10:15:02.825Z"
   },
   {
    "duration": 14,
    "start_time": "2023-06-29T10:15:02.846Z"
   },
   {
    "duration": 17,
    "start_time": "2023-06-29T10:15:02.862Z"
   },
   {
    "duration": 15,
    "start_time": "2023-06-29T10:15:02.881Z"
   },
   {
    "duration": 14,
    "start_time": "2023-06-29T10:15:02.898Z"
   },
   {
    "duration": 6,
    "start_time": "2023-06-29T10:15:02.913Z"
   },
   {
    "duration": 17,
    "start_time": "2023-06-29T10:15:02.921Z"
   },
   {
    "duration": 196,
    "start_time": "2023-06-29T10:15:02.939Z"
   },
   {
    "duration": 341,
    "start_time": "2023-06-29T10:15:03.136Z"
   },
   {
    "duration": 42,
    "start_time": "2023-06-29T10:15:03.479Z"
   },
   {
    "duration": 231,
    "start_time": "2023-06-29T10:15:03.523Z"
   },
   {
    "duration": 7,
    "start_time": "2023-06-29T10:15:25.829Z"
   },
   {
    "duration": 13,
    "start_time": "2023-06-29T11:01:55.315Z"
   },
   {
    "duration": 240,
    "start_time": "2023-06-29T11:02:07.393Z"
   },
   {
    "duration": 223,
    "start_time": "2023-06-29T11:03:14.773Z"
   },
   {
    "duration": 316,
    "start_time": "2023-06-29T11:04:35.959Z"
   },
   {
    "duration": 250,
    "start_time": "2023-06-29T11:06:11.570Z"
   },
   {
    "duration": 6,
    "start_time": "2023-06-29T11:24:23.856Z"
   },
   {
    "duration": 14,
    "start_time": "2023-06-29T11:24:33.973Z"
   },
   {
    "duration": 13,
    "start_time": "2023-06-29T11:24:43.956Z"
   },
   {
    "duration": 14,
    "start_time": "2023-06-29T11:28:28.501Z"
   },
   {
    "duration": 389,
    "start_time": "2023-06-29T12:00:07.227Z"
   },
   {
    "duration": 13,
    "start_time": "2023-06-29T12:00:28.036Z"
   },
   {
    "duration": 572,
    "start_time": "2023-06-29T12:02:17.686Z"
   },
   {
    "duration": 356,
    "start_time": "2023-06-29T12:11:48.903Z"
   },
   {
    "duration": 369,
    "start_time": "2023-06-29T12:11:57.633Z"
   },
   {
    "duration": 18,
    "start_time": "2023-06-29T12:18:05.508Z"
   },
   {
    "duration": 7,
    "start_time": "2023-06-29T12:20:48.617Z"
   },
   {
    "duration": 359,
    "start_time": "2023-06-29T12:20:57.385Z"
   },
   {
    "duration": 685,
    "start_time": "2023-06-29T12:25:18.447Z"
   },
   {
    "duration": 382,
    "start_time": "2023-06-29T12:25:30.512Z"
   },
   {
    "duration": 429,
    "start_time": "2023-06-29T12:51:14.258Z"
   },
   {
    "duration": 264,
    "start_time": "2023-06-29T12:52:09.126Z"
   },
   {
    "duration": 400,
    "start_time": "2023-06-29T12:52:42.916Z"
   },
   {
    "duration": 404,
    "start_time": "2023-06-29T12:52:52.103Z"
   },
   {
    "duration": 364,
    "start_time": "2023-06-29T12:53:54.723Z"
   },
   {
    "duration": 424,
    "start_time": "2023-06-29T12:54:10.594Z"
   },
   {
    "duration": 17,
    "start_time": "2023-06-29T13:08:27.101Z"
   },
   {
    "duration": 65,
    "start_time": "2023-06-29T13:08:32.829Z"
   },
   {
    "duration": 79,
    "start_time": "2023-06-29T13:08:32.897Z"
   },
   {
    "duration": 10,
    "start_time": "2023-06-29T13:08:32.978Z"
   },
   {
    "duration": 39,
    "start_time": "2023-06-29T13:08:32.990Z"
   },
   {
    "duration": 771,
    "start_time": "2023-06-29T13:08:33.031Z"
   },
   {
    "duration": 6,
    "start_time": "2023-06-29T13:08:33.804Z"
   },
   {
    "duration": 15,
    "start_time": "2023-06-29T13:08:33.811Z"
   },
   {
    "duration": 16,
    "start_time": "2023-06-29T13:08:33.828Z"
   },
   {
    "duration": 13,
    "start_time": "2023-06-29T13:08:33.847Z"
   },
   {
    "duration": 51,
    "start_time": "2023-06-29T13:08:33.863Z"
   },
   {
    "duration": 13,
    "start_time": "2023-06-29T13:08:33.916Z"
   },
   {
    "duration": 5,
    "start_time": "2023-06-29T13:08:33.932Z"
   },
   {
    "duration": 35,
    "start_time": "2023-06-29T13:08:33.939Z"
   },
   {
    "duration": 25,
    "start_time": "2023-06-29T13:08:33.979Z"
   },
   {
    "duration": 11,
    "start_time": "2023-06-29T13:08:34.007Z"
   },
   {
    "duration": 11,
    "start_time": "2023-06-29T13:08:34.021Z"
   },
   {
    "duration": 29,
    "start_time": "2023-06-29T13:08:34.034Z"
   },
   {
    "duration": 6,
    "start_time": "2023-06-29T13:08:34.065Z"
   },
   {
    "duration": 41,
    "start_time": "2023-06-29T13:08:34.074Z"
   },
   {
    "duration": 10,
    "start_time": "2023-06-29T13:08:34.118Z"
   },
   {
    "duration": 40,
    "start_time": "2023-06-29T13:08:34.130Z"
   },
   {
    "duration": 18,
    "start_time": "2023-06-29T13:08:34.171Z"
   },
   {
    "duration": 25,
    "start_time": "2023-06-29T13:08:34.192Z"
   },
   {
    "duration": 39,
    "start_time": "2023-06-29T13:08:34.220Z"
   },
   {
    "duration": 195,
    "start_time": "2023-06-29T13:08:34.261Z"
   },
   {
    "duration": 344,
    "start_time": "2023-06-29T13:08:34.458Z"
   },
   {
    "duration": 277,
    "start_time": "2023-06-29T13:08:34.803Z"
   },
   {
    "duration": 6,
    "start_time": "2023-06-29T13:08:35.083Z"
   },
   {
    "duration": 470,
    "start_time": "2023-06-29T13:08:35.091Z"
   },
   {
    "duration": 405,
    "start_time": "2023-06-29T13:08:35.563Z"
   },
   {
    "duration": 26,
    "start_time": "2023-06-29T13:08:45.190Z"
   },
   {
    "duration": 579,
    "start_time": "2023-06-29T13:08:59.525Z"
   },
   {
    "duration": 416,
    "start_time": "2023-06-29T13:09:28.943Z"
   },
   {
    "duration": 723,
    "start_time": "2023-06-29T13:21:40.499Z"
   },
   {
    "duration": 414,
    "start_time": "2023-06-29T13:23:08.663Z"
   },
   {
    "duration": 349,
    "start_time": "2023-06-29T13:29:11.647Z"
   },
   {
    "duration": 18,
    "start_time": "2023-06-29T13:29:17.089Z"
   },
   {
    "duration": 16,
    "start_time": "2023-06-29T13:30:09.909Z"
   },
   {
    "duration": 17,
    "start_time": "2023-06-29T13:30:56.429Z"
   },
   {
    "duration": 384,
    "start_time": "2023-06-29T13:41:19.914Z"
   },
   {
    "duration": 482,
    "start_time": "2023-06-29T13:43:00.353Z"
   },
   {
    "duration": 420,
    "start_time": "2023-06-29T13:44:23.773Z"
   },
   {
    "duration": 411,
    "start_time": "2023-06-29T13:44:28.772Z"
   },
   {
    "duration": 467,
    "start_time": "2023-06-29T13:44:41.238Z"
   },
   {
    "duration": 414,
    "start_time": "2023-06-29T13:44:52.044Z"
   },
   {
    "duration": 7,
    "start_time": "2023-06-29T14:48:10.574Z"
   },
   {
    "duration": 15,
    "start_time": "2023-06-29T14:48:23.684Z"
   },
   {
    "duration": 19,
    "start_time": "2023-06-29T14:49:51.181Z"
   },
   {
    "duration": 13,
    "start_time": "2023-06-29T14:55:34.496Z"
   },
   {
    "duration": 12,
    "start_time": "2023-06-29T14:55:38.725Z"
   },
   {
    "duration": 12,
    "start_time": "2023-06-29T14:57:09.036Z"
   },
   {
    "duration": 11,
    "start_time": "2023-06-29T14:57:27.676Z"
   },
   {
    "duration": 11,
    "start_time": "2023-06-29T14:57:33.817Z"
   },
   {
    "duration": 97,
    "start_time": "2023-06-29T14:58:23.357Z"
   },
   {
    "duration": 12,
    "start_time": "2023-06-29T14:58:30.410Z"
   },
   {
    "duration": 8,
    "start_time": "2023-06-29T15:09:30.229Z"
   },
   {
    "duration": 9,
    "start_time": "2023-06-29T15:10:07.817Z"
   },
   {
    "duration": 129,
    "start_time": "2023-06-29T15:16:38.962Z"
   },
   {
    "duration": 275,
    "start_time": "2023-06-29T15:17:01.981Z"
   },
   {
    "duration": 304,
    "start_time": "2023-06-29T15:17:29.836Z"
   },
   {
    "duration": 12,
    "start_time": "2023-06-29T15:19:54.029Z"
   },
   {
    "duration": 293,
    "start_time": "2023-06-29T15:22:38.394Z"
   },
   {
    "duration": 11,
    "start_time": "2023-06-29T15:23:06.286Z"
   },
   {
    "duration": 299,
    "start_time": "2023-06-29T15:24:36.514Z"
   },
   {
    "duration": 320,
    "start_time": "2023-06-29T15:24:46.006Z"
   },
   {
    "duration": 326,
    "start_time": "2023-06-29T15:26:23.123Z"
   },
   {
    "duration": 337,
    "start_time": "2023-06-29T15:26:43.333Z"
   },
   {
    "duration": 344,
    "start_time": "2023-06-29T15:30:12.646Z"
   },
   {
    "duration": 15,
    "start_time": "2023-06-29T15:30:18.285Z"
   },
   {
    "duration": 14,
    "start_time": "2023-06-29T15:32:21.541Z"
   },
   {
    "duration": 383,
    "start_time": "2023-06-29T15:32:41.099Z"
   },
   {
    "duration": 13,
    "start_time": "2023-06-29T15:32:56.830Z"
   },
   {
    "duration": 347,
    "start_time": "2023-06-29T15:33:39.511Z"
   },
   {
    "duration": 18,
    "start_time": "2023-06-29T15:33:41.790Z"
   },
   {
    "duration": 334,
    "start_time": "2023-06-29T15:34:32.412Z"
   },
   {
    "duration": 12,
    "start_time": "2023-06-29T15:34:33.284Z"
   },
   {
    "duration": 299,
    "start_time": "2023-06-29T15:34:33.910Z"
   },
   {
    "duration": 12,
    "start_time": "2023-06-29T15:34:34.628Z"
   },
   {
    "duration": 339,
    "start_time": "2023-06-29T15:44:39.542Z"
   },
   {
    "duration": 15,
    "start_time": "2023-06-29T15:44:43.467Z"
   },
   {
    "duration": 324,
    "start_time": "2023-06-29T15:45:42.565Z"
   },
   {
    "duration": 12,
    "start_time": "2023-06-29T15:45:47.221Z"
   },
   {
    "duration": 13,
    "start_time": "2023-06-29T15:47:15.418Z"
   },
   {
    "duration": 360,
    "start_time": "2023-06-29T15:47:23.758Z"
   },
   {
    "duration": 352,
    "start_time": "2023-06-29T16:02:55.278Z"
   },
   {
    "duration": 16,
    "start_time": "2023-06-29T16:03:00.955Z"
   },
   {
    "duration": 357,
    "start_time": "2023-06-29T16:04:26.028Z"
   },
   {
    "duration": 251,
    "start_time": "2023-06-29T16:10:25.685Z"
   },
   {
    "duration": 388,
    "start_time": "2023-06-29T16:11:06.854Z"
   },
   {
    "duration": 396,
    "start_time": "2023-06-29T16:11:39.273Z"
   },
   {
    "duration": 22,
    "start_time": "2023-06-29T16:11:46.970Z"
   },
   {
    "duration": 225,
    "start_time": "2023-06-29T16:12:06.033Z"
   },
   {
    "duration": 225,
    "start_time": "2023-06-29T16:12:19.368Z"
   },
   {
    "duration": 221,
    "start_time": "2023-06-29T16:12:41.936Z"
   },
   {
    "duration": 246,
    "start_time": "2023-06-29T16:13:07.408Z"
   },
   {
    "duration": 177,
    "start_time": "2023-06-29T16:19:32.472Z"
   },
   {
    "duration": 191,
    "start_time": "2023-06-29T16:22:24.272Z"
   },
   {
    "duration": 264,
    "start_time": "2023-06-29T16:22:52.204Z"
   },
   {
    "duration": 4,
    "start_time": "2023-06-29T16:31:43.149Z"
   },
   {
    "duration": 91,
    "start_time": "2023-06-29T16:31:43.156Z"
   },
   {
    "duration": 15,
    "start_time": "2023-06-29T16:31:43.250Z"
   },
   {
    "duration": 61,
    "start_time": "2023-06-29T16:31:43.271Z"
   },
   {
    "duration": 1206,
    "start_time": "2023-06-29T16:31:43.335Z"
   },
   {
    "duration": 6,
    "start_time": "2023-06-29T16:31:44.542Z"
   },
   {
    "duration": 18,
    "start_time": "2023-06-29T16:31:44.551Z"
   },
   {
    "duration": 46,
    "start_time": "2023-06-29T16:31:44.571Z"
   },
   {
    "duration": 19,
    "start_time": "2023-06-29T16:31:44.620Z"
   },
   {
    "duration": 15,
    "start_time": "2023-06-29T16:31:44.642Z"
   },
   {
    "duration": 14,
    "start_time": "2023-06-29T16:31:44.662Z"
   },
   {
    "duration": 6,
    "start_time": "2023-06-29T16:31:44.701Z"
   },
   {
    "duration": 24,
    "start_time": "2023-06-29T16:31:44.709Z"
   },
   {
    "duration": 11,
    "start_time": "2023-06-29T16:31:44.735Z"
   },
   {
    "duration": 13,
    "start_time": "2023-06-29T16:31:44.748Z"
   },
   {
    "duration": 16,
    "start_time": "2023-06-29T16:31:44.764Z"
   },
   {
    "duration": 49,
    "start_time": "2023-06-29T16:31:44.783Z"
   },
   {
    "duration": 6,
    "start_time": "2023-06-29T16:31:44.835Z"
   },
   {
    "duration": 25,
    "start_time": "2023-06-29T16:31:44.843Z"
   },
   {
    "duration": 32,
    "start_time": "2023-06-29T16:31:44.870Z"
   },
   {
    "duration": 20,
    "start_time": "2023-06-29T16:31:44.904Z"
   },
   {
    "duration": 22,
    "start_time": "2023-06-29T16:31:44.926Z"
   },
   {
    "duration": 9,
    "start_time": "2023-06-29T16:31:44.951Z"
   },
   {
    "duration": 46,
    "start_time": "2023-06-29T16:31:44.962Z"
   },
   {
    "duration": 221,
    "start_time": "2023-06-29T16:31:45.011Z"
   },
   {
    "duration": 366,
    "start_time": "2023-06-29T16:31:45.234Z"
   },
   {
    "duration": 257,
    "start_time": "2023-06-29T16:31:45.603Z"
   },
   {
    "duration": 8,
    "start_time": "2023-06-29T16:31:45.863Z"
   },
   {
    "duration": 42,
    "start_time": "2023-06-29T16:31:45.877Z"
   },
   {
    "duration": 22,
    "start_time": "2023-06-29T16:31:45.921Z"
   },
   {
    "duration": 466,
    "start_time": "2023-06-29T16:31:45.947Z"
   },
   {
    "duration": 414,
    "start_time": "2023-06-29T16:31:46.415Z"
   },
   {
    "duration": 20,
    "start_time": "2023-06-29T16:31:46.832Z"
   },
   {
    "duration": 16,
    "start_time": "2023-06-29T16:31:46.854Z"
   },
   {
    "duration": 366,
    "start_time": "2023-06-29T16:31:46.872Z"
   },
   {
    "duration": 16,
    "start_time": "2023-06-29T16:31:47.240Z"
   },
   {
    "duration": 313,
    "start_time": "2023-06-29T16:31:47.259Z"
   },
   {
    "duration": 28,
    "start_time": "2023-06-29T16:31:47.574Z"
   },
   {
    "duration": 338,
    "start_time": "2023-06-29T16:31:47.606Z"
   },
   {
    "duration": 12,
    "start_time": "2023-06-29T16:31:47.946Z"
   },
   {
    "duration": 321,
    "start_time": "2023-06-29T16:31:47.964Z"
   },
   {
    "duration": 356,
    "start_time": "2023-06-29T16:31:48.288Z"
   },
   {
    "duration": 391,
    "start_time": "2023-06-29T17:03:41.784Z"
   },
   {
    "duration": 432,
    "start_time": "2023-06-29T17:04:01.527Z"
   },
   {
    "duration": 293,
    "start_time": "2023-06-29T17:05:35.855Z"
   },
   {
    "duration": 264,
    "start_time": "2023-06-29T17:22:25.228Z"
   },
   {
    "duration": 337,
    "start_time": "2023-06-29T17:23:15.821Z"
   },
   {
    "duration": 1208,
    "start_time": "2023-06-29T17:24:30.567Z"
   },
   {
    "duration": 401,
    "start_time": "2023-06-29T17:28:50.265Z"
   },
   {
    "duration": 245,
    "start_time": "2023-06-29T17:30:17.038Z"
   },
   {
    "duration": 318,
    "start_time": "2023-06-29T17:30:25.579Z"
   },
   {
    "duration": 214,
    "start_time": "2023-06-29T17:30:38.122Z"
   },
   {
    "duration": 228,
    "start_time": "2023-06-29T17:31:43.987Z"
   },
   {
    "duration": 294,
    "start_time": "2023-06-29T17:32:17.571Z"
   },
   {
    "duration": 39,
    "start_time": "2023-06-29T17:35:51.679Z"
   },
   {
    "duration": 30,
    "start_time": "2023-06-29T17:46:33.749Z"
   },
   {
    "duration": 29,
    "start_time": "2023-06-29T17:46:40.595Z"
   },
   {
    "duration": 12,
    "start_time": "2023-06-29T17:46:58.328Z"
   },
   {
    "duration": 29,
    "start_time": "2023-06-29T17:47:29.618Z"
   },
   {
    "duration": 32,
    "start_time": "2023-06-29T17:48:11.567Z"
   },
   {
    "duration": 208,
    "start_time": "2023-06-29T17:49:27.256Z"
   },
   {
    "duration": 255,
    "start_time": "2023-06-29T17:49:39.194Z"
   },
   {
    "duration": 1690,
    "start_time": "2023-06-29T17:51:34.658Z"
   },
   {
    "duration": 216,
    "start_time": "2023-06-29T17:51:57.070Z"
   },
   {
    "duration": 228,
    "start_time": "2023-06-29T17:52:15.948Z"
   },
   {
    "duration": 11,
    "start_time": "2023-06-29T17:55:44.781Z"
   },
   {
    "duration": 11,
    "start_time": "2023-06-29T17:56:06.486Z"
   },
   {
    "duration": 17,
    "start_time": "2023-06-29T17:56:12.923Z"
   },
   {
    "duration": 12,
    "start_time": "2023-06-29T17:56:17.406Z"
   },
   {
    "duration": 261,
    "start_time": "2023-06-29T17:56:17.423Z"
   },
   {
    "duration": 12,
    "start_time": "2023-06-29T17:56:17.686Z"
   },
   {
    "duration": 52,
    "start_time": "2023-06-29T17:56:17.700Z"
   },
   {
    "duration": 1004,
    "start_time": "2023-06-29T17:56:17.755Z"
   },
   {
    "duration": 16,
    "start_time": "2023-06-29T17:56:18.761Z"
   },
   {
    "duration": 18,
    "start_time": "2023-06-29T17:56:18.780Z"
   },
   {
    "duration": 49,
    "start_time": "2023-06-29T17:56:18.804Z"
   },
   {
    "duration": 31,
    "start_time": "2023-06-29T17:56:18.856Z"
   },
   {
    "duration": 36,
    "start_time": "2023-06-29T17:56:18.891Z"
   },
   {
    "duration": 38,
    "start_time": "2023-06-29T17:56:18.929Z"
   },
   {
    "duration": 24,
    "start_time": "2023-06-29T17:56:18.969Z"
   },
   {
    "duration": 77,
    "start_time": "2023-06-29T17:56:18.999Z"
   },
   {
    "duration": 18,
    "start_time": "2023-06-29T17:56:19.079Z"
   },
   {
    "duration": 48,
    "start_time": "2023-06-29T17:56:19.099Z"
   },
   {
    "duration": 12,
    "start_time": "2023-06-29T17:56:19.149Z"
   },
   {
    "duration": 48,
    "start_time": "2023-06-29T17:56:19.163Z"
   },
   {
    "duration": 45,
    "start_time": "2023-06-29T17:56:19.218Z"
   },
   {
    "duration": 16,
    "start_time": "2023-06-29T17:56:19.266Z"
   },
   {
    "duration": 10,
    "start_time": "2023-06-29T17:56:19.285Z"
   },
   {
    "duration": 60,
    "start_time": "2023-06-29T17:56:19.298Z"
   },
   {
    "duration": 30,
    "start_time": "2023-06-29T17:56:19.360Z"
   },
   {
    "duration": 13,
    "start_time": "2023-06-29T17:56:19.392Z"
   },
   {
    "duration": 59,
    "start_time": "2023-06-29T17:56:19.406Z"
   },
   {
    "duration": 290,
    "start_time": "2023-06-29T17:56:19.467Z"
   },
   {
    "duration": 424,
    "start_time": "2023-06-29T17:56:19.763Z"
   },
   {
    "duration": 380,
    "start_time": "2023-06-29T17:56:20.189Z"
   },
   {
    "duration": 7,
    "start_time": "2023-06-29T17:56:20.575Z"
   },
   {
    "duration": 34,
    "start_time": "2023-06-29T17:56:20.585Z"
   },
   {
    "duration": 130,
    "start_time": "2023-06-29T17:56:20.622Z"
   },
   {
    "duration": 489,
    "start_time": "2023-06-29T17:56:20.754Z"
   },
   {
    "duration": 1020,
    "start_time": "2023-06-29T17:56:21.245Z"
   },
   {
    "duration": 44,
    "start_time": "2023-06-29T17:56:22.268Z"
   },
   {
    "duration": 19,
    "start_time": "2023-06-29T17:56:22.314Z"
   },
   {
    "duration": 405,
    "start_time": "2023-06-29T17:56:22.336Z"
   },
   {
    "duration": 13,
    "start_time": "2023-06-29T17:56:22.744Z"
   },
   {
    "duration": 376,
    "start_time": "2023-06-29T17:56:22.759Z"
   },
   {
    "duration": 15,
    "start_time": "2023-06-29T17:56:23.143Z"
   },
   {
    "duration": 398,
    "start_time": "2023-06-29T17:56:23.160Z"
   },
   {
    "duration": 15,
    "start_time": "2023-06-29T17:56:23.561Z"
   },
   {
    "duration": 331,
    "start_time": "2023-06-29T17:56:23.579Z"
   },
   {
    "duration": 295,
    "start_time": "2023-06-29T17:56:23.917Z"
   },
   {
    "duration": 233,
    "start_time": "2023-06-29T17:56:24.214Z"
   },
   {
    "duration": 11,
    "start_time": "2023-06-29T17:56:24.452Z"
   },
   {
    "duration": 0,
    "start_time": "2023-06-29T17:56:24.466Z"
   },
   {
    "duration": 0,
    "start_time": "2023-06-29T17:56:24.468Z"
   },
   {
    "duration": 0,
    "start_time": "2023-06-29T17:56:24.470Z"
   },
   {
    "duration": 0,
    "start_time": "2023-06-29T17:56:24.472Z"
   },
   {
    "duration": 16,
    "start_time": "2023-06-29T17:56:33.560Z"
   },
   {
    "duration": 17,
    "start_time": "2023-06-29T17:56:43.266Z"
   },
   {
    "duration": 201,
    "start_time": "2023-06-29T17:57:33.396Z"
   },
   {
    "duration": 228,
    "start_time": "2023-06-29T17:57:34.398Z"
   },
   {
    "duration": 24,
    "start_time": "2023-06-29T17:57:34.775Z"
   },
   {
    "duration": 107,
    "start_time": "2023-06-29T17:57:35.368Z"
   },
   {
    "duration": 2537,
    "start_time": "2023-06-29T18:00:25.049Z"
   },
   {
    "duration": 3144,
    "start_time": "2023-06-29T18:00:44.068Z"
   },
   {
    "duration": 421,
    "start_time": "2023-06-29T18:01:21.262Z"
   },
   {
    "duration": 1608,
    "start_time": "2023-06-30T09:04:45.309Z"
   },
   {
    "duration": 341,
    "start_time": "2023-06-30T09:04:46.920Z"
   },
   {
    "duration": 29,
    "start_time": "2023-06-30T09:04:47.264Z"
   },
   {
    "duration": 40,
    "start_time": "2023-06-30T09:04:47.295Z"
   },
   {
    "duration": 992,
    "start_time": "2023-06-30T09:04:47.338Z"
   },
   {
    "duration": 7,
    "start_time": "2023-06-30T09:04:48.332Z"
   },
   {
    "duration": 30,
    "start_time": "2023-06-30T09:04:48.360Z"
   },
   {
    "duration": 38,
    "start_time": "2023-06-30T09:04:48.393Z"
   },
   {
    "duration": 28,
    "start_time": "2023-06-30T09:04:48.433Z"
   },
   {
    "duration": 40,
    "start_time": "2023-06-30T09:04:48.467Z"
   },
   {
    "duration": 10,
    "start_time": "2023-06-30T09:04:48.509Z"
   },
   {
    "duration": 5,
    "start_time": "2023-06-30T09:04:48.522Z"
   },
   {
    "duration": 29,
    "start_time": "2023-06-30T09:04:48.530Z"
   },
   {
    "duration": 42,
    "start_time": "2023-06-30T09:04:48.566Z"
   },
   {
    "duration": 9,
    "start_time": "2023-06-30T09:04:48.610Z"
   },
   {
    "duration": 6,
    "start_time": "2023-06-30T09:04:48.620Z"
   },
   {
    "duration": 31,
    "start_time": "2023-06-30T09:04:48.628Z"
   },
   {
    "duration": 11,
    "start_time": "2023-06-30T09:04:48.661Z"
   },
   {
    "duration": 19,
    "start_time": "2023-06-30T09:04:48.674Z"
   },
   {
    "duration": 21,
    "start_time": "2023-06-30T09:04:48.695Z"
   },
   {
    "duration": 16,
    "start_time": "2023-06-30T09:04:48.718Z"
   },
   {
    "duration": 35,
    "start_time": "2023-06-30T09:04:48.736Z"
   },
   {
    "duration": 14,
    "start_time": "2023-06-30T09:04:48.773Z"
   },
   {
    "duration": 30,
    "start_time": "2023-06-30T09:04:48.789Z"
   },
   {
    "duration": 288,
    "start_time": "2023-06-30T09:04:48.821Z"
   },
   {
    "duration": 414,
    "start_time": "2023-06-30T09:04:49.115Z"
   },
   {
    "duration": 446,
    "start_time": "2023-06-30T09:04:49.530Z"
   },
   {
    "duration": 10,
    "start_time": "2023-06-30T09:04:49.979Z"
   },
   {
    "duration": 33,
    "start_time": "2023-06-30T09:04:49.991Z"
   },
   {
    "duration": 18,
    "start_time": "2023-06-30T09:04:50.026Z"
   },
   {
    "duration": 457,
    "start_time": "2023-06-30T09:04:50.046Z"
   },
   {
    "duration": 524,
    "start_time": "2023-06-30T09:04:50.508Z"
   },
   {
    "duration": 41,
    "start_time": "2023-06-30T09:04:51.034Z"
   },
   {
    "duration": 31,
    "start_time": "2023-06-30T09:04:51.081Z"
   },
   {
    "duration": 430,
    "start_time": "2023-06-30T09:04:51.114Z"
   },
   {
    "duration": 26,
    "start_time": "2023-06-30T09:04:51.554Z"
   },
   {
    "duration": 354,
    "start_time": "2023-06-30T09:04:51.582Z"
   },
   {
    "duration": 23,
    "start_time": "2023-06-30T09:04:51.939Z"
   },
   {
    "duration": 387,
    "start_time": "2023-06-30T09:04:51.964Z"
   },
   {
    "duration": 24,
    "start_time": "2023-06-30T09:04:52.364Z"
   },
   {
    "duration": 252,
    "start_time": "2023-06-30T09:04:52.397Z"
   },
   {
    "duration": 304,
    "start_time": "2023-06-30T09:04:52.652Z"
   },
   {
    "duration": 258,
    "start_time": "2023-06-30T09:04:52.958Z"
   },
   {
    "duration": 360,
    "start_time": "2023-06-30T09:04:53.222Z"
   },
   {
    "duration": 233,
    "start_time": "2023-06-30T09:04:53.589Z"
   },
   {
    "duration": 42,
    "start_time": "2023-06-30T09:04:53.826Z"
   },
   {
    "duration": 256,
    "start_time": "2023-06-30T09:06:29.272Z"
   },
   {
    "duration": 242,
    "start_time": "2023-06-30T09:06:50.577Z"
   },
   {
    "duration": 301,
    "start_time": "2023-06-30T09:11:17.725Z"
   },
   {
    "duration": 276,
    "start_time": "2023-06-30T09:13:32.443Z"
   },
   {
    "duration": 26,
    "start_time": "2023-06-30T09:15:10.579Z"
   },
   {
    "duration": 16,
    "start_time": "2023-06-30T09:15:51.011Z"
   },
   {
    "duration": 21,
    "start_time": "2023-06-30T09:16:57.222Z"
   },
   {
    "duration": 49,
    "start_time": "2023-06-30T09:17:03.847Z"
   },
   {
    "duration": 281,
    "start_time": "2023-06-30T09:18:42.649Z"
   },
   {
    "duration": 305,
    "start_time": "2023-06-30T09:54:31.997Z"
   },
   {
    "duration": 291,
    "start_time": "2023-06-30T10:03:40.036Z"
   },
   {
    "duration": 259,
    "start_time": "2023-06-30T10:03:54.319Z"
   },
   {
    "duration": 290,
    "start_time": "2023-06-30T10:04:02.985Z"
   },
   {
    "duration": 369,
    "start_time": "2023-06-30T10:04:31.281Z"
   },
   {
    "duration": 303,
    "start_time": "2023-06-30T10:04:48.429Z"
   },
   {
    "duration": 291,
    "start_time": "2023-06-30T10:05:07.310Z"
   },
   {
    "duration": 264,
    "start_time": "2023-06-30T10:05:46.084Z"
   },
   {
    "duration": 414,
    "start_time": "2023-06-30T10:06:52.122Z"
   },
   {
    "duration": 94,
    "start_time": "2023-06-30T10:24:03.232Z"
   },
   {
    "duration": 261,
    "start_time": "2023-06-30T10:24:15.174Z"
   },
   {
    "duration": 221,
    "start_time": "2023-06-30T10:27:09.694Z"
   },
   {
    "duration": 3,
    "start_time": "2023-06-30T10:27:42.510Z"
   },
   {
    "duration": 286,
    "start_time": "2023-06-30T10:27:42.526Z"
   },
   {
    "duration": 11,
    "start_time": "2023-06-30T10:27:42.814Z"
   },
   {
    "duration": 36,
    "start_time": "2023-06-30T10:27:42.828Z"
   },
   {
    "duration": 810,
    "start_time": "2023-06-30T10:27:42.866Z"
   },
   {
    "duration": 12,
    "start_time": "2023-06-30T10:27:43.682Z"
   },
   {
    "duration": 11,
    "start_time": "2023-06-30T10:27:43.695Z"
   },
   {
    "duration": 15,
    "start_time": "2023-06-30T10:27:43.707Z"
   },
   {
    "duration": 37,
    "start_time": "2023-06-30T10:27:43.724Z"
   },
   {
    "duration": 29,
    "start_time": "2023-06-30T10:27:43.766Z"
   },
   {
    "duration": 7,
    "start_time": "2023-06-30T10:27:43.799Z"
   },
   {
    "duration": 4,
    "start_time": "2023-06-30T10:27:43.808Z"
   },
   {
    "duration": 13,
    "start_time": "2023-06-30T10:27:43.814Z"
   },
   {
    "duration": 6,
    "start_time": "2023-06-30T10:27:43.828Z"
   },
   {
    "duration": 23,
    "start_time": "2023-06-30T10:27:43.858Z"
   },
   {
    "duration": 6,
    "start_time": "2023-06-30T10:27:43.889Z"
   },
   {
    "duration": 25,
    "start_time": "2023-06-30T10:27:43.897Z"
   },
   {
    "duration": 5,
    "start_time": "2023-06-30T10:27:43.924Z"
   },
   {
    "duration": 14,
    "start_time": "2023-06-30T10:27:43.931Z"
   },
   {
    "duration": 44,
    "start_time": "2023-06-30T10:27:43.947Z"
   },
   {
    "duration": 15,
    "start_time": "2023-06-30T10:27:43.995Z"
   },
   {
    "duration": 15,
    "start_time": "2023-06-30T10:27:44.012Z"
   },
   {
    "duration": 7,
    "start_time": "2023-06-30T10:27:44.028Z"
   },
   {
    "duration": 34,
    "start_time": "2023-06-30T10:27:44.036Z"
   },
   {
    "duration": 235,
    "start_time": "2023-06-30T10:27:44.078Z"
   },
   {
    "duration": 393,
    "start_time": "2023-06-30T10:27:44.314Z"
   },
   {
    "duration": 313,
    "start_time": "2023-06-30T10:27:44.709Z"
   },
   {
    "duration": 15,
    "start_time": "2023-06-30T10:27:45.024Z"
   },
   {
    "duration": 36,
    "start_time": "2023-06-30T10:27:45.041Z"
   },
   {
    "duration": 28,
    "start_time": "2023-06-30T10:27:45.079Z"
   },
   {
    "duration": 492,
    "start_time": "2023-06-30T10:27:45.109Z"
   },
   {
    "duration": 634,
    "start_time": "2023-06-30T10:27:45.603Z"
   },
   {
    "duration": 31,
    "start_time": "2023-06-30T10:27:46.239Z"
   },
   {
    "duration": 17,
    "start_time": "2023-06-30T10:27:46.279Z"
   },
   {
    "duration": 413,
    "start_time": "2023-06-30T10:27:46.299Z"
   },
   {
    "duration": 11,
    "start_time": "2023-06-30T10:27:46.713Z"
   },
   {
    "duration": 369,
    "start_time": "2023-06-30T10:27:46.726Z"
   },
   {
    "duration": 11,
    "start_time": "2023-06-30T10:27:47.097Z"
   },
   {
    "duration": 367,
    "start_time": "2023-06-30T10:27:47.109Z"
   },
   {
    "duration": 14,
    "start_time": "2023-06-30T10:27:47.477Z"
   },
   {
    "duration": 247,
    "start_time": "2023-06-30T10:27:47.495Z"
   },
   {
    "duration": 293,
    "start_time": "2023-06-30T10:27:47.747Z"
   },
   {
    "duration": 281,
    "start_time": "2023-06-30T10:27:48.042Z"
   },
   {
    "duration": 266,
    "start_time": "2023-06-30T10:27:48.325Z"
   },
   {
    "duration": 226,
    "start_time": "2023-06-30T10:27:48.598Z"
   },
   {
    "duration": 216,
    "start_time": "2023-06-30T10:27:48.826Z"
   },
   {
    "duration": 208,
    "start_time": "2023-06-30T10:27:49.044Z"
   },
   {
    "duration": 212,
    "start_time": "2023-06-30T10:27:49.258Z"
   },
   {
    "duration": 270,
    "start_time": "2023-06-30T10:27:49.476Z"
   },
   {
    "duration": 223,
    "start_time": "2023-06-30T10:27:49.748Z"
   },
   {
    "duration": 225,
    "start_time": "2023-06-30T10:28:20.400Z"
   },
   {
    "duration": 224,
    "start_time": "2023-06-30T10:28:29.577Z"
   },
   {
    "duration": 214,
    "start_time": "2023-06-30T10:28:49.987Z"
   },
   {
    "duration": 214,
    "start_time": "2023-06-30T10:29:00.427Z"
   },
   {
    "duration": 209,
    "start_time": "2023-06-30T10:29:08.916Z"
   },
   {
    "duration": 208,
    "start_time": "2023-06-30T10:29:18.328Z"
   },
   {
    "duration": 218,
    "start_time": "2023-06-30T10:29:25.427Z"
   },
   {
    "duration": 479,
    "start_time": "2023-06-30T11:07:44.605Z"
   },
   {
    "duration": 250,
    "start_time": "2023-06-30T11:08:37.101Z"
   },
   {
    "duration": 11,
    "start_time": "2023-06-30T11:30:33.183Z"
   },
   {
    "duration": 4,
    "start_time": "2023-06-30T11:33:12.535Z"
   },
   {
    "duration": 105,
    "start_time": "2023-06-30T11:33:12.541Z"
   },
   {
    "duration": 22,
    "start_time": "2023-06-30T11:33:12.648Z"
   },
   {
    "duration": 38,
    "start_time": "2023-06-30T11:33:12.674Z"
   },
   {
    "duration": 766,
    "start_time": "2023-06-30T11:33:12.714Z"
   },
   {
    "duration": 7,
    "start_time": "2023-06-30T11:33:13.482Z"
   },
   {
    "duration": 25,
    "start_time": "2023-06-30T11:33:13.491Z"
   },
   {
    "duration": 35,
    "start_time": "2023-06-30T11:33:13.518Z"
   },
   {
    "duration": 20,
    "start_time": "2023-06-30T11:33:13.558Z"
   },
   {
    "duration": 14,
    "start_time": "2023-06-30T11:33:13.581Z"
   },
   {
    "duration": 17,
    "start_time": "2023-06-30T11:33:13.597Z"
   },
   {
    "duration": 9,
    "start_time": "2023-06-30T11:33:13.616Z"
   },
   {
    "duration": 34,
    "start_time": "2023-06-30T11:33:13.627Z"
   },
   {
    "duration": 10,
    "start_time": "2023-06-30T11:33:13.663Z"
   },
   {
    "duration": 14,
    "start_time": "2023-06-30T11:33:13.676Z"
   },
   {
    "duration": 32,
    "start_time": "2023-06-30T11:33:13.693Z"
   },
   {
    "duration": 45,
    "start_time": "2023-06-30T11:33:13.727Z"
   },
   {
    "duration": 5,
    "start_time": "2023-06-30T11:33:13.775Z"
   },
   {
    "duration": 19,
    "start_time": "2023-06-30T11:33:13.782Z"
   },
   {
    "duration": 29,
    "start_time": "2023-06-30T11:33:13.802Z"
   },
   {
    "duration": 52,
    "start_time": "2023-06-30T11:33:13.833Z"
   },
   {
    "duration": 22,
    "start_time": "2023-06-30T11:33:13.887Z"
   },
   {
    "duration": 36,
    "start_time": "2023-06-30T11:33:13.911Z"
   },
   {
    "duration": 27,
    "start_time": "2023-06-30T11:33:13.949Z"
   },
   {
    "duration": 236,
    "start_time": "2023-06-30T11:33:13.978Z"
   },
   {
    "duration": 451,
    "start_time": "2023-06-30T11:33:14.216Z"
   },
   {
    "duration": 280,
    "start_time": "2023-06-30T11:33:14.669Z"
   },
   {
    "duration": 26,
    "start_time": "2023-06-30T11:33:14.957Z"
   },
   {
    "duration": 21,
    "start_time": "2023-06-30T11:33:14.985Z"
   },
   {
    "duration": 63,
    "start_time": "2023-06-30T11:33:15.009Z"
   },
   {
    "duration": 429,
    "start_time": "2023-06-30T11:33:15.073Z"
   },
   {
    "duration": 478,
    "start_time": "2023-06-30T11:33:15.504Z"
   },
   {
    "duration": 19,
    "start_time": "2023-06-30T11:33:15.984Z"
   },
   {
    "duration": 53,
    "start_time": "2023-06-30T11:33:16.005Z"
   },
   {
    "duration": 362,
    "start_time": "2023-06-30T11:33:16.060Z"
   },
   {
    "duration": 14,
    "start_time": "2023-06-30T11:33:16.423Z"
   },
   {
    "duration": 362,
    "start_time": "2023-06-30T11:33:16.439Z"
   },
   {
    "duration": 12,
    "start_time": "2023-06-30T11:33:16.803Z"
   },
   {
    "duration": 356,
    "start_time": "2023-06-30T11:33:16.817Z"
   },
   {
    "duration": 11,
    "start_time": "2023-06-30T11:33:17.175Z"
   },
   {
    "duration": 227,
    "start_time": "2023-06-30T11:33:17.188Z"
   },
   {
    "duration": 302,
    "start_time": "2023-06-30T11:33:17.417Z"
   },
   {
    "duration": 239,
    "start_time": "2023-06-30T11:33:17.721Z"
   },
   {
    "duration": 424,
    "start_time": "2023-06-30T11:33:17.961Z"
   },
   {
    "duration": 288,
    "start_time": "2023-06-30T11:33:18.388Z"
   },
   {
    "duration": 199,
    "start_time": "2023-06-30T11:33:18.679Z"
   },
   {
    "duration": 231,
    "start_time": "2023-06-30T11:33:18.881Z"
   },
   {
    "duration": 198,
    "start_time": "2023-06-30T11:33:19.114Z"
   },
   {
    "duration": 260,
    "start_time": "2023-06-30T11:33:19.313Z"
   },
   {
    "duration": 287,
    "start_time": "2023-06-30T11:33:19.575Z"
   },
   {
    "duration": 213,
    "start_time": "2023-06-30T11:33:19.864Z"
   },
   {
    "duration": 213,
    "start_time": "2023-06-30T11:33:20.079Z"
   },
   {
    "duration": 6,
    "start_time": "2023-06-30T11:33:20.295Z"
   },
   {
    "duration": 11,
    "start_time": "2023-06-30T11:33:32.696Z"
   },
   {
    "duration": 37,
    "start_time": "2023-06-30T11:33:53.691Z"
   },
   {
    "duration": 9,
    "start_time": "2023-06-30T11:35:46.800Z"
   },
   {
    "duration": 18,
    "start_time": "2023-06-30T11:40:14.066Z"
   },
   {
    "duration": 26,
    "start_time": "2023-06-30T11:41:26.841Z"
   },
   {
    "duration": 18,
    "start_time": "2023-06-30T11:41:45.413Z"
   },
   {
    "duration": 10,
    "start_time": "2023-06-30T11:42:02.371Z"
   },
   {
    "duration": 144,
    "start_time": "2023-06-30T11:42:02.383Z"
   },
   {
    "duration": 12,
    "start_time": "2023-06-30T11:42:02.529Z"
   },
   {
    "duration": 63,
    "start_time": "2023-06-30T11:42:02.543Z"
   },
   {
    "duration": 917,
    "start_time": "2023-06-30T11:42:02.608Z"
   },
   {
    "duration": 6,
    "start_time": "2023-06-30T11:42:03.527Z"
   },
   {
    "duration": 33,
    "start_time": "2023-06-30T11:42:03.536Z"
   },
   {
    "duration": 27,
    "start_time": "2023-06-30T11:42:03.571Z"
   },
   {
    "duration": 16,
    "start_time": "2023-06-30T11:42:03.601Z"
   },
   {
    "duration": 20,
    "start_time": "2023-06-30T11:42:03.618Z"
   },
   {
    "duration": 28,
    "start_time": "2023-06-30T11:42:03.640Z"
   },
   {
    "duration": 10,
    "start_time": "2023-06-30T11:42:03.670Z"
   },
   {
    "duration": 25,
    "start_time": "2023-06-30T11:42:03.683Z"
   },
   {
    "duration": 10,
    "start_time": "2023-06-30T11:42:03.710Z"
   },
   {
    "duration": 8,
    "start_time": "2023-06-30T11:42:03.722Z"
   },
   {
    "duration": 42,
    "start_time": "2023-06-30T11:42:03.732Z"
   },
   {
    "duration": 33,
    "start_time": "2023-06-30T11:42:03.776Z"
   },
   {
    "duration": 5,
    "start_time": "2023-06-30T11:42:03.811Z"
   },
   {
    "duration": 12,
    "start_time": "2023-06-30T11:42:03.818Z"
   },
   {
    "duration": 25,
    "start_time": "2023-06-30T11:42:03.832Z"
   },
   {
    "duration": 26,
    "start_time": "2023-06-30T11:42:03.860Z"
   },
   {
    "duration": 26,
    "start_time": "2023-06-30T11:42:03.888Z"
   },
   {
    "duration": 9,
    "start_time": "2023-06-30T11:42:03.916Z"
   },
   {
    "duration": 35,
    "start_time": "2023-06-30T11:42:03.963Z"
   },
   {
    "duration": 247,
    "start_time": "2023-06-30T11:42:04.000Z"
   },
   {
    "duration": 456,
    "start_time": "2023-06-30T11:42:04.249Z"
   },
   {
    "duration": 333,
    "start_time": "2023-06-30T11:42:04.707Z"
   },
   {
    "duration": 27,
    "start_time": "2023-06-30T11:42:05.042Z"
   },
   {
    "duration": 27,
    "start_time": "2023-06-30T11:42:05.079Z"
   },
   {
    "duration": 22,
    "start_time": "2023-06-30T11:42:05.109Z"
   },
   {
    "duration": 489,
    "start_time": "2023-06-30T11:42:05.133Z"
   },
   {
    "duration": 572,
    "start_time": "2023-06-30T11:42:05.624Z"
   },
   {
    "duration": 18,
    "start_time": "2023-06-30T11:42:06.199Z"
   },
   {
    "duration": 21,
    "start_time": "2023-06-30T11:42:06.219Z"
   },
   {
    "duration": 476,
    "start_time": "2023-06-30T11:42:06.255Z"
   },
   {
    "duration": 33,
    "start_time": "2023-06-30T11:42:06.733Z"
   },
   {
    "duration": 393,
    "start_time": "2023-06-30T11:42:06.769Z"
   },
   {
    "duration": 26,
    "start_time": "2023-06-30T11:42:07.165Z"
   },
   {
    "duration": 439,
    "start_time": "2023-06-30T11:42:07.197Z"
   },
   {
    "duration": 25,
    "start_time": "2023-06-30T11:42:07.639Z"
   },
   {
    "duration": 343,
    "start_time": "2023-06-30T11:42:07.667Z"
   },
   {
    "duration": 533,
    "start_time": "2023-06-30T11:42:08.012Z"
   },
   {
    "duration": 272,
    "start_time": "2023-06-30T11:42:08.547Z"
   },
   {
    "duration": 275,
    "start_time": "2023-06-30T11:42:08.821Z"
   },
   {
    "duration": 248,
    "start_time": "2023-06-30T11:42:09.105Z"
   },
   {
    "duration": 232,
    "start_time": "2023-06-30T11:42:09.360Z"
   },
   {
    "duration": 230,
    "start_time": "2023-06-30T11:42:09.594Z"
   },
   {
    "duration": 236,
    "start_time": "2023-06-30T11:42:09.826Z"
   },
   {
    "duration": 281,
    "start_time": "2023-06-30T11:42:10.065Z"
   },
   {
    "duration": 302,
    "start_time": "2023-06-30T11:42:10.348Z"
   },
   {
    "duration": 268,
    "start_time": "2023-06-30T11:42:10.653Z"
   },
   {
    "duration": 227,
    "start_time": "2023-06-30T11:42:10.926Z"
   },
   {
    "duration": 12,
    "start_time": "2023-06-30T11:42:11.158Z"
   },
   {
    "duration": 34,
    "start_time": "2023-06-30T11:42:11.173Z"
   },
   {
    "duration": 17,
    "start_time": "2023-06-30T11:43:55.999Z"
   },
   {
    "duration": 23,
    "start_time": "2023-06-30T11:44:04.878Z"
   },
   {
    "duration": 8,
    "start_time": "2023-06-30T11:44:25.303Z"
   },
   {
    "duration": 30,
    "start_time": "2023-06-30T11:44:35.381Z"
   },
   {
    "duration": 19,
    "start_time": "2023-06-30T11:44:59.307Z"
   },
   {
    "duration": 16,
    "start_time": "2023-06-30T11:58:55.683Z"
   },
   {
    "duration": 17,
    "start_time": "2023-06-30T11:59:46.685Z"
   },
   {
    "duration": 12,
    "start_time": "2023-06-30T12:01:39.883Z"
   },
   {
    "duration": 16,
    "start_time": "2023-06-30T12:04:36.502Z"
   },
   {
    "duration": 13,
    "start_time": "2023-06-30T12:08:47.879Z"
   },
   {
    "duration": 5,
    "start_time": "2023-06-30T12:08:50.043Z"
   },
   {
    "duration": 12,
    "start_time": "2023-06-30T12:15:44.755Z"
   },
   {
    "duration": 11,
    "start_time": "2023-06-30T12:18:49.239Z"
   },
   {
    "duration": 11,
    "start_time": "2023-06-30T12:21:33.340Z"
   },
   {
    "duration": 4,
    "start_time": "2023-06-30T12:25:47.808Z"
   },
   {
    "duration": 3,
    "start_time": "2023-06-30T12:41:43.607Z"
   },
   {
    "duration": 86,
    "start_time": "2023-06-30T12:41:43.613Z"
   },
   {
    "duration": 9,
    "start_time": "2023-06-30T12:41:43.701Z"
   },
   {
    "duration": 56,
    "start_time": "2023-06-30T12:41:43.712Z"
   },
   {
    "duration": 724,
    "start_time": "2023-06-30T12:41:43.771Z"
   },
   {
    "duration": 6,
    "start_time": "2023-06-30T12:41:44.496Z"
   },
   {
    "duration": 19,
    "start_time": "2023-06-30T12:41:44.503Z"
   },
   {
    "duration": 33,
    "start_time": "2023-06-30T12:41:44.523Z"
   },
   {
    "duration": 20,
    "start_time": "2023-06-30T12:41:44.557Z"
   },
   {
    "duration": 20,
    "start_time": "2023-06-30T12:41:44.579Z"
   },
   {
    "duration": 7,
    "start_time": "2023-06-30T12:41:44.602Z"
   },
   {
    "duration": 4,
    "start_time": "2023-06-30T12:41:44.610Z"
   },
   {
    "duration": 23,
    "start_time": "2023-06-30T12:41:44.616Z"
   },
   {
    "duration": 9,
    "start_time": "2023-06-30T12:41:44.657Z"
   },
   {
    "duration": 7,
    "start_time": "2023-06-30T12:41:44.667Z"
   },
   {
    "duration": 7,
    "start_time": "2023-06-30T12:41:44.676Z"
   },
   {
    "duration": 27,
    "start_time": "2023-06-30T12:41:44.684Z"
   },
   {
    "duration": 18,
    "start_time": "2023-06-30T12:41:44.712Z"
   },
   {
    "duration": 35,
    "start_time": "2023-06-30T12:41:44.731Z"
   },
   {
    "duration": 7,
    "start_time": "2023-06-30T12:41:44.768Z"
   },
   {
    "duration": 20,
    "start_time": "2023-06-30T12:41:44.777Z"
   },
   {
    "duration": 15,
    "start_time": "2023-06-30T12:41:44.798Z"
   },
   {
    "duration": 11,
    "start_time": "2023-06-30T12:41:44.814Z"
   },
   {
    "duration": 19,
    "start_time": "2023-06-30T12:41:44.827Z"
   },
   {
    "duration": 221,
    "start_time": "2023-06-30T12:41:44.854Z"
   },
   {
    "duration": 361,
    "start_time": "2023-06-30T12:41:45.078Z"
   },
   {
    "duration": 276,
    "start_time": "2023-06-30T12:41:45.441Z"
   },
   {
    "duration": 16,
    "start_time": "2023-06-30T12:41:45.719Z"
   },
   {
    "duration": 24,
    "start_time": "2023-06-30T12:41:45.753Z"
   },
   {
    "duration": 15,
    "start_time": "2023-06-30T12:41:45.778Z"
   },
   {
    "duration": 385,
    "start_time": "2023-06-30T12:41:45.795Z"
   },
   {
    "duration": 460,
    "start_time": "2023-06-30T12:41:46.183Z"
   },
   {
    "duration": 34,
    "start_time": "2023-06-30T12:41:46.645Z"
   },
   {
    "duration": 24,
    "start_time": "2023-06-30T12:41:46.681Z"
   },
   {
    "duration": 367,
    "start_time": "2023-06-30T12:41:46.707Z"
   },
   {
    "duration": 13,
    "start_time": "2023-06-30T12:41:47.077Z"
   },
   {
    "duration": 327,
    "start_time": "2023-06-30T12:41:47.092Z"
   },
   {
    "duration": 13,
    "start_time": "2023-06-30T12:41:47.421Z"
   },
   {
    "duration": 362,
    "start_time": "2023-06-30T12:41:47.436Z"
   },
   {
    "duration": 14,
    "start_time": "2023-06-30T12:41:47.801Z"
   },
   {
    "duration": 265,
    "start_time": "2023-06-30T12:41:47.817Z"
   },
   {
    "duration": 245,
    "start_time": "2023-06-30T12:41:48.084Z"
   },
   {
    "duration": 234,
    "start_time": "2023-06-30T12:41:48.331Z"
   },
   {
    "duration": 207,
    "start_time": "2023-06-30T12:41:48.567Z"
   },
   {
    "duration": 464,
    "start_time": "2023-06-30T12:41:48.775Z"
   },
   {
    "duration": 186,
    "start_time": "2023-06-30T12:41:49.241Z"
   },
   {
    "duration": 221,
    "start_time": "2023-06-30T12:41:49.429Z"
   },
   {
    "duration": 182,
    "start_time": "2023-06-30T12:41:49.654Z"
   },
   {
    "duration": 233,
    "start_time": "2023-06-30T12:41:49.838Z"
   },
   {
    "duration": 211,
    "start_time": "2023-06-30T12:41:50.073Z"
   },
   {
    "duration": 207,
    "start_time": "2023-06-30T12:41:50.285Z"
   },
   {
    "duration": 197,
    "start_time": "2023-06-30T12:41:50.494Z"
   },
   {
    "duration": 12,
    "start_time": "2023-06-30T12:41:50.693Z"
   },
   {
    "duration": 10,
    "start_time": "2023-06-30T12:41:50.707Z"
   },
   {
    "duration": 11,
    "start_time": "2023-06-30T12:41:50.719Z"
   },
   {
    "duration": 25,
    "start_time": "2023-06-30T12:41:50.731Z"
   },
   {
    "duration": 241,
    "start_time": "2023-06-30T12:51:41.499Z"
   },
   {
    "duration": 4,
    "start_time": "2023-06-30T12:59:31.291Z"
   },
   {
    "duration": 120,
    "start_time": "2023-06-30T12:59:31.297Z"
   },
   {
    "duration": 10,
    "start_time": "2023-06-30T12:59:31.419Z"
   },
   {
    "duration": 59,
    "start_time": "2023-06-30T12:59:31.431Z"
   },
   {
    "duration": 774,
    "start_time": "2023-06-30T12:59:31.492Z"
   },
   {
    "duration": 6,
    "start_time": "2023-06-30T12:59:32.269Z"
   },
   {
    "duration": 26,
    "start_time": "2023-06-30T12:59:32.277Z"
   },
   {
    "duration": 42,
    "start_time": "2023-06-30T12:59:32.305Z"
   },
   {
    "duration": 21,
    "start_time": "2023-06-30T12:59:32.349Z"
   },
   {
    "duration": 28,
    "start_time": "2023-06-30T12:59:32.373Z"
   },
   {
    "duration": 15,
    "start_time": "2023-06-30T12:59:32.403Z"
   },
   {
    "duration": 5,
    "start_time": "2023-06-30T12:59:32.420Z"
   },
   {
    "duration": 30,
    "start_time": "2023-06-30T12:59:32.427Z"
   },
   {
    "duration": 10,
    "start_time": "2023-06-30T12:59:32.459Z"
   },
   {
    "duration": 12,
    "start_time": "2023-06-30T12:59:32.471Z"
   },
   {
    "duration": 18,
    "start_time": "2023-06-30T12:59:32.486Z"
   },
   {
    "duration": 59,
    "start_time": "2023-06-30T12:59:32.505Z"
   },
   {
    "duration": 5,
    "start_time": "2023-06-30T12:59:32.572Z"
   },
   {
    "duration": 16,
    "start_time": "2023-06-30T12:59:32.579Z"
   },
   {
    "duration": 12,
    "start_time": "2023-06-30T12:59:32.596Z"
   },
   {
    "duration": 44,
    "start_time": "2023-06-30T12:59:32.610Z"
   },
   {
    "duration": 28,
    "start_time": "2023-06-30T12:59:32.656Z"
   },
   {
    "duration": 7,
    "start_time": "2023-06-30T12:59:32.685Z"
   },
   {
    "duration": 30,
    "start_time": "2023-06-30T12:59:32.694Z"
   },
   {
    "duration": 213,
    "start_time": "2023-06-30T12:59:32.725Z"
   },
   {
    "duration": 363,
    "start_time": "2023-06-30T12:59:32.940Z"
   },
   {
    "duration": 278,
    "start_time": "2023-06-30T12:59:33.306Z"
   },
   {
    "duration": 16,
    "start_time": "2023-06-30T12:59:33.589Z"
   },
   {
    "duration": 15,
    "start_time": "2023-06-30T12:59:33.606Z"
   },
   {
    "duration": 46,
    "start_time": "2023-06-30T12:59:33.623Z"
   },
   {
    "duration": 399,
    "start_time": "2023-06-30T12:59:33.671Z"
   },
   {
    "duration": 430,
    "start_time": "2023-06-30T12:59:34.072Z"
   },
   {
    "duration": 17,
    "start_time": "2023-06-30T12:59:34.504Z"
   },
   {
    "duration": 11,
    "start_time": "2023-06-30T12:59:34.523Z"
   },
   {
    "duration": 380,
    "start_time": "2023-06-30T12:59:34.535Z"
   },
   {
    "duration": 14,
    "start_time": "2023-06-30T12:59:34.918Z"
   },
   {
    "duration": 333,
    "start_time": "2023-06-30T12:59:34.934Z"
   },
   {
    "duration": 13,
    "start_time": "2023-06-30T12:59:35.269Z"
   },
   {
    "duration": 328,
    "start_time": "2023-06-30T12:59:35.284Z"
   },
   {
    "duration": 12,
    "start_time": "2023-06-30T12:59:35.614Z"
   },
   {
    "duration": 243,
    "start_time": "2023-06-30T12:59:35.628Z"
   },
   {
    "duration": 244,
    "start_time": "2023-06-30T12:59:35.873Z"
   },
   {
    "duration": 211,
    "start_time": "2023-06-30T12:59:36.119Z"
   },
   {
    "duration": 243,
    "start_time": "2023-06-30T12:59:36.332Z"
   },
   {
    "duration": 228,
    "start_time": "2023-06-30T12:59:36.577Z"
   },
   {
    "duration": 200,
    "start_time": "2023-06-30T12:59:36.808Z"
   },
   {
    "duration": 202,
    "start_time": "2023-06-30T12:59:37.010Z"
   },
   {
    "duration": 191,
    "start_time": "2023-06-30T12:59:37.215Z"
   },
   {
    "duration": 277,
    "start_time": "2023-06-30T12:59:37.408Z"
   },
   {
    "duration": 221,
    "start_time": "2023-06-30T12:59:37.687Z"
   },
   {
    "duration": 196,
    "start_time": "2023-06-30T12:59:37.910Z"
   },
   {
    "duration": 200,
    "start_time": "2023-06-30T12:59:38.108Z"
   },
   {
    "duration": 11,
    "start_time": "2023-06-30T12:59:38.309Z"
   },
   {
    "duration": 10,
    "start_time": "2023-06-30T12:59:38.322Z"
   },
   {
    "duration": 39,
    "start_time": "2023-06-30T12:59:38.334Z"
   },
   {
    "duration": 22,
    "start_time": "2023-06-30T12:59:38.375Z"
   },
   {
    "duration": 4,
    "start_time": "2023-06-30T14:00:58.697Z"
   },
   {
    "duration": 86,
    "start_time": "2023-06-30T14:00:58.704Z"
   },
   {
    "duration": 12,
    "start_time": "2023-06-30T14:00:58.793Z"
   },
   {
    "duration": 52,
    "start_time": "2023-06-30T14:00:58.807Z"
   },
   {
    "duration": 1223,
    "start_time": "2023-06-30T14:00:58.861Z"
   },
   {
    "duration": 5,
    "start_time": "2023-06-30T14:01:00.087Z"
   },
   {
    "duration": 57,
    "start_time": "2023-06-30T14:01:00.094Z"
   },
   {
    "duration": 34,
    "start_time": "2023-06-30T14:01:00.154Z"
   },
   {
    "duration": 39,
    "start_time": "2023-06-30T14:01:00.190Z"
   },
   {
    "duration": 35,
    "start_time": "2023-06-30T14:01:00.233Z"
   },
   {
    "duration": 22,
    "start_time": "2023-06-30T14:01:00.270Z"
   },
   {
    "duration": 18,
    "start_time": "2023-06-30T14:01:00.295Z"
   },
   {
    "duration": 52,
    "start_time": "2023-06-30T14:01:00.315Z"
   },
   {
    "duration": 10,
    "start_time": "2023-06-30T14:01:00.379Z"
   },
   {
    "duration": 56,
    "start_time": "2023-06-30T14:01:00.392Z"
   },
   {
    "duration": 27,
    "start_time": "2023-06-30T14:01:00.450Z"
   },
   {
    "duration": 68,
    "start_time": "2023-06-30T14:01:00.479Z"
   },
   {
    "duration": 12,
    "start_time": "2023-06-30T14:01:00.549Z"
   },
   {
    "duration": 49,
    "start_time": "2023-06-30T14:01:00.562Z"
   },
   {
    "duration": 18,
    "start_time": "2023-06-30T14:01:00.613Z"
   },
   {
    "duration": 55,
    "start_time": "2023-06-30T14:01:00.634Z"
   },
   {
    "duration": 44,
    "start_time": "2023-06-30T14:01:00.691Z"
   },
   {
    "duration": 31,
    "start_time": "2023-06-30T14:01:00.738Z"
   },
   {
    "duration": 94,
    "start_time": "2023-06-30T14:01:00.771Z"
   },
   {
    "duration": 264,
    "start_time": "2023-06-30T14:01:00.867Z"
   },
   {
    "duration": 390,
    "start_time": "2023-06-30T14:01:01.133Z"
   },
   {
    "duration": 279,
    "start_time": "2023-06-30T14:01:01.525Z"
   },
   {
    "duration": 21,
    "start_time": "2023-06-30T14:01:01.808Z"
   },
   {
    "duration": 40,
    "start_time": "2023-06-30T14:01:01.832Z"
   },
   {
    "duration": 38,
    "start_time": "2023-06-30T14:01:01.874Z"
   },
   {
    "duration": 399,
    "start_time": "2023-06-30T14:01:01.914Z"
   },
   {
    "duration": 456,
    "start_time": "2023-06-30T14:01:02.315Z"
   },
   {
    "duration": 24,
    "start_time": "2023-06-30T14:01:02.773Z"
   },
   {
    "duration": 15,
    "start_time": "2023-06-30T14:01:02.799Z"
   },
   {
    "duration": 369,
    "start_time": "2023-06-30T14:01:02.816Z"
   },
   {
    "duration": 12,
    "start_time": "2023-06-30T14:01:03.187Z"
   },
   {
    "duration": 328,
    "start_time": "2023-06-30T14:01:03.201Z"
   },
   {
    "duration": 26,
    "start_time": "2023-06-30T14:01:03.531Z"
   },
   {
    "duration": 336,
    "start_time": "2023-06-30T14:01:03.558Z"
   },
   {
    "duration": 12,
    "start_time": "2023-06-30T14:01:03.896Z"
   },
   {
    "duration": 230,
    "start_time": "2023-06-30T14:01:03.910Z"
   },
   {
    "duration": 260,
    "start_time": "2023-06-30T14:01:04.142Z"
   },
   {
    "duration": 256,
    "start_time": "2023-06-30T14:01:04.405Z"
   },
   {
    "duration": 218,
    "start_time": "2023-06-30T14:01:04.664Z"
   },
   {
    "duration": 228,
    "start_time": "2023-06-30T14:01:04.883Z"
   },
   {
    "duration": 201,
    "start_time": "2023-06-30T14:01:05.113Z"
   },
   {
    "duration": 200,
    "start_time": "2023-06-30T14:01:05.316Z"
   },
   {
    "duration": 195,
    "start_time": "2023-06-30T14:01:05.519Z"
   },
   {
    "duration": 238,
    "start_time": "2023-06-30T14:01:05.716Z"
   },
   {
    "duration": 207,
    "start_time": "2023-06-30T14:01:05.956Z"
   },
   {
    "duration": 193,
    "start_time": "2023-06-30T14:01:06.165Z"
   },
   {
    "duration": 211,
    "start_time": "2023-06-30T14:01:06.360Z"
   },
   {
    "duration": 12,
    "start_time": "2023-06-30T14:01:06.573Z"
   },
   {
    "duration": 8,
    "start_time": "2023-06-30T14:01:06.587Z"
   },
   {
    "duration": 13,
    "start_time": "2023-06-30T14:01:06.597Z"
   },
   {
    "duration": 5,
    "start_time": "2023-06-30T14:01:06.613Z"
   },
   {
    "duration": 18,
    "start_time": "2023-06-30T14:08:36.441Z"
   },
   {
    "duration": 402,
    "start_time": "2023-06-30T14:09:37.908Z"
   },
   {
    "duration": 232,
    "start_time": "2023-06-30T14:15:49.310Z"
   },
   {
    "duration": 215,
    "start_time": "2023-06-30T14:17:03.803Z"
   },
   {
    "duration": 198,
    "start_time": "2023-06-30T14:17:11.139Z"
   },
   {
    "duration": 213,
    "start_time": "2023-06-30T14:17:18.173Z"
   },
   {
    "duration": 1270,
    "start_time": "2023-06-30T15:22:49.524Z"
   },
   {
    "duration": 86,
    "start_time": "2023-06-30T15:22:50.796Z"
   },
   {
    "duration": 9,
    "start_time": "2023-06-30T15:22:50.884Z"
   },
   {
    "duration": 54,
    "start_time": "2023-06-30T15:22:50.895Z"
   },
   {
    "duration": 711,
    "start_time": "2023-06-30T15:22:50.950Z"
   },
   {
    "duration": 6,
    "start_time": "2023-06-30T15:22:51.663Z"
   },
   {
    "duration": 14,
    "start_time": "2023-06-30T15:22:51.671Z"
   },
   {
    "duration": 35,
    "start_time": "2023-06-30T15:22:51.686Z"
   },
   {
    "duration": 13,
    "start_time": "2023-06-30T15:22:51.722Z"
   },
   {
    "duration": 13,
    "start_time": "2023-06-30T15:22:51.738Z"
   },
   {
    "duration": 14,
    "start_time": "2023-06-30T15:22:51.752Z"
   },
   {
    "duration": 47,
    "start_time": "2023-06-30T15:22:51.768Z"
   },
   {
    "duration": 14,
    "start_time": "2023-06-30T15:22:51.816Z"
   },
   {
    "duration": 15,
    "start_time": "2023-06-30T15:22:51.832Z"
   },
   {
    "duration": 18,
    "start_time": "2023-06-30T15:22:51.849Z"
   },
   {
    "duration": 6,
    "start_time": "2023-06-30T15:22:51.869Z"
   },
   {
    "duration": 51,
    "start_time": "2023-06-30T15:22:51.878Z"
   },
   {
    "duration": 6,
    "start_time": "2023-06-30T15:22:51.931Z"
   },
   {
    "duration": 32,
    "start_time": "2023-06-30T15:22:51.939Z"
   },
   {
    "duration": 7,
    "start_time": "2023-06-30T15:22:51.972Z"
   },
   {
    "duration": 13,
    "start_time": "2023-06-30T15:22:51.980Z"
   },
   {
    "duration": 21,
    "start_time": "2023-06-30T15:22:52.012Z"
   },
   {
    "duration": 6,
    "start_time": "2023-06-30T15:22:52.035Z"
   },
   {
    "duration": 29,
    "start_time": "2023-06-30T15:22:52.042Z"
   },
   {
    "duration": 228,
    "start_time": "2023-06-30T15:22:52.072Z"
   },
   {
    "duration": 278,
    "start_time": "2023-06-30T15:22:52.302Z"
   },
   {
    "duration": 347,
    "start_time": "2023-06-30T15:22:52.581Z"
   },
   {
    "duration": 15,
    "start_time": "2023-06-30T15:29:20.206Z"
   },
   {
    "duration": 16,
    "start_time": "2023-06-30T15:29:21.017Z"
   },
   {
    "duration": 15,
    "start_time": "2023-06-30T15:29:21.227Z"
   },
   {
    "duration": 383,
    "start_time": "2023-06-30T15:29:21.405Z"
   },
   {
    "duration": 425,
    "start_time": "2023-06-30T15:29:21.791Z"
   },
   {
    "duration": 17,
    "start_time": "2023-06-30T15:29:22.624Z"
   },
   {
    "duration": 12,
    "start_time": "2023-06-30T15:29:22.804Z"
   },
   {
    "duration": 11,
    "start_time": "2023-06-30T15:29:23.101Z"
   },
   {
    "duration": 10,
    "start_time": "2023-06-30T15:29:23.231Z"
   },
   {
    "duration": 11,
    "start_time": "2023-06-30T15:29:23.354Z"
   },
   {
    "duration": 10,
    "start_time": "2023-06-30T15:29:23.502Z"
   },
   {
    "duration": 11,
    "start_time": "2023-06-30T15:29:23.654Z"
   },
   {
    "duration": 10,
    "start_time": "2023-06-30T15:29:23.834Z"
   },
   {
    "duration": 194,
    "start_time": "2023-06-30T15:29:24.473Z"
   },
   {
    "duration": 245,
    "start_time": "2023-06-30T15:29:24.668Z"
   },
   {
    "duration": 302,
    "start_time": "2023-06-30T15:29:27.003Z"
   },
   {
    "duration": 219,
    "start_time": "2023-06-30T15:29:27.314Z"
   },
   {
    "duration": 215,
    "start_time": "2023-06-30T15:29:27.536Z"
   },
   {
    "duration": 178,
    "start_time": "2023-06-30T15:29:28.307Z"
   },
   {
    "duration": 181,
    "start_time": "2023-06-30T15:29:28.487Z"
   },
   {
    "duration": 188,
    "start_time": "2023-06-30T15:29:28.670Z"
   },
   {
    "duration": 192,
    "start_time": "2023-06-30T15:29:29.011Z"
   },
   {
    "duration": 187,
    "start_time": "2023-06-30T15:29:29.205Z"
   },
   {
    "duration": 187,
    "start_time": "2023-06-30T15:29:29.394Z"
   },
   {
    "duration": 10,
    "start_time": "2023-06-30T15:29:30.702Z"
   },
   {
    "duration": 5,
    "start_time": "2023-06-30T15:29:30.910Z"
   },
   {
    "duration": 11,
    "start_time": "2023-06-30T15:29:31.630Z"
   },
   {
    "duration": 4,
    "start_time": "2023-06-30T15:29:31.899Z"
   },
   {
    "duration": 348,
    "start_time": "2023-06-30T15:42:57.527Z"
   },
   {
    "duration": 3,
    "start_time": "2023-06-30T15:44:41.013Z"
   },
   {
    "duration": 99,
    "start_time": "2023-06-30T15:44:41.018Z"
   },
   {
    "duration": 9,
    "start_time": "2023-06-30T15:44:41.119Z"
   },
   {
    "duration": 60,
    "start_time": "2023-06-30T15:44:41.130Z"
   },
   {
    "duration": 797,
    "start_time": "2023-06-30T15:44:41.192Z"
   },
   {
    "duration": 6,
    "start_time": "2023-06-30T15:44:41.991Z"
   },
   {
    "duration": 27,
    "start_time": "2023-06-30T15:44:41.999Z"
   },
   {
    "duration": 42,
    "start_time": "2023-06-30T15:44:42.028Z"
   },
   {
    "duration": 14,
    "start_time": "2023-06-30T15:44:42.073Z"
   },
   {
    "duration": 14,
    "start_time": "2023-06-30T15:44:42.089Z"
   },
   {
    "duration": 7,
    "start_time": "2023-06-30T15:44:42.105Z"
   },
   {
    "duration": 5,
    "start_time": "2023-06-30T15:44:42.113Z"
   },
   {
    "duration": 36,
    "start_time": "2023-06-30T15:44:42.119Z"
   },
   {
    "duration": 11,
    "start_time": "2023-06-30T15:44:42.159Z"
   },
   {
    "duration": 6,
    "start_time": "2023-06-30T15:44:42.172Z"
   },
   {
    "duration": 19,
    "start_time": "2023-06-30T15:44:42.180Z"
   },
   {
    "duration": 34,
    "start_time": "2023-06-30T15:44:42.201Z"
   },
   {
    "duration": 7,
    "start_time": "2023-06-30T15:44:42.255Z"
   },
   {
    "duration": 16,
    "start_time": "2023-06-30T15:44:42.264Z"
   },
   {
    "duration": 12,
    "start_time": "2023-06-30T15:44:42.282Z"
   },
   {
    "duration": 16,
    "start_time": "2023-06-30T15:44:42.297Z"
   },
   {
    "duration": 46,
    "start_time": "2023-06-30T15:44:42.315Z"
   },
   {
    "duration": 10,
    "start_time": "2023-06-30T15:44:42.363Z"
   },
   {
    "duration": 24,
    "start_time": "2023-06-30T15:44:42.375Z"
   },
   {
    "duration": 290,
    "start_time": "2023-06-30T15:44:42.401Z"
   },
   {
    "duration": 406,
    "start_time": "2023-06-30T15:44:42.694Z"
   },
   {
    "duration": 701,
    "start_time": "2023-06-30T15:44:43.102Z"
   },
   {
    "duration": 17,
    "start_time": "2023-06-30T15:44:43.805Z"
   },
   {
    "duration": 47,
    "start_time": "2023-06-30T15:44:43.824Z"
   },
   {
    "duration": 17,
    "start_time": "2023-06-30T15:44:43.873Z"
   },
   {
    "duration": 428,
    "start_time": "2023-06-30T15:44:43.892Z"
   },
   {
    "duration": 461,
    "start_time": "2023-06-30T15:44:44.322Z"
   },
   {
    "duration": 18,
    "start_time": "2023-06-30T15:44:44.785Z"
   },
   {
    "duration": 12,
    "start_time": "2023-06-30T15:44:44.805Z"
   },
   {
    "duration": 403,
    "start_time": "2023-06-30T15:44:44.819Z"
   },
   {
    "duration": 12,
    "start_time": "2023-06-30T15:44:45.224Z"
   },
   {
    "duration": 343,
    "start_time": "2023-06-30T15:44:45.238Z"
   },
   {
    "duration": 14,
    "start_time": "2023-06-30T15:44:45.583Z"
   },
   {
    "duration": 359,
    "start_time": "2023-06-30T15:44:45.599Z"
   },
   {
    "duration": 14,
    "start_time": "2023-06-30T15:44:45.961Z"
   },
   {
    "duration": 222,
    "start_time": "2023-06-30T15:44:45.979Z"
   },
   {
    "duration": 270,
    "start_time": "2023-06-30T15:44:46.203Z"
   },
   {
    "duration": 234,
    "start_time": "2023-06-30T15:44:46.475Z"
   },
   {
    "duration": 232,
    "start_time": "2023-06-30T15:44:46.711Z"
   },
   {
    "duration": 249,
    "start_time": "2023-06-30T15:44:46.945Z"
   },
   {
    "duration": 205,
    "start_time": "2023-06-30T15:44:47.196Z"
   },
   {
    "duration": 204,
    "start_time": "2023-06-30T15:44:47.403Z"
   },
   {
    "duration": 216,
    "start_time": "2023-06-30T15:44:47.609Z"
   },
   {
    "duration": 255,
    "start_time": "2023-06-30T15:44:47.827Z"
   },
   {
    "duration": 264,
    "start_time": "2023-06-30T15:44:48.084Z"
   },
   {
    "duration": 205,
    "start_time": "2023-06-30T15:44:48.354Z"
   },
   {
    "duration": 15,
    "start_time": "2023-06-30T15:44:48.562Z"
   },
   {
    "duration": 8,
    "start_time": "2023-06-30T15:44:48.579Z"
   },
   {
    "duration": 13,
    "start_time": "2023-06-30T15:44:48.589Z"
   },
   {
    "duration": 5,
    "start_time": "2023-06-30T15:44:48.604Z"
   },
   {
    "duration": 24,
    "start_time": "2023-06-30T15:56:13.014Z"
   },
   {
    "duration": 62,
    "start_time": "2023-06-30T15:56:27.278Z"
   },
   {
    "duration": 17,
    "start_time": "2023-06-30T16:00:10.853Z"
   },
   {
    "duration": 13,
    "start_time": "2023-06-30T16:00:20.020Z"
   },
   {
    "duration": 1803,
    "start_time": "2023-06-30T16:01:32.232Z"
   },
   {
    "duration": 15,
    "start_time": "2023-06-30T16:01:56.017Z"
   },
   {
    "duration": 98,
    "start_time": "2023-06-30T16:06:15.052Z"
   },
   {
    "duration": 105,
    "start_time": "2023-06-30T16:06:24.124Z"
   },
   {
    "duration": 71,
    "start_time": "2023-06-30T16:10:25.480Z"
   },
   {
    "duration": 1119,
    "start_time": "2023-06-30T16:10:32.221Z"
   },
   {
    "duration": 13,
    "start_time": "2023-06-30T16:12:24.164Z"
   },
   {
    "duration": 17,
    "start_time": "2023-06-30T16:12:37.717Z"
   },
   {
    "duration": 11,
    "start_time": "2023-06-30T16:13:37.372Z"
   },
   {
    "duration": 13,
    "start_time": "2023-06-30T16:13:50.493Z"
   },
   {
    "duration": 1039,
    "start_time": "2023-06-30T16:14:03.242Z"
   },
   {
    "duration": 1122,
    "start_time": "2023-06-30T16:15:10.343Z"
   },
   {
    "duration": 17,
    "start_time": "2023-06-30T16:15:21.226Z"
   },
   {
    "duration": 13,
    "start_time": "2023-06-30T16:16:34.447Z"
   },
   {
    "duration": 76,
    "start_time": "2023-06-30T16:17:42.927Z"
   },
   {
    "duration": 979,
    "start_time": "2023-06-30T16:18:06.193Z"
   },
   {
    "duration": 1019,
    "start_time": "2023-06-30T16:18:21.928Z"
   },
   {
    "duration": 3,
    "start_time": "2023-06-30T16:18:25.866Z"
   },
   {
    "duration": 92,
    "start_time": "2023-06-30T16:18:25.871Z"
   },
   {
    "duration": 11,
    "start_time": "2023-06-30T16:18:25.966Z"
   },
   {
    "duration": 30,
    "start_time": "2023-06-30T16:18:25.979Z"
   },
   {
    "duration": 794,
    "start_time": "2023-06-30T16:18:26.011Z"
   },
   {
    "duration": 6,
    "start_time": "2023-06-30T16:18:26.807Z"
   },
   {
    "duration": 23,
    "start_time": "2023-06-30T16:18:26.815Z"
   },
   {
    "duration": 29,
    "start_time": "2023-06-30T16:18:26.840Z"
   },
   {
    "duration": 14,
    "start_time": "2023-06-30T16:18:26.870Z"
   },
   {
    "duration": 14,
    "start_time": "2023-06-30T16:18:26.886Z"
   },
   {
    "duration": 14,
    "start_time": "2023-06-30T16:18:26.902Z"
   },
   {
    "duration": 37,
    "start_time": "2023-06-30T16:18:26.918Z"
   },
   {
    "duration": 4,
    "start_time": "2023-06-30T16:18:26.957Z"
   },
   {
    "duration": 13,
    "start_time": "2023-06-30T16:18:26.963Z"
   },
   {
    "duration": 7,
    "start_time": "2023-06-30T16:18:26.978Z"
   },
   {
    "duration": 6,
    "start_time": "2023-06-30T16:18:26.987Z"
   },
   {
    "duration": 6,
    "start_time": "2023-06-30T16:18:26.995Z"
   },
   {
    "duration": 58,
    "start_time": "2023-06-30T16:18:27.002Z"
   },
   {
    "duration": 5,
    "start_time": "2023-06-30T16:18:27.062Z"
   },
   {
    "duration": 12,
    "start_time": "2023-06-30T16:18:27.068Z"
   },
   {
    "duration": 7,
    "start_time": "2023-06-30T16:18:27.082Z"
   },
   {
    "duration": 14,
    "start_time": "2023-06-30T16:18:27.091Z"
   },
   {
    "duration": 48,
    "start_time": "2023-06-30T16:18:27.106Z"
   },
   {
    "duration": 7,
    "start_time": "2023-06-30T16:18:27.156Z"
   },
   {
    "duration": 16,
    "start_time": "2023-06-30T16:18:27.165Z"
   },
   {
    "duration": 280,
    "start_time": "2023-06-30T16:18:27.183Z"
   },
   {
    "duration": 370,
    "start_time": "2023-06-30T16:18:27.466Z"
   },
   {
    "duration": 269,
    "start_time": "2023-06-30T16:18:27.839Z"
   },
   {
    "duration": 19,
    "start_time": "2023-06-30T16:18:28.110Z"
   },
   {
    "duration": 36,
    "start_time": "2023-06-30T16:18:28.131Z"
   },
   {
    "duration": 19,
    "start_time": "2023-06-30T16:18:28.169Z"
   },
   {
    "duration": 402,
    "start_time": "2023-06-30T16:18:28.190Z"
   },
   {
    "duration": 430,
    "start_time": "2023-06-30T16:18:28.593Z"
   },
   {
    "duration": 19,
    "start_time": "2023-06-30T16:18:29.025Z"
   },
   {
    "duration": 13,
    "start_time": "2023-06-30T16:18:29.054Z"
   },
   {
    "duration": 17,
    "start_time": "2023-06-30T16:18:29.069Z"
   },
   {
    "duration": 0,
    "start_time": "2023-06-30T16:18:29.087Z"
   },
   {
    "duration": 0,
    "start_time": "2023-06-30T16:18:29.089Z"
   },
   {
    "duration": 0,
    "start_time": "2023-06-30T16:18:29.090Z"
   },
   {
    "duration": 0,
    "start_time": "2023-06-30T16:18:29.091Z"
   },
   {
    "duration": 0,
    "start_time": "2023-06-30T16:18:29.093Z"
   },
   {
    "duration": 0,
    "start_time": "2023-06-30T16:18:29.094Z"
   },
   {
    "duration": 0,
    "start_time": "2023-06-30T16:18:29.095Z"
   },
   {
    "duration": 0,
    "start_time": "2023-06-30T16:18:29.096Z"
   },
   {
    "duration": 0,
    "start_time": "2023-06-30T16:18:29.097Z"
   },
   {
    "duration": 0,
    "start_time": "2023-06-30T16:18:29.098Z"
   },
   {
    "duration": 0,
    "start_time": "2023-06-30T16:18:29.100Z"
   },
   {
    "duration": 0,
    "start_time": "2023-06-30T16:18:29.101Z"
   },
   {
    "duration": 0,
    "start_time": "2023-06-30T16:18:29.102Z"
   },
   {
    "duration": 0,
    "start_time": "2023-06-30T16:18:29.103Z"
   },
   {
    "duration": 0,
    "start_time": "2023-06-30T16:18:29.154Z"
   },
   {
    "duration": 0,
    "start_time": "2023-06-30T16:18:29.156Z"
   },
   {
    "duration": 0,
    "start_time": "2023-06-30T16:18:29.157Z"
   },
   {
    "duration": 0,
    "start_time": "2023-06-30T16:18:29.159Z"
   },
   {
    "duration": 1,
    "start_time": "2023-06-30T16:18:29.160Z"
   },
   {
    "duration": 0,
    "start_time": "2023-06-30T16:18:29.162Z"
   },
   {
    "duration": 13,
    "start_time": "2023-06-30T16:19:46.468Z"
   },
   {
    "duration": 11,
    "start_time": "2023-06-30T16:20:12.460Z"
   },
   {
    "duration": 10,
    "start_time": "2023-06-30T16:20:26.109Z"
   },
   {
    "duration": 10,
    "start_time": "2023-06-30T16:20:39.890Z"
   },
   {
    "duration": 8,
    "start_time": "2023-06-30T16:21:02.835Z"
   },
   {
    "duration": 11,
    "start_time": "2023-06-30T16:21:36.536Z"
   },
   {
    "duration": 14,
    "start_time": "2023-06-30T16:21:52.225Z"
   },
   {
    "duration": 12,
    "start_time": "2023-06-30T16:22:00.667Z"
   },
   {
    "duration": 3,
    "start_time": "2023-06-30T16:24:21.178Z"
   },
   {
    "duration": 116,
    "start_time": "2023-06-30T16:24:21.184Z"
   },
   {
    "duration": 15,
    "start_time": "2023-06-30T16:24:21.302Z"
   },
   {
    "duration": 58,
    "start_time": "2023-06-30T16:24:21.320Z"
   },
   {
    "duration": 741,
    "start_time": "2023-06-30T16:24:21.380Z"
   },
   {
    "duration": 6,
    "start_time": "2023-06-30T16:24:22.123Z"
   },
   {
    "duration": 36,
    "start_time": "2023-06-30T16:24:22.131Z"
   },
   {
    "duration": 18,
    "start_time": "2023-06-30T16:24:22.169Z"
   },
   {
    "duration": 15,
    "start_time": "2023-06-30T16:24:22.190Z"
   },
   {
    "duration": 14,
    "start_time": "2023-06-30T16:24:22.207Z"
   },
   {
    "duration": 0,
    "start_time": "2023-06-30T16:24:22.254Z"
   },
   {
    "duration": 0,
    "start_time": "2023-06-30T16:24:22.256Z"
   },
   {
    "duration": 0,
    "start_time": "2023-06-30T16:24:22.257Z"
   },
   {
    "duration": 1,
    "start_time": "2023-06-30T16:24:22.258Z"
   },
   {
    "duration": 0,
    "start_time": "2023-06-30T16:24:22.260Z"
   },
   {
    "duration": 0,
    "start_time": "2023-06-30T16:24:22.261Z"
   },
   {
    "duration": 0,
    "start_time": "2023-06-30T16:24:22.262Z"
   },
   {
    "duration": 1,
    "start_time": "2023-06-30T16:24:22.263Z"
   },
   {
    "duration": 0,
    "start_time": "2023-06-30T16:24:22.264Z"
   },
   {
    "duration": 0,
    "start_time": "2023-06-30T16:24:22.266Z"
   },
   {
    "duration": 0,
    "start_time": "2023-06-30T16:24:22.267Z"
   },
   {
    "duration": 0,
    "start_time": "2023-06-30T16:24:22.269Z"
   },
   {
    "duration": 0,
    "start_time": "2023-06-30T16:24:22.270Z"
   },
   {
    "duration": 0,
    "start_time": "2023-06-30T16:24:22.271Z"
   },
   {
    "duration": 0,
    "start_time": "2023-06-30T16:24:22.273Z"
   },
   {
    "duration": 0,
    "start_time": "2023-06-30T16:24:22.274Z"
   },
   {
    "duration": 0,
    "start_time": "2023-06-30T16:24:22.275Z"
   },
   {
    "duration": 0,
    "start_time": "2023-06-30T16:24:22.276Z"
   },
   {
    "duration": 0,
    "start_time": "2023-06-30T16:24:22.278Z"
   },
   {
    "duration": 0,
    "start_time": "2023-06-30T16:24:22.279Z"
   },
   {
    "duration": 0,
    "start_time": "2023-06-30T16:24:22.280Z"
   },
   {
    "duration": 0,
    "start_time": "2023-06-30T16:24:22.282Z"
   },
   {
    "duration": 0,
    "start_time": "2023-06-30T16:24:22.283Z"
   },
   {
    "duration": 0,
    "start_time": "2023-06-30T16:24:22.284Z"
   },
   {
    "duration": 0,
    "start_time": "2023-06-30T16:24:22.286Z"
   },
   {
    "duration": 0,
    "start_time": "2023-06-30T16:24:22.287Z"
   },
   {
    "duration": 0,
    "start_time": "2023-06-30T16:24:22.289Z"
   },
   {
    "duration": 0,
    "start_time": "2023-06-30T16:24:22.290Z"
   },
   {
    "duration": 0,
    "start_time": "2023-06-30T16:24:22.291Z"
   },
   {
    "duration": 0,
    "start_time": "2023-06-30T16:24:22.293Z"
   },
   {
    "duration": 0,
    "start_time": "2023-06-30T16:24:22.294Z"
   },
   {
    "duration": 0,
    "start_time": "2023-06-30T16:24:22.354Z"
   },
   {
    "duration": 0,
    "start_time": "2023-06-30T16:24:22.357Z"
   },
   {
    "duration": 0,
    "start_time": "2023-06-30T16:24:22.358Z"
   },
   {
    "duration": 0,
    "start_time": "2023-06-30T16:24:22.360Z"
   },
   {
    "duration": 0,
    "start_time": "2023-06-30T16:24:22.362Z"
   },
   {
    "duration": 0,
    "start_time": "2023-06-30T16:24:22.363Z"
   },
   {
    "duration": 0,
    "start_time": "2023-06-30T16:24:22.365Z"
   },
   {
    "duration": 0,
    "start_time": "2023-06-30T16:24:22.366Z"
   },
   {
    "duration": 0,
    "start_time": "2023-06-30T16:24:22.367Z"
   },
   {
    "duration": 0,
    "start_time": "2023-06-30T16:24:22.368Z"
   },
   {
    "duration": 0,
    "start_time": "2023-06-30T16:24:22.370Z"
   },
   {
    "duration": 0,
    "start_time": "2023-06-30T16:24:22.371Z"
   },
   {
    "duration": 0,
    "start_time": "2023-06-30T16:24:22.372Z"
   },
   {
    "duration": 0,
    "start_time": "2023-06-30T16:24:22.373Z"
   },
   {
    "duration": 0,
    "start_time": "2023-06-30T16:24:22.374Z"
   },
   {
    "duration": 9,
    "start_time": "2023-06-30T16:24:46.820Z"
   },
   {
    "duration": 21,
    "start_time": "2023-06-30T16:25:07.277Z"
   },
   {
    "duration": 19,
    "start_time": "2023-06-30T16:29:17.654Z"
   },
   {
    "duration": 11,
    "start_time": "2023-06-30T16:29:33.414Z"
   },
   {
    "duration": 184,
    "start_time": "2023-06-30T16:33:18.237Z"
   },
   {
    "duration": 219,
    "start_time": "2023-06-30T16:35:16.937Z"
   },
   {
    "duration": 34,
    "start_time": "2023-06-30T16:41:02.430Z"
   },
   {
    "duration": 4,
    "start_time": "2023-06-30T16:41:06.361Z"
   },
   {
    "duration": 107,
    "start_time": "2023-06-30T16:41:06.367Z"
   },
   {
    "duration": 11,
    "start_time": "2023-06-30T16:41:06.476Z"
   },
   {
    "duration": 34,
    "start_time": "2023-06-30T16:41:06.488Z"
   },
   {
    "duration": 794,
    "start_time": "2023-06-30T16:41:06.525Z"
   },
   {
    "duration": 11,
    "start_time": "2023-06-30T16:41:07.321Z"
   },
   {
    "duration": 28,
    "start_time": "2023-06-30T16:41:07.335Z"
   },
   {
    "duration": 50,
    "start_time": "2023-06-30T16:41:07.366Z"
   },
   {
    "duration": 22,
    "start_time": "2023-06-30T16:41:07.418Z"
   },
   {
    "duration": 54,
    "start_time": "2023-06-30T16:41:07.443Z"
   },
   {
    "duration": 34,
    "start_time": "2023-06-30T16:41:07.499Z"
   },
   {
    "duration": 17,
    "start_time": "2023-06-30T16:41:07.535Z"
   },
   {
    "duration": 17,
    "start_time": "2023-06-30T16:41:07.555Z"
   },
   {
    "duration": 46,
    "start_time": "2023-06-30T16:41:07.577Z"
   },
   {
    "duration": 17,
    "start_time": "2023-06-30T16:41:07.625Z"
   },
   {
    "duration": 16,
    "start_time": "2023-06-30T16:41:07.644Z"
   },
   {
    "duration": 10,
    "start_time": "2023-06-30T16:41:07.662Z"
   },
   {
    "duration": 49,
    "start_time": "2023-06-30T16:41:07.674Z"
   },
   {
    "duration": 7,
    "start_time": "2023-06-30T16:41:07.725Z"
   },
   {
    "duration": 35,
    "start_time": "2023-06-30T16:41:07.734Z"
   },
   {
    "duration": 10,
    "start_time": "2023-06-30T16:41:07.771Z"
   },
   {
    "duration": 15,
    "start_time": "2023-06-30T16:41:07.783Z"
   },
   {
    "duration": 16,
    "start_time": "2023-06-30T16:41:07.800Z"
   },
   {
    "duration": 36,
    "start_time": "2023-06-30T16:41:07.818Z"
   },
   {
    "duration": 24,
    "start_time": "2023-06-30T16:41:07.857Z"
   },
   {
    "duration": 235,
    "start_time": "2023-06-30T16:41:07.883Z"
   },
   {
    "duration": 149,
    "start_time": "2023-06-30T16:41:08.120Z"
   },
   {
    "duration": 362,
    "start_time": "2023-06-30T16:41:08.271Z"
   },
   {
    "duration": 274,
    "start_time": "2023-06-30T16:41:08.635Z"
   },
   {
    "duration": 24,
    "start_time": "2023-06-30T16:41:08.912Z"
   },
   {
    "duration": 23,
    "start_time": "2023-06-30T16:41:08.953Z"
   },
   {
    "duration": 18,
    "start_time": "2023-06-30T16:41:08.978Z"
   },
   {
    "duration": 412,
    "start_time": "2023-06-30T16:41:08.998Z"
   },
   {
    "duration": 901,
    "start_time": "2023-06-30T16:41:09.413Z"
   },
   {
    "duration": 18,
    "start_time": "2023-06-30T16:41:10.316Z"
   },
   {
    "duration": 27,
    "start_time": "2023-06-30T16:41:10.335Z"
   },
   {
    "duration": 18,
    "start_time": "2023-06-30T16:41:10.364Z"
   },
   {
    "duration": 0,
    "start_time": "2023-06-30T16:41:10.385Z"
   },
   {
    "duration": 0,
    "start_time": "2023-06-30T16:41:10.391Z"
   },
   {
    "duration": 0,
    "start_time": "2023-06-30T16:41:10.392Z"
   },
   {
    "duration": 0,
    "start_time": "2023-06-30T16:41:10.394Z"
   },
   {
    "duration": 0,
    "start_time": "2023-06-30T16:41:10.395Z"
   },
   {
    "duration": 0,
    "start_time": "2023-06-30T16:41:10.397Z"
   },
   {
    "duration": 0,
    "start_time": "2023-06-30T16:41:10.398Z"
   },
   {
    "duration": 0,
    "start_time": "2023-06-30T16:41:10.399Z"
   },
   {
    "duration": 0,
    "start_time": "2023-06-30T16:41:10.400Z"
   },
   {
    "duration": 0,
    "start_time": "2023-06-30T16:41:10.401Z"
   },
   {
    "duration": 0,
    "start_time": "2023-06-30T16:41:10.403Z"
   },
   {
    "duration": 0,
    "start_time": "2023-06-30T16:41:10.404Z"
   },
   {
    "duration": 0,
    "start_time": "2023-06-30T16:41:10.406Z"
   },
   {
    "duration": 0,
    "start_time": "2023-06-30T16:41:10.408Z"
   },
   {
    "duration": 0,
    "start_time": "2023-06-30T16:41:10.454Z"
   },
   {
    "duration": 0,
    "start_time": "2023-06-30T16:41:10.456Z"
   },
   {
    "duration": 0,
    "start_time": "2023-06-30T16:41:10.457Z"
   },
   {
    "duration": 0,
    "start_time": "2023-06-30T16:41:10.459Z"
   },
   {
    "duration": 1,
    "start_time": "2023-06-30T16:41:10.460Z"
   },
   {
    "duration": 0,
    "start_time": "2023-06-30T16:41:10.462Z"
   },
   {
    "duration": 14,
    "start_time": "2023-06-30T16:48:53.111Z"
   },
   {
    "duration": 10,
    "start_time": "2023-06-30T16:50:16.836Z"
   },
   {
    "duration": 4,
    "start_time": "2023-06-30T16:50:20.381Z"
   },
   {
    "duration": 148,
    "start_time": "2023-06-30T16:50:20.387Z"
   },
   {
    "duration": 22,
    "start_time": "2023-06-30T16:50:20.537Z"
   },
   {
    "duration": 32,
    "start_time": "2023-06-30T16:50:20.561Z"
   },
   {
    "duration": 728,
    "start_time": "2023-06-30T16:50:20.595Z"
   },
   {
    "duration": 5,
    "start_time": "2023-06-30T16:50:21.325Z"
   },
   {
    "duration": 29,
    "start_time": "2023-06-30T16:50:21.332Z"
   },
   {
    "duration": 16,
    "start_time": "2023-06-30T16:50:21.363Z"
   },
   {
    "duration": 15,
    "start_time": "2023-06-30T16:50:21.381Z"
   },
   {
    "duration": 15,
    "start_time": "2023-06-30T16:50:21.397Z"
   },
   {
    "duration": 43,
    "start_time": "2023-06-30T16:50:21.414Z"
   },
   {
    "duration": 7,
    "start_time": "2023-06-30T16:50:21.459Z"
   },
   {
    "duration": 3,
    "start_time": "2023-06-30T16:50:21.468Z"
   },
   {
    "duration": 13,
    "start_time": "2023-06-30T16:50:21.474Z"
   },
   {
    "duration": 9,
    "start_time": "2023-06-30T16:50:21.489Z"
   },
   {
    "duration": 12,
    "start_time": "2023-06-30T16:50:21.500Z"
   },
   {
    "duration": 41,
    "start_time": "2023-06-30T16:50:21.514Z"
   },
   {
    "duration": 25,
    "start_time": "2023-06-30T16:50:21.557Z"
   },
   {
    "duration": 4,
    "start_time": "2023-06-30T16:50:21.584Z"
   },
   {
    "duration": 12,
    "start_time": "2023-06-30T16:50:21.590Z"
   },
   {
    "duration": 7,
    "start_time": "2023-06-30T16:50:21.604Z"
   },
   {
    "duration": 52,
    "start_time": "2023-06-30T16:50:21.612Z"
   },
   {
    "duration": 16,
    "start_time": "2023-06-30T16:50:21.665Z"
   },
   {
    "duration": 13,
    "start_time": "2023-06-30T16:50:21.683Z"
   },
   {
    "duration": 17,
    "start_time": "2023-06-30T16:50:21.697Z"
   },
   {
    "duration": 277,
    "start_time": "2023-06-30T16:50:21.715Z"
   },
   {
    "duration": 161,
    "start_time": "2023-06-30T16:50:21.994Z"
   },
   {
    "duration": 358,
    "start_time": "2023-06-30T16:50:22.157Z"
   },
   {
    "duration": 280,
    "start_time": "2023-06-30T16:50:22.517Z"
   },
   {
    "duration": 15,
    "start_time": "2023-06-30T16:50:22.799Z"
   },
   {
    "duration": 16,
    "start_time": "2023-06-30T16:50:22.816Z"
   },
   {
    "duration": 23,
    "start_time": "2023-06-30T16:50:22.855Z"
   },
   {
    "duration": 432,
    "start_time": "2023-06-30T16:50:22.880Z"
   },
   {
    "duration": 348,
    "start_time": "2023-06-30T16:50:23.314Z"
   },
   {
    "duration": 18,
    "start_time": "2023-06-30T16:50:23.664Z"
   },
   {
    "duration": 14,
    "start_time": "2023-06-30T16:50:23.684Z"
   },
   {
    "duration": 20,
    "start_time": "2023-06-30T16:50:23.700Z"
   },
   {
    "duration": 0,
    "start_time": "2023-06-30T16:50:23.755Z"
   },
   {
    "duration": 0,
    "start_time": "2023-06-30T16:50:23.757Z"
   },
   {
    "duration": 0,
    "start_time": "2023-06-30T16:50:23.758Z"
   },
   {
    "duration": 0,
    "start_time": "2023-06-30T16:50:23.760Z"
   },
   {
    "duration": 0,
    "start_time": "2023-06-30T16:50:23.762Z"
   },
   {
    "duration": 0,
    "start_time": "2023-06-30T16:50:23.763Z"
   },
   {
    "duration": 0,
    "start_time": "2023-06-30T16:50:23.764Z"
   },
   {
    "duration": 0,
    "start_time": "2023-06-30T16:50:23.766Z"
   },
   {
    "duration": 0,
    "start_time": "2023-06-30T16:50:23.768Z"
   },
   {
    "duration": 0,
    "start_time": "2023-06-30T16:50:23.769Z"
   },
   {
    "duration": 0,
    "start_time": "2023-06-30T16:50:23.771Z"
   },
   {
    "duration": 0,
    "start_time": "2023-06-30T16:50:23.772Z"
   },
   {
    "duration": 0,
    "start_time": "2023-06-30T16:50:23.774Z"
   },
   {
    "duration": 0,
    "start_time": "2023-06-30T16:50:23.775Z"
   },
   {
    "duration": 0,
    "start_time": "2023-06-30T16:50:23.776Z"
   },
   {
    "duration": 0,
    "start_time": "2023-06-30T16:50:23.778Z"
   },
   {
    "duration": 0,
    "start_time": "2023-06-30T16:50:23.779Z"
   },
   {
    "duration": 0,
    "start_time": "2023-06-30T16:50:23.781Z"
   },
   {
    "duration": 0,
    "start_time": "2023-06-30T16:50:23.783Z"
   },
   {
    "duration": 0,
    "start_time": "2023-06-30T16:50:23.784Z"
   },
   {
    "duration": 17,
    "start_time": "2023-06-30T16:51:25.185Z"
   },
   {
    "duration": 17,
    "start_time": "2023-06-30T16:51:31.135Z"
   },
   {
    "duration": 369,
    "start_time": "2023-06-30T16:51:40.448Z"
   },
   {
    "duration": 11,
    "start_time": "2023-06-30T16:59:26.520Z"
   },
   {
    "duration": 13,
    "start_time": "2023-06-30T17:01:03.773Z"
   },
   {
    "duration": 283,
    "start_time": "2023-06-30T17:01:19.471Z"
   },
   {
    "duration": 12,
    "start_time": "2023-06-30T17:01:23.996Z"
   },
   {
    "duration": 256,
    "start_time": "2023-06-30T17:01:37.099Z"
   },
   {
    "duration": 222,
    "start_time": "2023-06-30T17:12:59.186Z"
   },
   {
    "duration": 15,
    "start_time": "2023-06-30T17:16:45.139Z"
   },
   {
    "duration": 3,
    "start_time": "2023-06-30T17:17:10.902Z"
   },
   {
    "duration": 82,
    "start_time": "2023-06-30T17:17:10.907Z"
   },
   {
    "duration": 10,
    "start_time": "2023-06-30T17:17:10.991Z"
   },
   {
    "duration": 57,
    "start_time": "2023-06-30T17:17:11.002Z"
   },
   {
    "duration": 709,
    "start_time": "2023-06-30T17:17:11.061Z"
   },
   {
    "duration": 5,
    "start_time": "2023-06-30T17:17:11.772Z"
   },
   {
    "duration": 12,
    "start_time": "2023-06-30T17:17:11.778Z"
   },
   {
    "duration": 15,
    "start_time": "2023-06-30T17:17:11.792Z"
   },
   {
    "duration": 13,
    "start_time": "2023-06-30T17:17:11.809Z"
   },
   {
    "duration": 43,
    "start_time": "2023-06-30T17:17:11.824Z"
   },
   {
    "duration": 8,
    "start_time": "2023-06-30T17:17:11.868Z"
   },
   {
    "duration": 7,
    "start_time": "2023-06-30T17:17:11.878Z"
   },
   {
    "duration": 9,
    "start_time": "2023-06-30T17:17:11.886Z"
   },
   {
    "duration": 11,
    "start_time": "2023-06-30T17:17:11.899Z"
   },
   {
    "duration": 6,
    "start_time": "2023-06-30T17:17:11.912Z"
   },
   {
    "duration": 55,
    "start_time": "2023-06-30T17:17:11.920Z"
   },
   {
    "duration": 26,
    "start_time": "2023-06-30T17:17:11.977Z"
   },
   {
    "duration": 23,
    "start_time": "2023-06-30T17:17:12.005Z"
   },
   {
    "duration": 5,
    "start_time": "2023-06-30T17:17:12.030Z"
   },
   {
    "duration": 12,
    "start_time": "2023-06-30T17:17:12.036Z"
   },
   {
    "duration": 7,
    "start_time": "2023-06-30T17:17:12.049Z"
   },
   {
    "duration": 13,
    "start_time": "2023-06-30T17:17:12.058Z"
   },
   {
    "duration": 26,
    "start_time": "2023-06-30T17:17:12.073Z"
   },
   {
    "duration": 18,
    "start_time": "2023-06-30T17:17:12.101Z"
   },
   {
    "duration": 20,
    "start_time": "2023-06-30T17:17:12.121Z"
   },
   {
    "duration": 213,
    "start_time": "2023-06-30T17:17:12.143Z"
   },
   {
    "duration": 146,
    "start_time": "2023-06-30T17:17:12.358Z"
   },
   {
    "duration": 351,
    "start_time": "2023-06-30T17:17:12.506Z"
   },
   {
    "duration": 270,
    "start_time": "2023-06-30T17:17:12.859Z"
   },
   {
    "duration": 24,
    "start_time": "2023-06-30T17:17:13.130Z"
   },
   {
    "duration": 18,
    "start_time": "2023-06-30T17:17:13.159Z"
   },
   {
    "duration": 18,
    "start_time": "2023-06-30T17:17:13.179Z"
   },
   {
    "duration": 11,
    "start_time": "2023-06-30T17:17:13.198Z"
   },
   {
    "duration": 308,
    "start_time": "2023-06-30T17:17:13.211Z"
   },
   {
    "duration": 244,
    "start_time": "2023-06-30T17:17:13.520Z"
   },
   {
    "duration": 16,
    "start_time": "2023-06-30T17:17:13.766Z"
   },
   {
    "duration": 20,
    "start_time": "2023-06-30T17:17:13.783Z"
   },
   {
    "duration": 42,
    "start_time": "2023-06-30T17:17:13.805Z"
   },
   {
    "duration": 0,
    "start_time": "2023-06-30T17:17:13.850Z"
   },
   {
    "duration": 0,
    "start_time": "2023-06-30T17:17:13.851Z"
   },
   {
    "duration": 0,
    "start_time": "2023-06-30T17:17:13.852Z"
   },
   {
    "duration": 0,
    "start_time": "2023-06-30T17:17:13.853Z"
   },
   {
    "duration": 0,
    "start_time": "2023-06-30T17:17:13.855Z"
   },
   {
    "duration": 0,
    "start_time": "2023-06-30T17:17:13.856Z"
   },
   {
    "duration": 0,
    "start_time": "2023-06-30T17:17:13.857Z"
   },
   {
    "duration": 0,
    "start_time": "2023-06-30T17:17:13.857Z"
   },
   {
    "duration": 0,
    "start_time": "2023-06-30T17:17:13.859Z"
   },
   {
    "duration": 0,
    "start_time": "2023-06-30T17:17:13.860Z"
   },
   {
    "duration": 0,
    "start_time": "2023-06-30T17:17:13.861Z"
   },
   {
    "duration": 0,
    "start_time": "2023-06-30T17:17:13.862Z"
   },
   {
    "duration": 0,
    "start_time": "2023-06-30T17:17:13.862Z"
   },
   {
    "duration": 0,
    "start_time": "2023-06-30T17:17:13.863Z"
   },
   {
    "duration": 0,
    "start_time": "2023-06-30T17:17:13.864Z"
   },
   {
    "duration": 0,
    "start_time": "2023-06-30T17:17:13.866Z"
   },
   {
    "duration": 0,
    "start_time": "2023-06-30T17:17:13.867Z"
   },
   {
    "duration": 0,
    "start_time": "2023-06-30T17:17:13.868Z"
   },
   {
    "duration": 0,
    "start_time": "2023-06-30T17:17:13.869Z"
   },
   {
    "duration": 0,
    "start_time": "2023-06-30T17:17:13.870Z"
   },
   {
    "duration": 207,
    "start_time": "2023-06-30T17:18:31.289Z"
   },
   {
    "duration": 240,
    "start_time": "2023-06-30T17:18:34.325Z"
   },
   {
    "duration": 17,
    "start_time": "2023-06-30T17:19:38.186Z"
   },
   {
    "duration": 11,
    "start_time": "2023-06-30T17:19:41.190Z"
   },
   {
    "duration": 395,
    "start_time": "2023-06-30T17:20:20.307Z"
   },
   {
    "duration": 17,
    "start_time": "2023-06-30T17:20:30.385Z"
   },
   {
    "duration": 18,
    "start_time": "2023-06-30T17:20:45.446Z"
   },
   {
    "duration": 10,
    "start_time": "2023-06-30T17:20:56.061Z"
   },
   {
    "duration": 17,
    "start_time": "2023-06-30T17:21:01.106Z"
   },
   {
    "duration": 335,
    "start_time": "2023-06-30T17:22:02.366Z"
   },
   {
    "duration": 15,
    "start_time": "2023-06-30T17:22:06.249Z"
   },
   {
    "duration": 16,
    "start_time": "2023-06-30T17:22:24.273Z"
   },
   {
    "duration": 11,
    "start_time": "2023-06-30T17:22:40.120Z"
   },
   {
    "duration": 18,
    "start_time": "2023-06-30T17:22:45.377Z"
   },
   {
    "duration": 314,
    "start_time": "2023-06-30T17:22:56.486Z"
   },
   {
    "duration": 16,
    "start_time": "2023-06-30T17:23:01.264Z"
   },
   {
    "duration": 8,
    "start_time": "2023-06-30T17:23:13.086Z"
   },
   {
    "duration": 421,
    "start_time": "2023-06-30T17:33:07.404Z"
   },
   {
    "duration": 11,
    "start_time": "2023-06-30T17:33:29.976Z"
   },
   {
    "duration": 403,
    "start_time": "2023-06-30T17:34:00.298Z"
   },
   {
    "duration": 12,
    "start_time": "2023-06-30T17:34:12.682Z"
   },
   {
    "duration": 379,
    "start_time": "2023-06-30T17:34:49.660Z"
   },
   {
    "duration": 13,
    "start_time": "2023-06-30T17:34:52.287Z"
   },
   {
    "duration": 211,
    "start_time": "2023-06-30T17:47:42.393Z"
   },
   {
    "duration": 211,
    "start_time": "2023-06-30T17:47:45.488Z"
   },
   {
    "duration": 255,
    "start_time": "2023-06-30T17:47:51.454Z"
   },
   {
    "duration": 3,
    "start_time": "2023-06-30T17:48:03.297Z"
   },
   {
    "duration": 92,
    "start_time": "2023-06-30T17:48:03.303Z"
   },
   {
    "duration": 10,
    "start_time": "2023-06-30T17:48:03.398Z"
   },
   {
    "duration": 73,
    "start_time": "2023-06-30T17:48:03.410Z"
   },
   {
    "duration": 735,
    "start_time": "2023-06-30T17:48:03.485Z"
   },
   {
    "duration": 5,
    "start_time": "2023-06-30T17:48:04.222Z"
   },
   {
    "duration": 25,
    "start_time": "2023-06-30T17:48:04.229Z"
   },
   {
    "duration": 17,
    "start_time": "2023-06-30T17:48:04.256Z"
   },
   {
    "duration": 15,
    "start_time": "2023-06-30T17:48:04.275Z"
   },
   {
    "duration": 16,
    "start_time": "2023-06-30T17:48:04.292Z"
   },
   {
    "duration": 45,
    "start_time": "2023-06-30T17:48:04.310Z"
   },
   {
    "duration": 8,
    "start_time": "2023-06-30T17:48:04.357Z"
   },
   {
    "duration": 3,
    "start_time": "2023-06-30T17:48:04.368Z"
   },
   {
    "duration": 12,
    "start_time": "2023-06-30T17:48:04.376Z"
   },
   {
    "duration": 7,
    "start_time": "2023-06-30T17:48:04.390Z"
   },
   {
    "duration": 8,
    "start_time": "2023-06-30T17:48:04.398Z"
   },
   {
    "duration": 8,
    "start_time": "2023-06-30T17:48:04.407Z"
   },
   {
    "duration": 62,
    "start_time": "2023-06-30T17:48:04.416Z"
   },
   {
    "duration": 4,
    "start_time": "2023-06-30T17:48:04.481Z"
   },
   {
    "duration": 11,
    "start_time": "2023-06-30T17:48:04.487Z"
   },
   {
    "duration": 9,
    "start_time": "2023-06-30T17:48:04.500Z"
   },
   {
    "duration": 14,
    "start_time": "2023-06-30T17:48:04.510Z"
   },
   {
    "duration": 26,
    "start_time": "2023-06-30T17:48:04.554Z"
   },
   {
    "duration": 7,
    "start_time": "2023-06-30T17:48:04.582Z"
   },
   {
    "duration": 30,
    "start_time": "2023-06-30T17:48:04.591Z"
   },
   {
    "duration": 275,
    "start_time": "2023-06-30T17:48:04.623Z"
   },
   {
    "duration": 161,
    "start_time": "2023-06-30T17:48:04.900Z"
   },
   {
    "duration": 401,
    "start_time": "2023-06-30T17:48:05.064Z"
   },
   {
    "duration": 316,
    "start_time": "2023-06-30T17:48:05.469Z"
   },
   {
    "duration": 14,
    "start_time": "2023-06-30T17:48:05.787Z"
   },
   {
    "duration": 18,
    "start_time": "2023-06-30T17:48:05.802Z"
   },
   {
    "duration": 42,
    "start_time": "2023-06-30T17:48:05.821Z"
   },
   {
    "duration": 18,
    "start_time": "2023-06-30T17:48:05.867Z"
   },
   {
    "duration": 325,
    "start_time": "2023-06-30T17:48:05.887Z"
   },
   {
    "duration": 283,
    "start_time": "2023-06-30T17:48:06.214Z"
   },
   {
    "duration": 18,
    "start_time": "2023-06-30T17:48:06.499Z"
   },
   {
    "duration": 26,
    "start_time": "2023-06-30T17:48:06.519Z"
   },
   {
    "duration": 438,
    "start_time": "2023-06-30T17:48:06.556Z"
   },
   {
    "duration": 9,
    "start_time": "2023-06-30T17:48:06.997Z"
   },
   {
    "duration": 425,
    "start_time": "2023-06-30T17:48:07.008Z"
   },
   {
    "duration": 25,
    "start_time": "2023-06-30T17:48:07.439Z"
   },
   {
    "duration": 1008,
    "start_time": "2023-06-30T17:48:07.467Z"
   },
   {
    "duration": 10,
    "start_time": "2023-06-30T17:48:08.478Z"
   },
   {
    "duration": 226,
    "start_time": "2023-06-30T17:48:08.490Z"
   },
   {
    "duration": 272,
    "start_time": "2023-06-30T17:48:08.718Z"
   },
   {
    "duration": 232,
    "start_time": "2023-06-30T17:48:08.992Z"
   },
   {
    "duration": 217,
    "start_time": "2023-06-30T17:48:09.226Z"
   },
   {
    "duration": 314,
    "start_time": "2023-06-30T17:48:09.445Z"
   },
   {
    "duration": 312,
    "start_time": "2023-06-30T17:48:09.761Z"
   },
   {
    "duration": 214,
    "start_time": "2023-06-30T17:48:10.076Z"
   },
   {
    "duration": 207,
    "start_time": "2023-06-30T17:48:10.292Z"
   },
   {
    "duration": 220,
    "start_time": "2023-06-30T17:48:10.501Z"
   },
   {
    "duration": 208,
    "start_time": "2023-06-30T17:48:10.723Z"
   },
   {
    "duration": 215,
    "start_time": "2023-06-30T17:48:10.932Z"
   },
   {
    "duration": 19,
    "start_time": "2023-06-30T17:48:11.153Z"
   },
   {
    "duration": 15,
    "start_time": "2023-06-30T17:48:11.175Z"
   },
   {
    "duration": 22,
    "start_time": "2023-06-30T17:48:11.192Z"
   },
   {
    "duration": 4,
    "start_time": "2023-06-30T17:48:11.216Z"
   },
   {
    "duration": 383,
    "start_time": "2023-06-30T17:49:03.526Z"
   },
   {
    "duration": 17,
    "start_time": "2023-06-30T18:07:37.019Z"
   },
   {
    "duration": 17,
    "start_time": "2023-06-30T18:08:29.843Z"
   },
   {
    "duration": 15,
    "start_time": "2023-06-30T18:08:42.272Z"
   },
   {
    "duration": 36,
    "start_time": "2023-06-30T18:11:14.970Z"
   },
   {
    "duration": 185,
    "start_time": "2023-06-30T18:23:34.676Z"
   },
   {
    "duration": 203,
    "start_time": "2023-06-30T18:23:46.997Z"
   },
   {
    "duration": 203,
    "start_time": "2023-06-30T18:23:55.543Z"
   },
   {
    "duration": 184,
    "start_time": "2023-06-30T18:35:08.401Z"
   },
   {
    "duration": 186,
    "start_time": "2023-06-30T18:35:10.820Z"
   },
   {
    "duration": 175,
    "start_time": "2023-06-30T18:35:14.091Z"
   },
   {
    "duration": 191,
    "start_time": "2023-06-30T18:42:21.350Z"
   },
   {
    "duration": 181,
    "start_time": "2023-06-30T18:42:34.202Z"
   },
   {
    "duration": 175,
    "start_time": "2023-06-30T18:42:40.012Z"
   },
   {
    "duration": 185,
    "start_time": "2023-06-30T18:51:11.719Z"
   },
   {
    "duration": 179,
    "start_time": "2023-06-30T18:51:37.033Z"
   },
   {
    "duration": 178,
    "start_time": "2023-06-30T18:51:39.710Z"
   },
   {
    "duration": 12,
    "start_time": "2023-06-30T18:58:04.365Z"
   },
   {
    "duration": 4,
    "start_time": "2023-06-30T18:58:11.663Z"
   },
   {
    "duration": 10,
    "start_time": "2023-06-30T18:58:25.931Z"
   },
   {
    "duration": 4,
    "start_time": "2023-06-30T18:58:28.575Z"
   },
   {
    "duration": 3,
    "start_time": "2023-06-30T19:11:16.731Z"
   },
   {
    "duration": 102,
    "start_time": "2023-06-30T19:11:16.737Z"
   },
   {
    "duration": 9,
    "start_time": "2023-06-30T19:11:16.841Z"
   },
   {
    "duration": 38,
    "start_time": "2023-06-30T19:11:16.851Z"
   },
   {
    "duration": 790,
    "start_time": "2023-06-30T19:11:16.892Z"
   },
   {
    "duration": 5,
    "start_time": "2023-06-30T19:11:17.684Z"
   },
   {
    "duration": 12,
    "start_time": "2023-06-30T19:11:17.691Z"
   },
   {
    "duration": 16,
    "start_time": "2023-06-30T19:11:17.704Z"
   },
   {
    "duration": 37,
    "start_time": "2023-06-30T19:11:17.721Z"
   },
   {
    "duration": 16,
    "start_time": "2023-06-30T19:11:17.760Z"
   },
   {
    "duration": 8,
    "start_time": "2023-06-30T19:11:17.778Z"
   },
   {
    "duration": 7,
    "start_time": "2023-06-30T19:11:17.788Z"
   },
   {
    "duration": 8,
    "start_time": "2023-06-30T19:11:17.796Z"
   },
   {
    "duration": 11,
    "start_time": "2023-06-30T19:11:17.807Z"
   },
   {
    "duration": 38,
    "start_time": "2023-06-30T19:11:17.820Z"
   },
   {
    "duration": 7,
    "start_time": "2023-06-30T19:11:17.860Z"
   },
   {
    "duration": 29,
    "start_time": "2023-06-30T19:11:17.869Z"
   },
   {
    "duration": 42,
    "start_time": "2023-06-30T19:11:17.900Z"
   },
   {
    "duration": 5,
    "start_time": "2023-06-30T19:11:17.943Z"
   },
   {
    "duration": 12,
    "start_time": "2023-06-30T19:11:17.950Z"
   },
   {
    "duration": 9,
    "start_time": "2023-06-30T19:11:17.963Z"
   },
   {
    "duration": 18,
    "start_time": "2023-06-30T19:11:17.974Z"
   },
   {
    "duration": 15,
    "start_time": "2023-06-30T19:11:17.993Z"
   },
   {
    "duration": 11,
    "start_time": "2023-06-30T19:11:18.010Z"
   },
   {
    "duration": 41,
    "start_time": "2023-06-30T19:11:18.023Z"
   },
   {
    "duration": 209,
    "start_time": "2023-06-30T19:11:18.066Z"
   },
   {
    "duration": 139,
    "start_time": "2023-06-30T19:11:18.277Z"
   },
   {
    "duration": 344,
    "start_time": "2023-06-30T19:11:18.418Z"
   },
   {
    "duration": 270,
    "start_time": "2023-06-30T19:11:18.764Z"
   },
   {
    "duration": 22,
    "start_time": "2023-06-30T19:11:19.036Z"
   },
   {
    "duration": 15,
    "start_time": "2023-06-30T19:11:19.060Z"
   },
   {
    "duration": 21,
    "start_time": "2023-06-30T19:11:19.078Z"
   },
   {
    "duration": 13,
    "start_time": "2023-06-30T19:11:19.100Z"
   },
   {
    "duration": 298,
    "start_time": "2023-06-30T19:11:19.115Z"
   },
   {
    "duration": 244,
    "start_time": "2023-06-30T19:11:19.415Z"
   },
   {
    "duration": 16,
    "start_time": "2023-06-30T19:11:19.661Z"
   },
   {
    "duration": 17,
    "start_time": "2023-06-30T19:11:19.679Z"
   },
   {
    "duration": 354,
    "start_time": "2023-06-30T19:11:19.698Z"
   },
   {
    "duration": 11,
    "start_time": "2023-06-30T19:11:20.054Z"
   },
   {
    "duration": 393,
    "start_time": "2023-06-30T19:11:20.066Z"
   },
   {
    "duration": 11,
    "start_time": "2023-06-30T19:11:20.464Z"
   },
   {
    "duration": 346,
    "start_time": "2023-06-30T19:11:20.477Z"
   },
   {
    "duration": 10,
    "start_time": "2023-06-30T19:11:20.825Z"
   },
   {
    "duration": 210,
    "start_time": "2023-06-30T19:11:20.837Z"
   },
   {
    "duration": 255,
    "start_time": "2023-06-30T19:11:21.049Z"
   },
   {
    "duration": 14,
    "start_time": "2023-06-30T19:11:21.306Z"
   },
   {
    "duration": 195,
    "start_time": "2023-06-30T19:11:21.322Z"
   },
   {
    "duration": 209,
    "start_time": "2023-06-30T19:11:21.519Z"
   },
   {
    "duration": 209,
    "start_time": "2023-06-30T19:11:21.730Z"
   },
   {
    "duration": 191,
    "start_time": "2023-06-30T19:11:21.942Z"
   },
   {
    "duration": 199,
    "start_time": "2023-06-30T19:11:22.135Z"
   },
   {
    "duration": 207,
    "start_time": "2023-06-30T19:11:22.336Z"
   },
   {
    "duration": 201,
    "start_time": "2023-06-30T19:11:22.545Z"
   },
   {
    "duration": 187,
    "start_time": "2023-06-30T19:11:22.747Z"
   },
   {
    "duration": 192,
    "start_time": "2023-06-30T19:11:22.935Z"
   },
   {
    "duration": 11,
    "start_time": "2023-06-30T19:11:23.129Z"
   },
   {
    "duration": 4,
    "start_time": "2023-06-30T19:11:23.154Z"
   },
   {
    "duration": 20,
    "start_time": "2023-06-30T19:11:23.159Z"
   },
   {
    "duration": 5,
    "start_time": "2023-06-30T19:11:23.181Z"
   },
   {
    "duration": 326,
    "start_time": "2023-06-30T19:13:41.307Z"
   },
   {
    "duration": 10,
    "start_time": "2023-06-30T19:13:44.567Z"
   },
   {
    "duration": 83,
    "start_time": "2023-07-02T13:19:44.469Z"
   },
   {
    "duration": 10,
    "start_time": "2023-07-02T13:19:45.266Z"
   },
   {
    "duration": 8,
    "start_time": "2023-07-02T13:19:45.619Z"
   },
   {
    "duration": 14,
    "start_time": "2023-07-02T13:19:46.731Z"
   },
   {
    "duration": 8,
    "start_time": "2023-07-02T13:19:46.951Z"
   },
   {
    "duration": 1281,
    "start_time": "2023-07-03T17:47:45.695Z"
   },
   {
    "duration": 226,
    "start_time": "2023-07-03T17:47:46.978Z"
   },
   {
    "duration": 12,
    "start_time": "2023-07-03T17:47:47.207Z"
   },
   {
    "duration": 47,
    "start_time": "2023-07-03T17:47:47.220Z"
   },
   {
    "duration": 644,
    "start_time": "2023-07-03T17:47:47.268Z"
   },
   {
    "duration": 5,
    "start_time": "2023-07-03T17:47:47.913Z"
   },
   {
    "duration": 13,
    "start_time": "2023-07-03T17:47:47.920Z"
   },
   {
    "duration": 21,
    "start_time": "2023-07-03T17:47:47.935Z"
   },
   {
    "duration": 13,
    "start_time": "2023-07-03T17:47:47.969Z"
   },
   {
    "duration": 12,
    "start_time": "2023-07-03T17:47:47.986Z"
   },
   {
    "duration": 8,
    "start_time": "2023-07-03T17:47:48.000Z"
   },
   {
    "duration": 16,
    "start_time": "2023-07-03T17:47:48.010Z"
   },
   {
    "duration": 5,
    "start_time": "2023-07-03T17:47:48.028Z"
   },
   {
    "duration": 34,
    "start_time": "2023-07-03T17:47:48.035Z"
   },
   {
    "duration": 7,
    "start_time": "2023-07-03T17:47:48.071Z"
   },
   {
    "duration": 12,
    "start_time": "2023-07-03T17:47:48.080Z"
   },
   {
    "duration": 11,
    "start_time": "2023-07-03T17:47:48.093Z"
   },
   {
    "duration": 26,
    "start_time": "2023-07-03T17:47:48.106Z"
   },
   {
    "duration": 5,
    "start_time": "2023-07-03T17:47:48.133Z"
   },
   {
    "duration": 18,
    "start_time": "2023-07-03T17:47:48.139Z"
   },
   {
    "duration": 15,
    "start_time": "2023-07-03T17:47:48.159Z"
   },
   {
    "duration": 20,
    "start_time": "2023-07-03T17:47:48.175Z"
   },
   {
    "duration": 18,
    "start_time": "2023-07-03T17:47:48.197Z"
   },
   {
    "duration": 7,
    "start_time": "2023-07-03T17:47:48.217Z"
   },
   {
    "duration": 29,
    "start_time": "2023-07-03T17:47:48.226Z"
   },
   {
    "duration": 178,
    "start_time": "2023-07-03T17:47:48.257Z"
   },
   {
    "duration": 117,
    "start_time": "2023-07-03T17:47:48.437Z"
   },
   {
    "duration": 408,
    "start_time": "2023-07-03T17:47:48.557Z"
   },
   {
    "duration": 272,
    "start_time": "2023-07-03T17:47:48.967Z"
   },
   {
    "duration": 12,
    "start_time": "2023-07-03T17:47:49.241Z"
   },
   {
    "duration": 18,
    "start_time": "2023-07-03T17:47:49.255Z"
   },
   {
    "duration": 14,
    "start_time": "2023-07-03T17:47:49.274Z"
   },
   {
    "duration": 13,
    "start_time": "2023-07-03T17:47:49.289Z"
   },
   {
    "duration": 298,
    "start_time": "2023-07-03T17:47:49.303Z"
   },
   {
    "duration": 239,
    "start_time": "2023-07-03T17:47:49.603Z"
   },
   {
    "duration": 24,
    "start_time": "2023-07-03T17:47:49.844Z"
   },
   {
    "duration": 16,
    "start_time": "2023-07-03T17:47:49.870Z"
   },
   {
    "duration": 360,
    "start_time": "2023-07-03T17:47:49.888Z"
   },
   {
    "duration": 9,
    "start_time": "2023-07-03T17:47:50.249Z"
   },
   {
    "duration": 324,
    "start_time": "2023-07-03T17:47:50.268Z"
   },
   {
    "duration": 11,
    "start_time": "2023-07-03T17:47:50.594Z"
   },
   {
    "duration": 335,
    "start_time": "2023-07-03T17:47:50.606Z"
   },
   {
    "duration": 25,
    "start_time": "2023-07-03T17:47:50.943Z"
   },
   {
    "duration": 212,
    "start_time": "2023-07-03T17:47:50.970Z"
   },
   {
    "duration": 241,
    "start_time": "2023-07-03T17:47:51.184Z"
   },
   {
    "duration": 14,
    "start_time": "2023-07-03T17:47:51.427Z"
   },
   {
    "duration": 186,
    "start_time": "2023-07-03T17:47:51.442Z"
   },
   {
    "duration": 205,
    "start_time": "2023-07-03T17:47:51.630Z"
   },
   {
    "duration": 278,
    "start_time": "2023-07-03T17:47:51.837Z"
   },
   {
    "duration": 183,
    "start_time": "2023-07-03T17:47:52.117Z"
   },
   {
    "duration": 186,
    "start_time": "2023-07-03T17:47:52.302Z"
   },
   {
    "duration": 172,
    "start_time": "2023-07-03T17:47:52.490Z"
   },
   {
    "duration": 192,
    "start_time": "2023-07-03T17:47:52.668Z"
   },
   {
    "duration": 175,
    "start_time": "2023-07-03T17:47:52.862Z"
   },
   {
    "duration": 189,
    "start_time": "2023-07-03T17:47:53.039Z"
   },
   {
    "duration": 182,
    "start_time": "2023-07-03T17:47:53.229Z"
   },
   {
    "duration": 10,
    "start_time": "2023-07-03T17:47:53.413Z"
   },
   {
    "duration": 8,
    "start_time": "2023-07-03T17:47:53.424Z"
   },
   {
    "duration": 14,
    "start_time": "2023-07-03T17:47:53.434Z"
   },
   {
    "duration": 18,
    "start_time": "2023-07-03T17:47:53.450Z"
   },
   {
    "duration": 136,
    "start_time": "2023-07-03T17:48:19.795Z"
   },
   {
    "duration": 1349,
    "start_time": "2024-01-10T07:16:39.586Z"
   },
   {
    "duration": 295,
    "start_time": "2024-01-10T07:16:40.937Z"
   },
   {
    "duration": 31,
    "start_time": "2024-01-10T07:16:46.795Z"
   },
   {
    "duration": 3,
    "start_time": "2024-01-10T07:16:50.594Z"
   },
   {
    "duration": 270,
    "start_time": "2024-01-10T07:16:50.600Z"
   },
   {
    "duration": 26,
    "start_time": "2024-01-10T07:16:50.872Z"
   },
   {
    "duration": 8,
    "start_time": "2024-01-10T07:16:50.900Z"
   },
   {
    "duration": 34,
    "start_time": "2024-01-10T07:16:50.910Z"
   },
   {
    "duration": 605,
    "start_time": "2024-01-10T07:16:50.946Z"
   },
   {
    "duration": 5,
    "start_time": "2024-01-10T07:16:51.552Z"
   },
   {
    "duration": 27,
    "start_time": "2024-01-10T07:16:51.558Z"
   },
   {
    "duration": 30,
    "start_time": "2024-01-10T07:16:51.587Z"
   },
   {
    "duration": 23,
    "start_time": "2024-01-10T07:16:51.619Z"
   },
   {
    "duration": 34,
    "start_time": "2024-01-10T07:16:51.644Z"
   },
   {
    "duration": 23,
    "start_time": "2024-01-10T07:16:51.679Z"
   },
   {
    "duration": 25,
    "start_time": "2024-01-10T07:16:51.704Z"
   },
   {
    "duration": 34,
    "start_time": "2024-01-10T07:16:51.730Z"
   },
   {
    "duration": 34,
    "start_time": "2024-01-10T07:16:51.765Z"
   },
   {
    "duration": 8,
    "start_time": "2024-01-10T07:16:51.800Z"
   },
   {
    "duration": 27,
    "start_time": "2024-01-10T07:16:51.809Z"
   },
   {
    "duration": 11,
    "start_time": "2024-01-10T07:16:51.838Z"
   },
   {
    "duration": 23,
    "start_time": "2024-01-10T07:16:51.850Z"
   },
   {
    "duration": 9,
    "start_time": "2024-01-10T07:16:51.875Z"
   },
   {
    "duration": 27,
    "start_time": "2024-01-10T07:16:51.885Z"
   },
   {
    "duration": 20,
    "start_time": "2024-01-10T07:16:51.913Z"
   },
   {
    "duration": 22,
    "start_time": "2024-01-10T07:16:51.934Z"
   },
   {
    "duration": 23,
    "start_time": "2024-01-10T07:16:51.959Z"
   },
   {
    "duration": 6,
    "start_time": "2024-01-10T07:16:51.983Z"
   },
   {
    "duration": 20,
    "start_time": "2024-01-10T07:16:51.991Z"
   },
   {
    "duration": 194,
    "start_time": "2024-01-10T07:16:52.013Z"
   },
   {
    "duration": 119,
    "start_time": "2024-01-10T07:16:52.209Z"
   },
   {
    "duration": 353,
    "start_time": "2024-01-10T07:16:52.329Z"
   },
   {
    "duration": 232,
    "start_time": "2024-01-10T07:16:52.684Z"
   },
   {
    "duration": 11,
    "start_time": "2024-01-10T07:16:52.917Z"
   },
   {
    "duration": 12,
    "start_time": "2024-01-10T07:16:52.929Z"
   },
   {
    "duration": 21,
    "start_time": "2024-01-10T07:16:52.942Z"
   },
   {
    "duration": 10,
    "start_time": "2024-01-10T07:16:52.964Z"
   },
   {
    "duration": 265,
    "start_time": "2024-01-10T07:16:52.975Z"
   },
   {
    "duration": 213,
    "start_time": "2024-01-10T07:16:53.242Z"
   },
   {
    "duration": 13,
    "start_time": "2024-01-10T07:16:53.458Z"
   },
   {
    "duration": 9,
    "start_time": "2024-01-10T07:16:53.473Z"
   },
   {
    "duration": 317,
    "start_time": "2024-01-10T07:16:53.483Z"
   },
   {
    "duration": 14,
    "start_time": "2024-01-10T07:16:53.801Z"
   },
   {
    "duration": 282,
    "start_time": "2024-01-10T07:16:53.816Z"
   },
   {
    "duration": 16,
    "start_time": "2024-01-10T07:16:54.099Z"
   },
   {
    "duration": 290,
    "start_time": "2024-01-10T07:16:54.116Z"
   },
   {
    "duration": 8,
    "start_time": "2024-01-10T07:16:54.411Z"
   },
   {
    "duration": 185,
    "start_time": "2024-01-10T07:16:54.420Z"
   },
   {
    "duration": 209,
    "start_time": "2024-01-10T07:16:54.606Z"
   },
   {
    "duration": 12,
    "start_time": "2024-01-10T07:16:54.817Z"
   },
   {
    "duration": 175,
    "start_time": "2024-01-10T07:16:54.831Z"
   },
   {
    "duration": 167,
    "start_time": "2024-01-10T07:16:55.010Z"
   },
   {
    "duration": 255,
    "start_time": "2024-01-10T07:16:55.178Z"
   },
   {
    "duration": 164,
    "start_time": "2024-01-10T07:16:55.435Z"
   },
   {
    "duration": 165,
    "start_time": "2024-01-10T07:16:55.601Z"
   },
   {
    "duration": 158,
    "start_time": "2024-01-10T07:16:55.767Z"
   },
   {
    "duration": 168,
    "start_time": "2024-01-10T07:16:55.926Z"
   },
   {
    "duration": 165,
    "start_time": "2024-01-10T07:16:56.095Z"
   },
   {
    "duration": 164,
    "start_time": "2024-01-10T07:16:56.261Z"
   },
   {
    "duration": 9,
    "start_time": "2024-01-10T07:16:56.426Z"
   },
   {
    "duration": 5,
    "start_time": "2024-01-10T07:16:56.436Z"
   },
   {
    "duration": 12,
    "start_time": "2024-01-10T07:16:56.442Z"
   },
   {
    "duration": 5,
    "start_time": "2024-01-10T07:16:56.455Z"
   }
  ],
  "kernelspec": {
   "display_name": "Python 3 (ipykernel)",
   "language": "python",
   "name": "python3"
  },
  "language_info": {
   "codemirror_mode": {
    "name": "ipython",
    "version": 3
   },
   "file_extension": ".py",
   "mimetype": "text/x-python",
   "name": "python",
   "nbconvert_exporter": "python",
   "pygments_lexer": "ipython3",
   "version": "3.10.9"
  },
  "toc": {
   "base_numbering": 1,
   "nav_menu": {},
   "number_sections": true,
   "sideBar": true,
   "skip_h1_title": true,
   "title_cell": "Table of Contents",
   "title_sidebar": "Contents",
   "toc_cell": false,
   "toc_position": {},
   "toc_section_display": true,
   "toc_window_display": false
  }
 },
 "nbformat": 4,
 "nbformat_minor": 2
}
